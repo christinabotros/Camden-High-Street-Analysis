{
 "cells": [
  {
   "cell_type": "markdown",
   "metadata": {},
   "source": [
    "## CREATING HIGH STREET PROFILES"
   ]
  },
  {
   "cell_type": "markdown",
   "metadata": {},
   "source": [
    "Inclusive, safe, clean, walkable and\n",
    "cycle-friendly environments encourage people to become more active and directly\n",
    "influence levels of pollution-related ill health, obesity and mental health.\n",
    "\n",
    "https://assets.publishing.service.gov.uk/government/uploads/system/uploads/attachment_data/file/699505/25.01.18_Healthy_High_Streets_Briefing_document_Final_version.pdf"
   ]
  },
  {
   "cell_type": "markdown",
   "metadata": {},
   "source": [
    "https://assets.publishing.service.gov.uk/government/uploads/system/uploads/attachment_data/file/699295/26.01.18_Healthy_High_Streets_Full_Report_Final_version_3.pdf"
   ]
  },
  {
   "cell_type": "markdown",
   "metadata": {},
   "source": [
    "For optimum health\n",
    "promotion high streets should:\n",
    "* be inclusive of people from all walks of life\n",
    "* be easy to navigate, including crossings\n",
    "* provide shade, shelter and places to stop and rest\n",
    "* be walkable and provide options for cycling\n",
    "* have low levels of noise and air pollution\n",
    "* provide things to see and do\n",
    "* have a health-promoting retail offer\n",
    "* ensure people feel relaxed and safe\n",
    "* consider the local context of the high street, its features and current use, and how all these factors interact with one another"
   ]
  },
  {
   "cell_type": "markdown",
   "metadata": {},
   "source": [
    "***\n",
    "\n",
    "### WHAT DATASETS ARE WE INTERESTED IN:"
   ]
  },
  {
   "cell_type": "markdown",
   "metadata": {},
   "source": [
    "**Economic**"
   ]
  },
  {
   "cell_type": "markdown",
   "metadata": {},
   "source": [
    "- Residential property prices / transactions\n",
    "    - https://landregistry.data.gov.uk/ \n",
    " \n",
    "- Camden housing stock\n",
    "    - https://opendata.camden.gov.uk/Housing/Camden-residential-housing-stock-including-leaseho/23vq-n5tn\n",
    "\n",
    "\n",
    "- Is there a shopping centre in close proximity (define what we have the threshold as)\n",
    "- Turnover rate is another dimension - e.g., for the total number of buildings along each high street, what proportion open / close each year? "
   ]
  },
  {
   "cell_type": "markdown",
   "metadata": {},
   "source": [
    "***\n",
    "\n",
    "**Hereditament**"
   ]
  },
  {
   "cell_type": "markdown",
   "metadata": {},
   "source": [
    "- Total Rateable Value\n",
    "- Average RV \n",
    "- Change in RV (2010 - 2021?)\n",
    "- floorspaces\n",
    "- Number of businesses\n",
    "- Types of businesses - e.g., retail, office, restaurants, cafes, public buildings etc. \n",
    "- You could have a secondary chicken shop / gambling shop quotient! \n",
    "    - https://opendata.camden.gov.uk/Environment/Premises-With-An-Active-Licence-To-Sell-Alcohol/qdrg-t57z\n",
    "    - markets and kiosks https://opendata.camden.gov.uk/Community/Camden-Markets-And-Kiosks-Map/8fhq-3fij\n",
    "- % change in number of businesses (2010 - 2021?)\n",
    "- Rent/business rates paid to the council\n",
    "- Commercialised / chain businesses v. independants, charity shops etc\n"
   ]
  },
  {
   "cell_type": "markdown",
   "metadata": {},
   "source": [
    "***\n",
    "\n",
    "**Social**"
   ]
  },
  {
   "cell_type": "markdown",
   "metadata": {},
   "source": [
    "- Population change (growth) around the highstreet \n",
    "    - 200m \n",
    "    - 500m\n",
    "    - 1km\n",
    "    \n",
    "- population ages \n",
    "    - population predictions by age within Wards https://opendata.camden.gov.uk/People-Places/Population-Projections-latest-GLA-Set-/mnm7-vqke\n",
    "    \n",
    "- public conveniences (ie toilets)\n",
    "     - https://opendata.camden.gov.uk/People-Places/Public-Conveniences-In-Camden-Map/ugmt-ivnb\n",
    " \n",
    "- community centres/buildings\n",
    " \n",
    "- recorded crime\n",
    " https://data.london.gov.uk/dataset/recorded_crime_summary\n",
    "     - https://data.london.gov.uk/download/recorded_crime_summary/644a9e0d-75a3-4c3a-91ad-03d2a7cb8f8e/MPS%20LSOA%20Level%20Crime%20%28most%20recent%2024%20months%29.csv\n",
    "     \n",
    "     - on street Camden crime\n",
    "     https://opendata.camden.gov.uk/Crime-and-Criminal-Justice/On-Street-Crime-In-Camden-Map/893b-tp33\n",
    "     https://opendata.camden.gov.uk/Crime-and-Criminal-Justice/On-Street-Crime-In-Camden/qeje-7ve7\n",
    "     \n",
    "- Indicies of multiple deprivation (IMD)\n",
    " \n",
    "- Food hygiene \n",
    "    https://opendata.camden.gov.uk/Health/Food-Hygiene-Rating-Scheme-Camden/ggah-dkrr\n",
    "    \n",
    "- Obesity of the population in the area?\n",
    "     - Camden GP Public Health dataset 2012.\n",
    "     \n",
    "- Cultural infrastructure \n",
    "    - https://data.london.gov.uk/dataset/cultural-infrastructure-map\n",
    "    \n",
    "- Internet Users \n",
    "    - https://data.london.gov.uk/dataset/cultural-infrastructure-map"
   ]
  },
  {
   "cell_type": "markdown",
   "metadata": {},
   "source": [
    "***\n",
    "\n",
    "**Transport Accessibility**"
   ]
  },
  {
   "cell_type": "markdown",
   "metadata": {},
   "source": [
    "- parking spaces / parking \n",
    "    - https://opendata.camden.gov.uk/Transport/Parking-Bay-Map/miup-aubx\n",
    "    - https://opendata.camden.gov.uk/Transport/Parking-Bays/7hiv-3r9k\n",
    "    - https://opendata.camden.gov.uk/Transport/Camden-Parking-Suspensions-Map/2syn-p56x\n",
    "    \n",
    "- Number of bus stops or bus routes intersecting. \n",
    "    - https://data.london.gov.uk/dataset/tfl-bus-stop-locations-and-routes\n",
    "    \n",
    "- Traffic volumes (traffic data are available in London for lots of roads).\n",
    "    - https://data.gov.uk/dataset/208c0e7b-353f-4e2d-8b7a-1a7118467acc/gb-road-traffic-counts\n",
    "    \n",
    "- Distance to underground stop?\n",
    "    - Public Transport Accessibility https://data.london.gov.uk/dataset/public-transport-accessibility-levels \n",
    "\n",
    "- Train station usage \n",
    "    - https://data.london.gov.uk/dataset/train-station-usage\n",
    "    \n",
    "- Cycle routes\n",
    "    - cycle counter https://opendata.camden.gov.uk/Transport/Camden-Cycle-Counters/hwk2-xvrv/data \n",
    "    - https://cycling.data.tfl.gov.uk/\n",
    "        - https://cycling.data.tfl.gov.uk/CycleRoutes/CycleRoutes.json"
   ]
  },
  {
   "cell_type": "markdown",
   "metadata": {},
   "source": [
    "***\n",
    "\n",
    "**Physical**"
   ]
  },
  {
   "cell_type": "markdown",
   "metadata": {},
   "source": [
    "- Length of High Street\n",
    "    - https://data.london.gov.uk/dataset/length-road-network-borough-and-region \n",
    "    - http://roads.data.tfl.gov.uk/\n",
    "    - https://www.ordnancesurvey.co.uk/demos/high-streets/high-streets/index.html#16/51.550442/-0.164689 \n",
    "    \n",
    "- width of road\n",
    "- width of pavement (nicolas in CASA has a dataset on this)\n",
    "- Street furniture -- bench / sitting availability (?)\n",
    "- Street Lighting\n",
    "    - https://opendata.camden.gov.uk/Environment/Camden-Street-Lighting/dfq3-8wzu\n",
    "    \n",
    "- Mobile phone masts \n",
    "    - https://opendata.camden.gov.uk/People-Places/Mobile-Phone-Masts-In-Camden-Map/ys2j-f3u3\n",
    "    \n",
    "- Public Wifi availability \n",
    "    - https://opendata.camden.gov.uk/People-Places/Camden-Public-Wi-Fi-Locations/h4f6-4fhi/data\n",
    "    - https://opendata.camden.gov.uk/People-Places/Camden-Public-Wi-Fi-Locations-Map/4x22-dhtt (location and range)"
   ]
  },
  {
   "cell_type": "markdown",
   "metadata": {},
   "source": [
    "***\n",
    "\n",
    "**Environmental**"
   ]
  },
  {
   "cell_type": "markdown",
   "metadata": {},
   "source": [
    "- tree cover/green space\n",
    "    - Camden has a total of 24181 trees, of 27 different types. [https://data.london.gov.uk/dataset/local-authority-maintained-trees]\n",
    "    - https://data.london.gov.uk/download/local-authority-maintained-trees/a2a0ae91-cdf5-4bcd-8b23-2a40f1d854e9/Borough_tree_list_2021July.csv\n",
    "    - https://opendata.camden.gov.uk/Environment/Trees-In-Camden/csqp-kdss (CAMDEN SPECIFIC)\n",
    "- water features\n",
    "- noise pollution\n",
    "    - https://data.london.gov.uk/dataset/noise-pollution-in-london\n",
    "- air pollution / quality\n",
    "- litter / graffiti data?\n",
    "- flood risk\n",
    "    - https://data.london.gov.uk/dataset/flood-risk-zones\n",
    "    - https://data.london.gov.uk/dataset/properties-floodplain\n",
    "\n",
    "green and blue infrastructure for environmental and community\n",
    "health - such as street trees, parks, rivers and pond\n",
    "https://data.london.gov.uk/dataset/green-and-blue-cover\n",
    "\n",
    "- https://data.london.gov.uk/download/green-and-blue-cover/76a41ea0-12be-45fd-8de8-bbc44695c01c/blueandgreen_ndvi0.05.zip "
   ]
  },
  {
   "cell_type": "markdown",
   "metadata": {},
   "source": [
    "***\n",
    "\n",
    "**BOUNDARY DATA**"
   ]
  },
  {
   "cell_type": "markdown",
   "metadata": {},
   "source": [
    "LSOA\n",
    "https://opendata.camden.gov.uk/People-Places/Camden-Lower-Super-Area-Output-Boundary/ddgz-nre3"
   ]
  },
  {
   "cell_type": "code",
   "execution_count": null,
   "metadata": {},
   "outputs": [],
   "source": []
  }
 ],
 "metadata": {
  "kernelspec": {
   "display_name": "Python 3",
   "language": "python",
   "name": "python3"
  },
  "language_info": {
   "codemirror_mode": {
    "name": "ipython",
    "version": 3
   },
   "file_extension": ".py",
   "mimetype": "text/x-python",
   "name": "python",
   "nbconvert_exporter": "python",
   "pygments_lexer": "ipython3",
   "version": "3.7.8"
  }
 },
 "nbformat": 4,
 "nbformat_minor": 4
}
