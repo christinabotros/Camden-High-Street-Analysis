{
 "cells": [
  {
   "cell_type": "markdown",
   "metadata": {},
   "source": [
    "### Pre-processing the 19 Camden High Streets into Survival Format"
   ]
  },
  {
   "cell_type": "code",
   "execution_count": 1712,
   "metadata": {},
   "outputs": [],
   "source": [
    "# import necessary libraries\n",
    "import os\n",
    "import numpy as np\n",
    "import pandas as pd\n",
    "import geopandas as gpd\n",
    "import matplotlib.cm as cm\n",
    "import matplotlib.pyplot as plt\n",
    "from requests import get\n",
    "from urllib.parse import urlparse\n",
    "from datetime import datetime"
   ]
  },
  {
   "cell_type": "code",
   "execution_count": 1713,
   "metadata": {},
   "outputs": [
    {
     "name": "stdout",
     "output_type": "stream",
     "text": [
      "/home/jovyan/work/Dissertation/Camden High Streets\n"
     ]
    }
   ],
   "source": [
    "%cd '/home/jovyan/work/Dissertation/Camden High Streets'"
   ]
  },
  {
   "cell_type": "code",
   "execution_count": 1714,
   "metadata": {},
   "outputs": [
    {
     "data": {
      "text/plain": [
       "'/home/jovyan/work/Dissertation/Camden High Streets'"
      ]
     },
     "execution_count": 1714,
     "metadata": {},
     "output_type": "execute_result"
    }
   ],
   "source": [
    "os.getcwd()"
   ]
  },
  {
   "cell_type": "markdown",
   "metadata": {},
   "source": [
    "### Read in the high street subsets"
   ]
  },
  {
   "cell_type": "code",
   "execution_count": 1715,
   "metadata": {},
   "outputs": [],
   "source": [
    "Brecknock = pd.read_csv(\"Brecknock-points.csv\", low_memory=False)"
   ]
  },
  {
   "cell_type": "code",
   "execution_count": 1716,
   "metadata": {},
   "outputs": [],
   "source": [
    "Kentish = pd.read_csv(\"Kentish-points.csv\", low_memory=False)"
   ]
  },
  {
   "cell_type": "code",
   "execution_count": 1717,
   "metadata": {},
   "outputs": [],
   "source": [
    "Fortress = pd.read_csv(\"Fortress-points.csv\", low_memory=False)"
   ]
  },
  {
   "cell_type": "code",
   "execution_count": 1718,
   "metadata": {},
   "outputs": [],
   "source": [
    "CamdenT = pd.read_csv(\"CamdenT-points.csv\", low_memory=False)"
   ]
  },
  {
   "cell_type": "code",
   "execution_count": 1719,
   "metadata": {},
   "outputs": [],
   "source": [
    "Belsize = pd.read_csv(\"Belsize-points.csv\", low_memory=False)"
   ]
  },
  {
   "cell_type": "code",
   "execution_count": 1720,
   "metadata": {},
   "outputs": [],
   "source": [
    "Loudoun = pd.read_csv(\"Loudoun-points.csv\", low_memory=False)"
   ]
  },
  {
   "cell_type": "code",
   "execution_count": 1721,
   "metadata": {},
   "outputs": [],
   "source": [
    "Haverstock = pd.read_csv(\"Haverstock-points.csv\", low_memory=False)"
   ]
  },
  {
   "cell_type": "code",
   "execution_count": 1722,
   "metadata": {},
   "outputs": [],
   "source": [
    "SouthEnd = pd.read_csv(\"SouthEnd-points.csv\", low_memory=False)"
   ]
  },
  {
   "cell_type": "code",
   "execution_count": 1723,
   "metadata": {},
   "outputs": [],
   "source": [
    "#Highgate = pd.read_csv(\"Highgate-points.csv\", low_memory=False)"
   ]
  },
  {
   "cell_type": "code",
   "execution_count": 1724,
   "metadata": {},
   "outputs": [],
   "source": [
    "Cricklewood = pd.read_csv(\"Cricklewood-points.csv\", low_memory=False)"
   ]
  },
  {
   "cell_type": "code",
   "execution_count": 1725,
   "metadata": {},
   "outputs": [],
   "source": [
    "Regents = pd.read_csv(\"Regents-points.csv\", low_memory=False)"
   ]
  },
  {
   "cell_type": "code",
   "execution_count": 1726,
   "metadata": {},
   "outputs": [],
   "source": [
    "Queens = pd.read_csv(\"Queens-points.csv\", low_memory=False)"
   ]
  },
  {
   "cell_type": "code",
   "execution_count": 1727,
   "metadata": {},
   "outputs": [],
   "source": [
    "Kilburn = pd.read_csv(\"Kilburn-points.csv\", low_memory=False)"
   ]
  },
  {
   "cell_type": "code",
   "execution_count": 1728,
   "metadata": {},
   "outputs": [],
   "source": [
    "Mill = pd.read_csv(\"Mill-points.csv\", low_memory=False)"
   ]
  },
  {
   "cell_type": "code",
   "execution_count": 1729,
   "metadata": {},
   "outputs": [],
   "source": [
    "Fortune = pd.read_csv(\"Fortune-points.csv\", low_memory=False)"
   ]
  },
  {
   "cell_type": "code",
   "execution_count": 1730,
   "metadata": {},
   "outputs": [],
   "source": [
    "Willesden = pd.read_csv(\"Willesden-points.csv\", low_memory=False)"
   ]
  },
  {
   "cell_type": "code",
   "execution_count": 1731,
   "metadata": {},
   "outputs": [],
   "source": [
    "#Finchley = pd.read_csv(\"Finchley-points.csv\", low_memory=False)"
   ]
  },
  {
   "cell_type": "code",
   "execution_count": 1732,
   "metadata": {},
   "outputs": [],
   "source": [
    "Mansfield = pd.read_csv(\"Mansfield-points.csv\", low_memory=False)"
   ]
  },
  {
   "cell_type": "code",
   "execution_count": 1733,
   "metadata": {},
   "outputs": [],
   "source": [
    "WestEnd = pd.read_csv(\"WestEnd-points.csv\", low_memory=False)"
   ]
  },
  {
   "cell_type": "code",
   "execution_count": 1734,
   "metadata": {},
   "outputs": [],
   "source": [
    "Hampstead = pd.read_csv(\"Hampstead-points.csv\", low_memory=False)"
   ]
  },
  {
   "cell_type": "code",
   "execution_count": 1735,
   "metadata": {},
   "outputs": [],
   "source": [
    "Eversholt = pd.read_csv(\"Eversholt-points.csv\", low_memory=False)"
   ]
  },
  {
   "cell_type": "markdown",
   "metadata": {},
   "source": [
    "### Run the preprocessing template for each dataset "
   ]
  },
  {
   "cell_type": "markdown",
   "metadata": {},
   "source": [
    "#### 1. Brecknock "
   ]
  },
  {
   "cell_type": "code",
   "execution_count": 1736,
   "metadata": {},
   "outputs": [],
   "source": [
    "Brecknock = Brecknock.sort_values(by= ['status_date'])"
   ]
  },
  {
   "cell_type": "code",
   "execution_count": 1737,
   "metadata": {},
   "outputs": [],
   "source": [
    "cols = ['V3', 'V4', 'V5', 'V13', 'V14', 'V15', 'V16', 'V17', 'V19', 'V20', 'V21', 'V26', 'V28', 'V30', 'V36', 'V38', 'V39', 'V48', 'V51', 'V54', 'V55', 'V56', 'V57', \n",
    "        'V58', 'V59', 'V60', 'V64', 'V70', 'V72', 'V77']"
   ]
  },
  {
   "cell_type": "code",
   "execution_count": 1738,
   "metadata": {},
   "outputs": [],
   "source": [
    "#deleted those cols columns from the dataset as they only contain nulls\n",
    "\n",
    "Brecknock = Brecknock.drop(cols, axis=1)"
   ]
  },
  {
   "cell_type": "code",
   "execution_count": 1739,
   "metadata": {},
   "outputs": [],
   "source": [
    "Brecknock['new_date'] = pd.to_datetime(Brecknock['status_date'], errors='coerce')"
   ]
  },
  {
   "cell_type": "code",
   "execution_count": 1740,
   "metadata": {},
   "outputs": [],
   "source": [
    "Brecknock = Brecknock.sort_values(by= ['new_date'])"
   ]
  },
  {
   "cell_type": "code",
   "execution_count": 1741,
   "metadata": {},
   "outputs": [],
   "source": [
    "Brecknock['new_date'].loc[(Brecknock['new_date'] < '2010-04-01')] = '2010-04-01'"
   ]
  },
  {
   "cell_type": "code",
   "execution_count": 1742,
   "metadata": {},
   "outputs": [],
   "source": [
    "Brecknock = Brecknock.sort_values(by= ['location_code', 'period'])"
   ]
  },
  {
   "cell_type": "code",
   "execution_count": 1743,
   "metadata": {},
   "outputs": [],
   "source": [
    "Brecknock['locaton_code'] = Brecknock['location_code'].astype(\"category\")"
   ]
  },
  {
   "cell_type": "code",
   "execution_count": 1744,
   "metadata": {},
   "outputs": [],
   "source": [
    "locations = Brecknock['location_code'].unique()"
   ]
  },
  {
   "cell_type": "code",
   "execution_count": 1745,
   "metadata": {},
   "outputs": [],
   "source": [
    "Brecknock.loc[Brecknock['name'].isnull(), 'name'] = Brecknock['location_code']"
   ]
  },
  {
   "cell_type": "code",
   "execution_count": 1746,
   "metadata": {},
   "outputs": [],
   "source": [
    "Brecknock['status_date'] = pd.to_datetime(Brecknock['status_date'], errors='coerce')"
   ]
  },
  {
   "cell_type": "code",
   "execution_count": 1747,
   "metadata": {},
   "outputs": [],
   "source": [
    "Brecknock['status_date'].iloc[Brecknock['status_date'] < '2010-04-01'] = '04/01/2010'"
   ]
  },
  {
   "cell_type": "code",
   "execution_count": 1748,
   "metadata": {},
   "outputs": [],
   "source": [
    "Brecknock['status_date'] = pd.to_datetime(Brecknock['status_date'], errors='coerce')"
   ]
  },
  {
   "cell_type": "code",
   "execution_count": 1749,
   "metadata": {},
   "outputs": [],
   "source": [
    "Brecknock['period2'] = pd.to_datetime(Brecknock['period'])"
   ]
  },
  {
   "cell_type": "code",
   "execution_count": 1750,
   "metadata": {},
   "outputs": [],
   "source": [
    "Brecknock['period2'] = Brecknock['period2'] + pd.DateOffset(months=1)"
   ]
  },
  {
   "cell_type": "code",
   "execution_count": 1751,
   "metadata": {},
   "outputs": [],
   "source": [
    "Brecknock['duration'] = Brecknock['period2'] - Brecknock['status_date']"
   ]
  },
  {
   "cell_type": "code",
   "execution_count": 1752,
   "metadata": {},
   "outputs": [],
   "source": [
    "Brecknock['duration'] = Brecknock['duration'].dt.days"
   ]
  },
  {
   "cell_type": "code",
   "execution_count": 1753,
   "metadata": {},
   "outputs": [],
   "source": [
    "Brecknock['study-start'] = '04/01/2010'"
   ]
  },
  {
   "cell_type": "code",
   "execution_count": 1754,
   "metadata": {},
   "outputs": [],
   "source": [
    "Brecknock['study-start'] = pd.to_datetime(Brecknock['study-start'], errors='coerce')"
   ]
  },
  {
   "cell_type": "code",
   "execution_count": 1755,
   "metadata": {},
   "outputs": [],
   "source": [
    "Brecknock['time-of-entry'] = Brecknock['status_date'] -  Brecknock['study-start']"
   ]
  },
  {
   "cell_type": "code",
   "execution_count": 1756,
   "metadata": {},
   "outputs": [],
   "source": [
    "Brecknock['time-at-open'] = 0"
   ]
  },
  {
   "cell_type": "code",
   "execution_count": 1757,
   "metadata": {},
   "outputs": [],
   "source": [
    "Brecknock['vacant'] = 1"
   ]
  },
  {
   "cell_type": "code",
   "execution_count": 1758,
   "metadata": {},
   "outputs": [],
   "source": [
    "Brecknock = Brecknock.drop(Brecknock[(Brecknock['status'] == True)].index)"
   ]
  },
  {
   "cell_type": "code",
   "execution_count": 1759,
   "metadata": {},
   "outputs": [],
   "source": [
    "Brecknock['location_code'] = Brecknock['location_code'].astype(\"category\")"
   ]
  },
  {
   "cell_type": "code",
   "execution_count": 1760,
   "metadata": {},
   "outputs": [],
   "source": [
    "locations = list(Brecknock['location_code'].unique())"
   ]
  },
  {
   "cell_type": "code",
   "execution_count": 1761,
   "metadata": {},
   "outputs": [],
   "source": [
    "Brecknock = Brecknock.set_index('location_code')"
   ]
  },
  {
   "cell_type": "code",
   "execution_count": 1762,
   "metadata": {},
   "outputs": [],
   "source": [
    "Brecknock['survival'] = 0"
   ]
  },
  {
   "cell_type": "code",
   "execution_count": 1763,
   "metadata": {},
   "outputs": [],
   "source": [
    "Brecknock['survival'] = Brecknock['duration']"
   ]
  },
  {
   "cell_type": "code",
   "execution_count": 1764,
   "metadata": {},
   "outputs": [],
   "source": [
    "Brecknock['entry'] = Brecknock['time-of-entry'].dt.days"
   ]
  },
  {
   "cell_type": "code",
   "execution_count": 1765,
   "metadata": {},
   "outputs": [],
   "source": [
    "Brecknock['time-at-open'] = Brecknock['survival'] + Brecknock['entry']"
   ]
  },
  {
   "cell_type": "code",
   "execution_count": 1766,
   "metadata": {},
   "outputs": [],
   "source": [
    "Brecknock['stat'] = Brecknock['status'].astype(int)"
   ]
  },
  {
   "cell_type": "code",
   "execution_count": 1767,
   "metadata": {},
   "outputs": [],
   "source": [
    "Brecknock[\"StatusChange\"] =  Brecknock['stat'].shift() != Brecknock['stat']"
   ]
  },
  {
   "cell_type": "code",
   "execution_count": 1768,
   "metadata": {},
   "outputs": [
    {
     "name": "stderr",
     "output_type": "stream",
     "text": [
      "/opt/conda/envs/sds2020/lib/python3.7/site-packages/pandas/core/indexing.py:670: SettingWithCopyWarning: \n",
      "A value is trying to be set on a copy of a slice from a DataFrame\n",
      "\n",
      "See the caveats in the documentation: https://pandas.pydata.org/pandas-docs/stable/user_guide/indexing.html#returning-a-view-versus-a-copy\n",
      "  iloc._setitem_with_indexer(indexer, value)\n"
     ]
    }
   ],
   "source": [
    "Brecknock[\"StatusChange\"].iloc[0] = False"
   ]
  },
  {
   "cell_type": "code",
   "execution_count": 1769,
   "metadata": {},
   "outputs": [],
   "source": [
    "Brecknock[\"TenantChange\"] =  Brecknock['name'].shift(-1) != Brecknock['name'] "
   ]
  },
  {
   "cell_type": "code",
   "execution_count": 1770,
   "metadata": {},
   "outputs": [],
   "source": [
    "Brecknock[\"TenantChange\"].iloc[0] = False"
   ]
  },
  {
   "cell_type": "code",
   "execution_count": 1771,
   "metadata": {},
   "outputs": [],
   "source": [
    "counter = 0 \n",
    "stoppingCondition = len(locations)\n",
    "Brecknock2 = pd.DataFrame(data=None, columns=Brecknock.columns, index=None)\n",
    "\n",
    "while counter < stoppingCondition:\n",
    "        i = locations[counter]\n",
    "        m = Brecknock.loc[i, :].iloc[[ Brecknock.loc[i, :]['status_duration'].argmax()]]\n",
    "        Brecknock2 = Brecknock2.append(m, ignore_index=False)\n",
    "        counter += 1"
   ]
  },
  {
   "cell_type": "code",
   "execution_count": 1772,
   "metadata": {},
   "outputs": [],
   "source": [
    "Brecknock3 = Brecknock2.drop_duplicates()"
   ]
  },
  {
   "cell_type": "code",
   "execution_count": 1773,
   "metadata": {},
   "outputs": [],
   "source": [
    "Brecknock3.loc[Brecknock3['time-at-open'] == 4018, ['vacant']] = 0"
   ]
  },
  {
   "cell_type": "code",
   "execution_count": 1774,
   "metadata": {},
   "outputs": [],
   "source": [
    "Brecknock3['highstreet'] = 'Brecknock'"
   ]
  },
  {
   "cell_type": "code",
   "execution_count": 1775,
   "metadata": {},
   "outputs": [],
   "source": [
    "Brecknock3.to_csv('Brecknock-vacant-survival.csv')"
   ]
  },
  {
   "cell_type": "markdown",
   "metadata": {},
   "source": [
    "#### 2. Kentish "
   ]
  },
  {
   "cell_type": "code",
   "execution_count": 1776,
   "metadata": {},
   "outputs": [],
   "source": [
    "Kentish = Kentish.sort_values(by= ['status_date'])"
   ]
  },
  {
   "cell_type": "code",
   "execution_count": 1777,
   "metadata": {},
   "outputs": [],
   "source": [
    "cols = ['V3', 'V4', 'V5', 'V13', 'V14', 'V15', 'V16', 'V17', 'V19', 'V20', 'V21', 'V26', 'V28', 'V30', 'V36', 'V38', 'V39', 'V48', 'V51', 'V54', 'V55', 'V56', 'V57', \n",
    "        'V58', 'V59', 'V60', 'V64', 'V70', 'V72', 'V77']"
   ]
  },
  {
   "cell_type": "code",
   "execution_count": 1778,
   "metadata": {},
   "outputs": [
    {
     "data": {
      "text/html": [
       "<div>\n",
       "<style scoped>\n",
       "    .dataframe tbody tr th:only-of-type {\n",
       "        vertical-align: middle;\n",
       "    }\n",
       "\n",
       "    .dataframe tbody tr th {\n",
       "        vertical-align: top;\n",
       "    }\n",
       "\n",
       "    .dataframe thead th {\n",
       "        text-align: right;\n",
       "    }\n",
       "</style>\n",
       "<table border=\"1\" class=\"dataframe\">\n",
       "  <thead>\n",
       "    <tr style=\"text-align: right;\">\n",
       "      <th></th>\n",
       "      <th>Unnamed: 0</th>\n",
       "      <th>Unnamed: 0.1</th>\n",
       "      <th>rates_code</th>\n",
       "      <th>rates_authority_id</th>\n",
       "      <th>rates_authority</th>\n",
       "      <th>region</th>\n",
       "      <th>location_code</th>\n",
       "      <th>address_no</th>\n",
       "      <th>address_street</th>\n",
       "      <th>address_town</th>\n",
       "      <th>...</th>\n",
       "      <th>V69</th>\n",
       "      <th>V70</th>\n",
       "      <th>V71</th>\n",
       "      <th>V72</th>\n",
       "      <th>V73</th>\n",
       "      <th>V74</th>\n",
       "      <th>V75</th>\n",
       "      <th>V76</th>\n",
       "      <th>V77</th>\n",
       "      <th>geometry</th>\n",
       "    </tr>\n",
       "  </thead>\n",
       "  <tbody>\n",
       "    <tr>\n",
       "      <th>3880</th>\n",
       "      <td>329295</td>\n",
       "      <td>329295</td>\n",
       "      <td>51201460012</td>\n",
       "      <td>E09000007</td>\n",
       "      <td>Camden</td>\n",
       "      <td>Inner London - West</td>\n",
       "      <td>8079315000</td>\n",
       "      <td>GND - 2ND FLRS 146</td>\n",
       "      <td>ROYAL COLLEGE STREET</td>\n",
       "      <td>LONDON</td>\n",
       "      <td>...</td>\n",
       "      <td>D</td>\n",
       "      <td>NaN</td>\n",
       "      <td>E05000143</td>\n",
       "      <td>NaN</td>\n",
       "      <td>2013-07-01</td>\n",
       "      <td>0</td>\n",
       "      <td>CO</td>\n",
       "      <td>203.0</td>\n",
       "      <td>NaN</td>\n",
       "      <td>POINT (529304.7813367147 184070.2960136788)</td>\n",
       "    </tr>\n",
       "    <tr>\n",
       "      <th>4399</th>\n",
       "      <td>402250</td>\n",
       "      <td>402250</td>\n",
       "      <td>6.54002E+11</td>\n",
       "      <td>E09000007</td>\n",
       "      <td>Camden</td>\n",
       "      <td>Inner London - West</td>\n",
       "      <td>11659715000</td>\n",
       "      <td>UNIT 4 AT 21</td>\n",
       "      <td>BONNY STREET</td>\n",
       "      <td>LONDON</td>\n",
       "      <td>...</td>\n",
       "      <td>C</td>\n",
       "      <td>NaN</td>\n",
       "      <td>E05000130</td>\n",
       "      <td>NaN</td>\n",
       "      <td>NaN</td>\n",
       "      <td>0</td>\n",
       "      <td>CO</td>\n",
       "      <td>203.0</td>\n",
       "      <td>NaN</td>\n",
       "      <td>POINT (529149.7842568328 184183.290960255)</td>\n",
       "    </tr>\n",
       "    <tr>\n",
       "      <th>962</th>\n",
       "      <td>82795</td>\n",
       "      <td>82795</td>\n",
       "      <td>5.1202E+11</td>\n",
       "      <td>E09000007</td>\n",
       "      <td>Camden</td>\n",
       "      <td>Inner London - West</td>\n",
       "      <td>75247063</td>\n",
       "      <td>201</td>\n",
       "      <td>ROYAL COLLEGE STREET</td>\n",
       "      <td>LONDON</td>\n",
       "      <td>...</td>\n",
       "      <td>D</td>\n",
       "      <td>NaN</td>\n",
       "      <td>E05000130</td>\n",
       "      <td>NaN</td>\n",
       "      <td>2012-03-19</td>\n",
       "      <td>0</td>\n",
       "      <td>CS</td>\n",
       "      <td>249.0</td>\n",
       "      <td>NaN</td>\n",
       "      <td>POINT (529229.7802553794 184107.2885801889)</td>\n",
       "    </tr>\n",
       "    <tr>\n",
       "      <th>3481</th>\n",
       "      <td>123894</td>\n",
       "      <td>123894</td>\n",
       "      <td>0074200631009A</td>\n",
       "      <td>E09000007</td>\n",
       "      <td>Camden</td>\n",
       "      <td>Inner London - West</td>\n",
       "      <td>95659063</td>\n",
       "      <td>UNIT 7 AT 63</td>\n",
       "      <td>PRATT STREET</td>\n",
       "      <td>LONDON</td>\n",
       "      <td>...</td>\n",
       "      <td>L</td>\n",
       "      <td>NaN</td>\n",
       "      <td>E05000143</td>\n",
       "      <td>NaN</td>\n",
       "      <td>NaN</td>\n",
       "      <td>0</td>\n",
       "      <td>IF3</td>\n",
       "      <td>96.0</td>\n",
       "      <td>NaN</td>\n",
       "      <td>POINT (529377.7846075087 183993.2942823111)</td>\n",
       "    </tr>\n",
       "    <tr>\n",
       "      <th>2997</th>\n",
       "      <td>113205</td>\n",
       "      <td>113205</td>\n",
       "      <td>6.57089E+11</td>\n",
       "      <td>E09000007</td>\n",
       "      <td>Camden</td>\n",
       "      <td>Inner London - West</td>\n",
       "      <td>3251736000</td>\n",
       "      <td>1 LAWFORDS WHARF</td>\n",
       "      <td>LYME STREET</td>\n",
       "      <td>LONDON</td>\n",
       "      <td>...</td>\n",
       "      <td>D</td>\n",
       "      <td>NaN</td>\n",
       "      <td>E05000130</td>\n",
       "      <td>NaN</td>\n",
       "      <td>2012-03-19</td>\n",
       "      <td>0</td>\n",
       "      <td>CO</td>\n",
       "      <td>203.0</td>\n",
       "      <td>NaN</td>\n",
       "      <td>POINT (529185.7852216109 184064.2957215998)</td>\n",
       "    </tr>\n",
       "    <tr>\n",
       "      <th>...</th>\n",
       "      <td>...</td>\n",
       "      <td>...</td>\n",
       "      <td>...</td>\n",
       "      <td>...</td>\n",
       "      <td>...</td>\n",
       "      <td>...</td>\n",
       "      <td>...</td>\n",
       "      <td>...</td>\n",
       "      <td>...</td>\n",
       "      <td>...</td>\n",
       "      <td>...</td>\n",
       "      <td>...</td>\n",
       "      <td>...</td>\n",
       "      <td>...</td>\n",
       "      <td>...</td>\n",
       "      <td>...</td>\n",
       "      <td>...</td>\n",
       "      <td>...</td>\n",
       "      <td>...</td>\n",
       "      <td>...</td>\n",
       "      <td>...</td>\n",
       "    </tr>\n",
       "    <tr>\n",
       "      <th>1490</th>\n",
       "      <td>85831</td>\n",
       "      <td>85831</td>\n",
       "      <td>5.35006E+11</td>\n",
       "      <td>E09000007</td>\n",
       "      <td>Camden</td>\n",
       "      <td>Inner London - West</td>\n",
       "      <td>99271063</td>\n",
       "      <td>GND F 57</td>\n",
       "      <td>CAMDEN ROAD</td>\n",
       "      <td>LONDON</td>\n",
       "      <td>...</td>\n",
       "      <td>D</td>\n",
       "      <td>NaN</td>\n",
       "      <td>E05000131</td>\n",
       "      <td>NaN</td>\n",
       "      <td>2012-03-19</td>\n",
       "      <td>3</td>\n",
       "      <td>CS2</td>\n",
       "      <td>24.0</td>\n",
       "      <td>NaN</td>\n",
       "      <td>POINT (529196.7824470752 184232.3021180349)</td>\n",
       "    </tr>\n",
       "    <tr>\n",
       "      <th>3250</th>\n",
       "      <td>113502</td>\n",
       "      <td>113502</td>\n",
       "      <td>6.61009E+11</td>\n",
       "      <td>E09000007</td>\n",
       "      <td>Camden</td>\n",
       "      <td>Inner London - West</td>\n",
       "      <td>110608063</td>\n",
       "      <td>ARCHES 90 &amp; 91</td>\n",
       "      <td>BAYNES STREET</td>\n",
       "      <td>LONDON</td>\n",
       "      <td>...</td>\n",
       "      <td>D</td>\n",
       "      <td>NaN</td>\n",
       "      <td>E05000131</td>\n",
       "      <td>NaN</td>\n",
       "      <td>2012-03-19</td>\n",
       "      <td>0</td>\n",
       "      <td>CG1</td>\n",
       "      <td>289.0</td>\n",
       "      <td>NaN</td>\n",
       "      <td>POINT (529354.7875236059 184154.2926299943)</td>\n",
       "    </tr>\n",
       "    <tr>\n",
       "      <th>874</th>\n",
       "      <td>82707</td>\n",
       "      <td>82707</td>\n",
       "      <td>5.12019E+11</td>\n",
       "      <td>E09000007</td>\n",
       "      <td>Camden</td>\n",
       "      <td>Inner London - West</td>\n",
       "      <td>3386993000</td>\n",
       "      <td>2ND F 187-191</td>\n",
       "      <td>ROYAL COLLEGE STREET</td>\n",
       "      <td>LONDON</td>\n",
       "      <td>...</td>\n",
       "      <td>C</td>\n",
       "      <td>NaN</td>\n",
       "      <td>E05000130</td>\n",
       "      <td>NaN</td>\n",
       "      <td>NaN</td>\n",
       "      <td>0</td>\n",
       "      <td>CO</td>\n",
       "      <td>203.0</td>\n",
       "      <td>NaN</td>\n",
       "      <td>POINT (529258.7831391912 184058.2975567151)</td>\n",
       "    </tr>\n",
       "    <tr>\n",
       "      <th>3426</th>\n",
       "      <td>123839</td>\n",
       "      <td>123839</td>\n",
       "      <td>0074200631007B</td>\n",
       "      <td>E09000007</td>\n",
       "      <td>Camden</td>\n",
       "      <td>Inner London - West</td>\n",
       "      <td>95657063</td>\n",
       "      <td>UNIT 5 AT 63</td>\n",
       "      <td>PRATT STREET</td>\n",
       "      <td>LONDON</td>\n",
       "      <td>...</td>\n",
       "      <td>D</td>\n",
       "      <td>NaN</td>\n",
       "      <td>E05000143</td>\n",
       "      <td>NaN</td>\n",
       "      <td>2013-10-22</td>\n",
       "      <td>0</td>\n",
       "      <td>IF3</td>\n",
       "      <td>96.0</td>\n",
       "      <td>NaN</td>\n",
       "      <td>POINT (529337.7843255643 183958.291385453)</td>\n",
       "    </tr>\n",
       "    <tr>\n",
       "      <th>1941</th>\n",
       "      <td>86326</td>\n",
       "      <td>86326</td>\n",
       "      <td>5.35009E+11</td>\n",
       "      <td>E09000007</td>\n",
       "      <td>Camden</td>\n",
       "      <td>Inner London - West</td>\n",
       "      <td>99299063</td>\n",
       "      <td>GND F 94</td>\n",
       "      <td>CAMDEN ROAD</td>\n",
       "      <td>LONDON</td>\n",
       "      <td>...</td>\n",
       "      <td>D</td>\n",
       "      <td>NaN</td>\n",
       "      <td>E05000130</td>\n",
       "      <td>NaN</td>\n",
       "      <td>2012-03-19</td>\n",
       "      <td>4</td>\n",
       "      <td>CR</td>\n",
       "      <td>234.0</td>\n",
       "      <td>NaN</td>\n",
       "      <td>POINT (529186.7842412135 184130.2967683947)</td>\n",
       "    </tr>\n",
       "  </tbody>\n",
       "</table>\n",
       "<p>4603 rows × 105 columns</p>\n",
       "</div>"
      ],
      "text/plain": [
       "      Unnamed: 0  Unnamed: 0.1      rates_code rates_authority_id  \\\n",
       "3880      329295        329295     51201460012          E09000007   \n",
       "4399      402250        402250     6.54002E+11          E09000007   \n",
       "962        82795         82795      5.1202E+11          E09000007   \n",
       "3481      123894        123894  0074200631009A          E09000007   \n",
       "2997      113205        113205     6.57089E+11          E09000007   \n",
       "...          ...           ...             ...                ...   \n",
       "1490       85831         85831     5.35006E+11          E09000007   \n",
       "3250      113502        113502     6.61009E+11          E09000007   \n",
       "874        82707         82707     5.12019E+11          E09000007   \n",
       "3426      123839        123839  0074200631007B          E09000007   \n",
       "1941       86326         86326     5.35009E+11          E09000007   \n",
       "\n",
       "     rates_authority               region  location_code          address_no  \\\n",
       "3880          Camden  Inner London - West     8079315000  GND - 2ND FLRS 146   \n",
       "4399          Camden  Inner London - West    11659715000        UNIT 4 AT 21   \n",
       "962           Camden  Inner London - West       75247063                 201   \n",
       "3481          Camden  Inner London - West       95659063        UNIT 7 AT 63   \n",
       "2997          Camden  Inner London - West     3251736000    1 LAWFORDS WHARF   \n",
       "...              ...                  ...            ...                 ...   \n",
       "1490          Camden  Inner London - West       99271063            GND F 57   \n",
       "3250          Camden  Inner London - West      110608063      ARCHES 90 & 91   \n",
       "874           Camden  Inner London - West     3386993000       2ND F 187-191   \n",
       "3426          Camden  Inner London - West       95657063        UNIT 5 AT 63   \n",
       "1941          Camden  Inner London - West       99299063            GND F 94   \n",
       "\n",
       "            address_street address_town  ... V69 V70        V71 V72  \\\n",
       "3880  ROYAL COLLEGE STREET       LONDON  ...   D NaN  E05000143 NaN   \n",
       "4399          BONNY STREET       LONDON  ...   C NaN  E05000130 NaN   \n",
       "962   ROYAL COLLEGE STREET       LONDON  ...   D NaN  E05000130 NaN   \n",
       "3481          PRATT STREET       LONDON  ...   L NaN  E05000143 NaN   \n",
       "2997           LYME STREET       LONDON  ...   D NaN  E05000130 NaN   \n",
       "...                    ...          ...  ...  ..  ..        ...  ..   \n",
       "1490           CAMDEN ROAD       LONDON  ...   D NaN  E05000131 NaN   \n",
       "3250         BAYNES STREET       LONDON  ...   D NaN  E05000131 NaN   \n",
       "874   ROYAL COLLEGE STREET       LONDON  ...   C NaN  E05000130 NaN   \n",
       "3426          PRATT STREET       LONDON  ...   D NaN  E05000143 NaN   \n",
       "1941           CAMDEN ROAD       LONDON  ...   D NaN  E05000130 NaN   \n",
       "\n",
       "             V73  V74  V75    V76  V77  \\\n",
       "3880  2013-07-01    0   CO  203.0  NaN   \n",
       "4399         NaN    0   CO  203.0  NaN   \n",
       "962   2012-03-19    0   CS  249.0  NaN   \n",
       "3481         NaN    0  IF3   96.0  NaN   \n",
       "2997  2012-03-19    0   CO  203.0  NaN   \n",
       "...          ...  ...  ...    ...  ...   \n",
       "1490  2012-03-19    3  CS2   24.0  NaN   \n",
       "3250  2012-03-19    0  CG1  289.0  NaN   \n",
       "874          NaN    0   CO  203.0  NaN   \n",
       "3426  2013-10-22    0  IF3   96.0  NaN   \n",
       "1941  2012-03-19    4   CR  234.0  NaN   \n",
       "\n",
       "                                         geometry  \n",
       "3880  POINT (529304.7813367147 184070.2960136788)  \n",
       "4399   POINT (529149.7842568328 184183.290960255)  \n",
       "962   POINT (529229.7802553794 184107.2885801889)  \n",
       "3481  POINT (529377.7846075087 183993.2942823111)  \n",
       "2997  POINT (529185.7852216109 184064.2957215998)  \n",
       "...                                           ...  \n",
       "1490  POINT (529196.7824470752 184232.3021180349)  \n",
       "3250  POINT (529354.7875236059 184154.2926299943)  \n",
       "874   POINT (529258.7831391912 184058.2975567151)  \n",
       "3426   POINT (529337.7843255643 183958.291385453)  \n",
       "1941  POINT (529186.7842412135 184130.2967683947)  \n",
       "\n",
       "[4603 rows x 105 columns]"
      ]
     },
     "execution_count": 1778,
     "metadata": {},
     "output_type": "execute_result"
    }
   ],
   "source": [
    "Kentish"
   ]
  },
  {
   "cell_type": "code",
   "execution_count": 1779,
   "metadata": {},
   "outputs": [],
   "source": [
    "#deleted those cols columns from the dataset as they only contain nulls\n",
    "\n",
    "Kentish = Kentish.drop(cols, axis=1)"
   ]
  },
  {
   "cell_type": "code",
   "execution_count": 1780,
   "metadata": {},
   "outputs": [],
   "source": [
    "Kentish['new_date'] = pd.to_datetime(Kentish['status_date'], errors='coerce')"
   ]
  },
  {
   "cell_type": "code",
   "execution_count": 1781,
   "metadata": {},
   "outputs": [],
   "source": [
    "Kentish = Kentish.sort_values(by= ['new_date'])"
   ]
  },
  {
   "cell_type": "code",
   "execution_count": 1782,
   "metadata": {},
   "outputs": [
    {
     "name": "stderr",
     "output_type": "stream",
     "text": [
      "/opt/conda/envs/sds2020/lib/python3.7/site-packages/pandas/core/indexing.py:670: SettingWithCopyWarning: \n",
      "A value is trying to be set on a copy of a slice from a DataFrame\n",
      "\n",
      "See the caveats in the documentation: https://pandas.pydata.org/pandas-docs/stable/user_guide/indexing.html#returning-a-view-versus-a-copy\n",
      "  iloc._setitem_with_indexer(indexer, value)\n"
     ]
    }
   ],
   "source": [
    "Kentish['new_date'].loc[(Kentish['new_date'] < '2010-04-01')] = '2010-04-01'"
   ]
  },
  {
   "cell_type": "code",
   "execution_count": 1783,
   "metadata": {},
   "outputs": [],
   "source": [
    "Kentish = Kentish.sort_values(by= ['location_code', 'period'])"
   ]
  },
  {
   "cell_type": "code",
   "execution_count": 1784,
   "metadata": {},
   "outputs": [],
   "source": [
    "Kentish['locaton_code'] = Kentish['location_code'].astype(\"category\")"
   ]
  },
  {
   "cell_type": "code",
   "execution_count": 1785,
   "metadata": {},
   "outputs": [],
   "source": [
    "locations = Kentish['location_code'].unique()"
   ]
  },
  {
   "cell_type": "code",
   "execution_count": 1786,
   "metadata": {},
   "outputs": [],
   "source": [
    "Kentish.loc[Kentish['name'].isnull(), 'name'] = Kentish['location_code']"
   ]
  },
  {
   "cell_type": "code",
   "execution_count": 1787,
   "metadata": {},
   "outputs": [],
   "source": [
    "Kentish['status_date'] = pd.to_datetime(Kentish['status_date'], errors='coerce')"
   ]
  },
  {
   "cell_type": "code",
   "execution_count": 1788,
   "metadata": {},
   "outputs": [],
   "source": [
    "Kentish['status_date'].iloc[Kentish['status_date'] < '2010-04-01'] = '04/01/2010'"
   ]
  },
  {
   "cell_type": "code",
   "execution_count": 1789,
   "metadata": {},
   "outputs": [],
   "source": [
    "Kentish['status_date'] = pd.to_datetime(Kentish['status_date'], errors='coerce')"
   ]
  },
  {
   "cell_type": "code",
   "execution_count": 1790,
   "metadata": {},
   "outputs": [],
   "source": [
    "Kentish['period2'] = pd.to_datetime(Kentish['period'])"
   ]
  },
  {
   "cell_type": "code",
   "execution_count": 1791,
   "metadata": {},
   "outputs": [],
   "source": [
    "Kentish['period2'] = Kentish['period2'] + pd.DateOffset(months=1)"
   ]
  },
  {
   "cell_type": "code",
   "execution_count": 1792,
   "metadata": {},
   "outputs": [],
   "source": [
    "Kentish['duration'] = Kentish['period2'] - Kentish['status_date']"
   ]
  },
  {
   "cell_type": "code",
   "execution_count": 1793,
   "metadata": {},
   "outputs": [],
   "source": [
    "Kentish['duration'] = Kentish['duration'].dt.days"
   ]
  },
  {
   "cell_type": "code",
   "execution_count": 1794,
   "metadata": {},
   "outputs": [],
   "source": [
    "Kentish['study-start'] = '04/01/2010'"
   ]
  },
  {
   "cell_type": "code",
   "execution_count": 1795,
   "metadata": {},
   "outputs": [],
   "source": [
    "Kentish['study-start'] = pd.to_datetime(Kentish['study-start'], errors='coerce')"
   ]
  },
  {
   "cell_type": "code",
   "execution_count": 1796,
   "metadata": {},
   "outputs": [],
   "source": [
    "Kentish['time-of-entry'] = Kentish['status_date'] -  Kentish['study-start']"
   ]
  },
  {
   "cell_type": "code",
   "execution_count": 1797,
   "metadata": {},
   "outputs": [],
   "source": [
    "Kentish['time-at-open'] = 0"
   ]
  },
  {
   "cell_type": "code",
   "execution_count": 1798,
   "metadata": {},
   "outputs": [],
   "source": [
    "Kentish['vacant'] = 1"
   ]
  },
  {
   "cell_type": "code",
   "execution_count": 1799,
   "metadata": {},
   "outputs": [],
   "source": [
    "Kentish = Kentish.drop(Kentish[(Kentish['status'] == True)].index)"
   ]
  },
  {
   "cell_type": "code",
   "execution_count": 1800,
   "metadata": {},
   "outputs": [],
   "source": [
    "Kentish['location_code'] = Kentish['location_code'].astype(\"category\")"
   ]
  },
  {
   "cell_type": "code",
   "execution_count": 1801,
   "metadata": {},
   "outputs": [],
   "source": [
    "locations = list(Kentish['location_code'].unique())"
   ]
  },
  {
   "cell_type": "code",
   "execution_count": 1802,
   "metadata": {},
   "outputs": [],
   "source": [
    "Kentish = Kentish.set_index('location_code')"
   ]
  },
  {
   "cell_type": "code",
   "execution_count": 1803,
   "metadata": {},
   "outputs": [],
   "source": [
    "Kentish['survival'] = 0"
   ]
  },
  {
   "cell_type": "code",
   "execution_count": 1804,
   "metadata": {},
   "outputs": [],
   "source": [
    "Kentish['survival'] = Kentish['duration']"
   ]
  },
  {
   "cell_type": "code",
   "execution_count": 1805,
   "metadata": {},
   "outputs": [],
   "source": [
    "Kentish['entry'] = Kentish['time-of-entry'].dt.days"
   ]
  },
  {
   "cell_type": "code",
   "execution_count": 1806,
   "metadata": {},
   "outputs": [],
   "source": [
    "Kentish['time-at-open'] = Kentish['survival'] + Kentish['entry']"
   ]
  },
  {
   "cell_type": "code",
   "execution_count": 1807,
   "metadata": {},
   "outputs": [],
   "source": [
    "Kentish['stat'] = Kentish['status'].astype(int)"
   ]
  },
  {
   "cell_type": "code",
   "execution_count": 1808,
   "metadata": {},
   "outputs": [],
   "source": [
    "Kentish[\"StatusChange\"] =  Kentish['stat'].shift() != Kentish['stat']"
   ]
  },
  {
   "cell_type": "code",
   "execution_count": 1809,
   "metadata": {},
   "outputs": [
    {
     "name": "stderr",
     "output_type": "stream",
     "text": [
      "/opt/conda/envs/sds2020/lib/python3.7/site-packages/pandas/core/indexing.py:670: SettingWithCopyWarning: \n",
      "A value is trying to be set on a copy of a slice from a DataFrame\n",
      "\n",
      "See the caveats in the documentation: https://pandas.pydata.org/pandas-docs/stable/user_guide/indexing.html#returning-a-view-versus-a-copy\n",
      "  iloc._setitem_with_indexer(indexer, value)\n"
     ]
    }
   ],
   "source": [
    "Kentish[\"StatusChange\"].iloc[0] = False"
   ]
  },
  {
   "cell_type": "code",
   "execution_count": 1810,
   "metadata": {},
   "outputs": [],
   "source": [
    "Kentish[\"TenantChange\"] =  Kentish['name'].shift(-1) != Kentish['name'] "
   ]
  },
  {
   "cell_type": "code",
   "execution_count": 1811,
   "metadata": {},
   "outputs": [],
   "source": [
    "Kentish[\"TenantChange\"].iloc[0] = False"
   ]
  },
  {
   "cell_type": "code",
   "execution_count": 1812,
   "metadata": {},
   "outputs": [],
   "source": [
    "counter = 0 \n",
    "stoppingCondition = len(locations)\n",
    "Kentish2 = pd.DataFrame(data=None, columns=Kentish.columns, index=None)\n",
    "\n",
    "while counter < stoppingCondition:\n",
    "        i = locations[counter]\n",
    "        m = Kentish.loc[i, :].iloc[[ Kentish.loc[i, :]['status_duration'].argmax()]]\n",
    "        Kentish2 = Kentish2.append(m, ignore_index=False)\n",
    "        counter += 1"
   ]
  },
  {
   "cell_type": "code",
   "execution_count": 1813,
   "metadata": {},
   "outputs": [],
   "source": [
    "Kentish3 = Kentish2.drop_duplicates()"
   ]
  },
  {
   "cell_type": "code",
   "execution_count": 1814,
   "metadata": {},
   "outputs": [],
   "source": [
    "Kentish3['highstreet'] = 'Kentish'"
   ]
  },
  {
   "cell_type": "code",
   "execution_count": 1815,
   "metadata": {},
   "outputs": [],
   "source": [
    "Kentish3.loc[Kentish3['time-at-open'] == 4018, ['vacant']] = 0"
   ]
  },
  {
   "cell_type": "code",
   "execution_count": 1816,
   "metadata": {},
   "outputs": [],
   "source": [
    "Kentish3.to_csv('Kentish-vacant-survival.csv')"
   ]
  },
  {
   "cell_type": "markdown",
   "metadata": {},
   "source": [
    "#### 3. Fortress "
   ]
  },
  {
   "cell_type": "code",
   "execution_count": 1817,
   "metadata": {},
   "outputs": [],
   "source": [
    "Fortress = Fortress.sort_values(by= ['status_date'])"
   ]
  },
  {
   "cell_type": "code",
   "execution_count": 1818,
   "metadata": {},
   "outputs": [],
   "source": [
    "cols = ['V3', 'V4', 'V5', 'V13', 'V14', 'V15', 'V16', 'V17', 'V19', 'V20', 'V21', 'V26', 'V28', 'V30', 'V36', 'V38', 'V39', 'V48', 'V51', 'V54', 'V55', 'V56', 'V57', \n",
    "        'V58', 'V59', 'V60', 'V64', 'V70', 'V72', 'V77']"
   ]
  },
  {
   "cell_type": "code",
   "execution_count": 1819,
   "metadata": {},
   "outputs": [],
   "source": [
    "#deleted those cols columns from the dataset as they only contain nulls\n",
    "\n",
    "Fortress = Fortress.drop(cols, axis=1)"
   ]
  },
  {
   "cell_type": "code",
   "execution_count": 1820,
   "metadata": {},
   "outputs": [],
   "source": [
    "Fortress['new_date'] = pd.to_datetime(Fortress['status_date'], errors='coerce')"
   ]
  },
  {
   "cell_type": "code",
   "execution_count": 1821,
   "metadata": {},
   "outputs": [],
   "source": [
    "Fortress = Fortress.sort_values(by= ['new_date'])"
   ]
  },
  {
   "cell_type": "code",
   "execution_count": 1822,
   "metadata": {},
   "outputs": [],
   "source": [
    "Fortress['new_date'].loc[(Fortress['new_date'] < '2010-04-01')] = '2010-04-01'"
   ]
  },
  {
   "cell_type": "code",
   "execution_count": 1823,
   "metadata": {},
   "outputs": [],
   "source": [
    "Fortress = Fortress.sort_values(by= ['location_code', 'period'])"
   ]
  },
  {
   "cell_type": "code",
   "execution_count": 1824,
   "metadata": {},
   "outputs": [],
   "source": [
    "Fortress['locaton_code'] = Fortress['location_code'].astype(\"category\")"
   ]
  },
  {
   "cell_type": "code",
   "execution_count": 1825,
   "metadata": {},
   "outputs": [],
   "source": [
    "locations = Fortress['location_code'].unique()"
   ]
  },
  {
   "cell_type": "code",
   "execution_count": 1826,
   "metadata": {},
   "outputs": [],
   "source": [
    "Fortress.loc[Fortress['name'].isnull(), 'name'] = Fortress['location_code']"
   ]
  },
  {
   "cell_type": "code",
   "execution_count": 1827,
   "metadata": {},
   "outputs": [],
   "source": [
    "Fortress['status_date'] = pd.to_datetime(Fortress['status_date'], errors='coerce')"
   ]
  },
  {
   "cell_type": "code",
   "execution_count": 1828,
   "metadata": {},
   "outputs": [],
   "source": [
    "Fortress['status_date'].iloc[Fortress['status_date'] < '2010-04-01'] = '04/01/2010'"
   ]
  },
  {
   "cell_type": "code",
   "execution_count": 1829,
   "metadata": {},
   "outputs": [],
   "source": [
    "Fortress['status_date'] = pd.to_datetime(Fortress['status_date'], errors='coerce')"
   ]
  },
  {
   "cell_type": "code",
   "execution_count": 1830,
   "metadata": {},
   "outputs": [],
   "source": [
    "Fortress['period2'] = pd.to_datetime(Fortress['period'])"
   ]
  },
  {
   "cell_type": "code",
   "execution_count": 1831,
   "metadata": {},
   "outputs": [],
   "source": [
    "Fortress['period2'] = Fortress['period2'] + pd.DateOffset(months=1)"
   ]
  },
  {
   "cell_type": "code",
   "execution_count": 1832,
   "metadata": {},
   "outputs": [],
   "source": [
    "Fortress['duration'] = Fortress['period2'] - Fortress['status_date']"
   ]
  },
  {
   "cell_type": "code",
   "execution_count": 1833,
   "metadata": {},
   "outputs": [],
   "source": [
    "Fortress['duration'] = Fortress['duration'].dt.days"
   ]
  },
  {
   "cell_type": "code",
   "execution_count": 1834,
   "metadata": {},
   "outputs": [],
   "source": [
    "Fortress['study-start'] = '04/01/2010'"
   ]
  },
  {
   "cell_type": "code",
   "execution_count": 1835,
   "metadata": {},
   "outputs": [],
   "source": [
    "Fortress['study-start'] = pd.to_datetime(Fortress['study-start'], errors='coerce')"
   ]
  },
  {
   "cell_type": "code",
   "execution_count": 1836,
   "metadata": {},
   "outputs": [],
   "source": [
    "Fortress['time-of-entry'] = Fortress['status_date'] -  Fortress['study-start']"
   ]
  },
  {
   "cell_type": "code",
   "execution_count": 1837,
   "metadata": {},
   "outputs": [],
   "source": [
    "Fortress['time-at-open'] = 0"
   ]
  },
  {
   "cell_type": "code",
   "execution_count": 1838,
   "metadata": {},
   "outputs": [],
   "source": [
    "Fortress['vacant'] = 1"
   ]
  },
  {
   "cell_type": "code",
   "execution_count": 1839,
   "metadata": {},
   "outputs": [],
   "source": [
    "Fortress = Fortress.drop(Fortress[(Fortress['status'] == True)].index)"
   ]
  },
  {
   "cell_type": "code",
   "execution_count": 1840,
   "metadata": {},
   "outputs": [],
   "source": [
    "Fortress['location_code'] = Fortress['location_code'].astype(\"category\")"
   ]
  },
  {
   "cell_type": "code",
   "execution_count": 1841,
   "metadata": {},
   "outputs": [],
   "source": [
    "locations = list(Fortress['location_code'].unique())"
   ]
  },
  {
   "cell_type": "code",
   "execution_count": 1842,
   "metadata": {},
   "outputs": [],
   "source": [
    "Fortress = Fortress.set_index('location_code')"
   ]
  },
  {
   "cell_type": "code",
   "execution_count": 1843,
   "metadata": {},
   "outputs": [],
   "source": [
    "Fortress['survival'] = 0"
   ]
  },
  {
   "cell_type": "code",
   "execution_count": 1844,
   "metadata": {},
   "outputs": [],
   "source": [
    "Fortress['survival'] = Fortress['duration']"
   ]
  },
  {
   "cell_type": "code",
   "execution_count": 1845,
   "metadata": {},
   "outputs": [],
   "source": [
    "Fortress['entry'] = Fortress['time-of-entry'].dt.days"
   ]
  },
  {
   "cell_type": "code",
   "execution_count": 1846,
   "metadata": {},
   "outputs": [],
   "source": [
    "Fortress['time-at-open'] = Fortress['survival'] + Fortress['entry']"
   ]
  },
  {
   "cell_type": "code",
   "execution_count": 1847,
   "metadata": {},
   "outputs": [],
   "source": [
    "Fortress['stat'] = Fortress['status'].astype(int)"
   ]
  },
  {
   "cell_type": "code",
   "execution_count": 1848,
   "metadata": {},
   "outputs": [],
   "source": [
    "Fortress[\"StatusChange\"] =  Fortress['stat'].shift() != Fortress['stat']"
   ]
  },
  {
   "cell_type": "code",
   "execution_count": 1849,
   "metadata": {},
   "outputs": [
    {
     "name": "stderr",
     "output_type": "stream",
     "text": [
      "/opt/conda/envs/sds2020/lib/python3.7/site-packages/pandas/core/indexing.py:670: SettingWithCopyWarning: \n",
      "A value is trying to be set on a copy of a slice from a DataFrame\n",
      "\n",
      "See the caveats in the documentation: https://pandas.pydata.org/pandas-docs/stable/user_guide/indexing.html#returning-a-view-versus-a-copy\n",
      "  iloc._setitem_with_indexer(indexer, value)\n"
     ]
    }
   ],
   "source": [
    "Fortress[\"StatusChange\"].iloc[0] = False"
   ]
  },
  {
   "cell_type": "code",
   "execution_count": 1850,
   "metadata": {},
   "outputs": [],
   "source": [
    "Fortress[\"TenantChange\"] =  Fortress['name'].shift(-1) != Fortress['name'] "
   ]
  },
  {
   "cell_type": "code",
   "execution_count": 1851,
   "metadata": {},
   "outputs": [],
   "source": [
    "Fortress[\"TenantChange\"].iloc[0] = False"
   ]
  },
  {
   "cell_type": "code",
   "execution_count": 1852,
   "metadata": {},
   "outputs": [],
   "source": [
    "counter = 0 \n",
    "stoppingCondition = len(locations)\n",
    "Fortress2 = pd.DataFrame(data=None, columns=Fortress.columns, index=None)\n",
    "\n",
    "while counter < stoppingCondition:\n",
    "        i = locations[counter]\n",
    "        m = Fortress.loc[i, :].iloc[[ Fortress.loc[i, :]['status_duration'].argmax()]]\n",
    "        Fortress2 = Fortress2.append(m, ignore_index=False)\n",
    "        counter += 1"
   ]
  },
  {
   "cell_type": "code",
   "execution_count": 1853,
   "metadata": {},
   "outputs": [],
   "source": [
    "Fortress3 = Fortress2.drop_duplicates()"
   ]
  },
  {
   "cell_type": "code",
   "execution_count": 1854,
   "metadata": {},
   "outputs": [],
   "source": [
    "Fortress3.loc[Fortress3['time-at-open'] == 4018, ['vacant']] = 0"
   ]
  },
  {
   "cell_type": "code",
   "execution_count": 1855,
   "metadata": {},
   "outputs": [],
   "source": [
    "Fortress3['highstreet'] = 'Fortress'"
   ]
  },
  {
   "cell_type": "code",
   "execution_count": 1856,
   "metadata": {},
   "outputs": [],
   "source": [
    "Fortress3.to_csv('Fortress-vacant-survival.csv')"
   ]
  },
  {
   "cell_type": "markdown",
   "metadata": {},
   "source": [
    "#### 4. Camden Town"
   ]
  },
  {
   "cell_type": "code",
   "execution_count": 1857,
   "metadata": {},
   "outputs": [],
   "source": [
    "CamdenT = CamdenT.sort_values(by= ['status_date'])"
   ]
  },
  {
   "cell_type": "code",
   "execution_count": 1858,
   "metadata": {},
   "outputs": [],
   "source": [
    "cols = ['V3', 'V4', 'V5', 'V13', 'V14', 'V15', 'V16', 'V17', 'V19', 'V20', 'V21', 'V26', 'V28', 'V30', 'V36', 'V38', 'V39', 'V48', 'V51', 'V54', 'V55', 'V56', 'V57', \n",
    "        'V58', 'V59', 'V60', 'V64', 'V70', 'V72', 'V77']"
   ]
  },
  {
   "cell_type": "code",
   "execution_count": 1859,
   "metadata": {},
   "outputs": [],
   "source": [
    "#deleted those cols columns from the dataset as they only contain nulls\n",
    "\n",
    "CamdenT = CamdenT.drop(cols, axis=1)"
   ]
  },
  {
   "cell_type": "code",
   "execution_count": 1860,
   "metadata": {},
   "outputs": [],
   "source": [
    "CamdenT['new_date'] = pd.to_datetime(CamdenT['status_date'], errors='coerce')"
   ]
  },
  {
   "cell_type": "code",
   "execution_count": 1861,
   "metadata": {},
   "outputs": [],
   "source": [
    "CamdenT = CamdenT.sort_values(by= ['new_date'])"
   ]
  },
  {
   "cell_type": "code",
   "execution_count": 1862,
   "metadata": {},
   "outputs": [],
   "source": [
    "CamdenT['new_date'].loc[(CamdenT['new_date'] < '2010-04-01')] = '2010-04-01'"
   ]
  },
  {
   "cell_type": "code",
   "execution_count": 1863,
   "metadata": {},
   "outputs": [],
   "source": [
    "CamdenT = CamdenT.sort_values(by= ['location_code', 'period'])"
   ]
  },
  {
   "cell_type": "code",
   "execution_count": 1864,
   "metadata": {},
   "outputs": [],
   "source": [
    "CamdenT['locaton_code'] = CamdenT['location_code'].astype(\"category\")"
   ]
  },
  {
   "cell_type": "code",
   "execution_count": 1865,
   "metadata": {},
   "outputs": [],
   "source": [
    "locations = CamdenT['location_code'].unique()"
   ]
  },
  {
   "cell_type": "code",
   "execution_count": 1866,
   "metadata": {},
   "outputs": [],
   "source": [
    "CamdenT.loc[CamdenT['name'].isnull(), 'name'] = CamdenT['location_code']"
   ]
  },
  {
   "cell_type": "code",
   "execution_count": 1867,
   "metadata": {},
   "outputs": [],
   "source": [
    "CamdenT['status_date'] = pd.to_datetime(CamdenT['status_date'], errors='coerce')"
   ]
  },
  {
   "cell_type": "code",
   "execution_count": 1868,
   "metadata": {},
   "outputs": [],
   "source": [
    "CamdenT['status_date'].iloc[CamdenT['status_date'] < '2010-04-01'] = '04/01/2010'"
   ]
  },
  {
   "cell_type": "code",
   "execution_count": 1869,
   "metadata": {},
   "outputs": [],
   "source": [
    "CamdenT['status_date'] = pd.to_datetime(CamdenT['status_date'], errors='coerce')"
   ]
  },
  {
   "cell_type": "code",
   "execution_count": 1870,
   "metadata": {},
   "outputs": [],
   "source": [
    "CamdenT['period2'] = pd.to_datetime(CamdenT['period'])"
   ]
  },
  {
   "cell_type": "code",
   "execution_count": 1871,
   "metadata": {},
   "outputs": [],
   "source": [
    "CamdenT['period2'] = CamdenT['period2'] + pd.DateOffset(months=1)"
   ]
  },
  {
   "cell_type": "code",
   "execution_count": 1872,
   "metadata": {},
   "outputs": [],
   "source": [
    "CamdenT['duration'] = CamdenT['period2'] - CamdenT['status_date']"
   ]
  },
  {
   "cell_type": "code",
   "execution_count": 1873,
   "metadata": {},
   "outputs": [],
   "source": [
    "CamdenT['duration'] = CamdenT['duration'].dt.days"
   ]
  },
  {
   "cell_type": "code",
   "execution_count": 1874,
   "metadata": {},
   "outputs": [],
   "source": [
    "CamdenT['study-start'] = '04/01/2010'"
   ]
  },
  {
   "cell_type": "code",
   "execution_count": 1875,
   "metadata": {},
   "outputs": [],
   "source": [
    "CamdenT['study-start'] = pd.to_datetime(CamdenT['study-start'], errors='coerce')"
   ]
  },
  {
   "cell_type": "code",
   "execution_count": 1876,
   "metadata": {},
   "outputs": [],
   "source": [
    "CamdenT['time-of-entry'] = CamdenT['status_date'] -  CamdenT['study-start']"
   ]
  },
  {
   "cell_type": "code",
   "execution_count": 1877,
   "metadata": {},
   "outputs": [],
   "source": [
    "CamdenT['time-at-open'] = 0"
   ]
  },
  {
   "cell_type": "code",
   "execution_count": 1878,
   "metadata": {},
   "outputs": [],
   "source": [
    "CamdenT['vacant'] = 1"
   ]
  },
  {
   "cell_type": "code",
   "execution_count": 1879,
   "metadata": {},
   "outputs": [],
   "source": [
    "CamdenT = CamdenT.drop(CamdenT[(CamdenT['status'] == True)].index)"
   ]
  },
  {
   "cell_type": "code",
   "execution_count": 1880,
   "metadata": {},
   "outputs": [],
   "source": [
    "CamdenT['location_code'] = CamdenT['location_code'].astype(\"category\")"
   ]
  },
  {
   "cell_type": "code",
   "execution_count": 1881,
   "metadata": {},
   "outputs": [],
   "source": [
    "locations = list(CamdenT['location_code'].unique())"
   ]
  },
  {
   "cell_type": "code",
   "execution_count": 1882,
   "metadata": {},
   "outputs": [],
   "source": [
    "CamdenT = CamdenT.set_index('location_code')"
   ]
  },
  {
   "cell_type": "code",
   "execution_count": 1883,
   "metadata": {},
   "outputs": [],
   "source": [
    "CamdenT['survival'] = 0"
   ]
  },
  {
   "cell_type": "code",
   "execution_count": 1884,
   "metadata": {},
   "outputs": [],
   "source": [
    "CamdenT['survival'] = CamdenT['duration']"
   ]
  },
  {
   "cell_type": "code",
   "execution_count": 1885,
   "metadata": {},
   "outputs": [],
   "source": [
    "CamdenT['entry'] = CamdenT['time-of-entry'].dt.days"
   ]
  },
  {
   "cell_type": "code",
   "execution_count": 1886,
   "metadata": {},
   "outputs": [],
   "source": [
    "CamdenT['time-at-open'] = CamdenT['survival'] + CamdenT['entry']"
   ]
  },
  {
   "cell_type": "code",
   "execution_count": 1887,
   "metadata": {},
   "outputs": [],
   "source": [
    "CamdenT['stat'] = CamdenT['status'].astype(int)"
   ]
  },
  {
   "cell_type": "code",
   "execution_count": 1888,
   "metadata": {},
   "outputs": [],
   "source": [
    "CamdenT[\"StatusChange\"] =  CamdenT['stat'].shift() != CamdenT['stat']"
   ]
  },
  {
   "cell_type": "code",
   "execution_count": 1889,
   "metadata": {},
   "outputs": [
    {
     "name": "stderr",
     "output_type": "stream",
     "text": [
      "/opt/conda/envs/sds2020/lib/python3.7/site-packages/pandas/core/indexing.py:670: SettingWithCopyWarning: \n",
      "A value is trying to be set on a copy of a slice from a DataFrame\n",
      "\n",
      "See the caveats in the documentation: https://pandas.pydata.org/pandas-docs/stable/user_guide/indexing.html#returning-a-view-versus-a-copy\n",
      "  iloc._setitem_with_indexer(indexer, value)\n"
     ]
    }
   ],
   "source": [
    "CamdenT[\"StatusChange\"].iloc[0] = False"
   ]
  },
  {
   "cell_type": "code",
   "execution_count": 1890,
   "metadata": {},
   "outputs": [],
   "source": [
    "CamdenT[\"TenantChange\"] =  CamdenT['name'].shift(-1) != CamdenT['name'] "
   ]
  },
  {
   "cell_type": "code",
   "execution_count": 1891,
   "metadata": {},
   "outputs": [],
   "source": [
    "CamdenT[\"TenantChange\"].iloc[0] = False"
   ]
  },
  {
   "cell_type": "code",
   "execution_count": 1892,
   "metadata": {},
   "outputs": [],
   "source": [
    "counter = 0 \n",
    "stoppingCondition = len(locations)\n",
    "CamdenT2 = pd.DataFrame(data=None, columns=CamdenT.columns, index=None)\n",
    "\n",
    "while counter < stoppingCondition:\n",
    "        i = locations[counter]\n",
    "        m = CamdenT.loc[i, :].iloc[[ CamdenT.loc[i, :]['status_duration'].argmax()]]\n",
    "        CamdenT2 = CamdenT2.append(m, ignore_index=False)\n",
    "        counter += 1"
   ]
  },
  {
   "cell_type": "code",
   "execution_count": 1893,
   "metadata": {},
   "outputs": [],
   "source": [
    "CamdenT3 = CamdenT2.drop_duplicates()"
   ]
  },
  {
   "cell_type": "code",
   "execution_count": 1894,
   "metadata": {},
   "outputs": [],
   "source": [
    "CamdenT3.loc[CamdenT3['time-at-open'] == 4018, ['vacant']] = 0"
   ]
  },
  {
   "cell_type": "code",
   "execution_count": 1895,
   "metadata": {},
   "outputs": [],
   "source": [
    "CamdenT3['highstreet'] = 'CamdenT'"
   ]
  },
  {
   "cell_type": "code",
   "execution_count": 1896,
   "metadata": {},
   "outputs": [],
   "source": [
    "CamdenT3.to_csv('CamdenT-vacant-survival.csv')"
   ]
  },
  {
   "cell_type": "markdown",
   "metadata": {},
   "source": [
    "#### 5. Belsize"
   ]
  },
  {
   "cell_type": "code",
   "execution_count": 1897,
   "metadata": {},
   "outputs": [],
   "source": [
    "Belsize = Belsize.sort_values(by= ['status_date'])"
   ]
  },
  {
   "cell_type": "code",
   "execution_count": 1898,
   "metadata": {},
   "outputs": [],
   "source": [
    "cols = ['V3', 'V4', 'V5', 'V13', 'V14', 'V15', 'V16', 'V17', 'V19', 'V20', 'V21', 'V26', 'V28', 'V30', 'V36', 'V38', 'V39', 'V48', 'V51', 'V54', 'V55', 'V56', 'V57', \n",
    "        'V58', 'V59', 'V60', 'V64', 'V70', 'V72', 'V77']"
   ]
  },
  {
   "cell_type": "code",
   "execution_count": 1899,
   "metadata": {},
   "outputs": [],
   "source": [
    "#deleted those cols columns from the dataset as they only contain nulls\n",
    "\n",
    "Belsize = Belsize.drop(cols, axis=1)"
   ]
  },
  {
   "cell_type": "code",
   "execution_count": 1900,
   "metadata": {},
   "outputs": [],
   "source": [
    "Belsize['new_date'] = pd.to_datetime(Belsize['status_date'], errors='coerce')"
   ]
  },
  {
   "cell_type": "code",
   "execution_count": 1901,
   "metadata": {},
   "outputs": [],
   "source": [
    "Belsize = Belsize.sort_values(by= ['new_date'])"
   ]
  },
  {
   "cell_type": "code",
   "execution_count": 1902,
   "metadata": {},
   "outputs": [],
   "source": [
    "Belsize['new_date'].loc[(Belsize['new_date'] < '2010-04-01')] = '2010-04-01'"
   ]
  },
  {
   "cell_type": "code",
   "execution_count": 1903,
   "metadata": {},
   "outputs": [],
   "source": [
    "Belsize = Belsize.sort_values(by= ['location_code', 'period'])"
   ]
  },
  {
   "cell_type": "code",
   "execution_count": 1904,
   "metadata": {},
   "outputs": [],
   "source": [
    "Belsize['locaton_code'] = Belsize['location_code'].astype(\"category\")"
   ]
  },
  {
   "cell_type": "code",
   "execution_count": 1905,
   "metadata": {},
   "outputs": [],
   "source": [
    "locations = Belsize['location_code'].unique()"
   ]
  },
  {
   "cell_type": "code",
   "execution_count": 1906,
   "metadata": {},
   "outputs": [],
   "source": [
    "Belsize.loc[Belsize['name'].isnull(), 'name'] = Belsize['location_code']"
   ]
  },
  {
   "cell_type": "code",
   "execution_count": 1907,
   "metadata": {},
   "outputs": [],
   "source": [
    "Belsize['status_date'] = pd.to_datetime(Belsize['status_date'], errors='coerce')"
   ]
  },
  {
   "cell_type": "code",
   "execution_count": 1908,
   "metadata": {},
   "outputs": [],
   "source": [
    "Belsize['status_date'].iloc[Belsize['status_date'] < '2010-04-01'] = '04/01/2010'"
   ]
  },
  {
   "cell_type": "code",
   "execution_count": 1909,
   "metadata": {},
   "outputs": [],
   "source": [
    "Belsize['status_date'] = pd.to_datetime(Belsize['status_date'], errors='coerce')"
   ]
  },
  {
   "cell_type": "code",
   "execution_count": 1910,
   "metadata": {},
   "outputs": [],
   "source": [
    "Belsize['period2'] = pd.to_datetime(Belsize['period'])"
   ]
  },
  {
   "cell_type": "code",
   "execution_count": 1911,
   "metadata": {},
   "outputs": [],
   "source": [
    "Belsize['period2'] = Belsize['period2'] + pd.DateOffset(months=1)"
   ]
  },
  {
   "cell_type": "code",
   "execution_count": 1912,
   "metadata": {},
   "outputs": [],
   "source": [
    "Belsize['duration'] = Belsize['period2'] - Belsize['status_date']"
   ]
  },
  {
   "cell_type": "code",
   "execution_count": 1913,
   "metadata": {},
   "outputs": [],
   "source": [
    "Belsize['duration'] = Belsize['duration'].dt.days"
   ]
  },
  {
   "cell_type": "code",
   "execution_count": 1914,
   "metadata": {},
   "outputs": [],
   "source": [
    "Belsize['study-start'] = '04/01/2010'"
   ]
  },
  {
   "cell_type": "code",
   "execution_count": 1915,
   "metadata": {},
   "outputs": [],
   "source": [
    "Belsize['study-start'] = pd.to_datetime(Belsize['study-start'], errors='coerce')"
   ]
  },
  {
   "cell_type": "code",
   "execution_count": 1916,
   "metadata": {},
   "outputs": [],
   "source": [
    "Belsize['time-of-entry'] = Belsize['status_date'] -  Belsize['study-start']"
   ]
  },
  {
   "cell_type": "code",
   "execution_count": 1917,
   "metadata": {},
   "outputs": [],
   "source": [
    "Belsize['time-at-open'] = 0"
   ]
  },
  {
   "cell_type": "code",
   "execution_count": 1918,
   "metadata": {},
   "outputs": [],
   "source": [
    "Belsize['vacant'] = 1"
   ]
  },
  {
   "cell_type": "code",
   "execution_count": 1919,
   "metadata": {},
   "outputs": [],
   "source": [
    "Belsize = Belsize.drop(Belsize[(Belsize['status'] == True)].index)"
   ]
  },
  {
   "cell_type": "code",
   "execution_count": 1920,
   "metadata": {},
   "outputs": [],
   "source": [
    "Belsize['location_code'] = Belsize['location_code'].astype(\"category\")"
   ]
  },
  {
   "cell_type": "code",
   "execution_count": 1921,
   "metadata": {},
   "outputs": [],
   "source": [
    "locations = list(Belsize['location_code'].unique())"
   ]
  },
  {
   "cell_type": "code",
   "execution_count": 1922,
   "metadata": {},
   "outputs": [],
   "source": [
    "Belsize = Belsize.set_index('location_code')"
   ]
  },
  {
   "cell_type": "code",
   "execution_count": 1923,
   "metadata": {},
   "outputs": [],
   "source": [
    "Belsize['survival'] = 0"
   ]
  },
  {
   "cell_type": "code",
   "execution_count": 1924,
   "metadata": {},
   "outputs": [],
   "source": [
    "Belsize['survival'] = Belsize['duration']"
   ]
  },
  {
   "cell_type": "code",
   "execution_count": 1925,
   "metadata": {},
   "outputs": [],
   "source": [
    "Belsize['entry'] = Belsize['time-of-entry'].dt.days"
   ]
  },
  {
   "cell_type": "code",
   "execution_count": 1926,
   "metadata": {},
   "outputs": [],
   "source": [
    "Belsize['time-at-open'] = Belsize['survival'] + Belsize['entry']"
   ]
  },
  {
   "cell_type": "code",
   "execution_count": 1927,
   "metadata": {},
   "outputs": [],
   "source": [
    "Belsize['stat'] = Belsize['status'].astype(int)"
   ]
  },
  {
   "cell_type": "code",
   "execution_count": 1928,
   "metadata": {},
   "outputs": [],
   "source": [
    "Belsize[\"StatusChange\"] =  Belsize['stat'].shift() != Belsize['stat']"
   ]
  },
  {
   "cell_type": "code",
   "execution_count": 1929,
   "metadata": {},
   "outputs": [
    {
     "name": "stderr",
     "output_type": "stream",
     "text": [
      "/opt/conda/envs/sds2020/lib/python3.7/site-packages/pandas/core/indexing.py:670: SettingWithCopyWarning: \n",
      "A value is trying to be set on a copy of a slice from a DataFrame\n",
      "\n",
      "See the caveats in the documentation: https://pandas.pydata.org/pandas-docs/stable/user_guide/indexing.html#returning-a-view-versus-a-copy\n",
      "  iloc._setitem_with_indexer(indexer, value)\n"
     ]
    }
   ],
   "source": [
    "Belsize[\"StatusChange\"].iloc[0] = False"
   ]
  },
  {
   "cell_type": "code",
   "execution_count": 1930,
   "metadata": {},
   "outputs": [],
   "source": [
    "Belsize[\"TenantChange\"] =  Belsize['name'].shift(-1) != Belsize['name'] "
   ]
  },
  {
   "cell_type": "code",
   "execution_count": 1931,
   "metadata": {},
   "outputs": [],
   "source": [
    "Belsize[\"TenantChange\"].iloc[0] = False"
   ]
  },
  {
   "cell_type": "code",
   "execution_count": 1932,
   "metadata": {},
   "outputs": [],
   "source": [
    "counter = 0 \n",
    "stoppingCondition = len(locations)\n",
    "Belsize2 = pd.DataFrame(data=None, columns=Belsize.columns, index=None)\n",
    "\n",
    "while counter < stoppingCondition:\n",
    "        i = locations[counter]\n",
    "        m = Belsize.loc[i, :].iloc[[ Belsize.loc[i, :]['status_duration'].argmax()]]\n",
    "        Belsize2 = Belsize2.append(m, ignore_index=False)\n",
    "        counter += 1"
   ]
  },
  {
   "cell_type": "code",
   "execution_count": 1933,
   "metadata": {},
   "outputs": [],
   "source": [
    "Belsize3 = Belsize2.drop_duplicates()"
   ]
  },
  {
   "cell_type": "code",
   "execution_count": 1934,
   "metadata": {},
   "outputs": [],
   "source": [
    "Belsize3.loc[Belsize3['time-at-open'] == 4018, ['vacant']] = 0"
   ]
  },
  {
   "cell_type": "code",
   "execution_count": 1935,
   "metadata": {},
   "outputs": [],
   "source": [
    "Belsize3['highstreet'] = 'Belsize'"
   ]
  },
  {
   "cell_type": "code",
   "execution_count": 1936,
   "metadata": {},
   "outputs": [],
   "source": [
    "Belsize3.to_csv('Belsize-vacant-survival.csv')"
   ]
  },
  {
   "cell_type": "markdown",
   "metadata": {},
   "source": [
    "#### 6. Loudoun"
   ]
  },
  {
   "cell_type": "code",
   "execution_count": 1937,
   "metadata": {},
   "outputs": [],
   "source": [
    "Loudoun = Loudoun.sort_values(by= ['status_date'])"
   ]
  },
  {
   "cell_type": "code",
   "execution_count": 1938,
   "metadata": {},
   "outputs": [],
   "source": [
    "cols = ['V3', 'V4', 'V5', 'V13', 'V14', 'V15', 'V16', 'V17', 'V19', 'V20', 'V21', 'V26', 'V28', 'V30', 'V36', 'V38', 'V39', 'V48', 'V51', 'V54', 'V55', 'V56', 'V57', \n",
    "        'V58', 'V59', 'V60', 'V64', 'V70', 'V72', 'V77']"
   ]
  },
  {
   "cell_type": "code",
   "execution_count": 1939,
   "metadata": {},
   "outputs": [],
   "source": [
    "#deleted those cols columns from the dataset as they only contain nulls\n",
    "\n",
    "Loudoun = Loudoun.drop(cols, axis=1)"
   ]
  },
  {
   "cell_type": "code",
   "execution_count": 1940,
   "metadata": {},
   "outputs": [],
   "source": [
    "Loudoun['new_date'] = pd.to_datetime(Loudoun['status_date'], errors='coerce')"
   ]
  },
  {
   "cell_type": "code",
   "execution_count": 1941,
   "metadata": {},
   "outputs": [],
   "source": [
    "Loudoun = Loudoun.sort_values(by= ['new_date'])"
   ]
  },
  {
   "cell_type": "code",
   "execution_count": 1942,
   "metadata": {},
   "outputs": [],
   "source": [
    "Loudoun['new_date'].loc[(Loudoun['new_date'] < '2010-04-01')] = '2010-04-01'"
   ]
  },
  {
   "cell_type": "code",
   "execution_count": 1943,
   "metadata": {},
   "outputs": [],
   "source": [
    "Loudoun = Loudoun.sort_values(by= ['location_code', 'period'])"
   ]
  },
  {
   "cell_type": "code",
   "execution_count": 1944,
   "metadata": {},
   "outputs": [],
   "source": [
    "Loudoun['locaton_code'] = Loudoun['location_code'].astype(\"category\")"
   ]
  },
  {
   "cell_type": "code",
   "execution_count": 1945,
   "metadata": {},
   "outputs": [],
   "source": [
    "locations = Loudoun['location_code'].unique()"
   ]
  },
  {
   "cell_type": "code",
   "execution_count": 1946,
   "metadata": {},
   "outputs": [],
   "source": [
    "Loudoun.loc[Loudoun['name'].isnull(), 'name'] = Loudoun['location_code']"
   ]
  },
  {
   "cell_type": "code",
   "execution_count": 1947,
   "metadata": {},
   "outputs": [],
   "source": [
    "Loudoun['status_date'] = pd.to_datetime(Loudoun['status_date'], errors='coerce')"
   ]
  },
  {
   "cell_type": "code",
   "execution_count": 1948,
   "metadata": {},
   "outputs": [],
   "source": [
    "Loudoun['status_date'].iloc[Loudoun['status_date'] < '2010-04-01'] = '04/01/2010'"
   ]
  },
  {
   "cell_type": "code",
   "execution_count": 1949,
   "metadata": {},
   "outputs": [],
   "source": [
    "Loudoun['status_date'] = pd.to_datetime(Loudoun['status_date'], errors='coerce')"
   ]
  },
  {
   "cell_type": "code",
   "execution_count": 1950,
   "metadata": {},
   "outputs": [],
   "source": [
    "Loudoun['period2'] = pd.to_datetime(Loudoun['period'])"
   ]
  },
  {
   "cell_type": "code",
   "execution_count": 1951,
   "metadata": {},
   "outputs": [],
   "source": [
    "Loudoun['period2'] = Loudoun['period2'] + pd.DateOffset(months=1)"
   ]
  },
  {
   "cell_type": "code",
   "execution_count": 1952,
   "metadata": {},
   "outputs": [],
   "source": [
    "Loudoun['duration'] = Loudoun['period2'] - Loudoun['status_date']"
   ]
  },
  {
   "cell_type": "code",
   "execution_count": 1953,
   "metadata": {},
   "outputs": [],
   "source": [
    "Loudoun['duration'] = Loudoun['duration'].dt.days"
   ]
  },
  {
   "cell_type": "code",
   "execution_count": 1954,
   "metadata": {},
   "outputs": [],
   "source": [
    "Loudoun['study-start'] = '04/01/2010'"
   ]
  },
  {
   "cell_type": "code",
   "execution_count": 1955,
   "metadata": {},
   "outputs": [],
   "source": [
    "Loudoun['study-start'] = pd.to_datetime(Loudoun['study-start'], errors='coerce')"
   ]
  },
  {
   "cell_type": "code",
   "execution_count": 1956,
   "metadata": {},
   "outputs": [],
   "source": [
    "Loudoun['time-of-entry'] = Loudoun['status_date'] -  Loudoun['study-start']"
   ]
  },
  {
   "cell_type": "code",
   "execution_count": 1957,
   "metadata": {},
   "outputs": [],
   "source": [
    "Loudoun['time-at-open'] = 0"
   ]
  },
  {
   "cell_type": "code",
   "execution_count": 1958,
   "metadata": {},
   "outputs": [],
   "source": [
    "Loudoun['vacant'] = 1"
   ]
  },
  {
   "cell_type": "code",
   "execution_count": 1959,
   "metadata": {},
   "outputs": [],
   "source": [
    "Loudoun = Loudoun.drop(Loudoun[(Loudoun['status'] == True)].index)"
   ]
  },
  {
   "cell_type": "code",
   "execution_count": 1960,
   "metadata": {},
   "outputs": [],
   "source": [
    "Loudoun['location_code'] = Loudoun['location_code'].astype(\"category\")"
   ]
  },
  {
   "cell_type": "code",
   "execution_count": 1961,
   "metadata": {},
   "outputs": [],
   "source": [
    "locations = list(Loudoun['location_code'].unique())"
   ]
  },
  {
   "cell_type": "code",
   "execution_count": 1962,
   "metadata": {},
   "outputs": [],
   "source": [
    "Loudoun = Loudoun.set_index('location_code')"
   ]
  },
  {
   "cell_type": "code",
   "execution_count": 1963,
   "metadata": {},
   "outputs": [],
   "source": [
    "Loudoun['survival'] = 0"
   ]
  },
  {
   "cell_type": "code",
   "execution_count": 1964,
   "metadata": {},
   "outputs": [],
   "source": [
    "Loudoun['survival'] = Loudoun['duration']"
   ]
  },
  {
   "cell_type": "code",
   "execution_count": 1965,
   "metadata": {},
   "outputs": [],
   "source": [
    "Loudoun['entry'] = Loudoun['time-of-entry'].dt.days"
   ]
  },
  {
   "cell_type": "code",
   "execution_count": 1966,
   "metadata": {},
   "outputs": [],
   "source": [
    "Loudoun['time-at-open'] = Loudoun['survival'] + Loudoun['entry']"
   ]
  },
  {
   "cell_type": "code",
   "execution_count": 1967,
   "metadata": {},
   "outputs": [],
   "source": [
    "Loudoun['stat'] = Loudoun['status'].astype(int)"
   ]
  },
  {
   "cell_type": "code",
   "execution_count": 1968,
   "metadata": {},
   "outputs": [],
   "source": [
    "Loudoun[\"StatusChange\"] =  Loudoun['stat'].shift() != Loudoun['stat']"
   ]
  },
  {
   "cell_type": "code",
   "execution_count": 1969,
   "metadata": {},
   "outputs": [
    {
     "name": "stderr",
     "output_type": "stream",
     "text": [
      "/opt/conda/envs/sds2020/lib/python3.7/site-packages/pandas/core/indexing.py:670: SettingWithCopyWarning: \n",
      "A value is trying to be set on a copy of a slice from a DataFrame\n",
      "\n",
      "See the caveats in the documentation: https://pandas.pydata.org/pandas-docs/stable/user_guide/indexing.html#returning-a-view-versus-a-copy\n",
      "  iloc._setitem_with_indexer(indexer, value)\n"
     ]
    }
   ],
   "source": [
    "Loudoun[\"StatusChange\"].iloc[0] = False"
   ]
  },
  {
   "cell_type": "code",
   "execution_count": 1970,
   "metadata": {},
   "outputs": [],
   "source": [
    "Loudoun[\"TenantChange\"] =  Loudoun['name'].shift(-1) != Loudoun['name'] "
   ]
  },
  {
   "cell_type": "code",
   "execution_count": 1971,
   "metadata": {},
   "outputs": [],
   "source": [
    "Loudoun[\"TenantChange\"].iloc[0] = False"
   ]
  },
  {
   "cell_type": "code",
   "execution_count": 1972,
   "metadata": {},
   "outputs": [],
   "source": [
    "counter = 0 \n",
    "stoppingCondition = len(locations)\n",
    "Loudoun2 = pd.DataFrame(data=None, columns=Loudoun.columns, index=None)\n",
    "\n",
    "while counter < stoppingCondition:\n",
    "        i = locations[counter]\n",
    "        m = Loudoun.loc[i, :].iloc[[ Loudoun.loc[i, :]['status_duration'].argmax()]]\n",
    "        Loudoun2 = Loudoun2.append(m, ignore_index=False)\n",
    "        counter += 1"
   ]
  },
  {
   "cell_type": "code",
   "execution_count": 1973,
   "metadata": {},
   "outputs": [],
   "source": [
    "Loudoun3 = Loudoun2.drop_duplicates()"
   ]
  },
  {
   "cell_type": "code",
   "execution_count": 1974,
   "metadata": {},
   "outputs": [],
   "source": [
    "Loudoun3.loc[Loudoun3['time-at-open'] == 4018, ['vacant']] = 0"
   ]
  },
  {
   "cell_type": "code",
   "execution_count": 1975,
   "metadata": {},
   "outputs": [],
   "source": [
    "Loudoun3['highstreet'] = 'Loudoun'"
   ]
  },
  {
   "cell_type": "code",
   "execution_count": 1976,
   "metadata": {},
   "outputs": [],
   "source": [
    "Loudoun3.to_csv('Loudoun-vacant-survival.csv')"
   ]
  },
  {
   "cell_type": "markdown",
   "metadata": {},
   "source": [
    "#### 7. Haverstock"
   ]
  },
  {
   "cell_type": "code",
   "execution_count": 1977,
   "metadata": {},
   "outputs": [],
   "source": [
    "Haverstock = Haverstock.sort_values(by= ['status_date'])"
   ]
  },
  {
   "cell_type": "code",
   "execution_count": 1978,
   "metadata": {},
   "outputs": [],
   "source": [
    "cols = ['V3', 'V4', 'V5', 'V13', 'V14', 'V15', 'V16', 'V17', 'V19', 'V20', 'V21', 'V26', 'V28', 'V30', 'V36', 'V38', 'V39', 'V48', 'V51', 'V54', 'V55', 'V56', 'V57', \n",
    "        'V58', 'V59', 'V60', 'V64', 'V70', 'V72', 'V77']"
   ]
  },
  {
   "cell_type": "code",
   "execution_count": 1979,
   "metadata": {},
   "outputs": [],
   "source": [
    "#deleted those cols columns from the dataset as they only contain nulls\n",
    "\n",
    "Haverstock = Haverstock.drop(cols, axis=1)"
   ]
  },
  {
   "cell_type": "code",
   "execution_count": 1980,
   "metadata": {},
   "outputs": [],
   "source": [
    "Haverstock['new_date'] = pd.to_datetime(Haverstock['status_date'], errors='coerce')"
   ]
  },
  {
   "cell_type": "code",
   "execution_count": 1981,
   "metadata": {},
   "outputs": [],
   "source": [
    "Haverstock = Haverstock.sort_values(by= ['new_date'])"
   ]
  },
  {
   "cell_type": "code",
   "execution_count": 1982,
   "metadata": {},
   "outputs": [],
   "source": [
    "Haverstock['new_date'].loc[(Haverstock['new_date'] < '2010-04-01')] = '2010-04-01'"
   ]
  },
  {
   "cell_type": "code",
   "execution_count": 1983,
   "metadata": {},
   "outputs": [],
   "source": [
    "Haverstock = Haverstock.sort_values(by= ['location_code', 'period'])"
   ]
  },
  {
   "cell_type": "code",
   "execution_count": 1984,
   "metadata": {},
   "outputs": [],
   "source": [
    "Haverstock['locaton_code'] = Haverstock['location_code'].astype(\"category\")"
   ]
  },
  {
   "cell_type": "code",
   "execution_count": 1985,
   "metadata": {},
   "outputs": [],
   "source": [
    "locations = Haverstock['location_code'].unique()"
   ]
  },
  {
   "cell_type": "code",
   "execution_count": 1986,
   "metadata": {},
   "outputs": [],
   "source": [
    "Haverstock.loc[Haverstock['name'].isnull(), 'name'] = Haverstock['location_code']"
   ]
  },
  {
   "cell_type": "code",
   "execution_count": 1987,
   "metadata": {},
   "outputs": [],
   "source": [
    "Haverstock['status_date'] = pd.to_datetime(Haverstock['status_date'], errors='coerce')"
   ]
  },
  {
   "cell_type": "code",
   "execution_count": 1988,
   "metadata": {},
   "outputs": [],
   "source": [
    "Haverstock['status_date'].iloc[Haverstock['status_date'] < '2010-04-01'] = '04/01/2010'"
   ]
  },
  {
   "cell_type": "code",
   "execution_count": 1989,
   "metadata": {},
   "outputs": [],
   "source": [
    "Haverstock['status_date'] = pd.to_datetime(Haverstock['status_date'], errors='coerce')"
   ]
  },
  {
   "cell_type": "code",
   "execution_count": 1990,
   "metadata": {},
   "outputs": [],
   "source": [
    "Haverstock['period2'] = pd.to_datetime(Haverstock['period'])"
   ]
  },
  {
   "cell_type": "code",
   "execution_count": 1991,
   "metadata": {},
   "outputs": [],
   "source": [
    "Haverstock['period2'] = Haverstock['period2'] + pd.DateOffset(months=1)"
   ]
  },
  {
   "cell_type": "code",
   "execution_count": 1992,
   "metadata": {},
   "outputs": [],
   "source": [
    "Haverstock['duration'] = Haverstock['period2'] - Haverstock['status_date']"
   ]
  },
  {
   "cell_type": "code",
   "execution_count": 1993,
   "metadata": {},
   "outputs": [],
   "source": [
    "Haverstock['duration'] = Haverstock['duration'].dt.days"
   ]
  },
  {
   "cell_type": "code",
   "execution_count": 1994,
   "metadata": {},
   "outputs": [],
   "source": [
    "Haverstock['study-start'] = '04/01/2010'"
   ]
  },
  {
   "cell_type": "code",
   "execution_count": 1995,
   "metadata": {},
   "outputs": [],
   "source": [
    "Haverstock['study-start'] = pd.to_datetime(Haverstock['study-start'], errors='coerce')"
   ]
  },
  {
   "cell_type": "code",
   "execution_count": 1996,
   "metadata": {},
   "outputs": [],
   "source": [
    "Haverstock['time-of-entry'] = Haverstock['status_date'] -  Haverstock['study-start']"
   ]
  },
  {
   "cell_type": "code",
   "execution_count": 1997,
   "metadata": {},
   "outputs": [],
   "source": [
    "Haverstock['time-at-open'] = 0"
   ]
  },
  {
   "cell_type": "code",
   "execution_count": 1998,
   "metadata": {},
   "outputs": [],
   "source": [
    "Haverstock['vacant'] = 1"
   ]
  },
  {
   "cell_type": "code",
   "execution_count": 1999,
   "metadata": {},
   "outputs": [],
   "source": [
    "Haverstock = Haverstock.drop(Haverstock[(Haverstock['status'] == True)].index)"
   ]
  },
  {
   "cell_type": "code",
   "execution_count": 2000,
   "metadata": {},
   "outputs": [],
   "source": [
    "Haverstock['location_code'] = Haverstock['location_code'].astype(\"category\")"
   ]
  },
  {
   "cell_type": "code",
   "execution_count": 2001,
   "metadata": {},
   "outputs": [],
   "source": [
    "locations = list(Haverstock['location_code'].unique())"
   ]
  },
  {
   "cell_type": "code",
   "execution_count": 2002,
   "metadata": {},
   "outputs": [],
   "source": [
    "Haverstock = Haverstock.set_index('location_code')"
   ]
  },
  {
   "cell_type": "code",
   "execution_count": 2003,
   "metadata": {},
   "outputs": [],
   "source": [
    "Haverstock['survival'] = 0"
   ]
  },
  {
   "cell_type": "code",
   "execution_count": 2004,
   "metadata": {},
   "outputs": [],
   "source": [
    "Haverstock['survival'] = Haverstock['duration']"
   ]
  },
  {
   "cell_type": "code",
   "execution_count": 2005,
   "metadata": {},
   "outputs": [],
   "source": [
    "Haverstock['entry'] = Haverstock['time-of-entry'].dt.days"
   ]
  },
  {
   "cell_type": "code",
   "execution_count": 2006,
   "metadata": {},
   "outputs": [],
   "source": [
    "Haverstock['time-at-open'] = Haverstock['survival'] + Haverstock['entry']"
   ]
  },
  {
   "cell_type": "code",
   "execution_count": 2007,
   "metadata": {},
   "outputs": [],
   "source": [
    "Haverstock['stat'] = Haverstock['status'].astype(int)"
   ]
  },
  {
   "cell_type": "code",
   "execution_count": 2008,
   "metadata": {},
   "outputs": [],
   "source": [
    "Haverstock[\"StatusChange\"] =  Haverstock['stat'].shift() != Haverstock['stat']"
   ]
  },
  {
   "cell_type": "code",
   "execution_count": 2009,
   "metadata": {},
   "outputs": [
    {
     "name": "stderr",
     "output_type": "stream",
     "text": [
      "/opt/conda/envs/sds2020/lib/python3.7/site-packages/pandas/core/indexing.py:670: SettingWithCopyWarning: \n",
      "A value is trying to be set on a copy of a slice from a DataFrame\n",
      "\n",
      "See the caveats in the documentation: https://pandas.pydata.org/pandas-docs/stable/user_guide/indexing.html#returning-a-view-versus-a-copy\n",
      "  iloc._setitem_with_indexer(indexer, value)\n"
     ]
    }
   ],
   "source": [
    "Haverstock[\"StatusChange\"].iloc[0] = False"
   ]
  },
  {
   "cell_type": "code",
   "execution_count": 2010,
   "metadata": {},
   "outputs": [],
   "source": [
    "Haverstock[\"TenantChange\"] =  Haverstock['name'].shift(-1) != Haverstock['name'] "
   ]
  },
  {
   "cell_type": "code",
   "execution_count": 2011,
   "metadata": {},
   "outputs": [],
   "source": [
    "Haverstock[\"TenantChange\"].iloc[0] = False"
   ]
  },
  {
   "cell_type": "code",
   "execution_count": 2012,
   "metadata": {},
   "outputs": [],
   "source": [
    "counter = 0 \n",
    "stoppingCondition = len(locations)\n",
    "Haverstock2 = pd.DataFrame(data=None, columns=Haverstock.columns, index=None)\n",
    "\n",
    "while counter < stoppingCondition:\n",
    "        i = locations[counter]\n",
    "        m = Haverstock.loc[i, :].iloc[[ Haverstock.loc[i, :]['status_duration'].argmax()]]\n",
    "        Haverstock2 = Haverstock2.append(m, ignore_index=False)\n",
    "        counter += 1"
   ]
  },
  {
   "cell_type": "code",
   "execution_count": 2013,
   "metadata": {},
   "outputs": [],
   "source": [
    "Haverstock3 = Haverstock2.drop_duplicates()"
   ]
  },
  {
   "cell_type": "code",
   "execution_count": 2014,
   "metadata": {},
   "outputs": [],
   "source": [
    "Haverstock3.loc[Haverstock3['time-at-open'] == 4018, ['vacant']] = 0"
   ]
  },
  {
   "cell_type": "code",
   "execution_count": 2015,
   "metadata": {},
   "outputs": [],
   "source": [
    "Haverstock3['highstreet'] = 'Haverstock'"
   ]
  },
  {
   "cell_type": "code",
   "execution_count": 2016,
   "metadata": {},
   "outputs": [],
   "source": [
    "Haverstock3.to_csv('Haverstock-vacant-survival.csv')"
   ]
  },
  {
   "cell_type": "markdown",
   "metadata": {},
   "source": [
    "#### 8. SouthEnd"
   ]
  },
  {
   "cell_type": "code",
   "execution_count": 2017,
   "metadata": {},
   "outputs": [],
   "source": [
    "SouthEnd = SouthEnd.sort_values(by= ['status_date'])"
   ]
  },
  {
   "cell_type": "code",
   "execution_count": 2018,
   "metadata": {},
   "outputs": [],
   "source": [
    "cols = ['V3', 'V4', 'V5', 'V13', 'V14', 'V15', 'V16', 'V17', 'V19', 'V20', 'V21', 'V26', 'V28', 'V30', 'V36', 'V38', 'V39', 'V48', 'V51', 'V54', 'V55', 'V56', 'V57', \n",
    "        'V58', 'V59', 'V60', 'V64', 'V70', 'V72', 'V77']"
   ]
  },
  {
   "cell_type": "code",
   "execution_count": 2019,
   "metadata": {},
   "outputs": [],
   "source": [
    "#deleted those cols columns from the dataset as they only contain nulls\n",
    "\n",
    "SouthEnd = SouthEnd.drop(cols, axis=1)"
   ]
  },
  {
   "cell_type": "code",
   "execution_count": 2020,
   "metadata": {},
   "outputs": [],
   "source": [
    "SouthEnd['new_date'] = pd.to_datetime(SouthEnd['status_date'], errors='coerce')"
   ]
  },
  {
   "cell_type": "code",
   "execution_count": 2021,
   "metadata": {},
   "outputs": [],
   "source": [
    "SouthEnd = SouthEnd.sort_values(by= ['new_date'])"
   ]
  },
  {
   "cell_type": "code",
   "execution_count": 2022,
   "metadata": {},
   "outputs": [],
   "source": [
    "SouthEnd['new_date'].loc[(SouthEnd['new_date'] < '2010-04-01')] = '2010-04-01'"
   ]
  },
  {
   "cell_type": "code",
   "execution_count": 2023,
   "metadata": {},
   "outputs": [],
   "source": [
    "SouthEnd = SouthEnd.sort_values(by= ['location_code', 'period'])"
   ]
  },
  {
   "cell_type": "code",
   "execution_count": 2024,
   "metadata": {},
   "outputs": [],
   "source": [
    "SouthEnd['locaton_code'] = SouthEnd['location_code'].astype(\"category\")"
   ]
  },
  {
   "cell_type": "code",
   "execution_count": 2025,
   "metadata": {},
   "outputs": [],
   "source": [
    "locations = SouthEnd['location_code'].unique()"
   ]
  },
  {
   "cell_type": "code",
   "execution_count": 2026,
   "metadata": {},
   "outputs": [],
   "source": [
    "SouthEnd.loc[SouthEnd['name'].isnull(), 'name'] = SouthEnd['location_code']"
   ]
  },
  {
   "cell_type": "code",
   "execution_count": 2027,
   "metadata": {},
   "outputs": [],
   "source": [
    "SouthEnd['status_date'] = pd.to_datetime(SouthEnd['status_date'], errors='coerce')"
   ]
  },
  {
   "cell_type": "code",
   "execution_count": 2028,
   "metadata": {},
   "outputs": [],
   "source": [
    "SouthEnd['status_date'].iloc[SouthEnd['status_date'] < '2010-04-01'] = '04/01/2010'"
   ]
  },
  {
   "cell_type": "code",
   "execution_count": 2029,
   "metadata": {},
   "outputs": [],
   "source": [
    "SouthEnd['status_date'] = pd.to_datetime(SouthEnd['status_date'], errors='coerce')"
   ]
  },
  {
   "cell_type": "code",
   "execution_count": 2030,
   "metadata": {},
   "outputs": [],
   "source": [
    "SouthEnd['period2'] = pd.to_datetime(SouthEnd['period'])"
   ]
  },
  {
   "cell_type": "code",
   "execution_count": 2031,
   "metadata": {},
   "outputs": [],
   "source": [
    "SouthEnd['period2'] = SouthEnd['period2'] + pd.DateOffset(months=1)"
   ]
  },
  {
   "cell_type": "code",
   "execution_count": 2032,
   "metadata": {},
   "outputs": [],
   "source": [
    "SouthEnd['duration'] = SouthEnd['period2'] - SouthEnd['status_date']"
   ]
  },
  {
   "cell_type": "code",
   "execution_count": 2033,
   "metadata": {},
   "outputs": [],
   "source": [
    "SouthEnd['duration'] = SouthEnd['duration'].dt.days"
   ]
  },
  {
   "cell_type": "code",
   "execution_count": 2034,
   "metadata": {},
   "outputs": [],
   "source": [
    "SouthEnd['study-start'] = '04/01/2010'"
   ]
  },
  {
   "cell_type": "code",
   "execution_count": 2035,
   "metadata": {},
   "outputs": [],
   "source": [
    "SouthEnd['study-start'] = pd.to_datetime(SouthEnd['study-start'], errors='coerce')"
   ]
  },
  {
   "cell_type": "code",
   "execution_count": 2036,
   "metadata": {},
   "outputs": [],
   "source": [
    "SouthEnd['time-of-entry'] = SouthEnd['status_date'] -  SouthEnd['study-start']"
   ]
  },
  {
   "cell_type": "code",
   "execution_count": 2037,
   "metadata": {},
   "outputs": [],
   "source": [
    "SouthEnd['time-at-open'] = 0"
   ]
  },
  {
   "cell_type": "code",
   "execution_count": 2038,
   "metadata": {},
   "outputs": [],
   "source": [
    "SouthEnd['vacant'] = 1"
   ]
  },
  {
   "cell_type": "code",
   "execution_count": 2039,
   "metadata": {},
   "outputs": [],
   "source": [
    "SouthEnd = SouthEnd.drop(SouthEnd[(SouthEnd['status'] == True)].index)"
   ]
  },
  {
   "cell_type": "code",
   "execution_count": 2040,
   "metadata": {},
   "outputs": [],
   "source": [
    "SouthEnd['location_code'] = SouthEnd['location_code'].astype(\"category\")"
   ]
  },
  {
   "cell_type": "code",
   "execution_count": 2041,
   "metadata": {},
   "outputs": [],
   "source": [
    "locations = list(SouthEnd['location_code'].unique())"
   ]
  },
  {
   "cell_type": "code",
   "execution_count": 2042,
   "metadata": {},
   "outputs": [],
   "source": [
    "SouthEnd = SouthEnd.set_index('location_code')"
   ]
  },
  {
   "cell_type": "code",
   "execution_count": 2043,
   "metadata": {},
   "outputs": [],
   "source": [
    "SouthEnd['survival'] = 0"
   ]
  },
  {
   "cell_type": "code",
   "execution_count": 2044,
   "metadata": {},
   "outputs": [],
   "source": [
    "SouthEnd['survival'] = SouthEnd['duration']"
   ]
  },
  {
   "cell_type": "code",
   "execution_count": 2045,
   "metadata": {},
   "outputs": [],
   "source": [
    "SouthEnd['entry'] = SouthEnd['time-of-entry'].dt.days"
   ]
  },
  {
   "cell_type": "code",
   "execution_count": 2046,
   "metadata": {},
   "outputs": [],
   "source": [
    "SouthEnd['time-at-open'] = SouthEnd['survival'] + SouthEnd['entry']"
   ]
  },
  {
   "cell_type": "code",
   "execution_count": 2047,
   "metadata": {},
   "outputs": [],
   "source": [
    "SouthEnd['stat'] = SouthEnd['status'].astype(int)"
   ]
  },
  {
   "cell_type": "code",
   "execution_count": 2048,
   "metadata": {},
   "outputs": [],
   "source": [
    "SouthEnd[\"StatusChange\"] =  SouthEnd['stat'].shift() != SouthEnd['stat']"
   ]
  },
  {
   "cell_type": "code",
   "execution_count": 2049,
   "metadata": {},
   "outputs": [
    {
     "name": "stderr",
     "output_type": "stream",
     "text": [
      "/opt/conda/envs/sds2020/lib/python3.7/site-packages/pandas/core/indexing.py:670: SettingWithCopyWarning: \n",
      "A value is trying to be set on a copy of a slice from a DataFrame\n",
      "\n",
      "See the caveats in the documentation: https://pandas.pydata.org/pandas-docs/stable/user_guide/indexing.html#returning-a-view-versus-a-copy\n",
      "  iloc._setitem_with_indexer(indexer, value)\n"
     ]
    }
   ],
   "source": [
    "SouthEnd[\"StatusChange\"].iloc[0] = False"
   ]
  },
  {
   "cell_type": "code",
   "execution_count": 2050,
   "metadata": {},
   "outputs": [],
   "source": [
    "SouthEnd[\"TenantChange\"] =  SouthEnd['name'].shift(-1) != SouthEnd['name'] "
   ]
  },
  {
   "cell_type": "code",
   "execution_count": 2051,
   "metadata": {},
   "outputs": [],
   "source": [
    "SouthEnd[\"TenantChange\"].iloc[0] = False"
   ]
  },
  {
   "cell_type": "code",
   "execution_count": 2052,
   "metadata": {},
   "outputs": [],
   "source": [
    "counter = 0 \n",
    "stoppingCondition = len(locations)\n",
    "SouthEnd2 = pd.DataFrame(data=None, columns=SouthEnd.columns, index=None)\n",
    "\n",
    "while counter < stoppingCondition:\n",
    "        i = locations[counter]\n",
    "        m = SouthEnd.loc[i, :].iloc[[ SouthEnd.loc[i, :]['status_duration'].argmax()]]\n",
    "        SouthEnd2 = SouthEnd2.append(m, ignore_index=False)\n",
    "        counter += 1"
   ]
  },
  {
   "cell_type": "code",
   "execution_count": 2053,
   "metadata": {},
   "outputs": [],
   "source": [
    "SouthEnd3 = SouthEnd2.drop_duplicates()"
   ]
  },
  {
   "cell_type": "code",
   "execution_count": 2054,
   "metadata": {},
   "outputs": [],
   "source": [
    "SouthEnd3.loc[SouthEnd3['time-at-open'] == 4018, ['vacant']] = 0"
   ]
  },
  {
   "cell_type": "code",
   "execution_count": 2055,
   "metadata": {},
   "outputs": [],
   "source": [
    "SouthEnd3['highstreet'] = 'SouthEnd'"
   ]
  },
  {
   "cell_type": "code",
   "execution_count": 2056,
   "metadata": {},
   "outputs": [],
   "source": [
    "SouthEnd3.to_csv('SouthEnd-vacant-survival.csv')"
   ]
  },
  {
   "cell_type": "markdown",
   "metadata": {},
   "source": [
    "#### 9. Cricklewood"
   ]
  },
  {
   "cell_type": "code",
   "execution_count": 2057,
   "metadata": {},
   "outputs": [],
   "source": [
    "Cricklewood = Cricklewood.sort_values(by= ['status_date'])"
   ]
  },
  {
   "cell_type": "code",
   "execution_count": 2058,
   "metadata": {},
   "outputs": [],
   "source": [
    "cols = ['V3', 'V4', 'V5', 'V13', 'V14', 'V15', 'V16', 'V17', 'V19', 'V20', 'V21', 'V26', 'V28', 'V30', 'V36', 'V38', 'V39', 'V48', 'V51', 'V54', 'V55', 'V56', 'V57', \n",
    "        'V58', 'V59', 'V60', 'V64', 'V70', 'V72', 'V77']"
   ]
  },
  {
   "cell_type": "code",
   "execution_count": 2059,
   "metadata": {},
   "outputs": [],
   "source": [
    "#deleted those cols columns from the dataset as they only contain nulls\n",
    "\n",
    "Cricklewood = Cricklewood.drop(cols, axis=1)"
   ]
  },
  {
   "cell_type": "code",
   "execution_count": 2060,
   "metadata": {},
   "outputs": [],
   "source": [
    "Cricklewood['new_date'] = pd.to_datetime(Cricklewood['status_date'], errors='coerce')"
   ]
  },
  {
   "cell_type": "code",
   "execution_count": 2061,
   "metadata": {},
   "outputs": [],
   "source": [
    "Cricklewood = Cricklewood.sort_values(by= ['new_date'])"
   ]
  },
  {
   "cell_type": "code",
   "execution_count": 2062,
   "metadata": {},
   "outputs": [],
   "source": [
    "Cricklewood['new_date'].loc[(Cricklewood['new_date'] < '2010-04-01')] = '2010-04-01'"
   ]
  },
  {
   "cell_type": "code",
   "execution_count": 2063,
   "metadata": {},
   "outputs": [],
   "source": [
    "Cricklewood = Cricklewood.sort_values(by= ['location_code', 'period'])"
   ]
  },
  {
   "cell_type": "code",
   "execution_count": 2064,
   "metadata": {},
   "outputs": [],
   "source": [
    "Cricklewood['locaton_code'] = Cricklewood['location_code'].astype(\"category\")"
   ]
  },
  {
   "cell_type": "code",
   "execution_count": 2065,
   "metadata": {},
   "outputs": [],
   "source": [
    "locations = Cricklewood['location_code'].unique()"
   ]
  },
  {
   "cell_type": "code",
   "execution_count": 2066,
   "metadata": {},
   "outputs": [],
   "source": [
    "Cricklewood.loc[Cricklewood['name'].isnull(), 'name'] = Cricklewood['location_code']"
   ]
  },
  {
   "cell_type": "code",
   "execution_count": 2067,
   "metadata": {},
   "outputs": [],
   "source": [
    "Cricklewood['status_date'] = pd.to_datetime(Cricklewood['status_date'], errors='coerce')"
   ]
  },
  {
   "cell_type": "code",
   "execution_count": 2068,
   "metadata": {},
   "outputs": [],
   "source": [
    "Cricklewood['status_date'].iloc[Cricklewood['status_date'] < '2010-04-01'] = '04/01/2010'"
   ]
  },
  {
   "cell_type": "code",
   "execution_count": 2069,
   "metadata": {},
   "outputs": [],
   "source": [
    "Cricklewood['status_date'] = pd.to_datetime(Cricklewood['status_date'], errors='coerce')"
   ]
  },
  {
   "cell_type": "code",
   "execution_count": 2070,
   "metadata": {},
   "outputs": [],
   "source": [
    "Cricklewood['period2'] = pd.to_datetime(Cricklewood['period'])"
   ]
  },
  {
   "cell_type": "code",
   "execution_count": 2071,
   "metadata": {},
   "outputs": [],
   "source": [
    "Cricklewood['period2'] = Cricklewood['period2'] + pd.DateOffset(months=1)"
   ]
  },
  {
   "cell_type": "code",
   "execution_count": 2072,
   "metadata": {},
   "outputs": [],
   "source": [
    "Cricklewood['duration'] = Cricklewood['period2'] - Cricklewood['status_date']"
   ]
  },
  {
   "cell_type": "code",
   "execution_count": 2073,
   "metadata": {},
   "outputs": [],
   "source": [
    "Cricklewood['duration'] = Cricklewood['duration'].dt.days"
   ]
  },
  {
   "cell_type": "code",
   "execution_count": 2074,
   "metadata": {},
   "outputs": [],
   "source": [
    "Cricklewood['study-start'] = '04/01/2010'"
   ]
  },
  {
   "cell_type": "code",
   "execution_count": 2075,
   "metadata": {},
   "outputs": [],
   "source": [
    "Cricklewood['study-start'] = pd.to_datetime(Cricklewood['study-start'], errors='coerce')"
   ]
  },
  {
   "cell_type": "code",
   "execution_count": 2076,
   "metadata": {},
   "outputs": [],
   "source": [
    "Cricklewood['time-of-entry'] = Cricklewood['status_date'] -  Cricklewood['study-start']"
   ]
  },
  {
   "cell_type": "code",
   "execution_count": 2077,
   "metadata": {},
   "outputs": [],
   "source": [
    "Cricklewood['time-at-open'] = 0"
   ]
  },
  {
   "cell_type": "code",
   "execution_count": 2078,
   "metadata": {},
   "outputs": [],
   "source": [
    "Cricklewood['vacant'] = 1"
   ]
  },
  {
   "cell_type": "code",
   "execution_count": 2079,
   "metadata": {},
   "outputs": [],
   "source": [
    "Cricklewood = Cricklewood.drop(Cricklewood[(Cricklewood['status'] == True)].index)"
   ]
  },
  {
   "cell_type": "code",
   "execution_count": 2080,
   "metadata": {},
   "outputs": [],
   "source": [
    "Cricklewood['location_code'] = Cricklewood['location_code'].astype(\"category\")"
   ]
  },
  {
   "cell_type": "code",
   "execution_count": 2081,
   "metadata": {},
   "outputs": [],
   "source": [
    "locations = list(Cricklewood['location_code'].unique())"
   ]
  },
  {
   "cell_type": "code",
   "execution_count": 2082,
   "metadata": {},
   "outputs": [],
   "source": [
    "Cricklewood = Cricklewood.set_index('location_code')"
   ]
  },
  {
   "cell_type": "code",
   "execution_count": 2083,
   "metadata": {},
   "outputs": [],
   "source": [
    "Cricklewood['survival'] = 0"
   ]
  },
  {
   "cell_type": "code",
   "execution_count": 2084,
   "metadata": {},
   "outputs": [],
   "source": [
    "Cricklewood['survival'] = Cricklewood['duration']"
   ]
  },
  {
   "cell_type": "code",
   "execution_count": 2085,
   "metadata": {},
   "outputs": [],
   "source": [
    "Cricklewood['entry'] = Cricklewood['time-of-entry'].dt.days"
   ]
  },
  {
   "cell_type": "code",
   "execution_count": 2086,
   "metadata": {},
   "outputs": [],
   "source": [
    "Cricklewood['time-at-open'] = Cricklewood['survival'] + Cricklewood['entry']"
   ]
  },
  {
   "cell_type": "code",
   "execution_count": 2087,
   "metadata": {},
   "outputs": [],
   "source": [
    "Cricklewood['stat'] = Cricklewood['status'].astype(int)"
   ]
  },
  {
   "cell_type": "code",
   "execution_count": 2088,
   "metadata": {},
   "outputs": [],
   "source": [
    "Cricklewood[\"StatusChange\"] =  Cricklewood['stat'].shift() != Cricklewood['stat']"
   ]
  },
  {
   "cell_type": "code",
   "execution_count": 2089,
   "metadata": {},
   "outputs": [
    {
     "name": "stderr",
     "output_type": "stream",
     "text": [
      "/opt/conda/envs/sds2020/lib/python3.7/site-packages/pandas/core/indexing.py:670: SettingWithCopyWarning: \n",
      "A value is trying to be set on a copy of a slice from a DataFrame\n",
      "\n",
      "See the caveats in the documentation: https://pandas.pydata.org/pandas-docs/stable/user_guide/indexing.html#returning-a-view-versus-a-copy\n",
      "  iloc._setitem_with_indexer(indexer, value)\n"
     ]
    }
   ],
   "source": [
    "Cricklewood[\"StatusChange\"].iloc[0] = False"
   ]
  },
  {
   "cell_type": "code",
   "execution_count": 2090,
   "metadata": {},
   "outputs": [],
   "source": [
    "Cricklewood[\"TenantChange\"] =  Cricklewood['name'].shift(-1) != Cricklewood['name'] "
   ]
  },
  {
   "cell_type": "code",
   "execution_count": 2091,
   "metadata": {},
   "outputs": [],
   "source": [
    "Cricklewood[\"TenantChange\"].iloc[0] = False"
   ]
  },
  {
   "cell_type": "code",
   "execution_count": 2092,
   "metadata": {},
   "outputs": [],
   "source": [
    "counter = 0 \n",
    "stoppingCondition = len(locations)\n",
    "Cricklewood2 = pd.DataFrame(data=None, columns=Cricklewood.columns, index=None)\n",
    "\n",
    "while counter < stoppingCondition:\n",
    "        i = locations[counter]\n",
    "        m = Cricklewood.loc[i, :].iloc[[ Cricklewood.loc[i, :]['status_duration'].argmax()]]\n",
    "        Cricklewood2 = Cricklewood2.append(m, ignore_index=False)\n",
    "        counter += 1"
   ]
  },
  {
   "cell_type": "code",
   "execution_count": 2093,
   "metadata": {},
   "outputs": [],
   "source": [
    "Cricklewood3 = Cricklewood2.drop_duplicates()"
   ]
  },
  {
   "cell_type": "code",
   "execution_count": 2094,
   "metadata": {},
   "outputs": [],
   "source": [
    "Cricklewood3.loc[Cricklewood3['time-at-open'] == 4018, ['vacant']] = 0"
   ]
  },
  {
   "cell_type": "code",
   "execution_count": 2095,
   "metadata": {},
   "outputs": [],
   "source": [
    "Cricklewood3['highstreet'] = 'Cricklewood'"
   ]
  },
  {
   "cell_type": "code",
   "execution_count": 2096,
   "metadata": {},
   "outputs": [],
   "source": [
    "Cricklewood3.to_csv('Cricklewood-vacant-survival.csv')"
   ]
  },
  {
   "cell_type": "markdown",
   "metadata": {},
   "source": [
    "#### 10. Regents"
   ]
  },
  {
   "cell_type": "code",
   "execution_count": 2097,
   "metadata": {},
   "outputs": [],
   "source": [
    "Regents = Regents.sort_values(by= ['status_date'])"
   ]
  },
  {
   "cell_type": "code",
   "execution_count": 2098,
   "metadata": {},
   "outputs": [],
   "source": [
    "cols = ['V3', 'V4', 'V5', 'V13', 'V14', 'V15', 'V16', 'V17', 'V19', 'V20', 'V21', 'V26', 'V28', 'V30', 'V36', 'V38', 'V39', 'V48', 'V51', 'V54', 'V55', 'V56', 'V57', \n",
    "        'V58', 'V59', 'V60', 'V64', 'V70', 'V72', 'V77']"
   ]
  },
  {
   "cell_type": "code",
   "execution_count": 2099,
   "metadata": {},
   "outputs": [],
   "source": [
    "#deleted those cols columns from the dataset as they only contain nulls\n",
    "\n",
    "Regents = Regents.drop(cols, axis=1)"
   ]
  },
  {
   "cell_type": "code",
   "execution_count": 2100,
   "metadata": {},
   "outputs": [],
   "source": [
    "Regents['new_date'] = pd.to_datetime(Regents['status_date'], errors='coerce')"
   ]
  },
  {
   "cell_type": "code",
   "execution_count": 2101,
   "metadata": {},
   "outputs": [],
   "source": [
    "Regents = Regents.sort_values(by= ['new_date'])"
   ]
  },
  {
   "cell_type": "code",
   "execution_count": 2102,
   "metadata": {},
   "outputs": [],
   "source": [
    "Regents['new_date'].loc[(Regents['new_date'] < '2010-04-01')] = '2010-04-01'"
   ]
  },
  {
   "cell_type": "code",
   "execution_count": 2103,
   "metadata": {},
   "outputs": [],
   "source": [
    "Regents = Regents.sort_values(by= ['location_code', 'period'])"
   ]
  },
  {
   "cell_type": "code",
   "execution_count": 2104,
   "metadata": {},
   "outputs": [],
   "source": [
    "Regents['locaton_code'] = Regents['location_code'].astype(\"category\")"
   ]
  },
  {
   "cell_type": "code",
   "execution_count": 2105,
   "metadata": {},
   "outputs": [],
   "source": [
    "locations = Regents['location_code'].unique()"
   ]
  },
  {
   "cell_type": "code",
   "execution_count": 2106,
   "metadata": {},
   "outputs": [],
   "source": [
    "Regents.loc[Regents['name'].isnull(), 'name'] = Regents['location_code']"
   ]
  },
  {
   "cell_type": "code",
   "execution_count": 2107,
   "metadata": {},
   "outputs": [],
   "source": [
    "Regents['status_date'] = pd.to_datetime(Regents['status_date'], errors='coerce')"
   ]
  },
  {
   "cell_type": "code",
   "execution_count": 2108,
   "metadata": {},
   "outputs": [],
   "source": [
    "Regents['status_date'].iloc[Regents['status_date'] < '2010-04-01'] = '04/01/2010'"
   ]
  },
  {
   "cell_type": "code",
   "execution_count": 2109,
   "metadata": {},
   "outputs": [],
   "source": [
    "Regents['status_date'] = pd.to_datetime(Regents['status_date'], errors='coerce')"
   ]
  },
  {
   "cell_type": "code",
   "execution_count": 2110,
   "metadata": {},
   "outputs": [],
   "source": [
    "Regents['period2'] = pd.to_datetime(Regents['period'])"
   ]
  },
  {
   "cell_type": "code",
   "execution_count": 2111,
   "metadata": {},
   "outputs": [],
   "source": [
    "Regents['period2'] = Regents['period2'] + pd.DateOffset(months=1)"
   ]
  },
  {
   "cell_type": "code",
   "execution_count": 2112,
   "metadata": {},
   "outputs": [],
   "source": [
    "Regents['duration'] = Regents['period2'] - Regents['status_date']"
   ]
  },
  {
   "cell_type": "code",
   "execution_count": 2113,
   "metadata": {},
   "outputs": [],
   "source": [
    "Regents['duration'] = Regents['duration'].dt.days"
   ]
  },
  {
   "cell_type": "code",
   "execution_count": 2114,
   "metadata": {},
   "outputs": [],
   "source": [
    "Regents['study-start'] = '04/01/2010'"
   ]
  },
  {
   "cell_type": "code",
   "execution_count": 2115,
   "metadata": {},
   "outputs": [],
   "source": [
    "Regents['study-start'] = pd.to_datetime(Regents['study-start'], errors='coerce')"
   ]
  },
  {
   "cell_type": "code",
   "execution_count": 2116,
   "metadata": {},
   "outputs": [],
   "source": [
    "Regents['time-of-entry'] = Regents['status_date'] -  Regents['study-start']"
   ]
  },
  {
   "cell_type": "code",
   "execution_count": 2117,
   "metadata": {},
   "outputs": [],
   "source": [
    "Regents['time-at-open'] = 0"
   ]
  },
  {
   "cell_type": "code",
   "execution_count": 2118,
   "metadata": {},
   "outputs": [],
   "source": [
    "Regents['vacant'] = 1"
   ]
  },
  {
   "cell_type": "code",
   "execution_count": 2119,
   "metadata": {},
   "outputs": [],
   "source": [
    "Regents = Regents.drop(Regents[(Regents['status'] == True)].index)"
   ]
  },
  {
   "cell_type": "code",
   "execution_count": 2120,
   "metadata": {},
   "outputs": [],
   "source": [
    "Regents['location_code'] = Regents['location_code'].astype(\"category\")"
   ]
  },
  {
   "cell_type": "code",
   "execution_count": 2121,
   "metadata": {},
   "outputs": [],
   "source": [
    "locations = list(Regents['location_code'].unique())"
   ]
  },
  {
   "cell_type": "code",
   "execution_count": 2122,
   "metadata": {},
   "outputs": [],
   "source": [
    "Regents = Regents.set_index('location_code')"
   ]
  },
  {
   "cell_type": "code",
   "execution_count": 2123,
   "metadata": {},
   "outputs": [],
   "source": [
    "Regents['survival'] = 0"
   ]
  },
  {
   "cell_type": "code",
   "execution_count": 2124,
   "metadata": {},
   "outputs": [],
   "source": [
    "Regents['survival'] = Regents['duration']"
   ]
  },
  {
   "cell_type": "code",
   "execution_count": 2125,
   "metadata": {},
   "outputs": [],
   "source": [
    "Regents['entry'] = Regents['time-of-entry'].dt.days"
   ]
  },
  {
   "cell_type": "code",
   "execution_count": 2126,
   "metadata": {},
   "outputs": [],
   "source": [
    "Regents['time-at-open'] = Regents['survival'] + Regents['entry']"
   ]
  },
  {
   "cell_type": "code",
   "execution_count": 2127,
   "metadata": {},
   "outputs": [],
   "source": [
    "Regents['stat'] = Regents['status'].astype(int)"
   ]
  },
  {
   "cell_type": "code",
   "execution_count": 2128,
   "metadata": {},
   "outputs": [],
   "source": [
    "Regents[\"StatusChange\"] =  Regents['stat'].shift() != Regents['stat']"
   ]
  },
  {
   "cell_type": "code",
   "execution_count": 2129,
   "metadata": {},
   "outputs": [
    {
     "name": "stderr",
     "output_type": "stream",
     "text": [
      "/opt/conda/envs/sds2020/lib/python3.7/site-packages/pandas/core/indexing.py:670: SettingWithCopyWarning: \n",
      "A value is trying to be set on a copy of a slice from a DataFrame\n",
      "\n",
      "See the caveats in the documentation: https://pandas.pydata.org/pandas-docs/stable/user_guide/indexing.html#returning-a-view-versus-a-copy\n",
      "  iloc._setitem_with_indexer(indexer, value)\n"
     ]
    }
   ],
   "source": [
    "Regents[\"StatusChange\"].iloc[0] = False"
   ]
  },
  {
   "cell_type": "code",
   "execution_count": 2130,
   "metadata": {},
   "outputs": [],
   "source": [
    "Regents[\"TenantChange\"] =  Regents['name'].shift(-1) != Regents['name'] "
   ]
  },
  {
   "cell_type": "code",
   "execution_count": 2131,
   "metadata": {},
   "outputs": [],
   "source": [
    "Regents[\"TenantChange\"].iloc[0] = False"
   ]
  },
  {
   "cell_type": "code",
   "execution_count": 2132,
   "metadata": {},
   "outputs": [],
   "source": [
    "counter = 0 \n",
    "stoppingCondition = len(locations)\n",
    "Regents2 = pd.DataFrame(data=None, columns=Regents.columns, index=None)\n",
    "\n",
    "while counter < stoppingCondition:\n",
    "        i = locations[counter]\n",
    "        m = Regents.loc[i, :].iloc[[ Regents.loc[i, :]['status_duration'].argmax()]]\n",
    "        Regents2 = Regents2.append(m, ignore_index=False)\n",
    "        counter += 1"
   ]
  },
  {
   "cell_type": "code",
   "execution_count": 2133,
   "metadata": {},
   "outputs": [],
   "source": [
    "Regents3 = Regents2.drop_duplicates()"
   ]
  },
  {
   "cell_type": "code",
   "execution_count": 2134,
   "metadata": {},
   "outputs": [],
   "source": [
    "Regents3.loc[Regents3['time-at-open'] == 4018, ['vacant']] = 0"
   ]
  },
  {
   "cell_type": "code",
   "execution_count": 2135,
   "metadata": {},
   "outputs": [],
   "source": [
    "Regents3['highstreet'] = 'Regents'"
   ]
  },
  {
   "cell_type": "code",
   "execution_count": 2136,
   "metadata": {},
   "outputs": [],
   "source": [
    "Regents3.to_csv('Regents-vacant-survival.csv')"
   ]
  },
  {
   "cell_type": "markdown",
   "metadata": {},
   "source": [
    "#### 11. Queens"
   ]
  },
  {
   "cell_type": "code",
   "execution_count": 2137,
   "metadata": {},
   "outputs": [],
   "source": [
    "Queens = Queens.sort_values(by= ['status_date'])"
   ]
  },
  {
   "cell_type": "code",
   "execution_count": 2138,
   "metadata": {},
   "outputs": [],
   "source": [
    "cols = ['V3', 'V4', 'V5', 'V13', 'V14', 'V15', 'V16', 'V17', 'V19', 'V20', 'V21', 'V26', 'V28', 'V30', 'V36', 'V38', 'V39', 'V48', 'V51', 'V54', 'V55', 'V56', 'V57', \n",
    "        'V58', 'V59', 'V60', 'V64', 'V70', 'V72', 'V77']"
   ]
  },
  {
   "cell_type": "code",
   "execution_count": 2139,
   "metadata": {},
   "outputs": [],
   "source": [
    "#deleted those cols columns from the dataset as they only contain nulls\n",
    "\n",
    "Queens = Queens.drop(cols, axis=1)"
   ]
  },
  {
   "cell_type": "code",
   "execution_count": 2140,
   "metadata": {},
   "outputs": [],
   "source": [
    "Queens['new_date'] = pd.to_datetime(Queens['status_date'], errors='coerce')"
   ]
  },
  {
   "cell_type": "code",
   "execution_count": 2141,
   "metadata": {},
   "outputs": [],
   "source": [
    "Queens = Queens.sort_values(by= ['new_date'])"
   ]
  },
  {
   "cell_type": "code",
   "execution_count": 2142,
   "metadata": {},
   "outputs": [],
   "source": [
    "Queens['new_date'].loc[(Queens['new_date'] < '2010-04-01')] = '2010-04-01'"
   ]
  },
  {
   "cell_type": "code",
   "execution_count": 2143,
   "metadata": {},
   "outputs": [],
   "source": [
    "Queens = Queens.sort_values(by= ['location_code', 'period'])"
   ]
  },
  {
   "cell_type": "code",
   "execution_count": 2144,
   "metadata": {},
   "outputs": [],
   "source": [
    "Queens['locaton_code'] = Queens['location_code'].astype(\"category\")"
   ]
  },
  {
   "cell_type": "code",
   "execution_count": 2145,
   "metadata": {},
   "outputs": [],
   "source": [
    "locations = Queens['location_code'].unique()"
   ]
  },
  {
   "cell_type": "code",
   "execution_count": 2146,
   "metadata": {},
   "outputs": [],
   "source": [
    "Queens.loc[Queens['name'].isnull(), 'name'] = Queens['location_code']"
   ]
  },
  {
   "cell_type": "code",
   "execution_count": 2147,
   "metadata": {},
   "outputs": [],
   "source": [
    "Queens['status_date'] = pd.to_datetime(Queens['status_date'], errors='coerce')"
   ]
  },
  {
   "cell_type": "code",
   "execution_count": 2148,
   "metadata": {},
   "outputs": [],
   "source": [
    "Queens['status_date'].iloc[Queens['status_date'] < '2010-04-01'] = '04/01/2010'"
   ]
  },
  {
   "cell_type": "code",
   "execution_count": 2149,
   "metadata": {},
   "outputs": [],
   "source": [
    "Queens['status_date'] = pd.to_datetime(Queens['status_date'], errors='coerce')"
   ]
  },
  {
   "cell_type": "code",
   "execution_count": 2150,
   "metadata": {},
   "outputs": [],
   "source": [
    "Queens['period2'] = pd.to_datetime(Queens['period'])"
   ]
  },
  {
   "cell_type": "code",
   "execution_count": 2151,
   "metadata": {},
   "outputs": [],
   "source": [
    "Queens['period2'] = Queens['period2'] + pd.DateOffset(months=1)"
   ]
  },
  {
   "cell_type": "code",
   "execution_count": 2152,
   "metadata": {},
   "outputs": [],
   "source": [
    "Queens['duration'] = Queens['period2'] - Queens['status_date']"
   ]
  },
  {
   "cell_type": "code",
   "execution_count": 2153,
   "metadata": {},
   "outputs": [],
   "source": [
    "Queens['duration'] = Queens['duration'].dt.days"
   ]
  },
  {
   "cell_type": "code",
   "execution_count": 2154,
   "metadata": {},
   "outputs": [],
   "source": [
    "Queens['study-start'] = '04/01/2010'"
   ]
  },
  {
   "cell_type": "code",
   "execution_count": 2155,
   "metadata": {},
   "outputs": [],
   "source": [
    "Queens['study-start'] = pd.to_datetime(Queens['study-start'], errors='coerce')"
   ]
  },
  {
   "cell_type": "code",
   "execution_count": 2156,
   "metadata": {},
   "outputs": [],
   "source": [
    "Queens['time-of-entry'] = Queens['status_date'] -  Queens['study-start']"
   ]
  },
  {
   "cell_type": "code",
   "execution_count": 2157,
   "metadata": {},
   "outputs": [],
   "source": [
    "Queens['time-at-open'] = 0"
   ]
  },
  {
   "cell_type": "code",
   "execution_count": 2158,
   "metadata": {},
   "outputs": [],
   "source": [
    "Queens['vacant'] = 1"
   ]
  },
  {
   "cell_type": "code",
   "execution_count": 2159,
   "metadata": {},
   "outputs": [],
   "source": [
    "Queens = Queens.drop(Queens[(Queens['status'] == True)].index)"
   ]
  },
  {
   "cell_type": "code",
   "execution_count": 2160,
   "metadata": {},
   "outputs": [],
   "source": [
    "Queens['location_code'] = Queens['location_code'].astype(\"category\")"
   ]
  },
  {
   "cell_type": "code",
   "execution_count": 2161,
   "metadata": {},
   "outputs": [],
   "source": [
    "locations = list(Queens['location_code'].unique())"
   ]
  },
  {
   "cell_type": "code",
   "execution_count": 2162,
   "metadata": {},
   "outputs": [],
   "source": [
    "Queens = Queens.set_index('location_code')"
   ]
  },
  {
   "cell_type": "code",
   "execution_count": 2163,
   "metadata": {},
   "outputs": [],
   "source": [
    "Queens['survival'] = 0"
   ]
  },
  {
   "cell_type": "code",
   "execution_count": 2164,
   "metadata": {},
   "outputs": [],
   "source": [
    "Queens['survival'] = Queens['duration']"
   ]
  },
  {
   "cell_type": "code",
   "execution_count": 2165,
   "metadata": {},
   "outputs": [],
   "source": [
    "Queens['entry'] = Queens['time-of-entry'].dt.days"
   ]
  },
  {
   "cell_type": "code",
   "execution_count": 2166,
   "metadata": {},
   "outputs": [],
   "source": [
    "Queens['time-at-open'] = Queens['survival'] + Queens['entry']"
   ]
  },
  {
   "cell_type": "code",
   "execution_count": 2167,
   "metadata": {},
   "outputs": [],
   "source": [
    "Queens['stat'] = Queens['status'].astype(int)"
   ]
  },
  {
   "cell_type": "code",
   "execution_count": 2168,
   "metadata": {},
   "outputs": [],
   "source": [
    "Queens[\"StatusChange\"] =  Queens['stat'].shift() != Queens['stat']"
   ]
  },
  {
   "cell_type": "code",
   "execution_count": 2169,
   "metadata": {},
   "outputs": [
    {
     "name": "stderr",
     "output_type": "stream",
     "text": [
      "/opt/conda/envs/sds2020/lib/python3.7/site-packages/pandas/core/indexing.py:670: SettingWithCopyWarning: \n",
      "A value is trying to be set on a copy of a slice from a DataFrame\n",
      "\n",
      "See the caveats in the documentation: https://pandas.pydata.org/pandas-docs/stable/user_guide/indexing.html#returning-a-view-versus-a-copy\n",
      "  iloc._setitem_with_indexer(indexer, value)\n"
     ]
    }
   ],
   "source": [
    "Queens[\"StatusChange\"].iloc[0] = False"
   ]
  },
  {
   "cell_type": "code",
   "execution_count": 2170,
   "metadata": {},
   "outputs": [],
   "source": [
    "Queens[\"TenantChange\"] =  Queens['name'].shift(-1) != Queens['name'] "
   ]
  },
  {
   "cell_type": "code",
   "execution_count": 2171,
   "metadata": {},
   "outputs": [],
   "source": [
    "Queens[\"TenantChange\"].iloc[0] = False"
   ]
  },
  {
   "cell_type": "code",
   "execution_count": 2172,
   "metadata": {},
   "outputs": [],
   "source": [
    "counter = 0 \n",
    "stoppingCondition = len(locations)\n",
    "Queens2 = pd.DataFrame(data=None, columns=Queens.columns, index=None)\n",
    "\n",
    "while counter < stoppingCondition:\n",
    "        i = locations[counter]\n",
    "        m = Queens.loc[i, :].iloc[[ Queens.loc[i, :]['status_duration'].argmax()]]\n",
    "        Queens2 = Queens2.append(m, ignore_index=False)\n",
    "        counter += 1"
   ]
  },
  {
   "cell_type": "code",
   "execution_count": 2173,
   "metadata": {},
   "outputs": [],
   "source": [
    "Queens3 = Queens2.drop_duplicates()"
   ]
  },
  {
   "cell_type": "code",
   "execution_count": 2174,
   "metadata": {},
   "outputs": [],
   "source": [
    "Queens3.loc[Queens3['time-at-open'] == 4018, ['vacant']] = 0"
   ]
  },
  {
   "cell_type": "code",
   "execution_count": 2175,
   "metadata": {},
   "outputs": [],
   "source": [
    "Queens3['highstreet'] = 'Queens'"
   ]
  },
  {
   "cell_type": "code",
   "execution_count": 2176,
   "metadata": {},
   "outputs": [],
   "source": [
    "Queens3.to_csv('Queens-vacant-survival.csv')"
   ]
  },
  {
   "cell_type": "markdown",
   "metadata": {},
   "source": [
    "#### 12. Kilburn"
   ]
  },
  {
   "cell_type": "code",
   "execution_count": 2177,
   "metadata": {},
   "outputs": [],
   "source": [
    "Kilburn = Kilburn.sort_values(by= ['status_date'])"
   ]
  },
  {
   "cell_type": "code",
   "execution_count": 2178,
   "metadata": {},
   "outputs": [],
   "source": [
    "cols = ['V3', 'V4', 'V5', 'V13', 'V14', 'V15', 'V16', 'V17', 'V19', 'V20', 'V21', 'V26', 'V28', 'V30', 'V36', 'V38', 'V39', 'V48', 'V51', 'V54', 'V55', 'V56', 'V57', \n",
    "        'V58', 'V59', 'V60', 'V64', 'V70', 'V72', 'V77']"
   ]
  },
  {
   "cell_type": "code",
   "execution_count": 2179,
   "metadata": {},
   "outputs": [],
   "source": [
    "#deleted those cols columns from the dataset as they only contain nulls\n",
    "\n",
    "Kilburn = Kilburn.drop(cols, axis=1)"
   ]
  },
  {
   "cell_type": "code",
   "execution_count": 2180,
   "metadata": {},
   "outputs": [],
   "source": [
    "Kilburn['new_date'] = pd.to_datetime(Kilburn['status_date'], errors='coerce')"
   ]
  },
  {
   "cell_type": "code",
   "execution_count": 2181,
   "metadata": {},
   "outputs": [],
   "source": [
    "Kilburn = Kilburn.sort_values(by= ['new_date'])"
   ]
  },
  {
   "cell_type": "code",
   "execution_count": 2182,
   "metadata": {},
   "outputs": [],
   "source": [
    "Kilburn['new_date'].loc[(Kilburn['new_date'] < '2010-04-01')] = '2010-04-01'"
   ]
  },
  {
   "cell_type": "code",
   "execution_count": 2183,
   "metadata": {},
   "outputs": [],
   "source": [
    "Kilburn = Kilburn.sort_values(by= ['location_code', 'period'])"
   ]
  },
  {
   "cell_type": "code",
   "execution_count": 2184,
   "metadata": {},
   "outputs": [],
   "source": [
    "Kilburn['locaton_code'] = Kilburn['location_code'].astype(\"category\")"
   ]
  },
  {
   "cell_type": "code",
   "execution_count": 2185,
   "metadata": {},
   "outputs": [],
   "source": [
    "locations = Kilburn['location_code'].unique()"
   ]
  },
  {
   "cell_type": "code",
   "execution_count": 2186,
   "metadata": {},
   "outputs": [],
   "source": [
    "Kilburn.loc[Kilburn['name'].isnull(), 'name'] = Kilburn['location_code']"
   ]
  },
  {
   "cell_type": "code",
   "execution_count": 2187,
   "metadata": {},
   "outputs": [],
   "source": [
    "Kilburn['status_date'] = pd.to_datetime(Kilburn['status_date'], errors='coerce')"
   ]
  },
  {
   "cell_type": "code",
   "execution_count": 2188,
   "metadata": {},
   "outputs": [],
   "source": [
    "Kilburn['status_date'].iloc[Kilburn['status_date'] < '2010-04-01'] = '04/01/2010'"
   ]
  },
  {
   "cell_type": "code",
   "execution_count": 2189,
   "metadata": {},
   "outputs": [],
   "source": [
    "Kilburn['status_date'] = pd.to_datetime(Kilburn['status_date'], errors='coerce')"
   ]
  },
  {
   "cell_type": "code",
   "execution_count": 2190,
   "metadata": {},
   "outputs": [],
   "source": [
    "Kilburn['period2'] = pd.to_datetime(Kilburn['period'])"
   ]
  },
  {
   "cell_type": "code",
   "execution_count": 2191,
   "metadata": {},
   "outputs": [],
   "source": [
    "Kilburn['period2'] = Kilburn['period2'] + pd.DateOffset(months=1)"
   ]
  },
  {
   "cell_type": "code",
   "execution_count": 2192,
   "metadata": {},
   "outputs": [],
   "source": [
    "Kilburn['duration'] = Kilburn['period2'] - Kilburn['status_date']"
   ]
  },
  {
   "cell_type": "code",
   "execution_count": 2193,
   "metadata": {},
   "outputs": [],
   "source": [
    "Kilburn['duration'] = Kilburn['duration'].dt.days"
   ]
  },
  {
   "cell_type": "code",
   "execution_count": 2194,
   "metadata": {},
   "outputs": [],
   "source": [
    "Kilburn['study-start'] = '04/01/2010'"
   ]
  },
  {
   "cell_type": "code",
   "execution_count": 2195,
   "metadata": {},
   "outputs": [],
   "source": [
    "Kilburn['study-start'] = pd.to_datetime(Kilburn['study-start'], errors='coerce')"
   ]
  },
  {
   "cell_type": "code",
   "execution_count": 2196,
   "metadata": {},
   "outputs": [],
   "source": [
    "Kilburn['time-of-entry'] = Kilburn['status_date'] -  Kilburn['study-start']"
   ]
  },
  {
   "cell_type": "code",
   "execution_count": 2197,
   "metadata": {},
   "outputs": [],
   "source": [
    "Kilburn['time-at-open'] = 0"
   ]
  },
  {
   "cell_type": "code",
   "execution_count": 2198,
   "metadata": {},
   "outputs": [],
   "source": [
    "Kilburn['vacant'] = 1"
   ]
  },
  {
   "cell_type": "code",
   "execution_count": 2199,
   "metadata": {},
   "outputs": [],
   "source": [
    "Kilburn = Kilburn.drop(Kilburn[(Kilburn['status'] == True)].index)"
   ]
  },
  {
   "cell_type": "code",
   "execution_count": 2200,
   "metadata": {},
   "outputs": [],
   "source": [
    "Kilburn['location_code'] = Kilburn['location_code'].astype(\"category\")"
   ]
  },
  {
   "cell_type": "code",
   "execution_count": 2201,
   "metadata": {},
   "outputs": [],
   "source": [
    "locations = list(Kilburn['location_code'].unique())"
   ]
  },
  {
   "cell_type": "code",
   "execution_count": 2202,
   "metadata": {},
   "outputs": [],
   "source": [
    "Kilburn = Kilburn.set_index('location_code')"
   ]
  },
  {
   "cell_type": "code",
   "execution_count": 2203,
   "metadata": {},
   "outputs": [],
   "source": [
    "Kilburn['survival'] = 0"
   ]
  },
  {
   "cell_type": "code",
   "execution_count": 2204,
   "metadata": {},
   "outputs": [],
   "source": [
    "Kilburn['survival'] = Kilburn['duration']"
   ]
  },
  {
   "cell_type": "code",
   "execution_count": 2205,
   "metadata": {},
   "outputs": [],
   "source": [
    "Kilburn['entry'] = Kilburn['time-of-entry'].dt.days"
   ]
  },
  {
   "cell_type": "code",
   "execution_count": 2206,
   "metadata": {},
   "outputs": [],
   "source": [
    "Kilburn['time-at-open'] = Kilburn['survival'] + Kilburn['entry']"
   ]
  },
  {
   "cell_type": "code",
   "execution_count": 2207,
   "metadata": {},
   "outputs": [],
   "source": [
    "Kilburn['stat'] = Kilburn['status'].astype(int)"
   ]
  },
  {
   "cell_type": "code",
   "execution_count": 2208,
   "metadata": {},
   "outputs": [],
   "source": [
    "Kilburn[\"StatusChange\"] =  Kilburn['stat'].shift() != Kilburn['stat']"
   ]
  },
  {
   "cell_type": "code",
   "execution_count": 2209,
   "metadata": {},
   "outputs": [
    {
     "name": "stderr",
     "output_type": "stream",
     "text": [
      "/opt/conda/envs/sds2020/lib/python3.7/site-packages/pandas/core/indexing.py:670: SettingWithCopyWarning: \n",
      "A value is trying to be set on a copy of a slice from a DataFrame\n",
      "\n",
      "See the caveats in the documentation: https://pandas.pydata.org/pandas-docs/stable/user_guide/indexing.html#returning-a-view-versus-a-copy\n",
      "  iloc._setitem_with_indexer(indexer, value)\n"
     ]
    }
   ],
   "source": [
    "Kilburn[\"StatusChange\"].iloc[0] = False"
   ]
  },
  {
   "cell_type": "code",
   "execution_count": 2210,
   "metadata": {},
   "outputs": [],
   "source": [
    "Kilburn[\"TenantChange\"] =  Kilburn['name'].shift(-1) != Kilburn['name'] "
   ]
  },
  {
   "cell_type": "code",
   "execution_count": 2211,
   "metadata": {},
   "outputs": [],
   "source": [
    "Kilburn[\"TenantChange\"].iloc[0] = False"
   ]
  },
  {
   "cell_type": "code",
   "execution_count": 2212,
   "metadata": {},
   "outputs": [],
   "source": [
    "counter = 0 \n",
    "stoppingCondition = len(locations)\n",
    "Kilburn2 = pd.DataFrame(data=None, columns=Kilburn.columns, index=None)\n",
    "\n",
    "while counter < stoppingCondition:\n",
    "        i = locations[counter]\n",
    "        m = Kilburn.loc[i, :].iloc[[ Kilburn.loc[i, :]['status_duration'].argmax()]]\n",
    "        Kilburn2 = Kilburn2.append(m, ignore_index=False)\n",
    "        counter += 1"
   ]
  },
  {
   "cell_type": "code",
   "execution_count": 2213,
   "metadata": {},
   "outputs": [],
   "source": [
    "Kilburn3 = Kilburn2.drop_duplicates()"
   ]
  },
  {
   "cell_type": "code",
   "execution_count": 2214,
   "metadata": {},
   "outputs": [],
   "source": [
    "Kilburn3.loc[Kilburn3['time-at-open'] == 4018, ['vacant']] = 0"
   ]
  },
  {
   "cell_type": "code",
   "execution_count": 2215,
   "metadata": {},
   "outputs": [],
   "source": [
    "Kilburn3['highstreet'] = 'Kilburn'"
   ]
  },
  {
   "cell_type": "code",
   "execution_count": 2216,
   "metadata": {},
   "outputs": [],
   "source": [
    "Kilburn3.to_csv('Kilburn-vacant-survival.csv')"
   ]
  },
  {
   "cell_type": "markdown",
   "metadata": {},
   "source": [
    "#### 13. Mill"
   ]
  },
  {
   "cell_type": "code",
   "execution_count": 2217,
   "metadata": {},
   "outputs": [],
   "source": [
    "Mill = Mill.sort_values(by= ['status_date'])"
   ]
  },
  {
   "cell_type": "code",
   "execution_count": 2218,
   "metadata": {},
   "outputs": [],
   "source": [
    "cols = ['V3', 'V4', 'V5', 'V13', 'V14', 'V15', 'V16', 'V17', 'V19', 'V20', 'V21', 'V26', 'V28', 'V30', 'V36', 'V38', 'V39', 'V48', 'V51', 'V54', 'V55', 'V56', 'V57', \n",
    "        'V58', 'V59', 'V60', 'V64', 'V70', 'V72', 'V77']"
   ]
  },
  {
   "cell_type": "code",
   "execution_count": 2219,
   "metadata": {},
   "outputs": [],
   "source": [
    "#deleted those cols columns from the dataset as they only contain nulls\n",
    "\n",
    "Mill = Mill.drop(cols, axis=1)"
   ]
  },
  {
   "cell_type": "code",
   "execution_count": 2220,
   "metadata": {},
   "outputs": [],
   "source": [
    "Mill['new_date'] = pd.to_datetime(Mill['status_date'], errors='coerce')"
   ]
  },
  {
   "cell_type": "code",
   "execution_count": 2221,
   "metadata": {},
   "outputs": [],
   "source": [
    "Mill = Mill.sort_values(by= ['new_date'])"
   ]
  },
  {
   "cell_type": "code",
   "execution_count": 2222,
   "metadata": {},
   "outputs": [],
   "source": [
    "Mill['new_date'].loc[(Mill['new_date'] < '2010-04-01')] = '2010-04-01'"
   ]
  },
  {
   "cell_type": "code",
   "execution_count": 2223,
   "metadata": {},
   "outputs": [],
   "source": [
    "Mill = Mill.sort_values(by= ['location_code', 'period'])"
   ]
  },
  {
   "cell_type": "code",
   "execution_count": 2224,
   "metadata": {},
   "outputs": [],
   "source": [
    "Mill['locaton_code'] = Mill['location_code'].astype(\"category\")"
   ]
  },
  {
   "cell_type": "code",
   "execution_count": 2225,
   "metadata": {},
   "outputs": [],
   "source": [
    "locations = Mill['location_code'].unique()"
   ]
  },
  {
   "cell_type": "code",
   "execution_count": 2226,
   "metadata": {},
   "outputs": [],
   "source": [
    "Mill.loc[Mill['name'].isnull(), 'name'] = Mill['location_code']"
   ]
  },
  {
   "cell_type": "code",
   "execution_count": 2227,
   "metadata": {},
   "outputs": [],
   "source": [
    "Mill['status_date'] = pd.to_datetime(Mill['status_date'], errors='coerce')"
   ]
  },
  {
   "cell_type": "code",
   "execution_count": 2228,
   "metadata": {},
   "outputs": [],
   "source": [
    "Mill['status_date'].iloc[Mill['status_date'] < '2010-04-01'] = '04/01/2010'"
   ]
  },
  {
   "cell_type": "code",
   "execution_count": 2229,
   "metadata": {},
   "outputs": [],
   "source": [
    "Mill['status_date'] = pd.to_datetime(Mill['status_date'], errors='coerce')"
   ]
  },
  {
   "cell_type": "code",
   "execution_count": 2230,
   "metadata": {},
   "outputs": [],
   "source": [
    "Mill['period2'] = pd.to_datetime(Mill['period'])"
   ]
  },
  {
   "cell_type": "code",
   "execution_count": 2231,
   "metadata": {},
   "outputs": [],
   "source": [
    "Mill['period2'] = Mill['period2'] + pd.DateOffset(months=1)"
   ]
  },
  {
   "cell_type": "code",
   "execution_count": 2232,
   "metadata": {},
   "outputs": [],
   "source": [
    "Mill['duration'] = Mill['period2'] - Mill['status_date']"
   ]
  },
  {
   "cell_type": "code",
   "execution_count": 2233,
   "metadata": {},
   "outputs": [],
   "source": [
    "Mill['duration'] = Mill['duration'].dt.days"
   ]
  },
  {
   "cell_type": "code",
   "execution_count": 2234,
   "metadata": {},
   "outputs": [],
   "source": [
    "Mill['study-start'] = '04/01/2010'"
   ]
  },
  {
   "cell_type": "code",
   "execution_count": 2235,
   "metadata": {},
   "outputs": [],
   "source": [
    "Mill['study-start'] = pd.to_datetime(Mill['study-start'], errors='coerce')"
   ]
  },
  {
   "cell_type": "code",
   "execution_count": 2236,
   "metadata": {},
   "outputs": [],
   "source": [
    "Mill['time-of-entry'] = Mill['status_date'] -  Mill['study-start']"
   ]
  },
  {
   "cell_type": "code",
   "execution_count": 2237,
   "metadata": {},
   "outputs": [],
   "source": [
    "Mill['time-at-open'] = 0"
   ]
  },
  {
   "cell_type": "code",
   "execution_count": 2238,
   "metadata": {},
   "outputs": [],
   "source": [
    "Mill['vacant'] = 1"
   ]
  },
  {
   "cell_type": "code",
   "execution_count": 2239,
   "metadata": {},
   "outputs": [],
   "source": [
    "Mill = Mill.drop(Mill[(Mill['status'] == True)].index)"
   ]
  },
  {
   "cell_type": "code",
   "execution_count": 2240,
   "metadata": {},
   "outputs": [],
   "source": [
    "Mill['location_code'] = Mill['location_code'].astype(\"category\")"
   ]
  },
  {
   "cell_type": "code",
   "execution_count": 2241,
   "metadata": {},
   "outputs": [],
   "source": [
    "locations = list(Mill['location_code'].unique())"
   ]
  },
  {
   "cell_type": "code",
   "execution_count": 2242,
   "metadata": {},
   "outputs": [],
   "source": [
    "Mill = Mill.set_index('location_code')"
   ]
  },
  {
   "cell_type": "code",
   "execution_count": 2243,
   "metadata": {},
   "outputs": [],
   "source": [
    "Mill['survival'] = 0"
   ]
  },
  {
   "cell_type": "code",
   "execution_count": 2244,
   "metadata": {},
   "outputs": [],
   "source": [
    "Mill['survival'] = Mill['duration']"
   ]
  },
  {
   "cell_type": "code",
   "execution_count": 2245,
   "metadata": {},
   "outputs": [],
   "source": [
    "Mill['entry'] = Mill['time-of-entry'].dt.days"
   ]
  },
  {
   "cell_type": "code",
   "execution_count": 2246,
   "metadata": {},
   "outputs": [],
   "source": [
    "Mill['time-at-open'] = Mill['survival'] + Mill['entry']"
   ]
  },
  {
   "cell_type": "code",
   "execution_count": 2247,
   "metadata": {},
   "outputs": [],
   "source": [
    "Mill['stat'] = Mill['status'].astype(int)"
   ]
  },
  {
   "cell_type": "code",
   "execution_count": 2248,
   "metadata": {},
   "outputs": [],
   "source": [
    "Mill[\"StatusChange\"] =  Mill['stat'].shift() != Mill['stat']"
   ]
  },
  {
   "cell_type": "code",
   "execution_count": 2249,
   "metadata": {},
   "outputs": [
    {
     "name": "stderr",
     "output_type": "stream",
     "text": [
      "/opt/conda/envs/sds2020/lib/python3.7/site-packages/pandas/core/indexing.py:670: SettingWithCopyWarning: \n",
      "A value is trying to be set on a copy of a slice from a DataFrame\n",
      "\n",
      "See the caveats in the documentation: https://pandas.pydata.org/pandas-docs/stable/user_guide/indexing.html#returning-a-view-versus-a-copy\n",
      "  iloc._setitem_with_indexer(indexer, value)\n"
     ]
    }
   ],
   "source": [
    "Mill[\"StatusChange\"].iloc[0] = False"
   ]
  },
  {
   "cell_type": "code",
   "execution_count": 2250,
   "metadata": {},
   "outputs": [],
   "source": [
    "Mill[\"TenantChange\"] =  Mill['name'].shift(-1) != Mill['name'] "
   ]
  },
  {
   "cell_type": "code",
   "execution_count": 2251,
   "metadata": {},
   "outputs": [],
   "source": [
    "Mill[\"TenantChange\"].iloc[0] = False"
   ]
  },
  {
   "cell_type": "code",
   "execution_count": 2252,
   "metadata": {},
   "outputs": [],
   "source": [
    "counter = 0 \n",
    "stoppingCondition = len(locations)\n",
    "Mill2 = pd.DataFrame(data=None, columns=Mill.columns, index=None)\n",
    "\n",
    "while counter < stoppingCondition:\n",
    "        i = locations[counter]\n",
    "        m = Mill.loc[i, :].iloc[[ Mill.loc[i, :]['status_duration'].argmax()]]\n",
    "        Mill2 = Mill2.append(m, ignore_index=False)\n",
    "        counter += 1"
   ]
  },
  {
   "cell_type": "code",
   "execution_count": 2253,
   "metadata": {},
   "outputs": [],
   "source": [
    "Mill3 = Mill2.drop_duplicates()"
   ]
  },
  {
   "cell_type": "code",
   "execution_count": 2254,
   "metadata": {},
   "outputs": [],
   "source": [
    "Mill3.loc[Mill3['time-at-open'] == 4018, ['vacant']] = 0"
   ]
  },
  {
   "cell_type": "code",
   "execution_count": 2255,
   "metadata": {},
   "outputs": [],
   "source": [
    "Mill3['highstreet'] = 'Mill'"
   ]
  },
  {
   "cell_type": "code",
   "execution_count": 2256,
   "metadata": {},
   "outputs": [],
   "source": [
    "Mill3.to_csv('Mill-vacant-survival.csv')"
   ]
  },
  {
   "cell_type": "markdown",
   "metadata": {},
   "source": [
    "#### 14. Fortune"
   ]
  },
  {
   "cell_type": "code",
   "execution_count": 2257,
   "metadata": {},
   "outputs": [],
   "source": [
    "Fortune = Fortune.sort_values(by= ['status_date'])"
   ]
  },
  {
   "cell_type": "code",
   "execution_count": 2258,
   "metadata": {},
   "outputs": [],
   "source": [
    "cols = ['V3', 'V4', 'V5', 'V13', 'V14', 'V15', 'V16', 'V17', 'V19', 'V20', 'V21', 'V26', 'V28', 'V30', 'V36', 'V38', 'V39', 'V48', 'V51', 'V54', 'V55', 'V56', 'V57', \n",
    "        'V58', 'V59', 'V60', 'V64', 'V70', 'V72', 'V77']"
   ]
  },
  {
   "cell_type": "code",
   "execution_count": 2259,
   "metadata": {},
   "outputs": [],
   "source": [
    "#deleted those cols columns from the dataset as they only contain nulls\n",
    "\n",
    "Fortune = Fortune.drop(cols, axis=1)"
   ]
  },
  {
   "cell_type": "code",
   "execution_count": 2260,
   "metadata": {},
   "outputs": [],
   "source": [
    "Fortune['new_date'] = pd.to_datetime(Fortune['status_date'], errors='coerce')"
   ]
  },
  {
   "cell_type": "code",
   "execution_count": 2261,
   "metadata": {},
   "outputs": [],
   "source": [
    "Fortune = Fortune.sort_values(by= ['new_date'])"
   ]
  },
  {
   "cell_type": "code",
   "execution_count": 2262,
   "metadata": {},
   "outputs": [],
   "source": [
    "Fortune['new_date'].loc[(Fortune['new_date'] < '2010-04-01')] = '2010-04-01'"
   ]
  },
  {
   "cell_type": "code",
   "execution_count": 2263,
   "metadata": {},
   "outputs": [],
   "source": [
    "Fortune = Fortune.sort_values(by= ['location_code', 'period'])"
   ]
  },
  {
   "cell_type": "code",
   "execution_count": 2264,
   "metadata": {},
   "outputs": [],
   "source": [
    "Fortune['locaton_code'] = Fortune['location_code'].astype(\"category\")"
   ]
  },
  {
   "cell_type": "code",
   "execution_count": 2265,
   "metadata": {},
   "outputs": [],
   "source": [
    "locations = Fortune['location_code'].unique()"
   ]
  },
  {
   "cell_type": "code",
   "execution_count": 2266,
   "metadata": {},
   "outputs": [],
   "source": [
    "Fortune.loc[Fortune['name'].isnull(), 'name'] = Fortune['location_code']"
   ]
  },
  {
   "cell_type": "code",
   "execution_count": 2267,
   "metadata": {},
   "outputs": [],
   "source": [
    "Fortune['status_date'] = pd.to_datetime(Fortune['status_date'], errors='coerce')"
   ]
  },
  {
   "cell_type": "code",
   "execution_count": 2268,
   "metadata": {},
   "outputs": [],
   "source": [
    "Fortune['status_date'].iloc[Fortune['status_date'] < '2010-04-01'] = '04/01/2010'"
   ]
  },
  {
   "cell_type": "code",
   "execution_count": 2269,
   "metadata": {},
   "outputs": [],
   "source": [
    "Fortune['status_date'] = pd.to_datetime(Fortune['status_date'], errors='coerce')"
   ]
  },
  {
   "cell_type": "code",
   "execution_count": 2270,
   "metadata": {},
   "outputs": [],
   "source": [
    "Fortune['period2'] = pd.to_datetime(Fortune['period'])"
   ]
  },
  {
   "cell_type": "code",
   "execution_count": 2271,
   "metadata": {},
   "outputs": [],
   "source": [
    "Fortune['period2'] = Fortune['period2'] + pd.DateOffset(months=1)"
   ]
  },
  {
   "cell_type": "code",
   "execution_count": 2272,
   "metadata": {},
   "outputs": [],
   "source": [
    "Fortune['duration'] = Fortune['period2'] - Fortune['status_date']"
   ]
  },
  {
   "cell_type": "code",
   "execution_count": 2273,
   "metadata": {},
   "outputs": [],
   "source": [
    "Fortune['duration'] = Fortune['duration'].dt.days"
   ]
  },
  {
   "cell_type": "code",
   "execution_count": 2274,
   "metadata": {},
   "outputs": [],
   "source": [
    "Fortune['study-start'] = '04/01/2010'"
   ]
  },
  {
   "cell_type": "code",
   "execution_count": 2275,
   "metadata": {},
   "outputs": [],
   "source": [
    "Fortune['study-start'] = pd.to_datetime(Fortune['study-start'], errors='coerce')"
   ]
  },
  {
   "cell_type": "code",
   "execution_count": 2276,
   "metadata": {},
   "outputs": [],
   "source": [
    "Fortune['time-of-entry'] = Fortune['status_date'] -  Fortune['study-start']"
   ]
  },
  {
   "cell_type": "code",
   "execution_count": 2277,
   "metadata": {},
   "outputs": [],
   "source": [
    "Fortune['time-at-open'] = 0"
   ]
  },
  {
   "cell_type": "code",
   "execution_count": 2278,
   "metadata": {},
   "outputs": [],
   "source": [
    "Fortune['vacant'] = 1"
   ]
  },
  {
   "cell_type": "code",
   "execution_count": 2279,
   "metadata": {},
   "outputs": [],
   "source": [
    "Fortune = Fortune.drop(Fortune[(Fortune['status'] == True)].index)"
   ]
  },
  {
   "cell_type": "code",
   "execution_count": 2280,
   "metadata": {},
   "outputs": [],
   "source": [
    "Fortune['location_code'] = Fortune['location_code'].astype(\"category\")"
   ]
  },
  {
   "cell_type": "code",
   "execution_count": 2281,
   "metadata": {},
   "outputs": [],
   "source": [
    "locations = list(Fortune['location_code'].unique())"
   ]
  },
  {
   "cell_type": "code",
   "execution_count": 2282,
   "metadata": {},
   "outputs": [],
   "source": [
    "Fortune = Fortune.set_index('location_code')"
   ]
  },
  {
   "cell_type": "code",
   "execution_count": 2283,
   "metadata": {},
   "outputs": [],
   "source": [
    "Fortune['survival'] = 0"
   ]
  },
  {
   "cell_type": "code",
   "execution_count": 2284,
   "metadata": {},
   "outputs": [],
   "source": [
    "Fortune['survival'] = Fortune['duration']"
   ]
  },
  {
   "cell_type": "code",
   "execution_count": 2285,
   "metadata": {},
   "outputs": [],
   "source": [
    "Fortune['entry'] = Fortune['time-of-entry'].dt.days"
   ]
  },
  {
   "cell_type": "code",
   "execution_count": 2286,
   "metadata": {},
   "outputs": [],
   "source": [
    "Fortune['time-at-open'] = Fortune['survival'] + Fortune['entry']"
   ]
  },
  {
   "cell_type": "code",
   "execution_count": 2287,
   "metadata": {},
   "outputs": [],
   "source": [
    "Fortune['stat'] = Fortune['status'].astype(int)"
   ]
  },
  {
   "cell_type": "code",
   "execution_count": 2288,
   "metadata": {},
   "outputs": [],
   "source": [
    "Fortune[\"StatusChange\"] =  Fortune['stat'].shift() != Fortune['stat']"
   ]
  },
  {
   "cell_type": "code",
   "execution_count": 2289,
   "metadata": {},
   "outputs": [
    {
     "name": "stderr",
     "output_type": "stream",
     "text": [
      "/opt/conda/envs/sds2020/lib/python3.7/site-packages/pandas/core/indexing.py:670: SettingWithCopyWarning: \n",
      "A value is trying to be set on a copy of a slice from a DataFrame\n",
      "\n",
      "See the caveats in the documentation: https://pandas.pydata.org/pandas-docs/stable/user_guide/indexing.html#returning-a-view-versus-a-copy\n",
      "  iloc._setitem_with_indexer(indexer, value)\n"
     ]
    }
   ],
   "source": [
    "Fortune[\"StatusChange\"].iloc[0] = False"
   ]
  },
  {
   "cell_type": "code",
   "execution_count": 2290,
   "metadata": {},
   "outputs": [],
   "source": [
    "Fortune[\"TenantChange\"] =  Fortune['name'].shift(-1) != Fortune['name'] "
   ]
  },
  {
   "cell_type": "code",
   "execution_count": 2291,
   "metadata": {},
   "outputs": [],
   "source": [
    "Fortune[\"TenantChange\"].iloc[0] = False"
   ]
  },
  {
   "cell_type": "code",
   "execution_count": 2292,
   "metadata": {},
   "outputs": [],
   "source": [
    "counter = 0 \n",
    "stoppingCondition = len(locations)\n",
    "Fortune2 = pd.DataFrame(data=None, columns=Fortune.columns, index=None)\n",
    "\n",
    "while counter < stoppingCondition:\n",
    "        i = locations[counter]\n",
    "        m = Fortune.loc[i, :].iloc[[ Fortune.loc[i, :]['status_duration'].argmax()]]\n",
    "        Fortune2 = Fortune2.append(m, ignore_index=False)\n",
    "        counter += 1"
   ]
  },
  {
   "cell_type": "code",
   "execution_count": 2293,
   "metadata": {},
   "outputs": [],
   "source": [
    "Fortune3 = Fortune2.drop_duplicates()"
   ]
  },
  {
   "cell_type": "code",
   "execution_count": 2294,
   "metadata": {},
   "outputs": [],
   "source": [
    "Fortune3.loc[Fortune3['time-at-open'] == 4018, ['vacant']] = 0"
   ]
  },
  {
   "cell_type": "code",
   "execution_count": 2295,
   "metadata": {},
   "outputs": [],
   "source": [
    "Fortune3['highstreet'] = 'Fortune'"
   ]
  },
  {
   "cell_type": "code",
   "execution_count": 2296,
   "metadata": {},
   "outputs": [],
   "source": [
    "Fortune3.to_csv('Fortune-vacant-survival.csv')"
   ]
  },
  {
   "cell_type": "markdown",
   "metadata": {},
   "source": [
    "#### 15. Willesden"
   ]
  },
  {
   "cell_type": "code",
   "execution_count": 2297,
   "metadata": {},
   "outputs": [],
   "source": [
    "Willesden = Willesden.sort_values(by= ['status_date'])"
   ]
  },
  {
   "cell_type": "code",
   "execution_count": 2298,
   "metadata": {},
   "outputs": [],
   "source": [
    "cols = ['V3', 'V4', 'V5', 'V13', 'V14', 'V15', 'V16', 'V17', 'V19', 'V20', 'V21', 'V26', 'V28', 'V30', 'V36', 'V38', 'V39', 'V48', 'V51', 'V54', 'V55', 'V56', 'V57', \n",
    "        'V58', 'V59', 'V60', 'V64', 'V70', 'V72', 'V77']"
   ]
  },
  {
   "cell_type": "code",
   "execution_count": 2299,
   "metadata": {},
   "outputs": [],
   "source": [
    "#deleted those cols columns from the dataset as they only contain nulls\n",
    "\n",
    "Willesden = Willesden.drop(cols, axis=1)"
   ]
  },
  {
   "cell_type": "code",
   "execution_count": 2300,
   "metadata": {},
   "outputs": [],
   "source": [
    "Willesden['new_date'] = pd.to_datetime(Willesden['status_date'], errors='coerce')"
   ]
  },
  {
   "cell_type": "code",
   "execution_count": 2301,
   "metadata": {},
   "outputs": [],
   "source": [
    "Willesden = Willesden.sort_values(by= ['new_date'])"
   ]
  },
  {
   "cell_type": "code",
   "execution_count": 2302,
   "metadata": {},
   "outputs": [],
   "source": [
    "Willesden['new_date'].loc[(Willesden['new_date'] < '2010-04-01')] = '2010-04-01'"
   ]
  },
  {
   "cell_type": "code",
   "execution_count": 2303,
   "metadata": {},
   "outputs": [],
   "source": [
    "Willesden = Willesden.sort_values(by= ['location_code', 'period'])"
   ]
  },
  {
   "cell_type": "code",
   "execution_count": 2304,
   "metadata": {},
   "outputs": [],
   "source": [
    "Willesden['locaton_code'] = Willesden['location_code'].astype(\"category\")"
   ]
  },
  {
   "cell_type": "code",
   "execution_count": 2305,
   "metadata": {},
   "outputs": [],
   "source": [
    "locations = Willesden['location_code'].unique()"
   ]
  },
  {
   "cell_type": "code",
   "execution_count": 2306,
   "metadata": {},
   "outputs": [],
   "source": [
    "Willesden.loc[Willesden['name'].isnull(), 'name'] = Willesden['location_code']"
   ]
  },
  {
   "cell_type": "code",
   "execution_count": 2307,
   "metadata": {},
   "outputs": [],
   "source": [
    "Willesden['status_date'] = pd.to_datetime(Willesden['status_date'], errors='coerce')"
   ]
  },
  {
   "cell_type": "code",
   "execution_count": 2308,
   "metadata": {},
   "outputs": [],
   "source": [
    "Willesden['status_date'].iloc[Willesden['status_date'] < '2010-04-01'] = '04/01/2010'"
   ]
  },
  {
   "cell_type": "code",
   "execution_count": 2309,
   "metadata": {},
   "outputs": [],
   "source": [
    "Willesden['status_date'] = pd.to_datetime(Willesden['status_date'], errors='coerce')"
   ]
  },
  {
   "cell_type": "code",
   "execution_count": 2310,
   "metadata": {},
   "outputs": [],
   "source": [
    "Willesden['period2'] = pd.to_datetime(Willesden['period'])"
   ]
  },
  {
   "cell_type": "code",
   "execution_count": 2311,
   "metadata": {},
   "outputs": [],
   "source": [
    "Willesden['period2'] = Willesden['period2'] + pd.DateOffset(months=1)"
   ]
  },
  {
   "cell_type": "code",
   "execution_count": 2312,
   "metadata": {},
   "outputs": [],
   "source": [
    "Willesden['duration'] = Willesden['period2'] - Willesden['status_date']"
   ]
  },
  {
   "cell_type": "code",
   "execution_count": 2313,
   "metadata": {},
   "outputs": [],
   "source": [
    "Willesden['duration'] = Willesden['duration'].dt.days"
   ]
  },
  {
   "cell_type": "code",
   "execution_count": 2314,
   "metadata": {},
   "outputs": [],
   "source": [
    "Willesden['study-start'] = '04/01/2010'"
   ]
  },
  {
   "cell_type": "code",
   "execution_count": 2315,
   "metadata": {},
   "outputs": [],
   "source": [
    "Willesden['study-start'] = pd.to_datetime(Willesden['study-start'], errors='coerce')"
   ]
  },
  {
   "cell_type": "code",
   "execution_count": 2316,
   "metadata": {},
   "outputs": [],
   "source": [
    "Willesden['time-of-entry'] = Willesden['status_date'] -  Willesden['study-start']"
   ]
  },
  {
   "cell_type": "code",
   "execution_count": 2317,
   "metadata": {},
   "outputs": [],
   "source": [
    "Willesden['time-at-open'] = 0"
   ]
  },
  {
   "cell_type": "code",
   "execution_count": 2318,
   "metadata": {},
   "outputs": [],
   "source": [
    "Willesden['vacant'] = 1"
   ]
  },
  {
   "cell_type": "code",
   "execution_count": 2319,
   "metadata": {},
   "outputs": [],
   "source": [
    "Willesden = Willesden.drop(Willesden[(Willesden['status'] == True)].index)"
   ]
  },
  {
   "cell_type": "code",
   "execution_count": 2320,
   "metadata": {},
   "outputs": [],
   "source": [
    "Willesden['location_code'] = Willesden['location_code'].astype(\"category\")"
   ]
  },
  {
   "cell_type": "code",
   "execution_count": 2321,
   "metadata": {},
   "outputs": [],
   "source": [
    "locations = list(Willesden['location_code'].unique())"
   ]
  },
  {
   "cell_type": "code",
   "execution_count": 2322,
   "metadata": {},
   "outputs": [],
   "source": [
    "Willesden = Willesden.set_index('location_code')"
   ]
  },
  {
   "cell_type": "code",
   "execution_count": 2323,
   "metadata": {},
   "outputs": [],
   "source": [
    "Willesden['survival'] = 0"
   ]
  },
  {
   "cell_type": "code",
   "execution_count": 2324,
   "metadata": {},
   "outputs": [],
   "source": [
    "Willesden['survival'] = Willesden['duration']"
   ]
  },
  {
   "cell_type": "code",
   "execution_count": 2325,
   "metadata": {},
   "outputs": [],
   "source": [
    "Willesden['entry'] = Willesden['time-of-entry'].dt.days"
   ]
  },
  {
   "cell_type": "code",
   "execution_count": 2326,
   "metadata": {},
   "outputs": [],
   "source": [
    "Willesden['time-at-open'] = Willesden['survival'] + Willesden['entry']"
   ]
  },
  {
   "cell_type": "code",
   "execution_count": 2327,
   "metadata": {},
   "outputs": [],
   "source": [
    "Willesden['stat'] = Willesden['status'].astype(int)"
   ]
  },
  {
   "cell_type": "code",
   "execution_count": 2328,
   "metadata": {},
   "outputs": [],
   "source": [
    "Willesden[\"StatusChange\"] =  Willesden['stat'].shift() != Willesden['stat']"
   ]
  },
  {
   "cell_type": "code",
   "execution_count": 2329,
   "metadata": {},
   "outputs": [
    {
     "name": "stderr",
     "output_type": "stream",
     "text": [
      "/opt/conda/envs/sds2020/lib/python3.7/site-packages/pandas/core/indexing.py:670: SettingWithCopyWarning: \n",
      "A value is trying to be set on a copy of a slice from a DataFrame\n",
      "\n",
      "See the caveats in the documentation: https://pandas.pydata.org/pandas-docs/stable/user_guide/indexing.html#returning-a-view-versus-a-copy\n",
      "  iloc._setitem_with_indexer(indexer, value)\n"
     ]
    }
   ],
   "source": [
    "Willesden[\"StatusChange\"].iloc[0] = False"
   ]
  },
  {
   "cell_type": "code",
   "execution_count": 2330,
   "metadata": {},
   "outputs": [],
   "source": [
    "Willesden[\"TenantChange\"] =  Willesden['name'].shift(-1) != Willesden['name'] "
   ]
  },
  {
   "cell_type": "code",
   "execution_count": 2331,
   "metadata": {},
   "outputs": [],
   "source": [
    "Willesden[\"TenantChange\"].iloc[0] = False"
   ]
  },
  {
   "cell_type": "code",
   "execution_count": 2332,
   "metadata": {},
   "outputs": [],
   "source": [
    "counter = 0 \n",
    "stoppingCondition = len(locations)\n",
    "Willesden2 = pd.DataFrame(data=None, columns=Willesden.columns, index=None)\n",
    "\n",
    "while counter < stoppingCondition:\n",
    "        i = locations[counter]\n",
    "        m = Willesden.loc[i, :].iloc[[ Willesden.loc[i, :]['status_duration'].argmax()]]\n",
    "        Willesden2 = Willesden2.append(m, ignore_index=False)\n",
    "        counter += 1"
   ]
  },
  {
   "cell_type": "code",
   "execution_count": 2333,
   "metadata": {},
   "outputs": [],
   "source": [
    "Willesden3 = Willesden2.drop_duplicates()"
   ]
  },
  {
   "cell_type": "code",
   "execution_count": 2334,
   "metadata": {},
   "outputs": [],
   "source": [
    "Willesden3.loc[Willesden3['time-at-open'] == 4018, ['vacant']] = 0"
   ]
  },
  {
   "cell_type": "code",
   "execution_count": 2335,
   "metadata": {},
   "outputs": [],
   "source": [
    "Willesden3['highstreet'] = 'Willesden'"
   ]
  },
  {
   "cell_type": "code",
   "execution_count": 2336,
   "metadata": {},
   "outputs": [],
   "source": [
    "Willesden3.to_csv('Willesden-vacant-survival.csv')"
   ]
  },
  {
   "cell_type": "markdown",
   "metadata": {},
   "source": [
    "#### 16. Mansfield"
   ]
  },
  {
   "cell_type": "code",
   "execution_count": 2337,
   "metadata": {},
   "outputs": [],
   "source": [
    "Mansfield = Mansfield.sort_values(by= ['status_date'])"
   ]
  },
  {
   "cell_type": "code",
   "execution_count": 2338,
   "metadata": {},
   "outputs": [],
   "source": [
    "cols = ['V3', 'V4', 'V5', 'V13', 'V14', 'V15', 'V16', 'V17', 'V19', 'V20', 'V21', 'V26', 'V28', 'V30', 'V36', 'V38', 'V39', 'V48', 'V51', 'V54', 'V55', 'V56', 'V57', \n",
    "        'V58', 'V59', 'V60', 'V64', 'V70', 'V72', 'V77']"
   ]
  },
  {
   "cell_type": "code",
   "execution_count": 2339,
   "metadata": {},
   "outputs": [],
   "source": [
    "#deleted those cols columns from the dataset as they only contain nulls\n",
    "\n",
    "Mansfield = Mansfield.drop(cols, axis=1)"
   ]
  },
  {
   "cell_type": "code",
   "execution_count": 2340,
   "metadata": {},
   "outputs": [],
   "source": [
    "Mansfield['new_date'] = pd.to_datetime(Mansfield['status_date'], errors='coerce')"
   ]
  },
  {
   "cell_type": "code",
   "execution_count": 2341,
   "metadata": {},
   "outputs": [],
   "source": [
    "Mansfield = Mansfield.sort_values(by= ['new_date'])"
   ]
  },
  {
   "cell_type": "code",
   "execution_count": 2342,
   "metadata": {},
   "outputs": [],
   "source": [
    "Mansfield['new_date'].loc[(Mansfield['new_date'] < '2010-04-01')] = '2010-04-01'"
   ]
  },
  {
   "cell_type": "code",
   "execution_count": 2343,
   "metadata": {},
   "outputs": [],
   "source": [
    "Mansfield = Mansfield.sort_values(by= ['location_code', 'period'])"
   ]
  },
  {
   "cell_type": "code",
   "execution_count": 2344,
   "metadata": {},
   "outputs": [],
   "source": [
    "Mansfield['locaton_code'] = Mansfield['location_code'].astype(\"category\")"
   ]
  },
  {
   "cell_type": "code",
   "execution_count": 2345,
   "metadata": {},
   "outputs": [],
   "source": [
    "locations = Mansfield['location_code'].unique()"
   ]
  },
  {
   "cell_type": "code",
   "execution_count": 2346,
   "metadata": {},
   "outputs": [],
   "source": [
    "Mansfield.loc[Mansfield['name'].isnull(), 'name'] = Mansfield['location_code']"
   ]
  },
  {
   "cell_type": "code",
   "execution_count": 2347,
   "metadata": {},
   "outputs": [],
   "source": [
    "Mansfield['status_date'] = pd.to_datetime(Mansfield['status_date'], errors='coerce')"
   ]
  },
  {
   "cell_type": "code",
   "execution_count": 2348,
   "metadata": {},
   "outputs": [],
   "source": [
    "Mansfield['status_date'].iloc[Mansfield['status_date'] < '2010-04-01'] = '04/01/2010'"
   ]
  },
  {
   "cell_type": "code",
   "execution_count": 2349,
   "metadata": {},
   "outputs": [],
   "source": [
    "Mansfield['status_date'] = pd.to_datetime(Mansfield['status_date'], errors='coerce')"
   ]
  },
  {
   "cell_type": "code",
   "execution_count": 2350,
   "metadata": {},
   "outputs": [],
   "source": [
    "Mansfield['period2'] = pd.to_datetime(Mansfield['period'])"
   ]
  },
  {
   "cell_type": "code",
   "execution_count": 2351,
   "metadata": {},
   "outputs": [],
   "source": [
    "Mansfield['period2'] = Mansfield['period2'] + pd.DateOffset(months=1)"
   ]
  },
  {
   "cell_type": "code",
   "execution_count": 2352,
   "metadata": {},
   "outputs": [],
   "source": [
    "Mansfield['duration'] = Mansfield['period2'] - Mansfield['status_date']"
   ]
  },
  {
   "cell_type": "code",
   "execution_count": 2353,
   "metadata": {},
   "outputs": [],
   "source": [
    "Mansfield['duration'] = Mansfield['duration'].dt.days"
   ]
  },
  {
   "cell_type": "code",
   "execution_count": 2354,
   "metadata": {},
   "outputs": [],
   "source": [
    "Mansfield['study-start'] = '04/01/2010'"
   ]
  },
  {
   "cell_type": "code",
   "execution_count": 2355,
   "metadata": {},
   "outputs": [],
   "source": [
    "Mansfield['study-start'] = pd.to_datetime(Mansfield['study-start'], errors='coerce')"
   ]
  },
  {
   "cell_type": "code",
   "execution_count": 2356,
   "metadata": {},
   "outputs": [],
   "source": [
    "Mansfield['time-of-entry'] = Mansfield['status_date'] -  Mansfield['study-start']"
   ]
  },
  {
   "cell_type": "code",
   "execution_count": 2357,
   "metadata": {},
   "outputs": [],
   "source": [
    "Mansfield['time-at-open'] = 0"
   ]
  },
  {
   "cell_type": "code",
   "execution_count": 2358,
   "metadata": {},
   "outputs": [],
   "source": [
    "Mansfield['vacant'] = 1"
   ]
  },
  {
   "cell_type": "code",
   "execution_count": 2359,
   "metadata": {},
   "outputs": [],
   "source": [
    "Mansfield = Mansfield.drop(Mansfield[(Mansfield['status'] == True)].index)"
   ]
  },
  {
   "cell_type": "code",
   "execution_count": 2360,
   "metadata": {},
   "outputs": [],
   "source": [
    "Mansfield['location_code'] = Mansfield['location_code'].astype(\"category\")"
   ]
  },
  {
   "cell_type": "code",
   "execution_count": 2361,
   "metadata": {},
   "outputs": [],
   "source": [
    "locations = list(Mansfield['location_code'].unique())"
   ]
  },
  {
   "cell_type": "code",
   "execution_count": 2362,
   "metadata": {},
   "outputs": [],
   "source": [
    "Mansfield = Mansfield.set_index('location_code')"
   ]
  },
  {
   "cell_type": "code",
   "execution_count": 2363,
   "metadata": {},
   "outputs": [],
   "source": [
    "Mansfield['survival'] = 0"
   ]
  },
  {
   "cell_type": "code",
   "execution_count": 2364,
   "metadata": {},
   "outputs": [],
   "source": [
    "Mansfield['survival'] = Mansfield['duration']"
   ]
  },
  {
   "cell_type": "code",
   "execution_count": 2365,
   "metadata": {},
   "outputs": [],
   "source": [
    "Mansfield['entry'] = Mansfield['time-of-entry'].dt.days"
   ]
  },
  {
   "cell_type": "code",
   "execution_count": 2366,
   "metadata": {},
   "outputs": [],
   "source": [
    "Mansfield['time-at-open'] = Mansfield['survival'] + Mansfield['entry']"
   ]
  },
  {
   "cell_type": "code",
   "execution_count": 2367,
   "metadata": {},
   "outputs": [],
   "source": [
    "Mansfield['stat'] = Mansfield['status'].astype(int)"
   ]
  },
  {
   "cell_type": "code",
   "execution_count": 2368,
   "metadata": {},
   "outputs": [],
   "source": [
    "Mansfield[\"StatusChange\"] =  Mansfield['stat'].shift() != Mansfield['stat']"
   ]
  },
  {
   "cell_type": "code",
   "execution_count": 2369,
   "metadata": {},
   "outputs": [
    {
     "name": "stderr",
     "output_type": "stream",
     "text": [
      "/opt/conda/envs/sds2020/lib/python3.7/site-packages/pandas/core/indexing.py:670: SettingWithCopyWarning: \n",
      "A value is trying to be set on a copy of a slice from a DataFrame\n",
      "\n",
      "See the caveats in the documentation: https://pandas.pydata.org/pandas-docs/stable/user_guide/indexing.html#returning-a-view-versus-a-copy\n",
      "  iloc._setitem_with_indexer(indexer, value)\n"
     ]
    }
   ],
   "source": [
    "Mansfield[\"StatusChange\"].iloc[0] = False"
   ]
  },
  {
   "cell_type": "code",
   "execution_count": 2370,
   "metadata": {},
   "outputs": [],
   "source": [
    "Mansfield[\"TenantChange\"] =  Mansfield['name'].shift(-1) != Mansfield['name'] "
   ]
  },
  {
   "cell_type": "code",
   "execution_count": 2371,
   "metadata": {},
   "outputs": [],
   "source": [
    "Mansfield[\"TenantChange\"].iloc[0] = False"
   ]
  },
  {
   "cell_type": "code",
   "execution_count": 2499,
   "metadata": {},
   "outputs": [
    {
     "data": {
      "text/html": [
       "<div>\n",
       "<style scoped>\n",
       "    .dataframe tbody tr th:only-of-type {\n",
       "        vertical-align: middle;\n",
       "    }\n",
       "\n",
       "    .dataframe tbody tr th {\n",
       "        vertical-align: top;\n",
       "    }\n",
       "\n",
       "    .dataframe thead th {\n",
       "        text-align: right;\n",
       "    }\n",
       "</style>\n",
       "<table border=\"1\" class=\"dataframe\">\n",
       "  <thead>\n",
       "    <tr style=\"text-align: right;\">\n",
       "      <th></th>\n",
       "      <th>Unnamed: 0</th>\n",
       "      <th>Unnamed: 0.1</th>\n",
       "      <th>rates_code</th>\n",
       "      <th>rates_authority_id</th>\n",
       "      <th>rates_authority</th>\n",
       "      <th>region</th>\n",
       "      <th>address_no</th>\n",
       "      <th>address_street</th>\n",
       "      <th>address_town</th>\n",
       "      <th>pc__pcs</th>\n",
       "      <th>...</th>\n",
       "      <th>duration</th>\n",
       "      <th>study-start</th>\n",
       "      <th>time-of-entry</th>\n",
       "      <th>time-at-open</th>\n",
       "      <th>vacant</th>\n",
       "      <th>survival</th>\n",
       "      <th>entry</th>\n",
       "      <th>stat</th>\n",
       "      <th>StatusChange</th>\n",
       "      <th>TenantChange</th>\n",
       "    </tr>\n",
       "    <tr>\n",
       "      <th>location_code</th>\n",
       "      <th></th>\n",
       "      <th></th>\n",
       "      <th></th>\n",
       "      <th></th>\n",
       "      <th></th>\n",
       "      <th></th>\n",
       "      <th></th>\n",
       "      <th></th>\n",
       "      <th></th>\n",
       "      <th></th>\n",
       "      <th></th>\n",
       "      <th></th>\n",
       "      <th></th>\n",
       "      <th></th>\n",
       "      <th></th>\n",
       "      <th></th>\n",
       "      <th></th>\n",
       "      <th></th>\n",
       "      <th></th>\n",
       "      <th></th>\n",
       "      <th></th>\n",
       "    </tr>\n",
       "  </thead>\n",
       "  <tbody>\n",
       "    <tr>\n",
       "      <th>58763063</th>\n",
       "      <td>29480</td>\n",
       "      <td>29480</td>\n",
       "      <td>00210006810015</td>\n",
       "      <td>E09000007</td>\n",
       "      <td>Camden</td>\n",
       "      <td>Inner London - West</td>\n",
       "      <td>68</td>\n",
       "      <td>MANSFIELD ROAD</td>\n",
       "      <td>LONDON</td>\n",
       "      <td>NW3 2HU</td>\n",
       "      <td>...</td>\n",
       "      <td>91</td>\n",
       "      <td>2010-04-01</td>\n",
       "      <td>0 days</td>\n",
       "      <td>91</td>\n",
       "      <td>1</td>\n",
       "      <td>91</td>\n",
       "      <td>0</td>\n",
       "      <td>0</td>\n",
       "      <td>False</td>\n",
       "      <td>False</td>\n",
       "    </tr>\n",
       "    <tr>\n",
       "      <th>58763063</th>\n",
       "      <td>29481</td>\n",
       "      <td>29481</td>\n",
       "      <td>00210006810015</td>\n",
       "      <td>E09000007</td>\n",
       "      <td>Camden</td>\n",
       "      <td>Inner London - West</td>\n",
       "      <td>68</td>\n",
       "      <td>MANSFIELD ROAD</td>\n",
       "      <td>LONDON</td>\n",
       "      <td>NW3 2HU</td>\n",
       "      <td>...</td>\n",
       "      <td>183</td>\n",
       "      <td>2010-04-01</td>\n",
       "      <td>0 days</td>\n",
       "      <td>183</td>\n",
       "      <td>1</td>\n",
       "      <td>183</td>\n",
       "      <td>0</td>\n",
       "      <td>0</td>\n",
       "      <td>False</td>\n",
       "      <td>False</td>\n",
       "    </tr>\n",
       "    <tr>\n",
       "      <th>58763063</th>\n",
       "      <td>29482</td>\n",
       "      <td>29482</td>\n",
       "      <td>00210006810015</td>\n",
       "      <td>E09000007</td>\n",
       "      <td>Camden</td>\n",
       "      <td>Inner London - West</td>\n",
       "      <td>68</td>\n",
       "      <td>MANSFIELD ROAD</td>\n",
       "      <td>LONDON</td>\n",
       "      <td>NW3 2HU</td>\n",
       "      <td>...</td>\n",
       "      <td>275</td>\n",
       "      <td>2010-04-01</td>\n",
       "      <td>0 days</td>\n",
       "      <td>275</td>\n",
       "      <td>1</td>\n",
       "      <td>275</td>\n",
       "      <td>0</td>\n",
       "      <td>0</td>\n",
       "      <td>False</td>\n",
       "      <td>False</td>\n",
       "    </tr>\n",
       "    <tr>\n",
       "      <th>58763063</th>\n",
       "      <td>29483</td>\n",
       "      <td>29483</td>\n",
       "      <td>00210006810015</td>\n",
       "      <td>E09000007</td>\n",
       "      <td>Camden</td>\n",
       "      <td>Inner London - West</td>\n",
       "      <td>68</td>\n",
       "      <td>MANSFIELD ROAD</td>\n",
       "      <td>LONDON</td>\n",
       "      <td>NW3 2HU</td>\n",
       "      <td>...</td>\n",
       "      <td>365</td>\n",
       "      <td>2010-04-01</td>\n",
       "      <td>0 days</td>\n",
       "      <td>365</td>\n",
       "      <td>1</td>\n",
       "      <td>365</td>\n",
       "      <td>0</td>\n",
       "      <td>0</td>\n",
       "      <td>False</td>\n",
       "      <td>False</td>\n",
       "    </tr>\n",
       "    <tr>\n",
       "      <th>58763063</th>\n",
       "      <td>29484</td>\n",
       "      <td>29484</td>\n",
       "      <td>00210006810015</td>\n",
       "      <td>E09000007</td>\n",
       "      <td>Camden</td>\n",
       "      <td>Inner London - West</td>\n",
       "      <td>68</td>\n",
       "      <td>MANSFIELD ROAD</td>\n",
       "      <td>LONDON</td>\n",
       "      <td>NW3 2HU</td>\n",
       "      <td>...</td>\n",
       "      <td>456</td>\n",
       "      <td>2010-04-01</td>\n",
       "      <td>0 days</td>\n",
       "      <td>456</td>\n",
       "      <td>1</td>\n",
       "      <td>456</td>\n",
       "      <td>0</td>\n",
       "      <td>0</td>\n",
       "      <td>False</td>\n",
       "      <td>False</td>\n",
       "    </tr>\n",
       "    <tr>\n",
       "      <th>58763063</th>\n",
       "      <td>29485</td>\n",
       "      <td>29485</td>\n",
       "      <td>2.10007E+11</td>\n",
       "      <td>E09000007</td>\n",
       "      <td>Camden</td>\n",
       "      <td>Inner London - West</td>\n",
       "      <td>68</td>\n",
       "      <td>MANSFIELD ROAD</td>\n",
       "      <td>LONDON</td>\n",
       "      <td>NW3 2HU</td>\n",
       "      <td>...</td>\n",
       "      <td>548</td>\n",
       "      <td>2010-04-01</td>\n",
       "      <td>0 days</td>\n",
       "      <td>548</td>\n",
       "      <td>1</td>\n",
       "      <td>548</td>\n",
       "      <td>0</td>\n",
       "      <td>0</td>\n",
       "      <td>False</td>\n",
       "      <td>False</td>\n",
       "    </tr>\n",
       "    <tr>\n",
       "      <th>58763063</th>\n",
       "      <td>29486</td>\n",
       "      <td>29486</td>\n",
       "      <td>00210006810015</td>\n",
       "      <td>E09000007</td>\n",
       "      <td>Camden</td>\n",
       "      <td>Inner London - West</td>\n",
       "      <td>68</td>\n",
       "      <td>MANSFIELD ROAD</td>\n",
       "      <td>LONDON</td>\n",
       "      <td>NW3 2HU</td>\n",
       "      <td>...</td>\n",
       "      <td>640</td>\n",
       "      <td>2010-04-01</td>\n",
       "      <td>0 days</td>\n",
       "      <td>640</td>\n",
       "      <td>1</td>\n",
       "      <td>640</td>\n",
       "      <td>0</td>\n",
       "      <td>0</td>\n",
       "      <td>False</td>\n",
       "      <td>False</td>\n",
       "    </tr>\n",
       "    <tr>\n",
       "      <th>58763063</th>\n",
       "      <td>29487</td>\n",
       "      <td>29487</td>\n",
       "      <td>00210006810015</td>\n",
       "      <td>E09000007</td>\n",
       "      <td>Camden</td>\n",
       "      <td>Inner London - West</td>\n",
       "      <td>68</td>\n",
       "      <td>MANSFIELD ROAD</td>\n",
       "      <td>LONDON</td>\n",
       "      <td>NW3 2HU</td>\n",
       "      <td>...</td>\n",
       "      <td>731</td>\n",
       "      <td>2010-04-01</td>\n",
       "      <td>0 days</td>\n",
       "      <td>731</td>\n",
       "      <td>1</td>\n",
       "      <td>731</td>\n",
       "      <td>0</td>\n",
       "      <td>0</td>\n",
       "      <td>False</td>\n",
       "      <td>False</td>\n",
       "    </tr>\n",
       "    <tr>\n",
       "      <th>58763063</th>\n",
       "      <td>29488</td>\n",
       "      <td>29488</td>\n",
       "      <td>00210006810015</td>\n",
       "      <td>E09000007</td>\n",
       "      <td>Camden</td>\n",
       "      <td>Inner London - West</td>\n",
       "      <td>68</td>\n",
       "      <td>MANSFIELD ROAD</td>\n",
       "      <td>LONDON</td>\n",
       "      <td>NW3 2HU</td>\n",
       "      <td>...</td>\n",
       "      <td>822</td>\n",
       "      <td>2010-04-01</td>\n",
       "      <td>0 days</td>\n",
       "      <td>822</td>\n",
       "      <td>1</td>\n",
       "      <td>822</td>\n",
       "      <td>0</td>\n",
       "      <td>0</td>\n",
       "      <td>False</td>\n",
       "      <td>False</td>\n",
       "    </tr>\n",
       "    <tr>\n",
       "      <th>58763063</th>\n",
       "      <td>29489</td>\n",
       "      <td>29489</td>\n",
       "      <td>00210006810015</td>\n",
       "      <td>E09000007</td>\n",
       "      <td>Camden</td>\n",
       "      <td>Inner London - West</td>\n",
       "      <td>68</td>\n",
       "      <td>MANSFIELD ROAD</td>\n",
       "      <td>LONDON</td>\n",
       "      <td>NW3 2HU</td>\n",
       "      <td>...</td>\n",
       "      <td>914</td>\n",
       "      <td>2010-04-01</td>\n",
       "      <td>0 days</td>\n",
       "      <td>914</td>\n",
       "      <td>1</td>\n",
       "      <td>914</td>\n",
       "      <td>0</td>\n",
       "      <td>0</td>\n",
       "      <td>False</td>\n",
       "      <td>False</td>\n",
       "    </tr>\n",
       "    <tr>\n",
       "      <th>58763063</th>\n",
       "      <td>29490</td>\n",
       "      <td>29490</td>\n",
       "      <td>00210006810015</td>\n",
       "      <td>E09000007</td>\n",
       "      <td>Camden</td>\n",
       "      <td>Inner London - West</td>\n",
       "      <td>68</td>\n",
       "      <td>MANSFIELD ROAD</td>\n",
       "      <td>LONDON</td>\n",
       "      <td>NW3 2HU</td>\n",
       "      <td>...</td>\n",
       "      <td>1006</td>\n",
       "      <td>2010-04-01</td>\n",
       "      <td>0 days</td>\n",
       "      <td>1006</td>\n",
       "      <td>1</td>\n",
       "      <td>1006</td>\n",
       "      <td>0</td>\n",
       "      <td>0</td>\n",
       "      <td>False</td>\n",
       "      <td>False</td>\n",
       "    </tr>\n",
       "    <tr>\n",
       "      <th>58763063</th>\n",
       "      <td>29491</td>\n",
       "      <td>29491</td>\n",
       "      <td>00210006810015</td>\n",
       "      <td>E09000007</td>\n",
       "      <td>Camden</td>\n",
       "      <td>Inner London - West</td>\n",
       "      <td>68</td>\n",
       "      <td>MANSFIELD ROAD</td>\n",
       "      <td>LONDON</td>\n",
       "      <td>NW3 2HU</td>\n",
       "      <td>...</td>\n",
       "      <td>1096</td>\n",
       "      <td>2010-04-01</td>\n",
       "      <td>0 days</td>\n",
       "      <td>1096</td>\n",
       "      <td>1</td>\n",
       "      <td>1096</td>\n",
       "      <td>0</td>\n",
       "      <td>0</td>\n",
       "      <td>False</td>\n",
       "      <td>False</td>\n",
       "    </tr>\n",
       "    <tr>\n",
       "      <th>58763063</th>\n",
       "      <td>29492</td>\n",
       "      <td>29492</td>\n",
       "      <td>00210006810015</td>\n",
       "      <td>E09000007</td>\n",
       "      <td>Camden</td>\n",
       "      <td>Inner London - West</td>\n",
       "      <td>68</td>\n",
       "      <td>MANSFIELD ROAD</td>\n",
       "      <td>LONDON</td>\n",
       "      <td>NW3 2HU</td>\n",
       "      <td>...</td>\n",
       "      <td>1187</td>\n",
       "      <td>2010-04-01</td>\n",
       "      <td>0 days</td>\n",
       "      <td>1187</td>\n",
       "      <td>1</td>\n",
       "      <td>1187</td>\n",
       "      <td>0</td>\n",
       "      <td>0</td>\n",
       "      <td>False</td>\n",
       "      <td>False</td>\n",
       "    </tr>\n",
       "    <tr>\n",
       "      <th>58763063</th>\n",
       "      <td>29493</td>\n",
       "      <td>29493</td>\n",
       "      <td>00210006810015</td>\n",
       "      <td>E09000007</td>\n",
       "      <td>Camden</td>\n",
       "      <td>Inner London - West</td>\n",
       "      <td>68</td>\n",
       "      <td>MANSFIELD ROAD</td>\n",
       "      <td>LONDON</td>\n",
       "      <td>NW3 2HU</td>\n",
       "      <td>...</td>\n",
       "      <td>1279</td>\n",
       "      <td>2010-04-01</td>\n",
       "      <td>0 days</td>\n",
       "      <td>1279</td>\n",
       "      <td>1</td>\n",
       "      <td>1279</td>\n",
       "      <td>0</td>\n",
       "      <td>0</td>\n",
       "      <td>False</td>\n",
       "      <td>False</td>\n",
       "    </tr>\n",
       "    <tr>\n",
       "      <th>58763063</th>\n",
       "      <td>29494</td>\n",
       "      <td>29494</td>\n",
       "      <td>00210006810015</td>\n",
       "      <td>E09000007</td>\n",
       "      <td>Camden</td>\n",
       "      <td>Inner London - West</td>\n",
       "      <td>68</td>\n",
       "      <td>MANSFIELD ROAD</td>\n",
       "      <td>LONDON</td>\n",
       "      <td>NW3 2HU</td>\n",
       "      <td>...</td>\n",
       "      <td>1371</td>\n",
       "      <td>2010-04-01</td>\n",
       "      <td>0 days</td>\n",
       "      <td>1371</td>\n",
       "      <td>1</td>\n",
       "      <td>1371</td>\n",
       "      <td>0</td>\n",
       "      <td>0</td>\n",
       "      <td>False</td>\n",
       "      <td>False</td>\n",
       "    </tr>\n",
       "    <tr>\n",
       "      <th>58763063</th>\n",
       "      <td>29495</td>\n",
       "      <td>29495</td>\n",
       "      <td>00210006810015</td>\n",
       "      <td>E09000007</td>\n",
       "      <td>Camden</td>\n",
       "      <td>Inner London - West</td>\n",
       "      <td>68</td>\n",
       "      <td>MANSFIELD ROAD</td>\n",
       "      <td>LONDON</td>\n",
       "      <td>NW3 2HU</td>\n",
       "      <td>...</td>\n",
       "      <td>1461</td>\n",
       "      <td>2010-04-01</td>\n",
       "      <td>0 days</td>\n",
       "      <td>1461</td>\n",
       "      <td>1</td>\n",
       "      <td>1461</td>\n",
       "      <td>0</td>\n",
       "      <td>0</td>\n",
       "      <td>False</td>\n",
       "      <td>False</td>\n",
       "    </tr>\n",
       "    <tr>\n",
       "      <th>58763063</th>\n",
       "      <td>29496</td>\n",
       "      <td>29496</td>\n",
       "      <td>00210006810015</td>\n",
       "      <td>E09000007</td>\n",
       "      <td>Camden</td>\n",
       "      <td>Inner London - West</td>\n",
       "      <td>68</td>\n",
       "      <td>MANSFIELD ROAD</td>\n",
       "      <td>LONDON</td>\n",
       "      <td>NW3 2HU</td>\n",
       "      <td>...</td>\n",
       "      <td>1552</td>\n",
       "      <td>2010-04-01</td>\n",
       "      <td>0 days</td>\n",
       "      <td>1552</td>\n",
       "      <td>1</td>\n",
       "      <td>1552</td>\n",
       "      <td>0</td>\n",
       "      <td>0</td>\n",
       "      <td>False</td>\n",
       "      <td>False</td>\n",
       "    </tr>\n",
       "    <tr>\n",
       "      <th>58763063</th>\n",
       "      <td>29497</td>\n",
       "      <td>29497</td>\n",
       "      <td>00210006810015</td>\n",
       "      <td>E09000007</td>\n",
       "      <td>Camden</td>\n",
       "      <td>Inner London - West</td>\n",
       "      <td>68</td>\n",
       "      <td>MANSFIELD ROAD</td>\n",
       "      <td>LONDON</td>\n",
       "      <td>NW3 2HU</td>\n",
       "      <td>...</td>\n",
       "      <td>1644</td>\n",
       "      <td>2010-04-01</td>\n",
       "      <td>0 days</td>\n",
       "      <td>1644</td>\n",
       "      <td>1</td>\n",
       "      <td>1644</td>\n",
       "      <td>0</td>\n",
       "      <td>0</td>\n",
       "      <td>False</td>\n",
       "      <td>False</td>\n",
       "    </tr>\n",
       "    <tr>\n",
       "      <th>58763063</th>\n",
       "      <td>29498</td>\n",
       "      <td>29498</td>\n",
       "      <td>00210006810015</td>\n",
       "      <td>E09000007</td>\n",
       "      <td>Camden</td>\n",
       "      <td>Inner London - West</td>\n",
       "      <td>68</td>\n",
       "      <td>MANSFIELD ROAD</td>\n",
       "      <td>LONDON</td>\n",
       "      <td>NW3 2HU</td>\n",
       "      <td>...</td>\n",
       "      <td>1736</td>\n",
       "      <td>2010-04-01</td>\n",
       "      <td>0 days</td>\n",
       "      <td>1736</td>\n",
       "      <td>1</td>\n",
       "      <td>1736</td>\n",
       "      <td>0</td>\n",
       "      <td>0</td>\n",
       "      <td>False</td>\n",
       "      <td>False</td>\n",
       "    </tr>\n",
       "    <tr>\n",
       "      <th>58763063</th>\n",
       "      <td>29499</td>\n",
       "      <td>29499</td>\n",
       "      <td>00210006810015</td>\n",
       "      <td>E09000007</td>\n",
       "      <td>Camden</td>\n",
       "      <td>Inner London - West</td>\n",
       "      <td>68</td>\n",
       "      <td>MANSFIELD ROAD</td>\n",
       "      <td>LONDON</td>\n",
       "      <td>NW3 2HU</td>\n",
       "      <td>...</td>\n",
       "      <td>1826</td>\n",
       "      <td>2010-04-01</td>\n",
       "      <td>0 days</td>\n",
       "      <td>1826</td>\n",
       "      <td>1</td>\n",
       "      <td>1826</td>\n",
       "      <td>0</td>\n",
       "      <td>0</td>\n",
       "      <td>False</td>\n",
       "      <td>False</td>\n",
       "    </tr>\n",
       "    <tr>\n",
       "      <th>58763063</th>\n",
       "      <td>29500</td>\n",
       "      <td>29500</td>\n",
       "      <td>00210006810015</td>\n",
       "      <td>E09000007</td>\n",
       "      <td>Camden</td>\n",
       "      <td>Inner London - West</td>\n",
       "      <td>68</td>\n",
       "      <td>MANSFIELD ROAD</td>\n",
       "      <td>LONDON</td>\n",
       "      <td>NW3 2HU</td>\n",
       "      <td>...</td>\n",
       "      <td>1917</td>\n",
       "      <td>2010-04-01</td>\n",
       "      <td>0 days</td>\n",
       "      <td>1917</td>\n",
       "      <td>1</td>\n",
       "      <td>1917</td>\n",
       "      <td>0</td>\n",
       "      <td>0</td>\n",
       "      <td>False</td>\n",
       "      <td>False</td>\n",
       "    </tr>\n",
       "    <tr>\n",
       "      <th>58763063</th>\n",
       "      <td>29501</td>\n",
       "      <td>29501</td>\n",
       "      <td>00210006810015</td>\n",
       "      <td>E09000007</td>\n",
       "      <td>Camden</td>\n",
       "      <td>Inner London - West</td>\n",
       "      <td>68</td>\n",
       "      <td>MANSFIELD ROAD</td>\n",
       "      <td>LONDON</td>\n",
       "      <td>NW3 2HU</td>\n",
       "      <td>...</td>\n",
       "      <td>2009</td>\n",
       "      <td>2010-04-01</td>\n",
       "      <td>0 days</td>\n",
       "      <td>2009</td>\n",
       "      <td>1</td>\n",
       "      <td>2009</td>\n",
       "      <td>0</td>\n",
       "      <td>0</td>\n",
       "      <td>False</td>\n",
       "      <td>False</td>\n",
       "    </tr>\n",
       "    <tr>\n",
       "      <th>58763063</th>\n",
       "      <td>29502</td>\n",
       "      <td>29502</td>\n",
       "      <td>00210006810015</td>\n",
       "      <td>E09000007</td>\n",
       "      <td>Camden</td>\n",
       "      <td>Inner London - West</td>\n",
       "      <td>68</td>\n",
       "      <td>MANSFIELD ROAD</td>\n",
       "      <td>LONDON</td>\n",
       "      <td>NW3 2HU</td>\n",
       "      <td>...</td>\n",
       "      <td>2101</td>\n",
       "      <td>2010-04-01</td>\n",
       "      <td>0 days</td>\n",
       "      <td>2101</td>\n",
       "      <td>1</td>\n",
       "      <td>2101</td>\n",
       "      <td>0</td>\n",
       "      <td>0</td>\n",
       "      <td>False</td>\n",
       "      <td>False</td>\n",
       "    </tr>\n",
       "    <tr>\n",
       "      <th>58763063</th>\n",
       "      <td>29503</td>\n",
       "      <td>29503</td>\n",
       "      <td>00210006810015</td>\n",
       "      <td>E09000007</td>\n",
       "      <td>Camden</td>\n",
       "      <td>Inner London - West</td>\n",
       "      <td>68</td>\n",
       "      <td>MANSFIELD ROAD</td>\n",
       "      <td>LONDON</td>\n",
       "      <td>NW3 2HU</td>\n",
       "      <td>...</td>\n",
       "      <td>2192</td>\n",
       "      <td>2010-04-01</td>\n",
       "      <td>0 days</td>\n",
       "      <td>2192</td>\n",
       "      <td>1</td>\n",
       "      <td>2192</td>\n",
       "      <td>0</td>\n",
       "      <td>0</td>\n",
       "      <td>False</td>\n",
       "      <td>False</td>\n",
       "    </tr>\n",
       "    <tr>\n",
       "      <th>58763063</th>\n",
       "      <td>29504</td>\n",
       "      <td>29504</td>\n",
       "      <td>00210006810015</td>\n",
       "      <td>E09000007</td>\n",
       "      <td>Camden</td>\n",
       "      <td>Inner London - West</td>\n",
       "      <td>68</td>\n",
       "      <td>MANSFIELD ROAD</td>\n",
       "      <td>LONDON</td>\n",
       "      <td>NW3 2HU</td>\n",
       "      <td>...</td>\n",
       "      <td>2283</td>\n",
       "      <td>2010-04-01</td>\n",
       "      <td>0 days</td>\n",
       "      <td>2283</td>\n",
       "      <td>1</td>\n",
       "      <td>2283</td>\n",
       "      <td>0</td>\n",
       "      <td>0</td>\n",
       "      <td>False</td>\n",
       "      <td>False</td>\n",
       "    </tr>\n",
       "    <tr>\n",
       "      <th>58763063</th>\n",
       "      <td>29505</td>\n",
       "      <td>29505</td>\n",
       "      <td>00210006810015</td>\n",
       "      <td>E09000007</td>\n",
       "      <td>Camden</td>\n",
       "      <td>Inner London - West</td>\n",
       "      <td>68</td>\n",
       "      <td>MANSFIELD ROAD</td>\n",
       "      <td>LONDON</td>\n",
       "      <td>NW3 2HU</td>\n",
       "      <td>...</td>\n",
       "      <td>2375</td>\n",
       "      <td>2010-04-01</td>\n",
       "      <td>0 days</td>\n",
       "      <td>2375</td>\n",
       "      <td>1</td>\n",
       "      <td>2375</td>\n",
       "      <td>0</td>\n",
       "      <td>0</td>\n",
       "      <td>False</td>\n",
       "      <td>False</td>\n",
       "    </tr>\n",
       "    <tr>\n",
       "      <th>58763063</th>\n",
       "      <td>29506</td>\n",
       "      <td>29506</td>\n",
       "      <td>00210006810015</td>\n",
       "      <td>E09000007</td>\n",
       "      <td>Camden</td>\n",
       "      <td>Inner London - West</td>\n",
       "      <td>68</td>\n",
       "      <td>MANSFIELD ROAD</td>\n",
       "      <td>LONDON</td>\n",
       "      <td>NW3 2HU</td>\n",
       "      <td>...</td>\n",
       "      <td>2467</td>\n",
       "      <td>2010-04-01</td>\n",
       "      <td>0 days</td>\n",
       "      <td>2467</td>\n",
       "      <td>1</td>\n",
       "      <td>2467</td>\n",
       "      <td>0</td>\n",
       "      <td>0</td>\n",
       "      <td>False</td>\n",
       "      <td>False</td>\n",
       "    </tr>\n",
       "    <tr>\n",
       "      <th>58763063</th>\n",
       "      <td>29507</td>\n",
       "      <td>29507</td>\n",
       "      <td>00210006810015</td>\n",
       "      <td>E09000007</td>\n",
       "      <td>Camden</td>\n",
       "      <td>Inner London - West</td>\n",
       "      <td>68</td>\n",
       "      <td>MANSFIELD ROAD</td>\n",
       "      <td>LONDON</td>\n",
       "      <td>NW3 2HU</td>\n",
       "      <td>...</td>\n",
       "      <td>2557</td>\n",
       "      <td>2010-04-01</td>\n",
       "      <td>0 days</td>\n",
       "      <td>2557</td>\n",
       "      <td>1</td>\n",
       "      <td>2557</td>\n",
       "      <td>0</td>\n",
       "      <td>0</td>\n",
       "      <td>False</td>\n",
       "      <td>False</td>\n",
       "    </tr>\n",
       "    <tr>\n",
       "      <th>58763063</th>\n",
       "      <td>29508</td>\n",
       "      <td>29508</td>\n",
       "      <td>00210006810015</td>\n",
       "      <td>E09000007</td>\n",
       "      <td>Camden</td>\n",
       "      <td>Inner London - West</td>\n",
       "      <td>68</td>\n",
       "      <td>MANSFIELD ROAD</td>\n",
       "      <td>LONDON</td>\n",
       "      <td>NW3 2HU</td>\n",
       "      <td>...</td>\n",
       "      <td>2648</td>\n",
       "      <td>2010-04-01</td>\n",
       "      <td>0 days</td>\n",
       "      <td>2648</td>\n",
       "      <td>1</td>\n",
       "      <td>2648</td>\n",
       "      <td>0</td>\n",
       "      <td>0</td>\n",
       "      <td>False</td>\n",
       "      <td>False</td>\n",
       "    </tr>\n",
       "    <tr>\n",
       "      <th>58763063</th>\n",
       "      <td>29509</td>\n",
       "      <td>29509</td>\n",
       "      <td>00210006810015</td>\n",
       "      <td>E09000007</td>\n",
       "      <td>Camden</td>\n",
       "      <td>Inner London - West</td>\n",
       "      <td>68</td>\n",
       "      <td>MANSFIELD ROAD</td>\n",
       "      <td>LONDON</td>\n",
       "      <td>NW3 2HU</td>\n",
       "      <td>...</td>\n",
       "      <td>2740</td>\n",
       "      <td>2010-04-01</td>\n",
       "      <td>0 days</td>\n",
       "      <td>2740</td>\n",
       "      <td>1</td>\n",
       "      <td>2740</td>\n",
       "      <td>0</td>\n",
       "      <td>0</td>\n",
       "      <td>False</td>\n",
       "      <td>False</td>\n",
       "    </tr>\n",
       "    <tr>\n",
       "      <th>58763063</th>\n",
       "      <td>29510</td>\n",
       "      <td>29510</td>\n",
       "      <td>00210006810015</td>\n",
       "      <td>E09000007</td>\n",
       "      <td>Camden</td>\n",
       "      <td>Inner London - West</td>\n",
       "      <td>68</td>\n",
       "      <td>MANSFIELD ROAD</td>\n",
       "      <td>LONDON</td>\n",
       "      <td>NW3 2HU</td>\n",
       "      <td>...</td>\n",
       "      <td>2832</td>\n",
       "      <td>2010-04-01</td>\n",
       "      <td>0 days</td>\n",
       "      <td>2832</td>\n",
       "      <td>1</td>\n",
       "      <td>2832</td>\n",
       "      <td>0</td>\n",
       "      <td>0</td>\n",
       "      <td>False</td>\n",
       "      <td>False</td>\n",
       "    </tr>\n",
       "    <tr>\n",
       "      <th>58763063</th>\n",
       "      <td>29511</td>\n",
       "      <td>29511</td>\n",
       "      <td>00210006810015</td>\n",
       "      <td>E09000007</td>\n",
       "      <td>Camden</td>\n",
       "      <td>Inner London - West</td>\n",
       "      <td>68</td>\n",
       "      <td>MANSFIELD ROAD</td>\n",
       "      <td>LONDON</td>\n",
       "      <td>NW3 2HU</td>\n",
       "      <td>...</td>\n",
       "      <td>2922</td>\n",
       "      <td>2010-04-01</td>\n",
       "      <td>0 days</td>\n",
       "      <td>2922</td>\n",
       "      <td>1</td>\n",
       "      <td>2922</td>\n",
       "      <td>0</td>\n",
       "      <td>0</td>\n",
       "      <td>False</td>\n",
       "      <td>False</td>\n",
       "    </tr>\n",
       "    <tr>\n",
       "      <th>58763063</th>\n",
       "      <td>29512</td>\n",
       "      <td>29512</td>\n",
       "      <td>00210006810015</td>\n",
       "      <td>E09000007</td>\n",
       "      <td>Camden</td>\n",
       "      <td>Inner London - West</td>\n",
       "      <td>68</td>\n",
       "      <td>MANSFIELD ROAD</td>\n",
       "      <td>LONDON</td>\n",
       "      <td>NW3 2HU</td>\n",
       "      <td>...</td>\n",
       "      <td>3013</td>\n",
       "      <td>2010-04-01</td>\n",
       "      <td>0 days</td>\n",
       "      <td>3013</td>\n",
       "      <td>1</td>\n",
       "      <td>3013</td>\n",
       "      <td>0</td>\n",
       "      <td>0</td>\n",
       "      <td>False</td>\n",
       "      <td>True</td>\n",
       "    </tr>\n",
       "  </tbody>\n",
       "</table>\n",
       "<p>33 rows × 87 columns</p>\n",
       "</div>"
      ],
      "text/plain": [
       "               Unnamed: 0  Unnamed: 0.1      rates_code rates_authority_id  \\\n",
       "location_code                                                                \n",
       "58763063            29480         29480  00210006810015          E09000007   \n",
       "58763063            29481         29481  00210006810015          E09000007   \n",
       "58763063            29482         29482  00210006810015          E09000007   \n",
       "58763063            29483         29483  00210006810015          E09000007   \n",
       "58763063            29484         29484  00210006810015          E09000007   \n",
       "58763063            29485         29485     2.10007E+11          E09000007   \n",
       "58763063            29486         29486  00210006810015          E09000007   \n",
       "58763063            29487         29487  00210006810015          E09000007   \n",
       "58763063            29488         29488  00210006810015          E09000007   \n",
       "58763063            29489         29489  00210006810015          E09000007   \n",
       "58763063            29490         29490  00210006810015          E09000007   \n",
       "58763063            29491         29491  00210006810015          E09000007   \n",
       "58763063            29492         29492  00210006810015          E09000007   \n",
       "58763063            29493         29493  00210006810015          E09000007   \n",
       "58763063            29494         29494  00210006810015          E09000007   \n",
       "58763063            29495         29495  00210006810015          E09000007   \n",
       "58763063            29496         29496  00210006810015          E09000007   \n",
       "58763063            29497         29497  00210006810015          E09000007   \n",
       "58763063            29498         29498  00210006810015          E09000007   \n",
       "58763063            29499         29499  00210006810015          E09000007   \n",
       "58763063            29500         29500  00210006810015          E09000007   \n",
       "58763063            29501         29501  00210006810015          E09000007   \n",
       "58763063            29502         29502  00210006810015          E09000007   \n",
       "58763063            29503         29503  00210006810015          E09000007   \n",
       "58763063            29504         29504  00210006810015          E09000007   \n",
       "58763063            29505         29505  00210006810015          E09000007   \n",
       "58763063            29506         29506  00210006810015          E09000007   \n",
       "58763063            29507         29507  00210006810015          E09000007   \n",
       "58763063            29508         29508  00210006810015          E09000007   \n",
       "58763063            29509         29509  00210006810015          E09000007   \n",
       "58763063            29510         29510  00210006810015          E09000007   \n",
       "58763063            29511         29511  00210006810015          E09000007   \n",
       "58763063            29512         29512  00210006810015          E09000007   \n",
       "\n",
       "              rates_authority               region address_no  address_street  \\\n",
       "location_code                                                                   \n",
       "58763063               Camden  Inner London - West         68  MANSFIELD ROAD   \n",
       "58763063               Camden  Inner London - West         68  MANSFIELD ROAD   \n",
       "58763063               Camden  Inner London - West         68  MANSFIELD ROAD   \n",
       "58763063               Camden  Inner London - West         68  MANSFIELD ROAD   \n",
       "58763063               Camden  Inner London - West         68  MANSFIELD ROAD   \n",
       "58763063               Camden  Inner London - West         68  MANSFIELD ROAD   \n",
       "58763063               Camden  Inner London - West         68  MANSFIELD ROAD   \n",
       "58763063               Camden  Inner London - West         68  MANSFIELD ROAD   \n",
       "58763063               Camden  Inner London - West         68  MANSFIELD ROAD   \n",
       "58763063               Camden  Inner London - West         68  MANSFIELD ROAD   \n",
       "58763063               Camden  Inner London - West         68  MANSFIELD ROAD   \n",
       "58763063               Camden  Inner London - West         68  MANSFIELD ROAD   \n",
       "58763063               Camden  Inner London - West         68  MANSFIELD ROAD   \n",
       "58763063               Camden  Inner London - West         68  MANSFIELD ROAD   \n",
       "58763063               Camden  Inner London - West         68  MANSFIELD ROAD   \n",
       "58763063               Camden  Inner London - West         68  MANSFIELD ROAD   \n",
       "58763063               Camden  Inner London - West         68  MANSFIELD ROAD   \n",
       "58763063               Camden  Inner London - West         68  MANSFIELD ROAD   \n",
       "58763063               Camden  Inner London - West         68  MANSFIELD ROAD   \n",
       "58763063               Camden  Inner London - West         68  MANSFIELD ROAD   \n",
       "58763063               Camden  Inner London - West         68  MANSFIELD ROAD   \n",
       "58763063               Camden  Inner London - West         68  MANSFIELD ROAD   \n",
       "58763063               Camden  Inner London - West         68  MANSFIELD ROAD   \n",
       "58763063               Camden  Inner London - West         68  MANSFIELD ROAD   \n",
       "58763063               Camden  Inner London - West         68  MANSFIELD ROAD   \n",
       "58763063               Camden  Inner London - West         68  MANSFIELD ROAD   \n",
       "58763063               Camden  Inner London - West         68  MANSFIELD ROAD   \n",
       "58763063               Camden  Inner London - West         68  MANSFIELD ROAD   \n",
       "58763063               Camden  Inner London - West         68  MANSFIELD ROAD   \n",
       "58763063               Camden  Inner London - West         68  MANSFIELD ROAD   \n",
       "58763063               Camden  Inner London - West         68  MANSFIELD ROAD   \n",
       "58763063               Camden  Inner London - West         68  MANSFIELD ROAD   \n",
       "58763063               Camden  Inner London - West         68  MANSFIELD ROAD   \n",
       "\n",
       "              address_town  pc__pcs  ... duration  study-start time-of-entry  \\\n",
       "location_code                        ...                                       \n",
       "58763063            LONDON  NW3 2HU  ...       91   2010-04-01        0 days   \n",
       "58763063            LONDON  NW3 2HU  ...      183   2010-04-01        0 days   \n",
       "58763063            LONDON  NW3 2HU  ...      275   2010-04-01        0 days   \n",
       "58763063            LONDON  NW3 2HU  ...      365   2010-04-01        0 days   \n",
       "58763063            LONDON  NW3 2HU  ...      456   2010-04-01        0 days   \n",
       "58763063            LONDON  NW3 2HU  ...      548   2010-04-01        0 days   \n",
       "58763063            LONDON  NW3 2HU  ...      640   2010-04-01        0 days   \n",
       "58763063            LONDON  NW3 2HU  ...      731   2010-04-01        0 days   \n",
       "58763063            LONDON  NW3 2HU  ...      822   2010-04-01        0 days   \n",
       "58763063            LONDON  NW3 2HU  ...      914   2010-04-01        0 days   \n",
       "58763063            LONDON  NW3 2HU  ...     1006   2010-04-01        0 days   \n",
       "58763063            LONDON  NW3 2HU  ...     1096   2010-04-01        0 days   \n",
       "58763063            LONDON  NW3 2HU  ...     1187   2010-04-01        0 days   \n",
       "58763063            LONDON  NW3 2HU  ...     1279   2010-04-01        0 days   \n",
       "58763063            LONDON  NW3 2HU  ...     1371   2010-04-01        0 days   \n",
       "58763063            LONDON  NW3 2HU  ...     1461   2010-04-01        0 days   \n",
       "58763063            LONDON  NW3 2HU  ...     1552   2010-04-01        0 days   \n",
       "58763063            LONDON  NW3 2HU  ...     1644   2010-04-01        0 days   \n",
       "58763063            LONDON  NW3 2HU  ...     1736   2010-04-01        0 days   \n",
       "58763063            LONDON  NW3 2HU  ...     1826   2010-04-01        0 days   \n",
       "58763063            LONDON  NW3 2HU  ...     1917   2010-04-01        0 days   \n",
       "58763063            LONDON  NW3 2HU  ...     2009   2010-04-01        0 days   \n",
       "58763063            LONDON  NW3 2HU  ...     2101   2010-04-01        0 days   \n",
       "58763063            LONDON  NW3 2HU  ...     2192   2010-04-01        0 days   \n",
       "58763063            LONDON  NW3 2HU  ...     2283   2010-04-01        0 days   \n",
       "58763063            LONDON  NW3 2HU  ...     2375   2010-04-01        0 days   \n",
       "58763063            LONDON  NW3 2HU  ...     2467   2010-04-01        0 days   \n",
       "58763063            LONDON  NW3 2HU  ...     2557   2010-04-01        0 days   \n",
       "58763063            LONDON  NW3 2HU  ...     2648   2010-04-01        0 days   \n",
       "58763063            LONDON  NW3 2HU  ...     2740   2010-04-01        0 days   \n",
       "58763063            LONDON  NW3 2HU  ...     2832   2010-04-01        0 days   \n",
       "58763063            LONDON  NW3 2HU  ...     2922   2010-04-01        0 days   \n",
       "58763063            LONDON  NW3 2HU  ...     3013   2010-04-01        0 days   \n",
       "\n",
       "              time-at-open  vacant  survival entry  stat StatusChange  \\\n",
       "location_code                                                           \n",
       "58763063                91       1        91     0     0        False   \n",
       "58763063               183       1       183     0     0        False   \n",
       "58763063               275       1       275     0     0        False   \n",
       "58763063               365       1       365     0     0        False   \n",
       "58763063               456       1       456     0     0        False   \n",
       "58763063               548       1       548     0     0        False   \n",
       "58763063               640       1       640     0     0        False   \n",
       "58763063               731       1       731     0     0        False   \n",
       "58763063               822       1       822     0     0        False   \n",
       "58763063               914       1       914     0     0        False   \n",
       "58763063              1006       1      1006     0     0        False   \n",
       "58763063              1096       1      1096     0     0        False   \n",
       "58763063              1187       1      1187     0     0        False   \n",
       "58763063              1279       1      1279     0     0        False   \n",
       "58763063              1371       1      1371     0     0        False   \n",
       "58763063              1461       1      1461     0     0        False   \n",
       "58763063              1552       1      1552     0     0        False   \n",
       "58763063              1644       1      1644     0     0        False   \n",
       "58763063              1736       1      1736     0     0        False   \n",
       "58763063              1826       1      1826     0     0        False   \n",
       "58763063              1917       1      1917     0     0        False   \n",
       "58763063              2009       1      2009     0     0        False   \n",
       "58763063              2101       1      2101     0     0        False   \n",
       "58763063              2192       1      2192     0     0        False   \n",
       "58763063              2283       1      2283     0     0        False   \n",
       "58763063              2375       1      2375     0     0        False   \n",
       "58763063              2467       1      2467     0     0        False   \n",
       "58763063              2557       1      2557     0     0        False   \n",
       "58763063              2648       1      2648     0     0        False   \n",
       "58763063              2740       1      2740     0     0        False   \n",
       "58763063              2832       1      2832     0     0        False   \n",
       "58763063              2922       1      2922     0     0        False   \n",
       "58763063              3013       1      3013     0     0        False   \n",
       "\n",
       "               TenantChange  \n",
       "location_code                \n",
       "58763063              False  \n",
       "58763063              False  \n",
       "58763063              False  \n",
       "58763063              False  \n",
       "58763063              False  \n",
       "58763063              False  \n",
       "58763063              False  \n",
       "58763063              False  \n",
       "58763063              False  \n",
       "58763063              False  \n",
       "58763063              False  \n",
       "58763063              False  \n",
       "58763063              False  \n",
       "58763063              False  \n",
       "58763063              False  \n",
       "58763063              False  \n",
       "58763063              False  \n",
       "58763063              False  \n",
       "58763063              False  \n",
       "58763063              False  \n",
       "58763063              False  \n",
       "58763063              False  \n",
       "58763063              False  \n",
       "58763063              False  \n",
       "58763063              False  \n",
       "58763063              False  \n",
       "58763063              False  \n",
       "58763063              False  \n",
       "58763063              False  \n",
       "58763063              False  \n",
       "58763063              False  \n",
       "58763063              False  \n",
       "58763063               True  \n",
       "\n",
       "[33 rows x 87 columns]"
      ]
     },
     "execution_count": 2499,
     "metadata": {},
     "output_type": "execute_result"
    }
   ],
   "source": [
    "Mansfield"
   ]
  },
  {
   "cell_type": "code",
   "execution_count": 2372,
   "metadata": {},
   "outputs": [],
   "source": [
    "counter = 0 \n",
    "stoppingCondition = len(locations)\n",
    "Mansfield2 = pd.DataFrame(data=None, columns=Mansfield.columns, index=None)\n",
    "\n",
    "while counter < stoppingCondition:\n",
    "        i = locations[counter]\n",
    "        m = Mansfield.loc[i, :].iloc[[ Mansfield.loc[i, :]['status_duration'].argmax()]]\n",
    "        Mansfield2 = Mansfield2.append(m, ignore_index=False)\n",
    "        counter += 1"
   ]
  },
  {
   "cell_type": "code",
   "execution_count": 2373,
   "metadata": {},
   "outputs": [],
   "source": [
    "Mansfield3 = Mansfield2.drop_duplicates()"
   ]
  },
  {
   "cell_type": "code",
   "execution_count": 2374,
   "metadata": {},
   "outputs": [],
   "source": [
    "Mansfield3.loc[Mansfield3['time-at-open'] == 4018, ['vacant']] = 0"
   ]
  },
  {
   "cell_type": "code",
   "execution_count": 2375,
   "metadata": {},
   "outputs": [],
   "source": [
    "Mansfield3['highstreet'] = 'Mansfield'"
   ]
  },
  {
   "cell_type": "code",
   "execution_count": 2376,
   "metadata": {},
   "outputs": [],
   "source": [
    "Mansfield3.to_csv('Mansfield-vacant-survival.csv')"
   ]
  },
  {
   "cell_type": "markdown",
   "metadata": {},
   "source": [
    "#### 17. WestEnd"
   ]
  },
  {
   "cell_type": "code",
   "execution_count": 2377,
   "metadata": {},
   "outputs": [],
   "source": [
    "WestEnd = WestEnd.sort_values(by= ['status_date'])"
   ]
  },
  {
   "cell_type": "code",
   "execution_count": 2378,
   "metadata": {},
   "outputs": [],
   "source": [
    "cols = ['V3', 'V4', 'V5', 'V13', 'V14', 'V15', 'V16', 'V17', 'V19', 'V20', 'V21', 'V26', 'V28', 'V30', 'V36', 'V38', 'V39', 'V48', 'V51', 'V54', 'V55', 'V56', 'V57', \n",
    "        'V58', 'V59', 'V60', 'V64', 'V70', 'V72', 'V77']"
   ]
  },
  {
   "cell_type": "code",
   "execution_count": 2379,
   "metadata": {},
   "outputs": [],
   "source": [
    "#deleted those cols columns from the dataset as they only contain nulls\n",
    "\n",
    "WestEnd = WestEnd.drop(cols, axis=1)"
   ]
  },
  {
   "cell_type": "code",
   "execution_count": 2380,
   "metadata": {},
   "outputs": [],
   "source": [
    "WestEnd['new_date'] = pd.to_datetime(WestEnd['status_date'], errors='coerce')"
   ]
  },
  {
   "cell_type": "code",
   "execution_count": 2381,
   "metadata": {},
   "outputs": [],
   "source": [
    "WestEnd = WestEnd.sort_values(by= ['new_date'])"
   ]
  },
  {
   "cell_type": "code",
   "execution_count": 2382,
   "metadata": {},
   "outputs": [],
   "source": [
    "WestEnd['new_date'].loc[(WestEnd['new_date'] < '2010-04-01')] = '2010-04-01'"
   ]
  },
  {
   "cell_type": "code",
   "execution_count": 2383,
   "metadata": {},
   "outputs": [],
   "source": [
    "WestEnd = WestEnd.sort_values(by= ['location_code', 'period'])"
   ]
  },
  {
   "cell_type": "code",
   "execution_count": 2384,
   "metadata": {},
   "outputs": [],
   "source": [
    "WestEnd['locaton_code'] = WestEnd['location_code'].astype(\"category\")"
   ]
  },
  {
   "cell_type": "code",
   "execution_count": 2385,
   "metadata": {},
   "outputs": [],
   "source": [
    "locations = WestEnd['location_code'].unique()"
   ]
  },
  {
   "cell_type": "code",
   "execution_count": 2386,
   "metadata": {},
   "outputs": [],
   "source": [
    "WestEnd.loc[WestEnd['name'].isnull(), 'name'] = WestEnd['location_code']"
   ]
  },
  {
   "cell_type": "code",
   "execution_count": 2387,
   "metadata": {},
   "outputs": [],
   "source": [
    "WestEnd['status_date'] = pd.to_datetime(WestEnd['status_date'], errors='coerce')"
   ]
  },
  {
   "cell_type": "code",
   "execution_count": 2388,
   "metadata": {},
   "outputs": [],
   "source": [
    "WestEnd['status_date'].iloc[WestEnd['status_date'] < '2010-04-01'] = '04/01/2010'"
   ]
  },
  {
   "cell_type": "code",
   "execution_count": 2389,
   "metadata": {},
   "outputs": [],
   "source": [
    "WestEnd['status_date'] = pd.to_datetime(WestEnd['status_date'], errors='coerce')"
   ]
  },
  {
   "cell_type": "code",
   "execution_count": 2390,
   "metadata": {},
   "outputs": [],
   "source": [
    "WestEnd['period2'] = pd.to_datetime(WestEnd['period'])"
   ]
  },
  {
   "cell_type": "code",
   "execution_count": 2391,
   "metadata": {},
   "outputs": [],
   "source": [
    "WestEnd['period2'] = WestEnd['period2'] + pd.DateOffset(months=1)"
   ]
  },
  {
   "cell_type": "code",
   "execution_count": 2392,
   "metadata": {},
   "outputs": [],
   "source": [
    "WestEnd['duration'] = WestEnd['period2'] - WestEnd['status_date']"
   ]
  },
  {
   "cell_type": "code",
   "execution_count": 2393,
   "metadata": {},
   "outputs": [],
   "source": [
    "WestEnd['duration'] = WestEnd['duration'].dt.days"
   ]
  },
  {
   "cell_type": "code",
   "execution_count": 2394,
   "metadata": {},
   "outputs": [],
   "source": [
    "WestEnd['study-start'] = '04/01/2010'"
   ]
  },
  {
   "cell_type": "code",
   "execution_count": 2395,
   "metadata": {},
   "outputs": [],
   "source": [
    "WestEnd['study-start'] = pd.to_datetime(WestEnd['study-start'], errors='coerce')"
   ]
  },
  {
   "cell_type": "code",
   "execution_count": 2396,
   "metadata": {},
   "outputs": [],
   "source": [
    "WestEnd['time-of-entry'] = WestEnd['status_date'] -  WestEnd['study-start']"
   ]
  },
  {
   "cell_type": "code",
   "execution_count": 2397,
   "metadata": {},
   "outputs": [],
   "source": [
    "WestEnd['time-at-open'] = 0"
   ]
  },
  {
   "cell_type": "code",
   "execution_count": 2398,
   "metadata": {},
   "outputs": [],
   "source": [
    "WestEnd['vacant'] = 1"
   ]
  },
  {
   "cell_type": "code",
   "execution_count": 2399,
   "metadata": {},
   "outputs": [],
   "source": [
    "WestEnd = WestEnd.drop(WestEnd[(WestEnd['status'] == True)].index)"
   ]
  },
  {
   "cell_type": "code",
   "execution_count": 2400,
   "metadata": {},
   "outputs": [],
   "source": [
    "WestEnd['location_code'] = WestEnd['location_code'].astype(\"category\")"
   ]
  },
  {
   "cell_type": "code",
   "execution_count": 2401,
   "metadata": {},
   "outputs": [],
   "source": [
    "locations = list(WestEnd['location_code'].unique())"
   ]
  },
  {
   "cell_type": "code",
   "execution_count": 2402,
   "metadata": {},
   "outputs": [],
   "source": [
    "WestEnd = WestEnd.set_index('location_code')"
   ]
  },
  {
   "cell_type": "code",
   "execution_count": 2403,
   "metadata": {},
   "outputs": [],
   "source": [
    "WestEnd['survival'] = 0"
   ]
  },
  {
   "cell_type": "code",
   "execution_count": 2404,
   "metadata": {},
   "outputs": [],
   "source": [
    "WestEnd['survival'] = WestEnd['duration']"
   ]
  },
  {
   "cell_type": "code",
   "execution_count": 2405,
   "metadata": {},
   "outputs": [],
   "source": [
    "WestEnd['entry'] = WestEnd['time-of-entry'].dt.days"
   ]
  },
  {
   "cell_type": "code",
   "execution_count": 2406,
   "metadata": {},
   "outputs": [],
   "source": [
    "WestEnd['time-at-open'] = WestEnd['survival'] + WestEnd['entry']"
   ]
  },
  {
   "cell_type": "code",
   "execution_count": 2407,
   "metadata": {},
   "outputs": [],
   "source": [
    "WestEnd['stat'] = WestEnd['status'].astype(int)"
   ]
  },
  {
   "cell_type": "code",
   "execution_count": 2408,
   "metadata": {},
   "outputs": [],
   "source": [
    "WestEnd[\"StatusChange\"] =  WestEnd['stat'].shift() != WestEnd['stat']"
   ]
  },
  {
   "cell_type": "code",
   "execution_count": 2409,
   "metadata": {},
   "outputs": [
    {
     "name": "stderr",
     "output_type": "stream",
     "text": [
      "/opt/conda/envs/sds2020/lib/python3.7/site-packages/pandas/core/indexing.py:670: SettingWithCopyWarning: \n",
      "A value is trying to be set on a copy of a slice from a DataFrame\n",
      "\n",
      "See the caveats in the documentation: https://pandas.pydata.org/pandas-docs/stable/user_guide/indexing.html#returning-a-view-versus-a-copy\n",
      "  iloc._setitem_with_indexer(indexer, value)\n"
     ]
    }
   ],
   "source": [
    "WestEnd[\"StatusChange\"].iloc[0] = False"
   ]
  },
  {
   "cell_type": "code",
   "execution_count": 2410,
   "metadata": {},
   "outputs": [],
   "source": [
    "WestEnd[\"TenantChange\"] =  WestEnd['name'].shift(-1) != WestEnd['name'] "
   ]
  },
  {
   "cell_type": "code",
   "execution_count": 2411,
   "metadata": {},
   "outputs": [],
   "source": [
    "WestEnd[\"TenantChange\"].iloc[0] = False"
   ]
  },
  {
   "cell_type": "code",
   "execution_count": 2412,
   "metadata": {},
   "outputs": [],
   "source": [
    "counter = 0 \n",
    "stoppingCondition = len(locations)\n",
    "WestEnd2 = pd.DataFrame(data=None, columns=WestEnd.columns, index=None)\n",
    "\n",
    "while counter < stoppingCondition:\n",
    "        i = locations[counter]\n",
    "        m = WestEnd.loc[i, :].iloc[[ WestEnd.loc[i, :]['status_duration'].argmax()]]\n",
    "        WestEnd2 = WestEnd2.append(m, ignore_index=False)\n",
    "        counter += 1"
   ]
  },
  {
   "cell_type": "code",
   "execution_count": 2413,
   "metadata": {},
   "outputs": [],
   "source": [
    "WestEnd3 = WestEnd2.drop_duplicates()"
   ]
  },
  {
   "cell_type": "code",
   "execution_count": 2414,
   "metadata": {},
   "outputs": [],
   "source": [
    "WestEnd3.loc[WestEnd3['time-at-open'] == 4018, ['vacant']] = 0"
   ]
  },
  {
   "cell_type": "code",
   "execution_count": 2415,
   "metadata": {},
   "outputs": [],
   "source": [
    "WestEnd3['highstreet'] = 'WestEnd'"
   ]
  },
  {
   "cell_type": "code",
   "execution_count": 2416,
   "metadata": {},
   "outputs": [],
   "source": [
    "WestEnd3.to_csv('WestEnd-vacant-survival.csv')"
   ]
  },
  {
   "cell_type": "markdown",
   "metadata": {},
   "source": [
    "#### 18. Hampstead"
   ]
  },
  {
   "cell_type": "code",
   "execution_count": 2417,
   "metadata": {},
   "outputs": [],
   "source": [
    "Hampstead = Hampstead.sort_values(by= ['status_date'])"
   ]
  },
  {
   "cell_type": "code",
   "execution_count": 2418,
   "metadata": {},
   "outputs": [],
   "source": [
    "cols = ['V3', 'V4', 'V5', 'V13', 'V14', 'V15', 'V16', 'V17', 'V19', 'V20', 'V21', 'V26', 'V28', 'V30', 'V36', 'V38', 'V39', 'V48', 'V51', 'V54', 'V55', 'V56', 'V57', \n",
    "        'V58', 'V59', 'V60', 'V64', 'V70', 'V72', 'V77']"
   ]
  },
  {
   "cell_type": "code",
   "execution_count": 2419,
   "metadata": {},
   "outputs": [],
   "source": [
    "#deleted those cols columns from the dataset as they only contain nulls\n",
    "\n",
    "Hampstead = Hampstead.drop(cols, axis=1)"
   ]
  },
  {
   "cell_type": "code",
   "execution_count": 2420,
   "metadata": {},
   "outputs": [],
   "source": [
    "Hampstead['new_date'] = pd.to_datetime(Hampstead['status_date'], errors='coerce')"
   ]
  },
  {
   "cell_type": "code",
   "execution_count": 2421,
   "metadata": {},
   "outputs": [],
   "source": [
    "Hampstead = Hampstead.sort_values(by= ['new_date'])"
   ]
  },
  {
   "cell_type": "code",
   "execution_count": 2422,
   "metadata": {},
   "outputs": [],
   "source": [
    "Hampstead['new_date'].loc[(Hampstead['new_date'] < '2010-04-01')] = '2010-04-01'"
   ]
  },
  {
   "cell_type": "code",
   "execution_count": 2423,
   "metadata": {},
   "outputs": [],
   "source": [
    "Hampstead = Hampstead.sort_values(by= ['location_code', 'period'])"
   ]
  },
  {
   "cell_type": "code",
   "execution_count": 2424,
   "metadata": {},
   "outputs": [],
   "source": [
    "Hampstead['locaton_code'] = Hampstead['location_code'].astype(\"category\")"
   ]
  },
  {
   "cell_type": "code",
   "execution_count": 2425,
   "metadata": {},
   "outputs": [],
   "source": [
    "locations = Hampstead['location_code'].unique()"
   ]
  },
  {
   "cell_type": "code",
   "execution_count": 2426,
   "metadata": {},
   "outputs": [],
   "source": [
    "Hampstead.loc[Hampstead['name'].isnull(), 'name'] = Hampstead['location_code']"
   ]
  },
  {
   "cell_type": "code",
   "execution_count": 2427,
   "metadata": {},
   "outputs": [],
   "source": [
    "Hampstead['status_date'] = pd.to_datetime(Hampstead['status_date'], errors='coerce')"
   ]
  },
  {
   "cell_type": "code",
   "execution_count": 2428,
   "metadata": {},
   "outputs": [],
   "source": [
    "Hampstead['status_date'].iloc[Hampstead['status_date'] < '2010-04-01'] = '04/01/2010'"
   ]
  },
  {
   "cell_type": "code",
   "execution_count": 2429,
   "metadata": {},
   "outputs": [],
   "source": [
    "Hampstead['status_date'] = pd.to_datetime(Hampstead['status_date'], errors='coerce')"
   ]
  },
  {
   "cell_type": "code",
   "execution_count": 2430,
   "metadata": {},
   "outputs": [],
   "source": [
    "Hampstead['period2'] = pd.to_datetime(Hampstead['period'])"
   ]
  },
  {
   "cell_type": "code",
   "execution_count": 2431,
   "metadata": {},
   "outputs": [],
   "source": [
    "Hampstead['period2'] = Hampstead['period2'] + pd.DateOffset(months=1)"
   ]
  },
  {
   "cell_type": "code",
   "execution_count": 2432,
   "metadata": {},
   "outputs": [],
   "source": [
    "Hampstead['duration'] = Hampstead['period2'] - Hampstead['status_date']"
   ]
  },
  {
   "cell_type": "code",
   "execution_count": 2433,
   "metadata": {},
   "outputs": [],
   "source": [
    "Hampstead['duration'] = Hampstead['duration'].dt.days"
   ]
  },
  {
   "cell_type": "code",
   "execution_count": 2434,
   "metadata": {},
   "outputs": [],
   "source": [
    "Hampstead['study-start'] = '04/01/2010'"
   ]
  },
  {
   "cell_type": "code",
   "execution_count": 2435,
   "metadata": {},
   "outputs": [],
   "source": [
    "Hampstead['study-start'] = pd.to_datetime(Hampstead['study-start'], errors='coerce')"
   ]
  },
  {
   "cell_type": "code",
   "execution_count": 2436,
   "metadata": {},
   "outputs": [],
   "source": [
    "Hampstead['time-of-entry'] = Hampstead['status_date'] -  Hampstead['study-start']"
   ]
  },
  {
   "cell_type": "code",
   "execution_count": 2437,
   "metadata": {},
   "outputs": [],
   "source": [
    "Hampstead['time-at-open'] = 0"
   ]
  },
  {
   "cell_type": "code",
   "execution_count": 2438,
   "metadata": {},
   "outputs": [],
   "source": [
    "Hampstead['vacant'] = 1"
   ]
  },
  {
   "cell_type": "code",
   "execution_count": 2439,
   "metadata": {},
   "outputs": [],
   "source": [
    "Hampstead = Hampstead.drop(Hampstead[(Hampstead['status'] == True)].index)"
   ]
  },
  {
   "cell_type": "code",
   "execution_count": 2440,
   "metadata": {},
   "outputs": [],
   "source": [
    "Hampstead['location_code'] = Hampstead['location_code'].astype(\"category\")"
   ]
  },
  {
   "cell_type": "code",
   "execution_count": 2441,
   "metadata": {},
   "outputs": [],
   "source": [
    "locations = list(Hampstead['location_code'].unique())"
   ]
  },
  {
   "cell_type": "code",
   "execution_count": 2442,
   "metadata": {},
   "outputs": [],
   "source": [
    "Hampstead = Hampstead.set_index('location_code')"
   ]
  },
  {
   "cell_type": "code",
   "execution_count": 2443,
   "metadata": {},
   "outputs": [],
   "source": [
    "Hampstead['survival'] = 0"
   ]
  },
  {
   "cell_type": "code",
   "execution_count": 2444,
   "metadata": {},
   "outputs": [],
   "source": [
    "Hampstead['survival'] = Hampstead['duration']"
   ]
  },
  {
   "cell_type": "code",
   "execution_count": 2445,
   "metadata": {},
   "outputs": [],
   "source": [
    "Hampstead['entry'] = Hampstead['time-of-entry'].dt.days"
   ]
  },
  {
   "cell_type": "code",
   "execution_count": 2446,
   "metadata": {},
   "outputs": [],
   "source": [
    "Hampstead['time-at-open'] = Hampstead['survival'] + Hampstead['entry']"
   ]
  },
  {
   "cell_type": "code",
   "execution_count": 2447,
   "metadata": {},
   "outputs": [],
   "source": [
    "Hampstead['stat'] = Hampstead['status'].astype(int)"
   ]
  },
  {
   "cell_type": "code",
   "execution_count": 2448,
   "metadata": {},
   "outputs": [],
   "source": [
    "Hampstead[\"StatusChange\"] =  Hampstead['stat'].shift() != Hampstead['stat']"
   ]
  },
  {
   "cell_type": "code",
   "execution_count": 2449,
   "metadata": {},
   "outputs": [
    {
     "name": "stderr",
     "output_type": "stream",
     "text": [
      "/opt/conda/envs/sds2020/lib/python3.7/site-packages/pandas/core/indexing.py:670: SettingWithCopyWarning: \n",
      "A value is trying to be set on a copy of a slice from a DataFrame\n",
      "\n",
      "See the caveats in the documentation: https://pandas.pydata.org/pandas-docs/stable/user_guide/indexing.html#returning-a-view-versus-a-copy\n",
      "  iloc._setitem_with_indexer(indexer, value)\n"
     ]
    }
   ],
   "source": [
    "Hampstead[\"StatusChange\"].iloc[0] = False"
   ]
  },
  {
   "cell_type": "code",
   "execution_count": 2450,
   "metadata": {},
   "outputs": [],
   "source": [
    "Hampstead[\"TenantChange\"] =  Hampstead['name'].shift(-1) != Hampstead['name'] "
   ]
  },
  {
   "cell_type": "code",
   "execution_count": 2451,
   "metadata": {},
   "outputs": [],
   "source": [
    "Hampstead[\"TenantChange\"].iloc[0] = False"
   ]
  },
  {
   "cell_type": "code",
   "execution_count": 2452,
   "metadata": {},
   "outputs": [],
   "source": [
    "counter = 0 \n",
    "stoppingCondition = len(locations)\n",
    "Hampstead2 = pd.DataFrame(data=None, columns=Hampstead.columns, index=None)\n",
    "\n",
    "while counter < stoppingCondition:\n",
    "        i = locations[counter]\n",
    "        m = Hampstead.loc[i, :].iloc[[ Hampstead.loc[i, :]['status_duration'].argmax()]]\n",
    "        Hampstead2 = Hampstead2.append(m, ignore_index=False)\n",
    "        counter += 1"
   ]
  },
  {
   "cell_type": "code",
   "execution_count": 2453,
   "metadata": {},
   "outputs": [],
   "source": [
    "Hampstead3 = Hampstead2.drop_duplicates()"
   ]
  },
  {
   "cell_type": "code",
   "execution_count": 2454,
   "metadata": {},
   "outputs": [],
   "source": [
    "Hampstead3.loc[Hampstead3['time-at-open'] == 4018, ['vacant']] = 0"
   ]
  },
  {
   "cell_type": "code",
   "execution_count": 2455,
   "metadata": {},
   "outputs": [],
   "source": [
    "Hampstead3['highstreet'] = 'Hampstead'"
   ]
  },
  {
   "cell_type": "code",
   "execution_count": 2456,
   "metadata": {},
   "outputs": [],
   "source": [
    "Hampstead3.to_csv('Hampstead-vacant-survival.csv')"
   ]
  },
  {
   "cell_type": "markdown",
   "metadata": {},
   "source": [
    "#### 19. Eversholt"
   ]
  },
  {
   "cell_type": "code",
   "execution_count": 2457,
   "metadata": {},
   "outputs": [],
   "source": [
    "Eversholt = Eversholt.sort_values(by= ['status_date'])"
   ]
  },
  {
   "cell_type": "code",
   "execution_count": 2458,
   "metadata": {},
   "outputs": [],
   "source": [
    "cols = ['V3', 'V4', 'V5', 'V13', 'V14', 'V15', 'V16', 'V17', 'V19', 'V20', 'V21', 'V26', 'V28', 'V30', 'V36', 'V38', 'V39', 'V48', 'V51', 'V54', 'V55', 'V56', 'V57', \n",
    "        'V58', 'V59', 'V60', 'V64', 'V70', 'V72', 'V77']"
   ]
  },
  {
   "cell_type": "code",
   "execution_count": 2459,
   "metadata": {},
   "outputs": [],
   "source": [
    "#deleted those cols columns from the dataset as they only contain nulls\n",
    "\n",
    "Eversholt = Eversholt.drop(cols, axis=1)"
   ]
  },
  {
   "cell_type": "code",
   "execution_count": 2460,
   "metadata": {},
   "outputs": [],
   "source": [
    "Eversholt['new_date'] = pd.to_datetime(Eversholt['status_date'], errors='coerce')"
   ]
  },
  {
   "cell_type": "code",
   "execution_count": 2461,
   "metadata": {},
   "outputs": [],
   "source": [
    "Eversholt = Eversholt.sort_values(by= ['new_date'])"
   ]
  },
  {
   "cell_type": "code",
   "execution_count": 2462,
   "metadata": {},
   "outputs": [],
   "source": [
    "Eversholt['new_date'].loc[(Eversholt['new_date'] < '2010-04-01')] = '2010-04-01'"
   ]
  },
  {
   "cell_type": "code",
   "execution_count": 2463,
   "metadata": {},
   "outputs": [],
   "source": [
    "Eversholt = Eversholt.sort_values(by= ['location_code', 'period'])"
   ]
  },
  {
   "cell_type": "code",
   "execution_count": 2464,
   "metadata": {},
   "outputs": [],
   "source": [
    "Eversholt['locaton_code'] = Eversholt['location_code'].astype(\"category\")"
   ]
  },
  {
   "cell_type": "code",
   "execution_count": 2465,
   "metadata": {},
   "outputs": [],
   "source": [
    "locations = Eversholt['location_code'].unique()"
   ]
  },
  {
   "cell_type": "code",
   "execution_count": 2466,
   "metadata": {},
   "outputs": [],
   "source": [
    "Eversholt.loc[Eversholt['name'].isnull(), 'name'] = Eversholt['location_code']"
   ]
  },
  {
   "cell_type": "code",
   "execution_count": 2467,
   "metadata": {},
   "outputs": [],
   "source": [
    "Eversholt['status_date'] = pd.to_datetime(Eversholt['status_date'], errors='coerce')"
   ]
  },
  {
   "cell_type": "code",
   "execution_count": 2468,
   "metadata": {},
   "outputs": [],
   "source": [
    "Eversholt['status_date'].iloc[Eversholt['status_date'] < '2010-04-01'] = '04/01/2010'"
   ]
  },
  {
   "cell_type": "code",
   "execution_count": 2469,
   "metadata": {},
   "outputs": [],
   "source": [
    "Eversholt['status_date'] = pd.to_datetime(Eversholt['status_date'], errors='coerce')"
   ]
  },
  {
   "cell_type": "code",
   "execution_count": 2470,
   "metadata": {},
   "outputs": [],
   "source": [
    "Eversholt['period2'] = pd.to_datetime(Eversholt['period'])"
   ]
  },
  {
   "cell_type": "code",
   "execution_count": 2471,
   "metadata": {},
   "outputs": [],
   "source": [
    "Eversholt['period2'] = Eversholt['period2'] + pd.DateOffset(months=1)"
   ]
  },
  {
   "cell_type": "code",
   "execution_count": 2472,
   "metadata": {},
   "outputs": [],
   "source": [
    "Eversholt['duration'] = Eversholt['period2'] - Eversholt['status_date']"
   ]
  },
  {
   "cell_type": "code",
   "execution_count": 2473,
   "metadata": {},
   "outputs": [],
   "source": [
    "Eversholt['duration'] = Eversholt['duration'].dt.days"
   ]
  },
  {
   "cell_type": "code",
   "execution_count": 2474,
   "metadata": {},
   "outputs": [],
   "source": [
    "Eversholt['study-start'] = '04/01/2010'"
   ]
  },
  {
   "cell_type": "code",
   "execution_count": 2475,
   "metadata": {},
   "outputs": [],
   "source": [
    "Eversholt['study-start'] = pd.to_datetime(Eversholt['study-start'], errors='coerce')"
   ]
  },
  {
   "cell_type": "code",
   "execution_count": 2476,
   "metadata": {},
   "outputs": [],
   "source": [
    "Eversholt['time-of-entry'] = Eversholt['status_date'] -  Eversholt['study-start']"
   ]
  },
  {
   "cell_type": "code",
   "execution_count": 2477,
   "metadata": {},
   "outputs": [],
   "source": [
    "Eversholt['time-at-open'] = 0"
   ]
  },
  {
   "cell_type": "code",
   "execution_count": 2478,
   "metadata": {},
   "outputs": [],
   "source": [
    "Eversholt['vacant'] = 1"
   ]
  },
  {
   "cell_type": "code",
   "execution_count": 2479,
   "metadata": {},
   "outputs": [],
   "source": [
    "Eversholt = Eversholt.drop(Eversholt[(Eversholt['status'] == True)].index)"
   ]
  },
  {
   "cell_type": "code",
   "execution_count": 2480,
   "metadata": {},
   "outputs": [],
   "source": [
    "Eversholt['location_code'] = Eversholt['location_code'].astype(\"category\")"
   ]
  },
  {
   "cell_type": "code",
   "execution_count": 2481,
   "metadata": {},
   "outputs": [],
   "source": [
    "locations = list(Eversholt['location_code'].unique())"
   ]
  },
  {
   "cell_type": "code",
   "execution_count": 2482,
   "metadata": {},
   "outputs": [],
   "source": [
    "Eversholt = Eversholt.set_index('location_code')"
   ]
  },
  {
   "cell_type": "code",
   "execution_count": 2483,
   "metadata": {},
   "outputs": [],
   "source": [
    "Eversholt['survival'] = 0"
   ]
  },
  {
   "cell_type": "code",
   "execution_count": 2484,
   "metadata": {},
   "outputs": [],
   "source": [
    "Eversholt['survival'] = Eversholt['duration']"
   ]
  },
  {
   "cell_type": "code",
   "execution_count": 2485,
   "metadata": {},
   "outputs": [],
   "source": [
    "Eversholt['entry'] = Eversholt['time-of-entry'].dt.days"
   ]
  },
  {
   "cell_type": "code",
   "execution_count": 2486,
   "metadata": {},
   "outputs": [],
   "source": [
    "Eversholt['time-at-open'] = Eversholt['survival'] + Eversholt['entry']"
   ]
  },
  {
   "cell_type": "code",
   "execution_count": 2487,
   "metadata": {},
   "outputs": [],
   "source": [
    "Eversholt['stat'] = Eversholt['status'].astype(int)"
   ]
  },
  {
   "cell_type": "code",
   "execution_count": 2488,
   "metadata": {},
   "outputs": [],
   "source": [
    "Eversholt[\"StatusChange\"] =  Eversholt['stat'].shift() != Eversholt['stat']"
   ]
  },
  {
   "cell_type": "code",
   "execution_count": 2489,
   "metadata": {},
   "outputs": [
    {
     "name": "stderr",
     "output_type": "stream",
     "text": [
      "/opt/conda/envs/sds2020/lib/python3.7/site-packages/pandas/core/indexing.py:670: SettingWithCopyWarning: \n",
      "A value is trying to be set on a copy of a slice from a DataFrame\n",
      "\n",
      "See the caveats in the documentation: https://pandas.pydata.org/pandas-docs/stable/user_guide/indexing.html#returning-a-view-versus-a-copy\n",
      "  iloc._setitem_with_indexer(indexer, value)\n"
     ]
    }
   ],
   "source": [
    "Eversholt[\"StatusChange\"].iloc[0] = False"
   ]
  },
  {
   "cell_type": "code",
   "execution_count": 2490,
   "metadata": {},
   "outputs": [],
   "source": [
    "Eversholt[\"TenantChange\"] =  Eversholt['name'].shift(-1) != Eversholt['name'] "
   ]
  },
  {
   "cell_type": "code",
   "execution_count": 2491,
   "metadata": {},
   "outputs": [],
   "source": [
    "Eversholt[\"TenantChange\"].iloc[0] = False"
   ]
  },
  {
   "cell_type": "code",
   "execution_count": 2492,
   "metadata": {},
   "outputs": [],
   "source": [
    "counter = 0 \n",
    "stoppingCondition = len(locations)\n",
    "Eversholt2 = pd.DataFrame(data=None, columns=Eversholt.columns, index=None)\n",
    "\n",
    "while counter < stoppingCondition:\n",
    "        i = locations[counter]\n",
    "        m = Eversholt.loc[i, :].iloc[[ Eversholt.loc[i, :]['status_duration'].argmax()]]\n",
    "        Eversholt2 = Eversholt2.append(m, ignore_index=False)\n",
    "        counter += 1"
   ]
  },
  {
   "cell_type": "code",
   "execution_count": 2493,
   "metadata": {},
   "outputs": [],
   "source": [
    "Eversholt3 = Eversholt2.drop_duplicates()"
   ]
  },
  {
   "cell_type": "code",
   "execution_count": 2494,
   "metadata": {},
   "outputs": [],
   "source": [
    "Eversholt3.loc[Eversholt3['time-at-open'] == 4018, ['vacant']] = 0"
   ]
  },
  {
   "cell_type": "code",
   "execution_count": 2495,
   "metadata": {},
   "outputs": [],
   "source": [
    "Eversholt3['highstreet'] = 'Eversholt'"
   ]
  },
  {
   "cell_type": "code",
   "execution_count": 2496,
   "metadata": {},
   "outputs": [],
   "source": [
    "Eversholt3.to_csv('Eversholt-vacant-survival.csv')"
   ]
  },
  {
   "cell_type": "markdown",
   "metadata": {},
   "source": [
    "****"
   ]
  },
  {
   "cell_type": "markdown",
   "metadata": {},
   "source": [
    "#### Append all for Camden total survival"
   ]
  },
  {
   "cell_type": "code",
   "execution_count": 2497,
   "metadata": {},
   "outputs": [],
   "source": [
    "camden_survival = pd.concat([Brecknock3, Kentish3, Fortress3, CamdenT3, Belsize3, Loudoun3, Haverstock3, SouthEnd3, Cricklewood3, Regents3, Queens3, Kilburn3, Mill3, Fortune3, Willesden3, Mansfield3, WestEnd3, Hampstead3, Eversholt3], ignore_index=True)"
   ]
  },
  {
   "cell_type": "code",
   "execution_count": 2498,
   "metadata": {},
   "outputs": [],
   "source": [
    "camden_survival.to_csv('camden-vacant-survival-full.csv')"
   ]
  },
  {
   "cell_type": "code",
   "execution_count": null,
   "metadata": {},
   "outputs": [],
   "source": []
  }
 ],
 "metadata": {
  "kernelspec": {
   "display_name": "Python 3",
   "language": "python",
   "name": "python3"
  },
  "language_info": {
   "codemirror_mode": {
    "name": "ipython",
    "version": 3
   },
   "file_extension": ".py",
   "mimetype": "text/x-python",
   "name": "python",
   "nbconvert_exporter": "python",
   "pygments_lexer": "ipython3",
   "version": "3.7.8"
  }
 },
 "nbformat": 4,
 "nbformat_minor": 4
}
