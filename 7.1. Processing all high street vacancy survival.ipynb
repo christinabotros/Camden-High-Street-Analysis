{
 "cells": [
  {
   "cell_type": "markdown",
   "metadata": {},
   "source": [
    "### Pre-processing the 19 Camden High Streets into Survival Format"
   ]
  },
  {
   "cell_type": "code",
   "execution_count": 1,
   "metadata": {},
   "outputs": [],
   "source": [
    "# import necessary libraries\n",
    "import os\n",
    "import numpy as np\n",
    "import pandas as pd\n",
    "import geopandas as gpd\n",
    "import matplotlib.cm as cm\n",
    "import matplotlib.pyplot as plt\n",
    "from requests import get\n",
    "from urllib.parse import urlparse\n",
    "from datetime import datetime"
   ]
  },
  {
   "cell_type": "code",
   "execution_count": 2,
   "metadata": {},
   "outputs": [
    {
     "name": "stdout",
     "output_type": "stream",
     "text": [
      "/home/jovyan/work/Dissertation/Camden High Streets\n"
     ]
    }
   ],
   "source": [
    "%cd '/home/jovyan/work/Dissertation/Camden High Streets'"
   ]
  },
  {
   "cell_type": "code",
   "execution_count": 3,
   "metadata": {},
   "outputs": [
    {
     "data": {
      "text/plain": [
       "'/home/jovyan/work/Dissertation/Camden High Streets'"
      ]
     },
     "execution_count": 3,
     "metadata": {},
     "output_type": "execute_result"
    }
   ],
   "source": [
    "os.getcwd()"
   ]
  },
  {
   "cell_type": "markdown",
   "metadata": {},
   "source": [
    "### Read in the high street subsets"
   ]
  },
  {
   "cell_type": "code",
   "execution_count": 4,
   "metadata": {},
   "outputs": [],
   "source": [
    "Brecknock = pd.read_csv(\"Brecknock-points.csv\", low_memory=False)"
   ]
  },
  {
   "cell_type": "code",
   "execution_count": 5,
   "metadata": {},
   "outputs": [],
   "source": [
    "Kentish = pd.read_csv(\"Kentish-points.csv\", low_memory=False)"
   ]
  },
  {
   "cell_type": "code",
   "execution_count": 6,
   "metadata": {},
   "outputs": [],
   "source": [
    "Fortress = pd.read_csv(\"Fortress-points.csv\", low_memory=False)"
   ]
  },
  {
   "cell_type": "code",
   "execution_count": 7,
   "metadata": {},
   "outputs": [],
   "source": [
    "CamdenT = pd.read_csv(\"CamdenT-points.csv\", low_memory=False)"
   ]
  },
  {
   "cell_type": "code",
   "execution_count": 8,
   "metadata": {},
   "outputs": [],
   "source": [
    "Belsize = pd.read_csv(\"Belsize-points.csv\", low_memory=False)"
   ]
  },
  {
   "cell_type": "code",
   "execution_count": 9,
   "metadata": {},
   "outputs": [],
   "source": [
    "Loudoun = pd.read_csv(\"Loudoun-points.csv\", low_memory=False)"
   ]
  },
  {
   "cell_type": "code",
   "execution_count": 10,
   "metadata": {},
   "outputs": [],
   "source": [
    "Haverstock = pd.read_csv(\"Haverstock-points.csv\", low_memory=False)"
   ]
  },
  {
   "cell_type": "code",
   "execution_count": 11,
   "metadata": {},
   "outputs": [],
   "source": [
    "SouthEnd = pd.read_csv(\"SouthEnd-points.csv\", low_memory=False)"
   ]
  },
  {
   "cell_type": "code",
   "execution_count": 12,
   "metadata": {},
   "outputs": [],
   "source": [
    "#Highgate = pd.read_csv(\"Highgate-points.csv\", low_memory=False)"
   ]
  },
  {
   "cell_type": "code",
   "execution_count": 13,
   "metadata": {},
   "outputs": [],
   "source": [
    "Cricklewood = pd.read_csv(\"Cricklewood-points.csv\", low_memory=False)"
   ]
  },
  {
   "cell_type": "code",
   "execution_count": 14,
   "metadata": {},
   "outputs": [],
   "source": [
    "Regents = pd.read_csv(\"Regents-points.csv\", low_memory=False)"
   ]
  },
  {
   "cell_type": "code",
   "execution_count": 15,
   "metadata": {},
   "outputs": [],
   "source": [
    "Queens = pd.read_csv(\"Queens-points.csv\", low_memory=False)"
   ]
  },
  {
   "cell_type": "code",
   "execution_count": 16,
   "metadata": {},
   "outputs": [],
   "source": [
    "Kilburn = pd.read_csv(\"Kilburn-points.csv\", low_memory=False)"
   ]
  },
  {
   "cell_type": "code",
   "execution_count": 17,
   "metadata": {},
   "outputs": [],
   "source": [
    "Mill = pd.read_csv(\"Mill-points.csv\", low_memory=False)"
   ]
  },
  {
   "cell_type": "code",
   "execution_count": 18,
   "metadata": {},
   "outputs": [],
   "source": [
    "Fortune = pd.read_csv(\"Fortune-points.csv\", low_memory=False)"
   ]
  },
  {
   "cell_type": "code",
   "execution_count": 19,
   "metadata": {},
   "outputs": [],
   "source": [
    "Willesden = pd.read_csv(\"Willesden-points.csv\", low_memory=False)"
   ]
  },
  {
   "cell_type": "code",
   "execution_count": 20,
   "metadata": {},
   "outputs": [],
   "source": [
    "#Finchley = pd.read_csv(\"Finchley-points.csv\", low_memory=False)"
   ]
  },
  {
   "cell_type": "code",
   "execution_count": 21,
   "metadata": {},
   "outputs": [],
   "source": [
    "Mansfield = pd.read_csv(\"Mansfield-points.csv\", low_memory=False)"
   ]
  },
  {
   "cell_type": "code",
   "execution_count": 22,
   "metadata": {},
   "outputs": [],
   "source": [
    "WestEnd = pd.read_csv(\"WestEnd-points.csv\", low_memory=False)"
   ]
  },
  {
   "cell_type": "code",
   "execution_count": 23,
   "metadata": {},
   "outputs": [],
   "source": [
    "Hampstead = pd.read_csv(\"Hampstead-points.csv\", low_memory=False)"
   ]
  },
  {
   "cell_type": "code",
   "execution_count": 24,
   "metadata": {},
   "outputs": [],
   "source": [
    "Eversholt = pd.read_csv(\"Eversholt-points.csv\", low_memory=False)"
   ]
  },
  {
   "cell_type": "markdown",
   "metadata": {},
   "source": [
    "### Run the preprocessing template for each dataset "
   ]
  },
  {
   "cell_type": "markdown",
   "metadata": {},
   "source": [
    "#### 1. Brecknock "
   ]
  },
  {
   "cell_type": "code",
   "execution_count": 25,
   "metadata": {},
   "outputs": [],
   "source": [
    "Brecknock = Brecknock.sort_values(by= ['status_date'])"
   ]
  },
  {
   "cell_type": "code",
   "execution_count": 26,
   "metadata": {},
   "outputs": [],
   "source": [
    "cols = ['V3', 'V4', 'V5', 'V13', 'V14', 'V15', 'V16', 'V17', 'V19', 'V20', 'V21', 'V26', 'V28', 'V30', 'V36', 'V38', 'V39', 'V48', 'V51', 'V54', 'V55', 'V56', 'V57', \n",
    "        'V58', 'V59', 'V60', 'V64', 'V70', 'V72', 'V77']"
   ]
  },
  {
   "cell_type": "code",
   "execution_count": 27,
   "metadata": {},
   "outputs": [],
   "source": [
    "#deleted those cols columns from the dataset as they only contain nulls\n",
    "\n",
    "Brecknock = Brecknock.drop(cols, axis=1)"
   ]
  },
  {
   "cell_type": "code",
   "execution_count": 28,
   "metadata": {},
   "outputs": [],
   "source": [
    "Brecknock['new_date'] = pd.to_datetime(Brecknock['status_date'], errors='coerce')"
   ]
  },
  {
   "cell_type": "code",
   "execution_count": 29,
   "metadata": {},
   "outputs": [],
   "source": [
    "Brecknock = Brecknock.sort_values(by= ['new_date'])"
   ]
  },
  {
   "cell_type": "code",
   "execution_count": 30,
   "metadata": {},
   "outputs": [
    {
     "name": "stderr",
     "output_type": "stream",
     "text": [
      "/opt/conda/envs/sds2020/lib/python3.7/site-packages/pandas/core/indexing.py:670: SettingWithCopyWarning: \n",
      "A value is trying to be set on a copy of a slice from a DataFrame\n",
      "\n",
      "See the caveats in the documentation: https://pandas.pydata.org/pandas-docs/stable/user_guide/indexing.html#returning-a-view-versus-a-copy\n",
      "  iloc._setitem_with_indexer(indexer, value)\n"
     ]
    }
   ],
   "source": [
    "Brecknock['new_date'].loc[(Brecknock['new_date'] < '2010-04-01')] = '2010-04-01'"
   ]
  },
  {
   "cell_type": "code",
   "execution_count": 31,
   "metadata": {},
   "outputs": [],
   "source": [
    "Brecknock = Brecknock.sort_values(by= ['location_code', 'period'])"
   ]
  },
  {
   "cell_type": "code",
   "execution_count": 32,
   "metadata": {},
   "outputs": [],
   "source": [
    "Brecknock['locaton_code'] = Brecknock['location_code'].astype(\"category\")"
   ]
  },
  {
   "cell_type": "code",
   "execution_count": 33,
   "metadata": {},
   "outputs": [],
   "source": [
    "locations = Brecknock['location_code'].unique()"
   ]
  },
  {
   "cell_type": "code",
   "execution_count": 34,
   "metadata": {},
   "outputs": [],
   "source": [
    "Brecknock.loc[Brecknock['name'].isnull(), 'name'] = Brecknock['location_code']"
   ]
  },
  {
   "cell_type": "code",
   "execution_count": 35,
   "metadata": {},
   "outputs": [],
   "source": [
    "Brecknock['status_date'] = pd.to_datetime(Brecknock['status_date'], errors='coerce')"
   ]
  },
  {
   "cell_type": "code",
   "execution_count": 36,
   "metadata": {},
   "outputs": [],
   "source": [
    "Brecknock['status_date'].iloc[Brecknock['status_date'] < '2010-04-01'] = '04/01/2010'"
   ]
  },
  {
   "cell_type": "code",
   "execution_count": 37,
   "metadata": {},
   "outputs": [],
   "source": [
    "Brecknock['status_date'] = pd.to_datetime(Brecknock['status_date'], errors='coerce')"
   ]
  },
  {
   "cell_type": "code",
   "execution_count": 38,
   "metadata": {},
   "outputs": [],
   "source": [
    "Brecknock['period2'] = pd.to_datetime(Brecknock['period'])"
   ]
  },
  {
   "cell_type": "code",
   "execution_count": 39,
   "metadata": {},
   "outputs": [],
   "source": [
    "Brecknock['period2'] = Brecknock['period2'] + pd.DateOffset(months=1)"
   ]
  },
  {
   "cell_type": "code",
   "execution_count": 40,
   "metadata": {},
   "outputs": [],
   "source": [
    "Brecknock['duration'] = Brecknock['period2'] - Brecknock['status_date']"
   ]
  },
  {
   "cell_type": "code",
   "execution_count": 41,
   "metadata": {},
   "outputs": [],
   "source": [
    "Brecknock['duration'] = Brecknock['duration'].dt.days"
   ]
  },
  {
   "cell_type": "code",
   "execution_count": 42,
   "metadata": {},
   "outputs": [],
   "source": [
    "Brecknock['study-start'] = '04/01/2010'"
   ]
  },
  {
   "cell_type": "code",
   "execution_count": 43,
   "metadata": {},
   "outputs": [],
   "source": [
    "Brecknock['study-start'] = pd.to_datetime(Brecknock['study-start'], errors='coerce')"
   ]
  },
  {
   "cell_type": "code",
   "execution_count": 44,
   "metadata": {},
   "outputs": [],
   "source": [
    "Brecknock['time-of-entry'] = Brecknock['status_date'] -  Brecknock['study-start']"
   ]
  },
  {
   "cell_type": "code",
   "execution_count": 45,
   "metadata": {},
   "outputs": [],
   "source": [
    "Brecknock['time-at-open'] = 0"
   ]
  },
  {
   "cell_type": "code",
   "execution_count": 46,
   "metadata": {},
   "outputs": [],
   "source": [
    "Brecknock = Brecknock.drop(Brecknock[(Brecknock['status'] == True)].index)"
   ]
  },
  {
   "cell_type": "code",
   "execution_count": 47,
   "metadata": {},
   "outputs": [],
   "source": [
    "Brecknock['location_code'] = Brecknock['location_code'].astype(\"category\")"
   ]
  },
  {
   "cell_type": "code",
   "execution_count": 48,
   "metadata": {},
   "outputs": [],
   "source": [
    "locations = list(Brecknock['location_code'].unique())"
   ]
  },
  {
   "cell_type": "code",
   "execution_count": 49,
   "metadata": {},
   "outputs": [],
   "source": [
    "Brecknock = Brecknock.set_index('location_code')"
   ]
  },
  {
   "cell_type": "code",
   "execution_count": 50,
   "metadata": {},
   "outputs": [],
   "source": [
    "Brecknock['survival'] = 0"
   ]
  },
  {
   "cell_type": "code",
   "execution_count": 51,
   "metadata": {},
   "outputs": [],
   "source": [
    "Brecknock['survival'] = Brecknock['duration']"
   ]
  },
  {
   "cell_type": "code",
   "execution_count": 52,
   "metadata": {},
   "outputs": [],
   "source": [
    "Brecknock['entry'] = Brecknock['time-of-entry'].dt.days"
   ]
  },
  {
   "cell_type": "code",
   "execution_count": 53,
   "metadata": {},
   "outputs": [],
   "source": [
    "Brecknock['time-at-open'] = Brecknock['survival'] + Brecknock['entry']"
   ]
  },
  {
   "cell_type": "code",
   "execution_count": 54,
   "metadata": {},
   "outputs": [],
   "source": [
    "Brecknock['stat'] = Brecknock['status'].astype(int)"
   ]
  },
  {
   "cell_type": "code",
   "execution_count": 55,
   "metadata": {},
   "outputs": [],
   "source": [
    "Brecknock[\"StatusChange\"] =  Brecknock['stat'].shift() != Brecknock['stat']"
   ]
  },
  {
   "cell_type": "code",
   "execution_count": 56,
   "metadata": {},
   "outputs": [
    {
     "name": "stderr",
     "output_type": "stream",
     "text": [
      "/opt/conda/envs/sds2020/lib/python3.7/site-packages/pandas/core/indexing.py:670: SettingWithCopyWarning: \n",
      "A value is trying to be set on a copy of a slice from a DataFrame\n",
      "\n",
      "See the caveats in the documentation: https://pandas.pydata.org/pandas-docs/stable/user_guide/indexing.html#returning-a-view-versus-a-copy\n",
      "  iloc._setitem_with_indexer(indexer, value)\n"
     ]
    }
   ],
   "source": [
    "Brecknock[\"StatusChange\"].iloc[0] = False"
   ]
  },
  {
   "cell_type": "code",
   "execution_count": 57,
   "metadata": {},
   "outputs": [],
   "source": [
    "Brecknock[\"TenantChange\"] =  Brecknock['name'].shift(-1) != Brecknock['name'] "
   ]
  },
  {
   "cell_type": "code",
   "execution_count": 58,
   "metadata": {},
   "outputs": [],
   "source": [
    "Brecknock[\"TenantChange\"].iloc[0] = False"
   ]
  },
  {
   "cell_type": "code",
   "execution_count": 59,
   "metadata": {},
   "outputs": [],
   "source": [
    "counter = 0 \n",
    "stoppingCondition = len(locations)\n",
    "Brecknock2 = pd.DataFrame(data=None, columns=Brecknock.columns, index=None)\n",
    "\n",
    "while counter < stoppingCondition:\n",
    "        i = locations[counter]\n",
    "        m = Brecknock.loc[i, :].iloc[[ Brecknock.loc[i, :]['status_duration'].argmax()]]\n",
    "        Brecknock2 = Brecknock2.append(m, ignore_index=False)\n",
    "        counter += 1"
   ]
  },
  {
   "cell_type": "code",
   "execution_count": 60,
   "metadata": {},
   "outputs": [],
   "source": [
    "Brecknock3 = Brecknock2.drop_duplicates()"
   ]
  },
  {
   "cell_type": "code",
   "execution_count": 61,
   "metadata": {},
   "outputs": [],
   "source": [
    "Brecknock3['highstreet'] = 'Brecknock'"
   ]
  },
  {
   "cell_type": "code",
   "execution_count": 62,
   "metadata": {},
   "outputs": [],
   "source": [
    "Brecknock3.to_csv('Brecknock-vacant-survival.csv')"
   ]
  },
  {
   "cell_type": "markdown",
   "metadata": {},
   "source": [
    "#### 2. Kentish "
   ]
  },
  {
   "cell_type": "code",
   "execution_count": 63,
   "metadata": {},
   "outputs": [],
   "source": [
    "Kentish = Kentish.sort_values(by= ['status_date'])"
   ]
  },
  {
   "cell_type": "code",
   "execution_count": 64,
   "metadata": {},
   "outputs": [],
   "source": [
    "cols = ['V3', 'V4', 'V5', 'V13', 'V14', 'V15', 'V16', 'V17', 'V19', 'V20', 'V21', 'V26', 'V28', 'V30', 'V36', 'V38', 'V39', 'V48', 'V51', 'V54', 'V55', 'V56', 'V57', \n",
    "        'V58', 'V59', 'V60', 'V64', 'V70', 'V72', 'V77']"
   ]
  },
  {
   "cell_type": "code",
   "execution_count": 65,
   "metadata": {},
   "outputs": [
    {
     "data": {
      "text/html": [
       "<div>\n",
       "<style scoped>\n",
       "    .dataframe tbody tr th:only-of-type {\n",
       "        vertical-align: middle;\n",
       "    }\n",
       "\n",
       "    .dataframe tbody tr th {\n",
       "        vertical-align: top;\n",
       "    }\n",
       "\n",
       "    .dataframe thead th {\n",
       "        text-align: right;\n",
       "    }\n",
       "</style>\n",
       "<table border=\"1\" class=\"dataframe\">\n",
       "  <thead>\n",
       "    <tr style=\"text-align: right;\">\n",
       "      <th></th>\n",
       "      <th>Unnamed: 0</th>\n",
       "      <th>Unnamed: 0.1</th>\n",
       "      <th>rates_code</th>\n",
       "      <th>rates_authority_id</th>\n",
       "      <th>rates_authority</th>\n",
       "      <th>region</th>\n",
       "      <th>location_code</th>\n",
       "      <th>address_no</th>\n",
       "      <th>address_street</th>\n",
       "      <th>address_town</th>\n",
       "      <th>...</th>\n",
       "      <th>V69</th>\n",
       "      <th>V70</th>\n",
       "      <th>V71</th>\n",
       "      <th>V72</th>\n",
       "      <th>V73</th>\n",
       "      <th>V74</th>\n",
       "      <th>V75</th>\n",
       "      <th>V76</th>\n",
       "      <th>V77</th>\n",
       "      <th>geometry</th>\n",
       "    </tr>\n",
       "  </thead>\n",
       "  <tbody>\n",
       "    <tr>\n",
       "      <th>3880</th>\n",
       "      <td>329295</td>\n",
       "      <td>329295</td>\n",
       "      <td>51201460012</td>\n",
       "      <td>E09000007</td>\n",
       "      <td>Camden</td>\n",
       "      <td>Inner London - West</td>\n",
       "      <td>8079315000</td>\n",
       "      <td>GND - 2ND FLRS 146</td>\n",
       "      <td>ROYAL COLLEGE STREET</td>\n",
       "      <td>LONDON</td>\n",
       "      <td>...</td>\n",
       "      <td>D</td>\n",
       "      <td>NaN</td>\n",
       "      <td>E05000143</td>\n",
       "      <td>NaN</td>\n",
       "      <td>2013-07-01</td>\n",
       "      <td>0</td>\n",
       "      <td>CO</td>\n",
       "      <td>203.0</td>\n",
       "      <td>NaN</td>\n",
       "      <td>POINT (529304.7813367147 184070.2960136788)</td>\n",
       "    </tr>\n",
       "    <tr>\n",
       "      <th>4399</th>\n",
       "      <td>402250</td>\n",
       "      <td>402250</td>\n",
       "      <td>6.54002E+11</td>\n",
       "      <td>E09000007</td>\n",
       "      <td>Camden</td>\n",
       "      <td>Inner London - West</td>\n",
       "      <td>11659715000</td>\n",
       "      <td>UNIT 4 AT 21</td>\n",
       "      <td>BONNY STREET</td>\n",
       "      <td>LONDON</td>\n",
       "      <td>...</td>\n",
       "      <td>C</td>\n",
       "      <td>NaN</td>\n",
       "      <td>E05000130</td>\n",
       "      <td>NaN</td>\n",
       "      <td>NaN</td>\n",
       "      <td>0</td>\n",
       "      <td>CO</td>\n",
       "      <td>203.0</td>\n",
       "      <td>NaN</td>\n",
       "      <td>POINT (529149.7842568328 184183.290960255)</td>\n",
       "    </tr>\n",
       "    <tr>\n",
       "      <th>962</th>\n",
       "      <td>82795</td>\n",
       "      <td>82795</td>\n",
       "      <td>5.1202E+11</td>\n",
       "      <td>E09000007</td>\n",
       "      <td>Camden</td>\n",
       "      <td>Inner London - West</td>\n",
       "      <td>75247063</td>\n",
       "      <td>201</td>\n",
       "      <td>ROYAL COLLEGE STREET</td>\n",
       "      <td>LONDON</td>\n",
       "      <td>...</td>\n",
       "      <td>D</td>\n",
       "      <td>NaN</td>\n",
       "      <td>E05000130</td>\n",
       "      <td>NaN</td>\n",
       "      <td>2012-03-19</td>\n",
       "      <td>0</td>\n",
       "      <td>CS</td>\n",
       "      <td>249.0</td>\n",
       "      <td>NaN</td>\n",
       "      <td>POINT (529229.7802553794 184107.2885801889)</td>\n",
       "    </tr>\n",
       "    <tr>\n",
       "      <th>3481</th>\n",
       "      <td>123894</td>\n",
       "      <td>123894</td>\n",
       "      <td>0074200631009A</td>\n",
       "      <td>E09000007</td>\n",
       "      <td>Camden</td>\n",
       "      <td>Inner London - West</td>\n",
       "      <td>95659063</td>\n",
       "      <td>UNIT 7 AT 63</td>\n",
       "      <td>PRATT STREET</td>\n",
       "      <td>LONDON</td>\n",
       "      <td>...</td>\n",
       "      <td>L</td>\n",
       "      <td>NaN</td>\n",
       "      <td>E05000143</td>\n",
       "      <td>NaN</td>\n",
       "      <td>NaN</td>\n",
       "      <td>0</td>\n",
       "      <td>IF3</td>\n",
       "      <td>96.0</td>\n",
       "      <td>NaN</td>\n",
       "      <td>POINT (529377.7846075087 183993.2942823111)</td>\n",
       "    </tr>\n",
       "    <tr>\n",
       "      <th>2997</th>\n",
       "      <td>113205</td>\n",
       "      <td>113205</td>\n",
       "      <td>6.57089E+11</td>\n",
       "      <td>E09000007</td>\n",
       "      <td>Camden</td>\n",
       "      <td>Inner London - West</td>\n",
       "      <td>3251736000</td>\n",
       "      <td>1 LAWFORDS WHARF</td>\n",
       "      <td>LYME STREET</td>\n",
       "      <td>LONDON</td>\n",
       "      <td>...</td>\n",
       "      <td>D</td>\n",
       "      <td>NaN</td>\n",
       "      <td>E05000130</td>\n",
       "      <td>NaN</td>\n",
       "      <td>2012-03-19</td>\n",
       "      <td>0</td>\n",
       "      <td>CO</td>\n",
       "      <td>203.0</td>\n",
       "      <td>NaN</td>\n",
       "      <td>POINT (529185.7852216109 184064.2957215998)</td>\n",
       "    </tr>\n",
       "    <tr>\n",
       "      <th>...</th>\n",
       "      <td>...</td>\n",
       "      <td>...</td>\n",
       "      <td>...</td>\n",
       "      <td>...</td>\n",
       "      <td>...</td>\n",
       "      <td>...</td>\n",
       "      <td>...</td>\n",
       "      <td>...</td>\n",
       "      <td>...</td>\n",
       "      <td>...</td>\n",
       "      <td>...</td>\n",
       "      <td>...</td>\n",
       "      <td>...</td>\n",
       "      <td>...</td>\n",
       "      <td>...</td>\n",
       "      <td>...</td>\n",
       "      <td>...</td>\n",
       "      <td>...</td>\n",
       "      <td>...</td>\n",
       "      <td>...</td>\n",
       "      <td>...</td>\n",
       "    </tr>\n",
       "    <tr>\n",
       "      <th>1490</th>\n",
       "      <td>85831</td>\n",
       "      <td>85831</td>\n",
       "      <td>5.35006E+11</td>\n",
       "      <td>E09000007</td>\n",
       "      <td>Camden</td>\n",
       "      <td>Inner London - West</td>\n",
       "      <td>99271063</td>\n",
       "      <td>GND F 57</td>\n",
       "      <td>CAMDEN ROAD</td>\n",
       "      <td>LONDON</td>\n",
       "      <td>...</td>\n",
       "      <td>D</td>\n",
       "      <td>NaN</td>\n",
       "      <td>E05000131</td>\n",
       "      <td>NaN</td>\n",
       "      <td>2012-03-19</td>\n",
       "      <td>3</td>\n",
       "      <td>CS2</td>\n",
       "      <td>24.0</td>\n",
       "      <td>NaN</td>\n",
       "      <td>POINT (529196.7824470752 184232.3021180349)</td>\n",
       "    </tr>\n",
       "    <tr>\n",
       "      <th>3250</th>\n",
       "      <td>113502</td>\n",
       "      <td>113502</td>\n",
       "      <td>6.61009E+11</td>\n",
       "      <td>E09000007</td>\n",
       "      <td>Camden</td>\n",
       "      <td>Inner London - West</td>\n",
       "      <td>110608063</td>\n",
       "      <td>ARCHES 90 &amp; 91</td>\n",
       "      <td>BAYNES STREET</td>\n",
       "      <td>LONDON</td>\n",
       "      <td>...</td>\n",
       "      <td>D</td>\n",
       "      <td>NaN</td>\n",
       "      <td>E05000131</td>\n",
       "      <td>NaN</td>\n",
       "      <td>2012-03-19</td>\n",
       "      <td>0</td>\n",
       "      <td>CG1</td>\n",
       "      <td>289.0</td>\n",
       "      <td>NaN</td>\n",
       "      <td>POINT (529354.7875236059 184154.2926299943)</td>\n",
       "    </tr>\n",
       "    <tr>\n",
       "      <th>874</th>\n",
       "      <td>82707</td>\n",
       "      <td>82707</td>\n",
       "      <td>5.12019E+11</td>\n",
       "      <td>E09000007</td>\n",
       "      <td>Camden</td>\n",
       "      <td>Inner London - West</td>\n",
       "      <td>3386993000</td>\n",
       "      <td>2ND F 187-191</td>\n",
       "      <td>ROYAL COLLEGE STREET</td>\n",
       "      <td>LONDON</td>\n",
       "      <td>...</td>\n",
       "      <td>C</td>\n",
       "      <td>NaN</td>\n",
       "      <td>E05000130</td>\n",
       "      <td>NaN</td>\n",
       "      <td>NaN</td>\n",
       "      <td>0</td>\n",
       "      <td>CO</td>\n",
       "      <td>203.0</td>\n",
       "      <td>NaN</td>\n",
       "      <td>POINT (529258.7831391912 184058.2975567151)</td>\n",
       "    </tr>\n",
       "    <tr>\n",
       "      <th>3426</th>\n",
       "      <td>123839</td>\n",
       "      <td>123839</td>\n",
       "      <td>0074200631007B</td>\n",
       "      <td>E09000007</td>\n",
       "      <td>Camden</td>\n",
       "      <td>Inner London - West</td>\n",
       "      <td>95657063</td>\n",
       "      <td>UNIT 5 AT 63</td>\n",
       "      <td>PRATT STREET</td>\n",
       "      <td>LONDON</td>\n",
       "      <td>...</td>\n",
       "      <td>D</td>\n",
       "      <td>NaN</td>\n",
       "      <td>E05000143</td>\n",
       "      <td>NaN</td>\n",
       "      <td>2013-10-22</td>\n",
       "      <td>0</td>\n",
       "      <td>IF3</td>\n",
       "      <td>96.0</td>\n",
       "      <td>NaN</td>\n",
       "      <td>POINT (529337.7843255643 183958.291385453)</td>\n",
       "    </tr>\n",
       "    <tr>\n",
       "      <th>1941</th>\n",
       "      <td>86326</td>\n",
       "      <td>86326</td>\n",
       "      <td>5.35009E+11</td>\n",
       "      <td>E09000007</td>\n",
       "      <td>Camden</td>\n",
       "      <td>Inner London - West</td>\n",
       "      <td>99299063</td>\n",
       "      <td>GND F 94</td>\n",
       "      <td>CAMDEN ROAD</td>\n",
       "      <td>LONDON</td>\n",
       "      <td>...</td>\n",
       "      <td>D</td>\n",
       "      <td>NaN</td>\n",
       "      <td>E05000130</td>\n",
       "      <td>NaN</td>\n",
       "      <td>2012-03-19</td>\n",
       "      <td>4</td>\n",
       "      <td>CR</td>\n",
       "      <td>234.0</td>\n",
       "      <td>NaN</td>\n",
       "      <td>POINT (529186.7842412135 184130.2967683947)</td>\n",
       "    </tr>\n",
       "  </tbody>\n",
       "</table>\n",
       "<p>4603 rows × 105 columns</p>\n",
       "</div>"
      ],
      "text/plain": [
       "      Unnamed: 0  Unnamed: 0.1      rates_code rates_authority_id  \\\n",
       "3880      329295        329295     51201460012          E09000007   \n",
       "4399      402250        402250     6.54002E+11          E09000007   \n",
       "962        82795         82795      5.1202E+11          E09000007   \n",
       "3481      123894        123894  0074200631009A          E09000007   \n",
       "2997      113205        113205     6.57089E+11          E09000007   \n",
       "...          ...           ...             ...                ...   \n",
       "1490       85831         85831     5.35006E+11          E09000007   \n",
       "3250      113502        113502     6.61009E+11          E09000007   \n",
       "874        82707         82707     5.12019E+11          E09000007   \n",
       "3426      123839        123839  0074200631007B          E09000007   \n",
       "1941       86326         86326     5.35009E+11          E09000007   \n",
       "\n",
       "     rates_authority               region  location_code          address_no  \\\n",
       "3880          Camden  Inner London - West     8079315000  GND - 2ND FLRS 146   \n",
       "4399          Camden  Inner London - West    11659715000        UNIT 4 AT 21   \n",
       "962           Camden  Inner London - West       75247063                 201   \n",
       "3481          Camden  Inner London - West       95659063        UNIT 7 AT 63   \n",
       "2997          Camden  Inner London - West     3251736000    1 LAWFORDS WHARF   \n",
       "...              ...                  ...            ...                 ...   \n",
       "1490          Camden  Inner London - West       99271063            GND F 57   \n",
       "3250          Camden  Inner London - West      110608063      ARCHES 90 & 91   \n",
       "874           Camden  Inner London - West     3386993000       2ND F 187-191   \n",
       "3426          Camden  Inner London - West       95657063        UNIT 5 AT 63   \n",
       "1941          Camden  Inner London - West       99299063            GND F 94   \n",
       "\n",
       "            address_street address_town  ... V69 V70        V71 V72  \\\n",
       "3880  ROYAL COLLEGE STREET       LONDON  ...   D NaN  E05000143 NaN   \n",
       "4399          BONNY STREET       LONDON  ...   C NaN  E05000130 NaN   \n",
       "962   ROYAL COLLEGE STREET       LONDON  ...   D NaN  E05000130 NaN   \n",
       "3481          PRATT STREET       LONDON  ...   L NaN  E05000143 NaN   \n",
       "2997           LYME STREET       LONDON  ...   D NaN  E05000130 NaN   \n",
       "...                    ...          ...  ...  ..  ..        ...  ..   \n",
       "1490           CAMDEN ROAD       LONDON  ...   D NaN  E05000131 NaN   \n",
       "3250         BAYNES STREET       LONDON  ...   D NaN  E05000131 NaN   \n",
       "874   ROYAL COLLEGE STREET       LONDON  ...   C NaN  E05000130 NaN   \n",
       "3426          PRATT STREET       LONDON  ...   D NaN  E05000143 NaN   \n",
       "1941           CAMDEN ROAD       LONDON  ...   D NaN  E05000130 NaN   \n",
       "\n",
       "             V73  V74  V75    V76  V77  \\\n",
       "3880  2013-07-01    0   CO  203.0  NaN   \n",
       "4399         NaN    0   CO  203.0  NaN   \n",
       "962   2012-03-19    0   CS  249.0  NaN   \n",
       "3481         NaN    0  IF3   96.0  NaN   \n",
       "2997  2012-03-19    0   CO  203.0  NaN   \n",
       "...          ...  ...  ...    ...  ...   \n",
       "1490  2012-03-19    3  CS2   24.0  NaN   \n",
       "3250  2012-03-19    0  CG1  289.0  NaN   \n",
       "874          NaN    0   CO  203.0  NaN   \n",
       "3426  2013-10-22    0  IF3   96.0  NaN   \n",
       "1941  2012-03-19    4   CR  234.0  NaN   \n",
       "\n",
       "                                         geometry  \n",
       "3880  POINT (529304.7813367147 184070.2960136788)  \n",
       "4399   POINT (529149.7842568328 184183.290960255)  \n",
       "962   POINT (529229.7802553794 184107.2885801889)  \n",
       "3481  POINT (529377.7846075087 183993.2942823111)  \n",
       "2997  POINT (529185.7852216109 184064.2957215998)  \n",
       "...                                           ...  \n",
       "1490  POINT (529196.7824470752 184232.3021180349)  \n",
       "3250  POINT (529354.7875236059 184154.2926299943)  \n",
       "874   POINT (529258.7831391912 184058.2975567151)  \n",
       "3426   POINT (529337.7843255643 183958.291385453)  \n",
       "1941  POINT (529186.7842412135 184130.2967683947)  \n",
       "\n",
       "[4603 rows x 105 columns]"
      ]
     },
     "execution_count": 65,
     "metadata": {},
     "output_type": "execute_result"
    }
   ],
   "source": [
    "Kentish"
   ]
  },
  {
   "cell_type": "code",
   "execution_count": 66,
   "metadata": {},
   "outputs": [],
   "source": [
    "#deleted those cols columns from the dataset as they only contain nulls\n",
    "\n",
    "Kentish = Kentish.drop(cols, axis=1)"
   ]
  },
  {
   "cell_type": "code",
   "execution_count": 67,
   "metadata": {},
   "outputs": [],
   "source": [
    "Kentish['new_date'] = pd.to_datetime(Kentish['status_date'], errors='coerce')"
   ]
  },
  {
   "cell_type": "code",
   "execution_count": 68,
   "metadata": {},
   "outputs": [],
   "source": [
    "Kentish = Kentish.sort_values(by= ['new_date'])"
   ]
  },
  {
   "cell_type": "code",
   "execution_count": 69,
   "metadata": {},
   "outputs": [
    {
     "name": "stderr",
     "output_type": "stream",
     "text": [
      "/opt/conda/envs/sds2020/lib/python3.7/site-packages/pandas/core/indexing.py:670: SettingWithCopyWarning: \n",
      "A value is trying to be set on a copy of a slice from a DataFrame\n",
      "\n",
      "See the caveats in the documentation: https://pandas.pydata.org/pandas-docs/stable/user_guide/indexing.html#returning-a-view-versus-a-copy\n",
      "  iloc._setitem_with_indexer(indexer, value)\n"
     ]
    }
   ],
   "source": [
    "Kentish['new_date'].loc[(Kentish['new_date'] < '2010-04-01')] = '2010-04-01'"
   ]
  },
  {
   "cell_type": "code",
   "execution_count": 70,
   "metadata": {},
   "outputs": [],
   "source": [
    "Kentish = Kentish.sort_values(by= ['location_code', 'period'])"
   ]
  },
  {
   "cell_type": "code",
   "execution_count": 71,
   "metadata": {},
   "outputs": [],
   "source": [
    "Kentish['locaton_code'] = Kentish['location_code'].astype(\"category\")"
   ]
  },
  {
   "cell_type": "code",
   "execution_count": 72,
   "metadata": {},
   "outputs": [],
   "source": [
    "locations = Kentish['location_code'].unique()"
   ]
  },
  {
   "cell_type": "code",
   "execution_count": 73,
   "metadata": {},
   "outputs": [],
   "source": [
    "Kentish.loc[Kentish['name'].isnull(), 'name'] = Kentish['location_code']"
   ]
  },
  {
   "cell_type": "code",
   "execution_count": 74,
   "metadata": {},
   "outputs": [],
   "source": [
    "Kentish['status_date'] = pd.to_datetime(Kentish['status_date'], errors='coerce')"
   ]
  },
  {
   "cell_type": "code",
   "execution_count": 75,
   "metadata": {},
   "outputs": [],
   "source": [
    "Kentish['status_date'].iloc[Kentish['status_date'] < '2010-04-01'] = '04/01/2010'"
   ]
  },
  {
   "cell_type": "code",
   "execution_count": 76,
   "metadata": {},
   "outputs": [],
   "source": [
    "Kentish['status_date'] = pd.to_datetime(Kentish['status_date'], errors='coerce')"
   ]
  },
  {
   "cell_type": "code",
   "execution_count": 77,
   "metadata": {},
   "outputs": [],
   "source": [
    "Kentish['period2'] = pd.to_datetime(Kentish['period'])"
   ]
  },
  {
   "cell_type": "code",
   "execution_count": 78,
   "metadata": {},
   "outputs": [],
   "source": [
    "Kentish['period2'] = Kentish['period2'] + pd.DateOffset(months=1)"
   ]
  },
  {
   "cell_type": "code",
   "execution_count": 79,
   "metadata": {},
   "outputs": [],
   "source": [
    "Kentish['duration'] = Kentish['period2'] - Kentish['status_date']"
   ]
  },
  {
   "cell_type": "code",
   "execution_count": 80,
   "metadata": {},
   "outputs": [],
   "source": [
    "Kentish['duration'] = Kentish['duration'].dt.days"
   ]
  },
  {
   "cell_type": "code",
   "execution_count": 81,
   "metadata": {},
   "outputs": [],
   "source": [
    "Kentish['study-start'] = '04/01/2010'"
   ]
  },
  {
   "cell_type": "code",
   "execution_count": 82,
   "metadata": {},
   "outputs": [],
   "source": [
    "Kentish['study-start'] = pd.to_datetime(Kentish['study-start'], errors='coerce')"
   ]
  },
  {
   "cell_type": "code",
   "execution_count": 83,
   "metadata": {},
   "outputs": [],
   "source": [
    "Kentish['time-of-entry'] = Kentish['status_date'] -  Kentish['study-start']"
   ]
  },
  {
   "cell_type": "code",
   "execution_count": 84,
   "metadata": {},
   "outputs": [],
   "source": [
    "Kentish['time-at-open'] = 0"
   ]
  },
  {
   "cell_type": "code",
   "execution_count": null,
   "metadata": {},
   "outputs": [],
   "source": [
    "Kentish['vacant'] = 0"
   ]
  },
  {
   "cell_type": "code",
   "execution_count": null,
   "metadata": {},
   "outputs": [],
   "source": [
    "Kentish = Kentish.drop(Kentish[(Kentish['status'] == True)].index)"
   ]
  },
  {
   "cell_type": "code",
   "execution_count": null,
   "metadata": {},
   "outputs": [],
   "source": [
    "Kentish['location_code'] = Kentish['location_code'].astype(\"category\")"
   ]
  },
  {
   "cell_type": "code",
   "execution_count": null,
   "metadata": {},
   "outputs": [],
   "source": [
    "locations = list(Kentish['location_code'].unique())"
   ]
  },
  {
   "cell_type": "code",
   "execution_count": null,
   "metadata": {},
   "outputs": [],
   "source": [
    "Kentish = Kentish.set_index('location_code')"
   ]
  },
  {
   "cell_type": "code",
   "execution_count": null,
   "metadata": {},
   "outputs": [],
   "source": [
    "Kentish['survival'] = 0"
   ]
  },
  {
   "cell_type": "code",
   "execution_count": null,
   "metadata": {},
   "outputs": [],
   "source": [
    "Kentish['survival'] = Kentish['duration']"
   ]
  },
  {
   "cell_type": "code",
   "execution_count": null,
   "metadata": {},
   "outputs": [],
   "source": [
    "Kentish['entry'] = Kentish['time-of-entry'].dt.days"
   ]
  },
  {
   "cell_type": "code",
   "execution_count": null,
   "metadata": {},
   "outputs": [],
   "source": [
    "Kentish['time-at-open'] = Kentish['survival'] + Kentish['entry']"
   ]
  },
  {
   "cell_type": "code",
   "execution_count": null,
   "metadata": {},
   "outputs": [],
   "source": [
    "Kentish['stat'] = Kentish['status'].astype(int)"
   ]
  },
  {
   "cell_type": "code",
   "execution_count": null,
   "metadata": {},
   "outputs": [],
   "source": [
    "Kentish[\"StatusChange\"] =  Kentish['stat'].shift() != Kentish['stat']"
   ]
  },
  {
   "cell_type": "code",
   "execution_count": null,
   "metadata": {},
   "outputs": [],
   "source": [
    "Kentish[\"StatusChange\"].iloc[0] = False"
   ]
  },
  {
   "cell_type": "code",
   "execution_count": null,
   "metadata": {},
   "outputs": [],
   "source": [
    "Kentish[\"TenantChange\"] =  Kentish['name'].shift(-1) != Kentish['name'] "
   ]
  },
  {
   "cell_type": "code",
   "execution_count": null,
   "metadata": {},
   "outputs": [],
   "source": [
    "Kentish[\"TenantChange\"].iloc[0] = False"
   ]
  },
  {
   "cell_type": "code",
   "execution_count": null,
   "metadata": {},
   "outputs": [],
   "source": [
    "counter = 0 \n",
    "stoppingCondition = len(locations)\n",
    "Kentish2 = pd.DataFrame(data=None, columns=Kentish.columns, index=None)\n",
    "\n",
    "while counter < stoppingCondition:\n",
    "        i = locations[counter]\n",
    "        m = Kentish.loc[i, :].iloc[[ Kentish.loc[i, :]['status_duration'].argmax()]]\n",
    "        Kentish2 = Kentish2.append(m, ignore_index=False)\n",
    "        counter += 1"
   ]
  },
  {
   "cell_type": "code",
   "execution_count": null,
   "metadata": {},
   "outputs": [],
   "source": [
    "Kentish3 = Kentish2.drop_duplicates()"
   ]
  },
  {
   "cell_type": "code",
   "execution_count": null,
   "metadata": {},
   "outputs": [],
   "source": [
    "Kentish3['highstreet'] = 'Kentish'"
   ]
  },
  {
   "cell_type": "code",
   "execution_count": null,
   "metadata": {},
   "outputs": [],
   "source": [
    "Kentish3.to_csv('Kentish-vacant-survival.csv')"
   ]
  },
  {
   "cell_type": "markdown",
   "metadata": {},
   "source": [
    "#### 3. Fortress "
   ]
  },
  {
   "cell_type": "code",
   "execution_count": 148,
   "metadata": {},
   "outputs": [],
   "source": [
    "Fortress = Fortress.sort_values(by= ['status_date'])"
   ]
  },
  {
   "cell_type": "code",
   "execution_count": 149,
   "metadata": {},
   "outputs": [],
   "source": [
    "cols = ['V3', 'V4', 'V5', 'V13', 'V14', 'V15', 'V16', 'V17', 'V19', 'V20', 'V21', 'V26', 'V28', 'V30', 'V36', 'V38', 'V39', 'V48', 'V51', 'V54', 'V55', 'V56', 'V57', \n",
    "        'V58', 'V59', 'V60', 'V64', 'V70', 'V72', 'V77']"
   ]
  },
  {
   "cell_type": "code",
   "execution_count": 150,
   "metadata": {},
   "outputs": [],
   "source": [
    "#deleted those cols columns from the dataset as they only contain nulls\n",
    "\n",
    "Fortress = Fortress.drop(cols, axis=1)"
   ]
  },
  {
   "cell_type": "code",
   "execution_count": 151,
   "metadata": {},
   "outputs": [],
   "source": [
    "Fortress['new_date'] = pd.to_datetime(Fortress['status_date'], errors='coerce')"
   ]
  },
  {
   "cell_type": "code",
   "execution_count": 152,
   "metadata": {},
   "outputs": [],
   "source": [
    "Fortress = Fortress.sort_values(by= ['new_date'])"
   ]
  },
  {
   "cell_type": "code",
   "execution_count": 153,
   "metadata": {},
   "outputs": [
    {
     "name": "stderr",
     "output_type": "stream",
     "text": [
      "/opt/conda/envs/sds2020/lib/python3.7/site-packages/pandas/core/indexing.py:670: SettingWithCopyWarning: \n",
      "A value is trying to be set on a copy of a slice from a DataFrame\n",
      "\n",
      "See the caveats in the documentation: https://pandas.pydata.org/pandas-docs/stable/user_guide/indexing.html#returning-a-view-versus-a-copy\n",
      "  iloc._setitem_with_indexer(indexer, value)\n"
     ]
    }
   ],
   "source": [
    "Fortress['new_date'].loc[(Fortress['new_date'] < '2010-04-01')] = '2010-04-01'"
   ]
  },
  {
   "cell_type": "code",
   "execution_count": 154,
   "metadata": {},
   "outputs": [],
   "source": [
    "Fortress = Fortress.sort_values(by= ['location_code', 'period'])"
   ]
  },
  {
   "cell_type": "code",
   "execution_count": 155,
   "metadata": {},
   "outputs": [],
   "source": [
    "Fortress['locaton_code'] = Fortress['location_code'].astype(\"category\")"
   ]
  },
  {
   "cell_type": "code",
   "execution_count": 156,
   "metadata": {},
   "outputs": [],
   "source": [
    "locations = Fortress['location_code'].unique()"
   ]
  },
  {
   "cell_type": "code",
   "execution_count": 157,
   "metadata": {},
   "outputs": [],
   "source": [
    "Fortress.loc[Fortress['name'].isnull(), 'name'] = Fortress['location_code']"
   ]
  },
  {
   "cell_type": "code",
   "execution_count": 158,
   "metadata": {},
   "outputs": [],
   "source": [
    "Fortress['status_date'] = pd.to_datetime(Fortress['status_date'], errors='coerce')"
   ]
  },
  {
   "cell_type": "code",
   "execution_count": 159,
   "metadata": {},
   "outputs": [],
   "source": [
    "Fortress['status_date'].iloc[Fortress['status_date'] < '2010-04-01'] = '04/01/2010'"
   ]
  },
  {
   "cell_type": "code",
   "execution_count": 160,
   "metadata": {},
   "outputs": [],
   "source": [
    "Fortress['status_date'] = pd.to_datetime(Fortress['status_date'], errors='coerce')"
   ]
  },
  {
   "cell_type": "code",
   "execution_count": 161,
   "metadata": {},
   "outputs": [],
   "source": [
    "Fortress['period2'] = pd.to_datetime(Fortress['period'])"
   ]
  },
  {
   "cell_type": "code",
   "execution_count": 162,
   "metadata": {},
   "outputs": [],
   "source": [
    "Fortress['period2'] = Fortress['period2'] + pd.DateOffset(months=1)"
   ]
  },
  {
   "cell_type": "code",
   "execution_count": 163,
   "metadata": {},
   "outputs": [],
   "source": [
    "Fortress['duration'] = Fortress['period2'] - Fortress['status_date']"
   ]
  },
  {
   "cell_type": "code",
   "execution_count": 164,
   "metadata": {},
   "outputs": [],
   "source": [
    "Fortress['duration'] = Fortress['duration'].dt.days"
   ]
  },
  {
   "cell_type": "code",
   "execution_count": 165,
   "metadata": {},
   "outputs": [],
   "source": [
    "Fortress['study-start'] = '04/01/2010'"
   ]
  },
  {
   "cell_type": "code",
   "execution_count": 166,
   "metadata": {},
   "outputs": [],
   "source": [
    "Fortress['study-start'] = pd.to_datetime(Fortress['study-start'], errors='coerce')"
   ]
  },
  {
   "cell_type": "code",
   "execution_count": 167,
   "metadata": {},
   "outputs": [],
   "source": [
    "Fortress['time-of-entry'] = Fortress['status_date'] -  Fortress['study-start']"
   ]
  },
  {
   "cell_type": "code",
   "execution_count": 168,
   "metadata": {},
   "outputs": [],
   "source": [
    "Fortress['time-at-open'] = 0"
   ]
  },
  {
   "cell_type": "code",
   "execution_count": 169,
   "metadata": {},
   "outputs": [],
   "source": [
    "Fortress['vacant'] = 0"
   ]
  },
  {
   "cell_type": "code",
   "execution_count": 170,
   "metadata": {},
   "outputs": [],
   "source": [
    "Fortress = Fortress.drop(Fortress[(Fortress['status'] == True)].index)"
   ]
  },
  {
   "cell_type": "code",
   "execution_count": 171,
   "metadata": {},
   "outputs": [],
   "source": [
    "Fortress['location_code'] = Fortress['location_code'].astype(\"category\")"
   ]
  },
  {
   "cell_type": "code",
   "execution_count": 172,
   "metadata": {},
   "outputs": [],
   "source": [
    "locations = list(Fortress['location_code'].unique())"
   ]
  },
  {
   "cell_type": "code",
   "execution_count": 173,
   "metadata": {},
   "outputs": [],
   "source": [
    "Fortress = Fortress.set_index('location_code')"
   ]
  },
  {
   "cell_type": "code",
   "execution_count": 174,
   "metadata": {},
   "outputs": [],
   "source": [
    "Fortress['survival'] = 0"
   ]
  },
  {
   "cell_type": "code",
   "execution_count": 175,
   "metadata": {},
   "outputs": [],
   "source": [
    "Fortress['survival'] = Fortress['duration']"
   ]
  },
  {
   "cell_type": "code",
   "execution_count": 176,
   "metadata": {},
   "outputs": [],
   "source": [
    "Fortress['entry'] = Fortress['time-of-entry'].dt.days"
   ]
  },
  {
   "cell_type": "code",
   "execution_count": 177,
   "metadata": {},
   "outputs": [],
   "source": [
    "Fortress['time-at-open'] = Fortress['survival'] + Fortress['entry']"
   ]
  },
  {
   "cell_type": "code",
   "execution_count": 178,
   "metadata": {},
   "outputs": [],
   "source": [
    "Fortress['stat'] = Fortress['status'].astype(int)"
   ]
  },
  {
   "cell_type": "code",
   "execution_count": 179,
   "metadata": {},
   "outputs": [],
   "source": [
    "Fortress[\"StatusChange\"] =  Fortress['stat'].shift() != Fortress['stat']"
   ]
  },
  {
   "cell_type": "code",
   "execution_count": 180,
   "metadata": {},
   "outputs": [
    {
     "name": "stderr",
     "output_type": "stream",
     "text": [
      "/opt/conda/envs/sds2020/lib/python3.7/site-packages/pandas/core/indexing.py:670: SettingWithCopyWarning: \n",
      "A value is trying to be set on a copy of a slice from a DataFrame\n",
      "\n",
      "See the caveats in the documentation: https://pandas.pydata.org/pandas-docs/stable/user_guide/indexing.html#returning-a-view-versus-a-copy\n",
      "  iloc._setitem_with_indexer(indexer, value)\n"
     ]
    }
   ],
   "source": [
    "Fortress[\"StatusChange\"].iloc[0] = False"
   ]
  },
  {
   "cell_type": "code",
   "execution_count": 181,
   "metadata": {},
   "outputs": [],
   "source": [
    "Fortress[\"TenantChange\"] =  Fortress['name'].shift(-1) != Fortress['name'] "
   ]
  },
  {
   "cell_type": "code",
   "execution_count": 182,
   "metadata": {},
   "outputs": [],
   "source": [
    "Fortress[\"TenantChange\"].iloc[0] = False"
   ]
  },
  {
   "cell_type": "code",
   "execution_count": 184,
   "metadata": {},
   "outputs": [],
   "source": [
    "counter = 0 \n",
    "stoppingCondition = len(locations)\n",
    "Fortress2 = pd.DataFrame(data=None, columns=Fortress.columns, index=None)\n",
    "\n",
    "while counter < stoppingCondition:\n",
    "        i = locations[counter]\n",
    "        m = Fortress.loc[i, :].iloc[[ Fortress.loc[i, :]['status_duration'].argmax()]]\n",
    "        Fortress2 = Fortress2.append(m, ignore_index=False)\n",
    "        counter += 1"
   ]
  },
  {
   "cell_type": "code",
   "execution_count": 186,
   "metadata": {},
   "outputs": [],
   "source": [
    "Fortress3 = Fortress2.drop_duplicates()"
   ]
  },
  {
   "cell_type": "code",
   "execution_count": 188,
   "metadata": {},
   "outputs": [],
   "source": [
    "Fortress3['highstreet'] = 'Fortress'"
   ]
  },
  {
   "cell_type": "code",
   "execution_count": 189,
   "metadata": {},
   "outputs": [],
   "source": [
    "Fortress3.to_csv('Fortress-vacant-survival.csv')"
   ]
  },
  {
   "cell_type": "markdown",
   "metadata": {},
   "source": [
    "#### 4. Camden Town"
   ]
  },
  {
   "cell_type": "code",
   "execution_count": 190,
   "metadata": {},
   "outputs": [],
   "source": [
    "CamdenT = CamdenT.sort_values(by= ['status_date'])"
   ]
  },
  {
   "cell_type": "code",
   "execution_count": 191,
   "metadata": {},
   "outputs": [],
   "source": [
    "cols = ['V3', 'V4', 'V5', 'V13', 'V14', 'V15', 'V16', 'V17', 'V19', 'V20', 'V21', 'V26', 'V28', 'V30', 'V36', 'V38', 'V39', 'V48', 'V51', 'V54', 'V55', 'V56', 'V57', \n",
    "        'V58', 'V59', 'V60', 'V64', 'V70', 'V72', 'V77']"
   ]
  },
  {
   "cell_type": "code",
   "execution_count": 192,
   "metadata": {},
   "outputs": [],
   "source": [
    "#deleted those cols columns from the dataset as they only contain nulls\n",
    "\n",
    "CamdenT = CamdenT.drop(cols, axis=1)"
   ]
  },
  {
   "cell_type": "code",
   "execution_count": 193,
   "metadata": {},
   "outputs": [],
   "source": [
    "CamdenT['new_date'] = pd.to_datetime(CamdenT['status_date'], errors='coerce')"
   ]
  },
  {
   "cell_type": "code",
   "execution_count": 194,
   "metadata": {},
   "outputs": [],
   "source": [
    "CamdenT = CamdenT.sort_values(by= ['new_date'])"
   ]
  },
  {
   "cell_type": "code",
   "execution_count": 195,
   "metadata": {},
   "outputs": [
    {
     "name": "stderr",
     "output_type": "stream",
     "text": [
      "/opt/conda/envs/sds2020/lib/python3.7/site-packages/pandas/core/indexing.py:670: SettingWithCopyWarning: \n",
      "A value is trying to be set on a copy of a slice from a DataFrame\n",
      "\n",
      "See the caveats in the documentation: https://pandas.pydata.org/pandas-docs/stable/user_guide/indexing.html#returning-a-view-versus-a-copy\n",
      "  iloc._setitem_with_indexer(indexer, value)\n"
     ]
    }
   ],
   "source": [
    "CamdenT['new_date'].loc[(CamdenT['new_date'] < '2010-04-01')] = '2010-04-01'"
   ]
  },
  {
   "cell_type": "code",
   "execution_count": 196,
   "metadata": {},
   "outputs": [],
   "source": [
    "CamdenT = CamdenT.sort_values(by= ['location_code', 'period'])"
   ]
  },
  {
   "cell_type": "code",
   "execution_count": 197,
   "metadata": {},
   "outputs": [],
   "source": [
    "CamdenT['locaton_code'] = CamdenT['location_code'].astype(\"category\")"
   ]
  },
  {
   "cell_type": "code",
   "execution_count": 198,
   "metadata": {},
   "outputs": [],
   "source": [
    "locations = CamdenT['location_code'].unique()"
   ]
  },
  {
   "cell_type": "code",
   "execution_count": 199,
   "metadata": {},
   "outputs": [],
   "source": [
    "CamdenT.loc[CamdenT['name'].isnull(), 'name'] = CamdenT['location_code']"
   ]
  },
  {
   "cell_type": "code",
   "execution_count": 200,
   "metadata": {},
   "outputs": [],
   "source": [
    "CamdenT['status_date'] = pd.to_datetime(CamdenT['status_date'], errors='coerce')"
   ]
  },
  {
   "cell_type": "code",
   "execution_count": 201,
   "metadata": {},
   "outputs": [],
   "source": [
    "CamdenT['status_date'].iloc[CamdenT['status_date'] < '2010-04-01'] = '04/01/2010'"
   ]
  },
  {
   "cell_type": "code",
   "execution_count": 202,
   "metadata": {},
   "outputs": [],
   "source": [
    "CamdenT['status_date'] = pd.to_datetime(CamdenT['status_date'], errors='coerce')"
   ]
  },
  {
   "cell_type": "code",
   "execution_count": 203,
   "metadata": {},
   "outputs": [],
   "source": [
    "CamdenT['period2'] = pd.to_datetime(CamdenT['period'])"
   ]
  },
  {
   "cell_type": "code",
   "execution_count": 204,
   "metadata": {},
   "outputs": [],
   "source": [
    "CamdenT['period2'] = CamdenT['period2'] + pd.DateOffset(months=1)"
   ]
  },
  {
   "cell_type": "code",
   "execution_count": 205,
   "metadata": {},
   "outputs": [],
   "source": [
    "CamdenT['duration'] = CamdenT['period2'] - CamdenT['status_date']"
   ]
  },
  {
   "cell_type": "code",
   "execution_count": 206,
   "metadata": {},
   "outputs": [],
   "source": [
    "CamdenT['duration'] = CamdenT['duration'].dt.days"
   ]
  },
  {
   "cell_type": "code",
   "execution_count": 207,
   "metadata": {},
   "outputs": [],
   "source": [
    "CamdenT['study-start'] = '04/01/2010'"
   ]
  },
  {
   "cell_type": "code",
   "execution_count": 208,
   "metadata": {},
   "outputs": [],
   "source": [
    "CamdenT['study-start'] = pd.to_datetime(CamdenT['study-start'], errors='coerce')"
   ]
  },
  {
   "cell_type": "code",
   "execution_count": 209,
   "metadata": {},
   "outputs": [],
   "source": [
    "CamdenT['time-of-entry'] = CamdenT['status_date'] -  CamdenT['study-start']"
   ]
  },
  {
   "cell_type": "code",
   "execution_count": 210,
   "metadata": {},
   "outputs": [],
   "source": [
    "CamdenT['time-at-open'] = 0"
   ]
  },
  {
   "cell_type": "code",
   "execution_count": 211,
   "metadata": {},
   "outputs": [],
   "source": [
    "CamdenT['vacant'] = 0"
   ]
  },
  {
   "cell_type": "code",
   "execution_count": 212,
   "metadata": {},
   "outputs": [],
   "source": [
    "CamdenT = CamdenT.drop(CamdenT[(CamdenT['status'] == True)].index)"
   ]
  },
  {
   "cell_type": "code",
   "execution_count": 213,
   "metadata": {},
   "outputs": [],
   "source": [
    "CamdenT['location_code'] = CamdenT['location_code'].astype(\"category\")"
   ]
  },
  {
   "cell_type": "code",
   "execution_count": 214,
   "metadata": {},
   "outputs": [],
   "source": [
    "locations = list(CamdenT['location_code'].unique())"
   ]
  },
  {
   "cell_type": "code",
   "execution_count": 215,
   "metadata": {},
   "outputs": [],
   "source": [
    "CamdenT = CamdenT.set_index('location_code')"
   ]
  },
  {
   "cell_type": "code",
   "execution_count": 216,
   "metadata": {},
   "outputs": [],
   "source": [
    "CamdenT['survival'] = 0"
   ]
  },
  {
   "cell_type": "code",
   "execution_count": 217,
   "metadata": {},
   "outputs": [],
   "source": [
    "CamdenT['survival'] = CamdenT['duration']"
   ]
  },
  {
   "cell_type": "code",
   "execution_count": 218,
   "metadata": {},
   "outputs": [],
   "source": [
    "CamdenT['entry'] = CamdenT['time-of-entry'].dt.days"
   ]
  },
  {
   "cell_type": "code",
   "execution_count": 219,
   "metadata": {},
   "outputs": [],
   "source": [
    "CamdenT['time-at-open'] = CamdenT['survival'] + CamdenT['entry']"
   ]
  },
  {
   "cell_type": "code",
   "execution_count": 220,
   "metadata": {},
   "outputs": [],
   "source": [
    "CamdenT['stat'] = CamdenT['status'].astype(int)"
   ]
  },
  {
   "cell_type": "code",
   "execution_count": 221,
   "metadata": {},
   "outputs": [],
   "source": [
    "CamdenT[\"StatusChange\"] =  CamdenT['stat'].shift() != CamdenT['stat']"
   ]
  },
  {
   "cell_type": "code",
   "execution_count": 222,
   "metadata": {},
   "outputs": [
    {
     "name": "stderr",
     "output_type": "stream",
     "text": [
      "/opt/conda/envs/sds2020/lib/python3.7/site-packages/pandas/core/indexing.py:670: SettingWithCopyWarning: \n",
      "A value is trying to be set on a copy of a slice from a DataFrame\n",
      "\n",
      "See the caveats in the documentation: https://pandas.pydata.org/pandas-docs/stable/user_guide/indexing.html#returning-a-view-versus-a-copy\n",
      "  iloc._setitem_with_indexer(indexer, value)\n"
     ]
    }
   ],
   "source": [
    "CamdenT[\"StatusChange\"].iloc[0] = False"
   ]
  },
  {
   "cell_type": "code",
   "execution_count": 223,
   "metadata": {},
   "outputs": [],
   "source": [
    "CamdenT[\"TenantChange\"] =  CamdenT['name'].shift(-1) != CamdenT['name'] "
   ]
  },
  {
   "cell_type": "code",
   "execution_count": 224,
   "metadata": {},
   "outputs": [],
   "source": [
    "CamdenT[\"TenantChange\"].iloc[0] = False"
   ]
  },
  {
   "cell_type": "code",
   "execution_count": 226,
   "metadata": {},
   "outputs": [],
   "source": [
    "counter = 0 \n",
    "stoppingCondition = len(locations)\n",
    "CamdenT2 = pd.DataFrame(data=None, columns=CamdenT.columns, index=None)\n",
    "\n",
    "while counter < stoppingCondition:\n",
    "        i = locations[counter]\n",
    "        m = CamdenT.loc[i, :].iloc[[ CamdenT.loc[i, :]['status_duration'].argmax()]]\n",
    "        CamdenT2 = CamdenT2.append(m, ignore_index=False)\n",
    "        counter += 1"
   ]
  },
  {
   "cell_type": "code",
   "execution_count": 228,
   "metadata": {},
   "outputs": [],
   "source": [
    "CamdenT3 = CamdenT2.drop_duplicates()"
   ]
  },
  {
   "cell_type": "code",
   "execution_count": 230,
   "metadata": {},
   "outputs": [],
   "source": [
    "CamdenT3['highstreet'] = 'CamdenT'"
   ]
  },
  {
   "cell_type": "code",
   "execution_count": 231,
   "metadata": {},
   "outputs": [],
   "source": [
    "CamdenT3.to_csv('CamdenT-vacant-survival.csv')"
   ]
  },
  {
   "cell_type": "markdown",
   "metadata": {},
   "source": [
    "#### 5. Belsize"
   ]
  },
  {
   "cell_type": "code",
   "execution_count": 234,
   "metadata": {},
   "outputs": [],
   "source": [
    "Belsize = Belsize.sort_values(by= ['status_date'])"
   ]
  },
  {
   "cell_type": "code",
   "execution_count": 235,
   "metadata": {},
   "outputs": [],
   "source": [
    "cols = ['V3', 'V4', 'V5', 'V13', 'V14', 'V15', 'V16', 'V17', 'V19', 'V20', 'V21', 'V26', 'V28', 'V30', 'V36', 'V38', 'V39', 'V48', 'V51', 'V54', 'V55', 'V56', 'V57', \n",
    "        'V58', 'V59', 'V60', 'V64', 'V70', 'V72', 'V77']"
   ]
  },
  {
   "cell_type": "code",
   "execution_count": 236,
   "metadata": {},
   "outputs": [],
   "source": [
    "#deleted those cols columns from the dataset as they only contain nulls\n",
    "\n",
    "Belsize = Belsize.drop(cols, axis=1)"
   ]
  },
  {
   "cell_type": "code",
   "execution_count": 237,
   "metadata": {},
   "outputs": [],
   "source": [
    "Belsize['new_date'] = pd.to_datetime(Belsize['status_date'], errors='coerce')"
   ]
  },
  {
   "cell_type": "code",
   "execution_count": 238,
   "metadata": {},
   "outputs": [],
   "source": [
    "Belsize = Belsize.sort_values(by= ['new_date'])"
   ]
  },
  {
   "cell_type": "code",
   "execution_count": 239,
   "metadata": {},
   "outputs": [
    {
     "name": "stderr",
     "output_type": "stream",
     "text": [
      "/opt/conda/envs/sds2020/lib/python3.7/site-packages/pandas/core/indexing.py:670: SettingWithCopyWarning: \n",
      "A value is trying to be set on a copy of a slice from a DataFrame\n",
      "\n",
      "See the caveats in the documentation: https://pandas.pydata.org/pandas-docs/stable/user_guide/indexing.html#returning-a-view-versus-a-copy\n",
      "  iloc._setitem_with_indexer(indexer, value)\n"
     ]
    }
   ],
   "source": [
    "Belsize['new_date'].loc[(Belsize['new_date'] < '2010-04-01')] = '2010-04-01'"
   ]
  },
  {
   "cell_type": "code",
   "execution_count": 240,
   "metadata": {},
   "outputs": [],
   "source": [
    "Belsize = Belsize.sort_values(by= ['location_code', 'period'])"
   ]
  },
  {
   "cell_type": "code",
   "execution_count": 241,
   "metadata": {},
   "outputs": [],
   "source": [
    "Belsize['locaton_code'] = Belsize['location_code'].astype(\"category\")"
   ]
  },
  {
   "cell_type": "code",
   "execution_count": 242,
   "metadata": {},
   "outputs": [],
   "source": [
    "locations = Belsize['location_code'].unique()"
   ]
  },
  {
   "cell_type": "code",
   "execution_count": 243,
   "metadata": {},
   "outputs": [],
   "source": [
    "Belsize.loc[Belsize['name'].isnull(), 'name'] = Belsize['location_code']"
   ]
  },
  {
   "cell_type": "code",
   "execution_count": 244,
   "metadata": {},
   "outputs": [],
   "source": [
    "Belsize['status_date'] = pd.to_datetime(Belsize['status_date'], errors='coerce')"
   ]
  },
  {
   "cell_type": "code",
   "execution_count": 245,
   "metadata": {},
   "outputs": [],
   "source": [
    "Belsize['status_date'].iloc[Belsize['status_date'] < '2010-04-01'] = '04/01/2010'"
   ]
  },
  {
   "cell_type": "code",
   "execution_count": 246,
   "metadata": {},
   "outputs": [],
   "source": [
    "Belsize['status_date'] = pd.to_datetime(Belsize['status_date'], errors='coerce')"
   ]
  },
  {
   "cell_type": "code",
   "execution_count": 247,
   "metadata": {},
   "outputs": [],
   "source": [
    "Belsize['period2'] = pd.to_datetime(Belsize['period'])"
   ]
  },
  {
   "cell_type": "code",
   "execution_count": 248,
   "metadata": {},
   "outputs": [],
   "source": [
    "Belsize['period2'] = Belsize['period2'] + pd.DateOffset(months=1)"
   ]
  },
  {
   "cell_type": "code",
   "execution_count": 249,
   "metadata": {},
   "outputs": [],
   "source": [
    "Belsize['duration'] = Belsize['period2'] - Belsize['status_date']"
   ]
  },
  {
   "cell_type": "code",
   "execution_count": 250,
   "metadata": {},
   "outputs": [],
   "source": [
    "Belsize['duration'] = Belsize['duration'].dt.days"
   ]
  },
  {
   "cell_type": "code",
   "execution_count": 251,
   "metadata": {},
   "outputs": [],
   "source": [
    "Belsize['study-start'] = '04/01/2010'"
   ]
  },
  {
   "cell_type": "code",
   "execution_count": 252,
   "metadata": {},
   "outputs": [],
   "source": [
    "Belsize['study-start'] = pd.to_datetime(Belsize['study-start'], errors='coerce')"
   ]
  },
  {
   "cell_type": "code",
   "execution_count": 253,
   "metadata": {},
   "outputs": [],
   "source": [
    "Belsize['time-of-entry'] = Belsize['status_date'] -  Belsize['study-start']"
   ]
  },
  {
   "cell_type": "code",
   "execution_count": 254,
   "metadata": {},
   "outputs": [],
   "source": [
    "Belsize['time-at-open'] = 0"
   ]
  },
  {
   "cell_type": "code",
   "execution_count": 255,
   "metadata": {},
   "outputs": [],
   "source": [
    "Belsize['vacant'] = 0"
   ]
  },
  {
   "cell_type": "code",
   "execution_count": 256,
   "metadata": {},
   "outputs": [],
   "source": [
    "Belsize = Belsize.drop(Belsize[(Belsize['status'] == True)].index)"
   ]
  },
  {
   "cell_type": "code",
   "execution_count": 257,
   "metadata": {},
   "outputs": [],
   "source": [
    "Belsize['location_code'] = Belsize['location_code'].astype(\"category\")"
   ]
  },
  {
   "cell_type": "code",
   "execution_count": 258,
   "metadata": {},
   "outputs": [],
   "source": [
    "locations = list(Belsize['location_code'].unique())"
   ]
  },
  {
   "cell_type": "code",
   "execution_count": 259,
   "metadata": {},
   "outputs": [],
   "source": [
    "Belsize = Belsize.set_index('location_code')"
   ]
  },
  {
   "cell_type": "code",
   "execution_count": 260,
   "metadata": {},
   "outputs": [],
   "source": [
    "Belsize['survival'] = 0"
   ]
  },
  {
   "cell_type": "code",
   "execution_count": 261,
   "metadata": {},
   "outputs": [],
   "source": [
    "Belsize['survival'] = Belsize['duration']"
   ]
  },
  {
   "cell_type": "code",
   "execution_count": 262,
   "metadata": {},
   "outputs": [],
   "source": [
    "Belsize['entry'] = Belsize['time-of-entry'].dt.days"
   ]
  },
  {
   "cell_type": "code",
   "execution_count": 263,
   "metadata": {},
   "outputs": [],
   "source": [
    "Belsize['time-at-open'] = Belsize['survival'] + Belsize['entry']"
   ]
  },
  {
   "cell_type": "code",
   "execution_count": 264,
   "metadata": {},
   "outputs": [],
   "source": [
    "Belsize['stat'] = Belsize['status'].astype(int)"
   ]
  },
  {
   "cell_type": "code",
   "execution_count": 265,
   "metadata": {},
   "outputs": [],
   "source": [
    "Belsize[\"StatusChange\"] =  Belsize['stat'].shift() != Belsize['stat']"
   ]
  },
  {
   "cell_type": "code",
   "execution_count": 266,
   "metadata": {},
   "outputs": [
    {
     "name": "stderr",
     "output_type": "stream",
     "text": [
      "/opt/conda/envs/sds2020/lib/python3.7/site-packages/pandas/core/indexing.py:670: SettingWithCopyWarning: \n",
      "A value is trying to be set on a copy of a slice from a DataFrame\n",
      "\n",
      "See the caveats in the documentation: https://pandas.pydata.org/pandas-docs/stable/user_guide/indexing.html#returning-a-view-versus-a-copy\n",
      "  iloc._setitem_with_indexer(indexer, value)\n"
     ]
    }
   ],
   "source": [
    "Belsize[\"StatusChange\"].iloc[0] = False"
   ]
  },
  {
   "cell_type": "code",
   "execution_count": 267,
   "metadata": {},
   "outputs": [],
   "source": [
    "Belsize[\"TenantChange\"] =  Belsize['name'].shift(-1) != Belsize['name'] "
   ]
  },
  {
   "cell_type": "code",
   "execution_count": 268,
   "metadata": {},
   "outputs": [],
   "source": [
    "Belsize[\"TenantChange\"].iloc[0] = False"
   ]
  },
  {
   "cell_type": "code",
   "execution_count": 270,
   "metadata": {},
   "outputs": [],
   "source": [
    "counter = 0 \n",
    "stoppingCondition = len(locations)\n",
    "Belsize2 = pd.DataFrame(data=None, columns=Belsize.columns, index=None)\n",
    "\n",
    "while counter < stoppingCondition:\n",
    "        i = locations[counter]\n",
    "        m = Belsize.loc[i, :].iloc[[ Belsize.loc[i, :]['status_duration'].argmax()]]\n",
    "        Belsize2 = Belsize2.append(m, ignore_index=False)\n",
    "        counter += 1"
   ]
  },
  {
   "cell_type": "code",
   "execution_count": 272,
   "metadata": {},
   "outputs": [],
   "source": [
    "Belsize3 = Belsize2.drop_duplicates()"
   ]
  },
  {
   "cell_type": "code",
   "execution_count": 274,
   "metadata": {},
   "outputs": [],
   "source": [
    "Belsize3['highstreet'] = 'Belsize'"
   ]
  },
  {
   "cell_type": "code",
   "execution_count": 275,
   "metadata": {},
   "outputs": [],
   "source": [
    "Belsize3.to_csv('Belsize-vacant-survival.csv')"
   ]
  },
  {
   "cell_type": "markdown",
   "metadata": {},
   "source": [
    "#### 6. Loudoun"
   ]
  },
  {
   "cell_type": "code",
   "execution_count": 276,
   "metadata": {},
   "outputs": [],
   "source": [
    "Loudoun = Loudoun.sort_values(by= ['status_date'])"
   ]
  },
  {
   "cell_type": "code",
   "execution_count": 277,
   "metadata": {},
   "outputs": [],
   "source": [
    "cols = ['V3', 'V4', 'V5', 'V13', 'V14', 'V15', 'V16', 'V17', 'V19', 'V20', 'V21', 'V26', 'V28', 'V30', 'V36', 'V38', 'V39', 'V48', 'V51', 'V54', 'V55', 'V56', 'V57', \n",
    "        'V58', 'V59', 'V60', 'V64', 'V70', 'V72', 'V77']"
   ]
  },
  {
   "cell_type": "code",
   "execution_count": 278,
   "metadata": {},
   "outputs": [],
   "source": [
    "#deleted those cols columns from the dataset as they only contain nulls\n",
    "\n",
    "Loudoun = Loudoun.drop(cols, axis=1)"
   ]
  },
  {
   "cell_type": "code",
   "execution_count": 279,
   "metadata": {},
   "outputs": [],
   "source": [
    "Loudoun['new_date'] = pd.to_datetime(Loudoun['status_date'], errors='coerce')"
   ]
  },
  {
   "cell_type": "code",
   "execution_count": 280,
   "metadata": {},
   "outputs": [],
   "source": [
    "Loudoun = Loudoun.sort_values(by= ['new_date'])"
   ]
  },
  {
   "cell_type": "code",
   "execution_count": 281,
   "metadata": {},
   "outputs": [
    {
     "name": "stderr",
     "output_type": "stream",
     "text": [
      "/opt/conda/envs/sds2020/lib/python3.7/site-packages/pandas/core/indexing.py:670: SettingWithCopyWarning: \n",
      "A value is trying to be set on a copy of a slice from a DataFrame\n",
      "\n",
      "See the caveats in the documentation: https://pandas.pydata.org/pandas-docs/stable/user_guide/indexing.html#returning-a-view-versus-a-copy\n",
      "  iloc._setitem_with_indexer(indexer, value)\n"
     ]
    }
   ],
   "source": [
    "Loudoun['new_date'].loc[(Loudoun['new_date'] < '2010-04-01')] = '2010-04-01'"
   ]
  },
  {
   "cell_type": "code",
   "execution_count": 282,
   "metadata": {},
   "outputs": [],
   "source": [
    "Loudoun = Loudoun.sort_values(by= ['location_code', 'period'])"
   ]
  },
  {
   "cell_type": "code",
   "execution_count": 283,
   "metadata": {},
   "outputs": [],
   "source": [
    "Loudoun['locaton_code'] = Loudoun['location_code'].astype(\"category\")"
   ]
  },
  {
   "cell_type": "code",
   "execution_count": 284,
   "metadata": {},
   "outputs": [],
   "source": [
    "locations = Loudoun['location_code'].unique()"
   ]
  },
  {
   "cell_type": "code",
   "execution_count": 285,
   "metadata": {},
   "outputs": [],
   "source": [
    "Loudoun.loc[Loudoun['name'].isnull(), 'name'] = Loudoun['location_code']"
   ]
  },
  {
   "cell_type": "code",
   "execution_count": 286,
   "metadata": {},
   "outputs": [],
   "source": [
    "Loudoun['status_date'] = pd.to_datetime(Loudoun['status_date'], errors='coerce')"
   ]
  },
  {
   "cell_type": "code",
   "execution_count": 287,
   "metadata": {},
   "outputs": [],
   "source": [
    "Loudoun['status_date'].iloc[Loudoun['status_date'] < '2010-04-01'] = '04/01/2010'"
   ]
  },
  {
   "cell_type": "code",
   "execution_count": 288,
   "metadata": {},
   "outputs": [],
   "source": [
    "Loudoun['status_date'] = pd.to_datetime(Loudoun['status_date'], errors='coerce')"
   ]
  },
  {
   "cell_type": "code",
   "execution_count": 289,
   "metadata": {},
   "outputs": [],
   "source": [
    "Loudoun['period2'] = pd.to_datetime(Loudoun['period'])"
   ]
  },
  {
   "cell_type": "code",
   "execution_count": 290,
   "metadata": {},
   "outputs": [],
   "source": [
    "Loudoun['period2'] = Loudoun['period2'] + pd.DateOffset(months=1)"
   ]
  },
  {
   "cell_type": "code",
   "execution_count": 291,
   "metadata": {},
   "outputs": [],
   "source": [
    "Loudoun['duration'] = Loudoun['period2'] - Loudoun['status_date']"
   ]
  },
  {
   "cell_type": "code",
   "execution_count": 292,
   "metadata": {},
   "outputs": [],
   "source": [
    "Loudoun['duration'] = Loudoun['duration'].dt.days"
   ]
  },
  {
   "cell_type": "code",
   "execution_count": 293,
   "metadata": {},
   "outputs": [],
   "source": [
    "Loudoun['study-start'] = '04/01/2010'"
   ]
  },
  {
   "cell_type": "code",
   "execution_count": 294,
   "metadata": {},
   "outputs": [],
   "source": [
    "Loudoun['study-start'] = pd.to_datetime(Loudoun['study-start'], errors='coerce')"
   ]
  },
  {
   "cell_type": "code",
   "execution_count": 295,
   "metadata": {},
   "outputs": [],
   "source": [
    "Loudoun['time-of-entry'] = Loudoun['status_date'] -  Loudoun['study-start']"
   ]
  },
  {
   "cell_type": "code",
   "execution_count": 296,
   "metadata": {},
   "outputs": [],
   "source": [
    "Loudoun['time-at-open'] = 0"
   ]
  },
  {
   "cell_type": "code",
   "execution_count": 297,
   "metadata": {},
   "outputs": [],
   "source": [
    "Loudoun['vacant'] = 0"
   ]
  },
  {
   "cell_type": "code",
   "execution_count": 298,
   "metadata": {},
   "outputs": [],
   "source": [
    "Loudoun = Loudoun.drop(Loudoun[(Loudoun['status'] == True)].index)"
   ]
  },
  {
   "cell_type": "code",
   "execution_count": 299,
   "metadata": {},
   "outputs": [],
   "source": [
    "Loudoun['location_code'] = Loudoun['location_code'].astype(\"category\")"
   ]
  },
  {
   "cell_type": "code",
   "execution_count": 300,
   "metadata": {},
   "outputs": [],
   "source": [
    "locations = list(Loudoun['location_code'].unique())"
   ]
  },
  {
   "cell_type": "code",
   "execution_count": 301,
   "metadata": {},
   "outputs": [],
   "source": [
    "Loudoun = Loudoun.set_index('location_code')"
   ]
  },
  {
   "cell_type": "code",
   "execution_count": 302,
   "metadata": {},
   "outputs": [],
   "source": [
    "Loudoun['survival'] = 0"
   ]
  },
  {
   "cell_type": "code",
   "execution_count": 303,
   "metadata": {},
   "outputs": [],
   "source": [
    "Loudoun['survival'] = Loudoun['duration']"
   ]
  },
  {
   "cell_type": "code",
   "execution_count": 304,
   "metadata": {},
   "outputs": [],
   "source": [
    "Loudoun['entry'] = Loudoun['time-of-entry'].dt.days"
   ]
  },
  {
   "cell_type": "code",
   "execution_count": 305,
   "metadata": {},
   "outputs": [],
   "source": [
    "Loudoun['time-at-open'] = Loudoun['survival'] + Loudoun['entry']"
   ]
  },
  {
   "cell_type": "code",
   "execution_count": 306,
   "metadata": {},
   "outputs": [],
   "source": [
    "Loudoun['stat'] = Loudoun['status'].astype(int)"
   ]
  },
  {
   "cell_type": "code",
   "execution_count": 307,
   "metadata": {},
   "outputs": [],
   "source": [
    "Loudoun[\"StatusChange\"] =  Loudoun['stat'].shift() != Loudoun['stat']"
   ]
  },
  {
   "cell_type": "code",
   "execution_count": 308,
   "metadata": {},
   "outputs": [
    {
     "name": "stderr",
     "output_type": "stream",
     "text": [
      "/opt/conda/envs/sds2020/lib/python3.7/site-packages/pandas/core/indexing.py:670: SettingWithCopyWarning: \n",
      "A value is trying to be set on a copy of a slice from a DataFrame\n",
      "\n",
      "See the caveats in the documentation: https://pandas.pydata.org/pandas-docs/stable/user_guide/indexing.html#returning-a-view-versus-a-copy\n",
      "  iloc._setitem_with_indexer(indexer, value)\n"
     ]
    }
   ],
   "source": [
    "Loudoun[\"StatusChange\"].iloc[0] = False"
   ]
  },
  {
   "cell_type": "code",
   "execution_count": 309,
   "metadata": {},
   "outputs": [],
   "source": [
    "Loudoun[\"TenantChange\"] =  Loudoun['name'].shift(-1) != Loudoun['name'] "
   ]
  },
  {
   "cell_type": "code",
   "execution_count": 310,
   "metadata": {},
   "outputs": [],
   "source": [
    "Loudoun[\"TenantChange\"].iloc[0] = False"
   ]
  },
  {
   "cell_type": "code",
   "execution_count": 312,
   "metadata": {},
   "outputs": [],
   "source": [
    "counter = 0 \n",
    "stoppingCondition = len(locations)\n",
    "Loudoun2 = pd.DataFrame(data=None, columns=Loudoun.columns, index=None)\n",
    "\n",
    "while counter < stoppingCondition:\n",
    "        i = locations[counter]\n",
    "        m = Loudoun.loc[i, :].iloc[[ Loudoun.loc[i, :]['status_duration'].argmax()]]\n",
    "        Loudoun2 = Loudoun2.append(m, ignore_index=False)\n",
    "        counter += 1"
   ]
  },
  {
   "cell_type": "code",
   "execution_count": 314,
   "metadata": {},
   "outputs": [],
   "source": [
    "Loudoun3 = Loudoun2.drop_duplicates()"
   ]
  },
  {
   "cell_type": "code",
   "execution_count": 316,
   "metadata": {},
   "outputs": [],
   "source": [
    "Loudoun3['highstreet'] = 'Loudoun'"
   ]
  },
  {
   "cell_type": "code",
   "execution_count": 317,
   "metadata": {},
   "outputs": [],
   "source": [
    "Loudoun3.to_csv('Loudoun-vacant-survival.csv')"
   ]
  },
  {
   "cell_type": "markdown",
   "metadata": {},
   "source": [
    "#### 7. Haverstock"
   ]
  },
  {
   "cell_type": "code",
   "execution_count": 318,
   "metadata": {},
   "outputs": [],
   "source": [
    "Haverstock = Haverstock.sort_values(by= ['status_date'])"
   ]
  },
  {
   "cell_type": "code",
   "execution_count": 319,
   "metadata": {},
   "outputs": [],
   "source": [
    "cols = ['V3', 'V4', 'V5', 'V13', 'V14', 'V15', 'V16', 'V17', 'V19', 'V20', 'V21', 'V26', 'V28', 'V30', 'V36', 'V38', 'V39', 'V48', 'V51', 'V54', 'V55', 'V56', 'V57', \n",
    "        'V58', 'V59', 'V60', 'V64', 'V70', 'V72', 'V77']"
   ]
  },
  {
   "cell_type": "code",
   "execution_count": 320,
   "metadata": {},
   "outputs": [],
   "source": [
    "#deleted those cols columns from the dataset as they only contain nulls\n",
    "\n",
    "Haverstock = Haverstock.drop(cols, axis=1)"
   ]
  },
  {
   "cell_type": "code",
   "execution_count": 321,
   "metadata": {},
   "outputs": [],
   "source": [
    "Haverstock['new_date'] = pd.to_datetime(Haverstock['status_date'], errors='coerce')"
   ]
  },
  {
   "cell_type": "code",
   "execution_count": 322,
   "metadata": {},
   "outputs": [],
   "source": [
    "Haverstock = Haverstock.sort_values(by= ['new_date'])"
   ]
  },
  {
   "cell_type": "code",
   "execution_count": 323,
   "metadata": {},
   "outputs": [
    {
     "name": "stderr",
     "output_type": "stream",
     "text": [
      "/opt/conda/envs/sds2020/lib/python3.7/site-packages/pandas/core/indexing.py:670: SettingWithCopyWarning: \n",
      "A value is trying to be set on a copy of a slice from a DataFrame\n",
      "\n",
      "See the caveats in the documentation: https://pandas.pydata.org/pandas-docs/stable/user_guide/indexing.html#returning-a-view-versus-a-copy\n",
      "  iloc._setitem_with_indexer(indexer, value)\n"
     ]
    }
   ],
   "source": [
    "Haverstock['new_date'].loc[(Haverstock['new_date'] < '2010-04-01')] = '2010-04-01'"
   ]
  },
  {
   "cell_type": "code",
   "execution_count": 324,
   "metadata": {},
   "outputs": [],
   "source": [
    "Haverstock = Haverstock.sort_values(by= ['location_code', 'period'])"
   ]
  },
  {
   "cell_type": "code",
   "execution_count": 325,
   "metadata": {},
   "outputs": [],
   "source": [
    "Haverstock['locaton_code'] = Haverstock['location_code'].astype(\"category\")"
   ]
  },
  {
   "cell_type": "code",
   "execution_count": 326,
   "metadata": {},
   "outputs": [],
   "source": [
    "locations = Haverstock['location_code'].unique()"
   ]
  },
  {
   "cell_type": "code",
   "execution_count": 327,
   "metadata": {},
   "outputs": [],
   "source": [
    "Haverstock.loc[Haverstock['name'].isnull(), 'name'] = Haverstock['location_code']"
   ]
  },
  {
   "cell_type": "code",
   "execution_count": 328,
   "metadata": {},
   "outputs": [],
   "source": [
    "Haverstock['status_date'] = pd.to_datetime(Haverstock['status_date'], errors='coerce')"
   ]
  },
  {
   "cell_type": "code",
   "execution_count": 329,
   "metadata": {},
   "outputs": [],
   "source": [
    "Haverstock['status_date'].iloc[Haverstock['status_date'] < '2010-04-01'] = '04/01/2010'"
   ]
  },
  {
   "cell_type": "code",
   "execution_count": 330,
   "metadata": {},
   "outputs": [],
   "source": [
    "Haverstock['status_date'] = pd.to_datetime(Haverstock['status_date'], errors='coerce')"
   ]
  },
  {
   "cell_type": "code",
   "execution_count": 331,
   "metadata": {},
   "outputs": [],
   "source": [
    "Haverstock['period2'] = pd.to_datetime(Haverstock['period'])"
   ]
  },
  {
   "cell_type": "code",
   "execution_count": 332,
   "metadata": {},
   "outputs": [],
   "source": [
    "Haverstock['period2'] = Haverstock['period2'] + pd.DateOffset(months=1)"
   ]
  },
  {
   "cell_type": "code",
   "execution_count": 333,
   "metadata": {},
   "outputs": [],
   "source": [
    "Haverstock['duration'] = Haverstock['period2'] - Haverstock['status_date']"
   ]
  },
  {
   "cell_type": "code",
   "execution_count": 334,
   "metadata": {},
   "outputs": [],
   "source": [
    "Haverstock['duration'] = Haverstock['duration'].dt.days"
   ]
  },
  {
   "cell_type": "code",
   "execution_count": 335,
   "metadata": {},
   "outputs": [],
   "source": [
    "Haverstock['study-start'] = '04/01/2010'"
   ]
  },
  {
   "cell_type": "code",
   "execution_count": 336,
   "metadata": {},
   "outputs": [],
   "source": [
    "Haverstock['study-start'] = pd.to_datetime(Haverstock['study-start'], errors='coerce')"
   ]
  },
  {
   "cell_type": "code",
   "execution_count": 337,
   "metadata": {},
   "outputs": [],
   "source": [
    "Haverstock['time-of-entry'] = Haverstock['status_date'] -  Haverstock['study-start']"
   ]
  },
  {
   "cell_type": "code",
   "execution_count": 338,
   "metadata": {},
   "outputs": [],
   "source": [
    "Haverstock['time-at-open'] = 0"
   ]
  },
  {
   "cell_type": "code",
   "execution_count": 339,
   "metadata": {},
   "outputs": [],
   "source": [
    "Haverstock['vacant'] = 0"
   ]
  },
  {
   "cell_type": "code",
   "execution_count": 340,
   "metadata": {},
   "outputs": [],
   "source": [
    "Haverstock = Haverstock.drop(Haverstock[(Haverstock['status'] == True)].index)"
   ]
  },
  {
   "cell_type": "code",
   "execution_count": 341,
   "metadata": {},
   "outputs": [],
   "source": [
    "Haverstock['location_code'] = Haverstock['location_code'].astype(\"category\")"
   ]
  },
  {
   "cell_type": "code",
   "execution_count": 342,
   "metadata": {},
   "outputs": [],
   "source": [
    "locations = list(Haverstock['location_code'].unique())"
   ]
  },
  {
   "cell_type": "code",
   "execution_count": 343,
   "metadata": {},
   "outputs": [],
   "source": [
    "Haverstock = Haverstock.set_index('location_code')"
   ]
  },
  {
   "cell_type": "code",
   "execution_count": 344,
   "metadata": {},
   "outputs": [],
   "source": [
    "Haverstock['survival'] = 0"
   ]
  },
  {
   "cell_type": "code",
   "execution_count": 345,
   "metadata": {},
   "outputs": [],
   "source": [
    "Haverstock['survival'] = Haverstock['duration']"
   ]
  },
  {
   "cell_type": "code",
   "execution_count": 346,
   "metadata": {},
   "outputs": [],
   "source": [
    "Haverstock['entry'] = Haverstock['time-of-entry'].dt.days"
   ]
  },
  {
   "cell_type": "code",
   "execution_count": 347,
   "metadata": {},
   "outputs": [],
   "source": [
    "Haverstock['time-at-open'] = Haverstock['survival'] + Haverstock['entry']"
   ]
  },
  {
   "cell_type": "code",
   "execution_count": 348,
   "metadata": {},
   "outputs": [],
   "source": [
    "Haverstock['stat'] = Haverstock['status'].astype(int)"
   ]
  },
  {
   "cell_type": "code",
   "execution_count": 349,
   "metadata": {},
   "outputs": [],
   "source": [
    "Haverstock[\"StatusChange\"] =  Haverstock['stat'].shift() != Haverstock['stat']"
   ]
  },
  {
   "cell_type": "code",
   "execution_count": 350,
   "metadata": {},
   "outputs": [
    {
     "name": "stderr",
     "output_type": "stream",
     "text": [
      "/opt/conda/envs/sds2020/lib/python3.7/site-packages/pandas/core/indexing.py:670: SettingWithCopyWarning: \n",
      "A value is trying to be set on a copy of a slice from a DataFrame\n",
      "\n",
      "See the caveats in the documentation: https://pandas.pydata.org/pandas-docs/stable/user_guide/indexing.html#returning-a-view-versus-a-copy\n",
      "  iloc._setitem_with_indexer(indexer, value)\n"
     ]
    }
   ],
   "source": [
    "Haverstock[\"StatusChange\"].iloc[0] = False"
   ]
  },
  {
   "cell_type": "code",
   "execution_count": 351,
   "metadata": {},
   "outputs": [],
   "source": [
    "Haverstock[\"TenantChange\"] =  Haverstock['name'].shift(-1) != Haverstock['name'] "
   ]
  },
  {
   "cell_type": "code",
   "execution_count": 352,
   "metadata": {},
   "outputs": [],
   "source": [
    "Haverstock[\"TenantChange\"].iloc[0] = False"
   ]
  },
  {
   "cell_type": "code",
   "execution_count": 354,
   "metadata": {},
   "outputs": [],
   "source": [
    "counter = 0 \n",
    "stoppingCondition = len(locations)\n",
    "Haverstock2 = pd.DataFrame(data=None, columns=Haverstock.columns, index=None)\n",
    "\n",
    "while counter < stoppingCondition:\n",
    "        i = locations[counter]\n",
    "        m = Haverstock.loc[i, :].iloc[[ Haverstock.loc[i, :]['status_duration'].argmax()]]\n",
    "        Haverstock2 = Haverstock2.append(m, ignore_index=False)\n",
    "        counter += 1"
   ]
  },
  {
   "cell_type": "code",
   "execution_count": 356,
   "metadata": {},
   "outputs": [],
   "source": [
    "Haverstock3 = Haverstock2.drop_duplicates()"
   ]
  },
  {
   "cell_type": "code",
   "execution_count": 358,
   "metadata": {},
   "outputs": [],
   "source": [
    "Haverstock3['highstreet'] = 'Haverstock'"
   ]
  },
  {
   "cell_type": "code",
   "execution_count": 359,
   "metadata": {},
   "outputs": [],
   "source": [
    "Haverstock3.to_csv('Haverstock-vacant-survival.csv')"
   ]
  },
  {
   "cell_type": "markdown",
   "metadata": {},
   "source": [
    "#### 8. SouthEnd"
   ]
  },
  {
   "cell_type": "code",
   "execution_count": 360,
   "metadata": {},
   "outputs": [],
   "source": [
    "SouthEnd = SouthEnd.sort_values(by= ['status_date'])"
   ]
  },
  {
   "cell_type": "code",
   "execution_count": 361,
   "metadata": {},
   "outputs": [],
   "source": [
    "cols = ['V3', 'V4', 'V5', 'V13', 'V14', 'V15', 'V16', 'V17', 'V19', 'V20', 'V21', 'V26', 'V28', 'V30', 'V36', 'V38', 'V39', 'V48', 'V51', 'V54', 'V55', 'V56', 'V57', \n",
    "        'V58', 'V59', 'V60', 'V64', 'V70', 'V72', 'V77']"
   ]
  },
  {
   "cell_type": "code",
   "execution_count": 362,
   "metadata": {},
   "outputs": [],
   "source": [
    "#deleted those cols columns from the dataset as they only contain nulls\n",
    "\n",
    "SouthEnd = SouthEnd.drop(cols, axis=1)"
   ]
  },
  {
   "cell_type": "code",
   "execution_count": 363,
   "metadata": {},
   "outputs": [],
   "source": [
    "SouthEnd['new_date'] = pd.to_datetime(SouthEnd['status_date'], errors='coerce')"
   ]
  },
  {
   "cell_type": "code",
   "execution_count": 364,
   "metadata": {},
   "outputs": [],
   "source": [
    "SouthEnd = SouthEnd.sort_values(by= ['new_date'])"
   ]
  },
  {
   "cell_type": "code",
   "execution_count": 365,
   "metadata": {},
   "outputs": [
    {
     "name": "stderr",
     "output_type": "stream",
     "text": [
      "/opt/conda/envs/sds2020/lib/python3.7/site-packages/pandas/core/indexing.py:670: SettingWithCopyWarning: \n",
      "A value is trying to be set on a copy of a slice from a DataFrame\n",
      "\n",
      "See the caveats in the documentation: https://pandas.pydata.org/pandas-docs/stable/user_guide/indexing.html#returning-a-view-versus-a-copy\n",
      "  iloc._setitem_with_indexer(indexer, value)\n"
     ]
    }
   ],
   "source": [
    "SouthEnd['new_date'].loc[(SouthEnd['new_date'] < '2010-04-01')] = '2010-04-01'"
   ]
  },
  {
   "cell_type": "code",
   "execution_count": 366,
   "metadata": {},
   "outputs": [],
   "source": [
    "SouthEnd = SouthEnd.sort_values(by= ['location_code', 'period'])"
   ]
  },
  {
   "cell_type": "code",
   "execution_count": 367,
   "metadata": {},
   "outputs": [],
   "source": [
    "SouthEnd['locaton_code'] = SouthEnd['location_code'].astype(\"category\")"
   ]
  },
  {
   "cell_type": "code",
   "execution_count": 368,
   "metadata": {},
   "outputs": [],
   "source": [
    "locations = SouthEnd['location_code'].unique()"
   ]
  },
  {
   "cell_type": "code",
   "execution_count": 369,
   "metadata": {},
   "outputs": [],
   "source": [
    "SouthEnd.loc[SouthEnd['name'].isnull(), 'name'] = SouthEnd['location_code']"
   ]
  },
  {
   "cell_type": "code",
   "execution_count": 370,
   "metadata": {},
   "outputs": [],
   "source": [
    "SouthEnd['status_date'] = pd.to_datetime(SouthEnd['status_date'], errors='coerce')"
   ]
  },
  {
   "cell_type": "code",
   "execution_count": 371,
   "metadata": {},
   "outputs": [],
   "source": [
    "SouthEnd['status_date'].iloc[SouthEnd['status_date'] < '2010-04-01'] = '04/01/2010'"
   ]
  },
  {
   "cell_type": "code",
   "execution_count": 372,
   "metadata": {},
   "outputs": [],
   "source": [
    "SouthEnd['status_date'] = pd.to_datetime(SouthEnd['status_date'], errors='coerce')"
   ]
  },
  {
   "cell_type": "code",
   "execution_count": 373,
   "metadata": {},
   "outputs": [],
   "source": [
    "SouthEnd['period2'] = pd.to_datetime(SouthEnd['period'])"
   ]
  },
  {
   "cell_type": "code",
   "execution_count": 374,
   "metadata": {},
   "outputs": [],
   "source": [
    "SouthEnd['period2'] = SouthEnd['period2'] + pd.DateOffset(months=1)"
   ]
  },
  {
   "cell_type": "code",
   "execution_count": 375,
   "metadata": {},
   "outputs": [],
   "source": [
    "SouthEnd['duration'] = SouthEnd['period2'] - SouthEnd['status_date']"
   ]
  },
  {
   "cell_type": "code",
   "execution_count": 376,
   "metadata": {},
   "outputs": [],
   "source": [
    "SouthEnd['duration'] = SouthEnd['duration'].dt.days"
   ]
  },
  {
   "cell_type": "code",
   "execution_count": 377,
   "metadata": {},
   "outputs": [],
   "source": [
    "SouthEnd['study-start'] = '04/01/2010'"
   ]
  },
  {
   "cell_type": "code",
   "execution_count": 378,
   "metadata": {},
   "outputs": [],
   "source": [
    "SouthEnd['study-start'] = pd.to_datetime(SouthEnd['study-start'], errors='coerce')"
   ]
  },
  {
   "cell_type": "code",
   "execution_count": 379,
   "metadata": {},
   "outputs": [],
   "source": [
    "SouthEnd['time-of-entry'] = SouthEnd['status_date'] -  SouthEnd['study-start']"
   ]
  },
  {
   "cell_type": "code",
   "execution_count": 380,
   "metadata": {},
   "outputs": [],
   "source": [
    "SouthEnd['time-at-open'] = 0"
   ]
  },
  {
   "cell_type": "code",
   "execution_count": 381,
   "metadata": {},
   "outputs": [],
   "source": [
    "SouthEnd['vacant'] = 0"
   ]
  },
  {
   "cell_type": "code",
   "execution_count": 382,
   "metadata": {},
   "outputs": [],
   "source": [
    "SouthEnd = SouthEnd.drop(SouthEnd[(SouthEnd['status'] == True)].index)"
   ]
  },
  {
   "cell_type": "code",
   "execution_count": 383,
   "metadata": {},
   "outputs": [],
   "source": [
    "SouthEnd['location_code'] = SouthEnd['location_code'].astype(\"category\")"
   ]
  },
  {
   "cell_type": "code",
   "execution_count": 384,
   "metadata": {},
   "outputs": [],
   "source": [
    "locations = list(SouthEnd['location_code'].unique())"
   ]
  },
  {
   "cell_type": "code",
   "execution_count": 385,
   "metadata": {},
   "outputs": [],
   "source": [
    "SouthEnd = SouthEnd.set_index('location_code')"
   ]
  },
  {
   "cell_type": "code",
   "execution_count": 386,
   "metadata": {},
   "outputs": [],
   "source": [
    "SouthEnd['survival'] = 0"
   ]
  },
  {
   "cell_type": "code",
   "execution_count": 387,
   "metadata": {},
   "outputs": [],
   "source": [
    "SouthEnd['survival'] = SouthEnd['duration']"
   ]
  },
  {
   "cell_type": "code",
   "execution_count": 388,
   "metadata": {},
   "outputs": [],
   "source": [
    "SouthEnd['entry'] = SouthEnd['time-of-entry'].dt.days"
   ]
  },
  {
   "cell_type": "code",
   "execution_count": 389,
   "metadata": {},
   "outputs": [],
   "source": [
    "SouthEnd['time-at-open'] = SouthEnd['survival'] + SouthEnd['entry']"
   ]
  },
  {
   "cell_type": "code",
   "execution_count": 390,
   "metadata": {},
   "outputs": [],
   "source": [
    "SouthEnd['stat'] = SouthEnd['status'].astype(int)"
   ]
  },
  {
   "cell_type": "code",
   "execution_count": 391,
   "metadata": {},
   "outputs": [],
   "source": [
    "SouthEnd[\"StatusChange\"] =  SouthEnd['stat'].shift() != SouthEnd['stat']"
   ]
  },
  {
   "cell_type": "code",
   "execution_count": 392,
   "metadata": {},
   "outputs": [
    {
     "name": "stderr",
     "output_type": "stream",
     "text": [
      "/opt/conda/envs/sds2020/lib/python3.7/site-packages/pandas/core/indexing.py:670: SettingWithCopyWarning: \n",
      "A value is trying to be set on a copy of a slice from a DataFrame\n",
      "\n",
      "See the caveats in the documentation: https://pandas.pydata.org/pandas-docs/stable/user_guide/indexing.html#returning-a-view-versus-a-copy\n",
      "  iloc._setitem_with_indexer(indexer, value)\n"
     ]
    }
   ],
   "source": [
    "SouthEnd[\"StatusChange\"].iloc[0] = False"
   ]
  },
  {
   "cell_type": "code",
   "execution_count": 393,
   "metadata": {},
   "outputs": [],
   "source": [
    "SouthEnd[\"TenantChange\"] =  SouthEnd['name'].shift(-1) != SouthEnd['name'] "
   ]
  },
  {
   "cell_type": "code",
   "execution_count": 394,
   "metadata": {},
   "outputs": [],
   "source": [
    "SouthEnd[\"TenantChange\"].iloc[0] = False"
   ]
  },
  {
   "cell_type": "code",
   "execution_count": 396,
   "metadata": {},
   "outputs": [],
   "source": [
    "counter = 0 \n",
    "stoppingCondition = len(locations)\n",
    "SouthEnd2 = pd.DataFrame(data=None, columns=SouthEnd.columns, index=None)\n",
    "\n",
    "while counter < stoppingCondition:\n",
    "        i = locations[counter]\n",
    "        m = SouthEnd.loc[i, :].iloc[[ SouthEnd.loc[i, :]['status_duration'].argmax()]]\n",
    "        SouthEnd2 = SouthEnd2.append(m, ignore_index=False)\n",
    "        counter += 1"
   ]
  },
  {
   "cell_type": "code",
   "execution_count": 398,
   "metadata": {},
   "outputs": [],
   "source": [
    "SouthEnd3 = SouthEnd2.drop_duplicates()"
   ]
  },
  {
   "cell_type": "code",
   "execution_count": 400,
   "metadata": {},
   "outputs": [],
   "source": [
    "SouthEnd3['highstreet'] = 'SouthEnd'"
   ]
  },
  {
   "cell_type": "code",
   "execution_count": 401,
   "metadata": {},
   "outputs": [],
   "source": [
    "SouthEnd3.to_csv('SouthEnd-vacant-survival.csv')"
   ]
  },
  {
   "cell_type": "markdown",
   "metadata": {},
   "source": [
    "#### 9. Cricklewood"
   ]
  },
  {
   "cell_type": "code",
   "execution_count": 402,
   "metadata": {},
   "outputs": [],
   "source": [
    "Cricklewood = Cricklewood.sort_values(by= ['status_date'])"
   ]
  },
  {
   "cell_type": "code",
   "execution_count": 403,
   "metadata": {},
   "outputs": [],
   "source": [
    "cols = ['V3', 'V4', 'V5', 'V13', 'V14', 'V15', 'V16', 'V17', 'V19', 'V20', 'V21', 'V26', 'V28', 'V30', 'V36', 'V38', 'V39', 'V48', 'V51', 'V54', 'V55', 'V56', 'V57', \n",
    "        'V58', 'V59', 'V60', 'V64', 'V70', 'V72', 'V77']"
   ]
  },
  {
   "cell_type": "code",
   "execution_count": 404,
   "metadata": {},
   "outputs": [],
   "source": [
    "#deleted those cols columns from the dataset as they only contain nulls\n",
    "\n",
    "Cricklewood = Cricklewood.drop(cols, axis=1)"
   ]
  },
  {
   "cell_type": "code",
   "execution_count": 405,
   "metadata": {},
   "outputs": [],
   "source": [
    "Cricklewood['new_date'] = pd.to_datetime(Cricklewood['status_date'], errors='coerce')"
   ]
  },
  {
   "cell_type": "code",
   "execution_count": 406,
   "metadata": {},
   "outputs": [],
   "source": [
    "Cricklewood = Cricklewood.sort_values(by= ['new_date'])"
   ]
  },
  {
   "cell_type": "code",
   "execution_count": 407,
   "metadata": {},
   "outputs": [
    {
     "name": "stderr",
     "output_type": "stream",
     "text": [
      "/opt/conda/envs/sds2020/lib/python3.7/site-packages/pandas/core/indexing.py:670: SettingWithCopyWarning: \n",
      "A value is trying to be set on a copy of a slice from a DataFrame\n",
      "\n",
      "See the caveats in the documentation: https://pandas.pydata.org/pandas-docs/stable/user_guide/indexing.html#returning-a-view-versus-a-copy\n",
      "  iloc._setitem_with_indexer(indexer, value)\n"
     ]
    }
   ],
   "source": [
    "Cricklewood['new_date'].loc[(Cricklewood['new_date'] < '2010-04-01')] = '2010-04-01'"
   ]
  },
  {
   "cell_type": "code",
   "execution_count": 408,
   "metadata": {},
   "outputs": [],
   "source": [
    "Cricklewood = Cricklewood.sort_values(by= ['location_code', 'period'])"
   ]
  },
  {
   "cell_type": "code",
   "execution_count": 409,
   "metadata": {},
   "outputs": [],
   "source": [
    "Cricklewood['locaton_code'] = Cricklewood['location_code'].astype(\"category\")"
   ]
  },
  {
   "cell_type": "code",
   "execution_count": 410,
   "metadata": {},
   "outputs": [],
   "source": [
    "locations = Cricklewood['location_code'].unique()"
   ]
  },
  {
   "cell_type": "code",
   "execution_count": 411,
   "metadata": {},
   "outputs": [],
   "source": [
    "Cricklewood.loc[Cricklewood['name'].isnull(), 'name'] = Cricklewood['location_code']"
   ]
  },
  {
   "cell_type": "code",
   "execution_count": 412,
   "metadata": {},
   "outputs": [],
   "source": [
    "Cricklewood['status_date'] = pd.to_datetime(Cricklewood['status_date'], errors='coerce')"
   ]
  },
  {
   "cell_type": "code",
   "execution_count": 413,
   "metadata": {},
   "outputs": [],
   "source": [
    "Cricklewood['status_date'].iloc[Cricklewood['status_date'] < '2010-04-01'] = '04/01/2010'"
   ]
  },
  {
   "cell_type": "code",
   "execution_count": 414,
   "metadata": {},
   "outputs": [],
   "source": [
    "Cricklewood['status_date'] = pd.to_datetime(Cricklewood['status_date'], errors='coerce')"
   ]
  },
  {
   "cell_type": "code",
   "execution_count": 415,
   "metadata": {},
   "outputs": [],
   "source": [
    "Cricklewood['period2'] = pd.to_datetime(Cricklewood['period'])"
   ]
  },
  {
   "cell_type": "code",
   "execution_count": 416,
   "metadata": {},
   "outputs": [],
   "source": [
    "Cricklewood['period2'] = Cricklewood['period2'] + pd.DateOffset(months=1)"
   ]
  },
  {
   "cell_type": "code",
   "execution_count": 417,
   "metadata": {},
   "outputs": [],
   "source": [
    "Cricklewood['duration'] = Cricklewood['period2'] - Cricklewood['status_date']"
   ]
  },
  {
   "cell_type": "code",
   "execution_count": 418,
   "metadata": {},
   "outputs": [],
   "source": [
    "Cricklewood['duration'] = Cricklewood['duration'].dt.days"
   ]
  },
  {
   "cell_type": "code",
   "execution_count": 419,
   "metadata": {},
   "outputs": [],
   "source": [
    "Cricklewood['study-start'] = '04/01/2010'"
   ]
  },
  {
   "cell_type": "code",
   "execution_count": 420,
   "metadata": {},
   "outputs": [],
   "source": [
    "Cricklewood['study-start'] = pd.to_datetime(Cricklewood['study-start'], errors='coerce')"
   ]
  },
  {
   "cell_type": "code",
   "execution_count": 421,
   "metadata": {},
   "outputs": [],
   "source": [
    "Cricklewood['time-of-entry'] = Cricklewood['status_date'] -  Cricklewood['study-start']"
   ]
  },
  {
   "cell_type": "code",
   "execution_count": 422,
   "metadata": {},
   "outputs": [],
   "source": [
    "Cricklewood['time-at-open'] = 0"
   ]
  },
  {
   "cell_type": "code",
   "execution_count": 423,
   "metadata": {},
   "outputs": [],
   "source": [
    "Cricklewood['vacant'] = 0"
   ]
  },
  {
   "cell_type": "code",
   "execution_count": 424,
   "metadata": {},
   "outputs": [],
   "source": [
    "Cricklewood = Cricklewood.drop(Cricklewood[(Cricklewood['status'] == False) & (Cricklewood['status_date'] == '2010-04-01')].index)"
   ]
  },
  {
   "cell_type": "code",
   "execution_count": 425,
   "metadata": {},
   "outputs": [],
   "source": [
    "Cricklewood['location_code'] = Cricklewood['location_code'].astype(\"category\")"
   ]
  },
  {
   "cell_type": "code",
   "execution_count": 426,
   "metadata": {},
   "outputs": [],
   "source": [
    "locations = list(Cricklewood['location_code'].unique())"
   ]
  },
  {
   "cell_type": "code",
   "execution_count": 427,
   "metadata": {},
   "outputs": [],
   "source": [
    "Cricklewood = Cricklewood.set_index('location_code')"
   ]
  },
  {
   "cell_type": "code",
   "execution_count": 428,
   "metadata": {},
   "outputs": [],
   "source": [
    "Cricklewood['survival'] = 0"
   ]
  },
  {
   "cell_type": "code",
   "execution_count": 429,
   "metadata": {},
   "outputs": [],
   "source": [
    "Cricklewood['survival'] = Cricklewood['duration']"
   ]
  },
  {
   "cell_type": "code",
   "execution_count": 430,
   "metadata": {},
   "outputs": [],
   "source": [
    "Cricklewood['entry'] = Cricklewood['time-of-entry'].dt.days"
   ]
  },
  {
   "cell_type": "code",
   "execution_count": 431,
   "metadata": {},
   "outputs": [],
   "source": [
    "Cricklewood['time-at-open'] = Cricklewood['survival'] + Cricklewood['entry']"
   ]
  },
  {
   "cell_type": "code",
   "execution_count": 432,
   "metadata": {},
   "outputs": [],
   "source": [
    "Cricklewood['stat'] = Cricklewood['status'].astype(int)"
   ]
  },
  {
   "cell_type": "code",
   "execution_count": 433,
   "metadata": {},
   "outputs": [],
   "source": [
    "Cricklewood[\"StatusChange\"] =  Cricklewood['stat'].shift() != Cricklewood['stat']"
   ]
  },
  {
   "cell_type": "code",
   "execution_count": 434,
   "metadata": {},
   "outputs": [
    {
     "name": "stderr",
     "output_type": "stream",
     "text": [
      "/opt/conda/envs/sds2020/lib/python3.7/site-packages/pandas/core/indexing.py:670: SettingWithCopyWarning: \n",
      "A value is trying to be set on a copy of a slice from a DataFrame\n",
      "\n",
      "See the caveats in the documentation: https://pandas.pydata.org/pandas-docs/stable/user_guide/indexing.html#returning-a-view-versus-a-copy\n",
      "  iloc._setitem_with_indexer(indexer, value)\n"
     ]
    }
   ],
   "source": [
    "Cricklewood[\"StatusChange\"].iloc[0] = False"
   ]
  },
  {
   "cell_type": "code",
   "execution_count": 435,
   "metadata": {},
   "outputs": [],
   "source": [
    "Cricklewood[\"TenantChange\"] =  Cricklewood['name'].shift(-1) != Cricklewood['name'] "
   ]
  },
  {
   "cell_type": "code",
   "execution_count": 436,
   "metadata": {},
   "outputs": [],
   "source": [
    "Cricklewood[\"TenantChange\"].iloc[0] = False"
   ]
  },
  {
   "cell_type": "code",
   "execution_count": 437,
   "metadata": {},
   "outputs": [],
   "source": [
    "CricklewoodSub = Cricklewood[(Cricklewood['StatusChange'] == False)  & (Cricklewood['TenantChange'] == True) & (Cricklewood['status'] == True)]"
   ]
  },
  {
   "cell_type": "code",
   "execution_count": 438,
   "metadata": {},
   "outputs": [],
   "source": [
    "counter = 0 \n",
    "stoppingCondition = len(locations)\n",
    "Cricklewood2 = pd.DataFrame(data=None, columns=Cricklewood.columns, index=None)\n",
    "\n",
    "while counter < stoppingCondition:\n",
    "        i = locations[counter]\n",
    "        m = Cricklewood.loc[i, :].iloc[[ Cricklewood.loc[i, :]['status_duration'].argmax()]]\n",
    "        Cricklewood2 = Cricklewood2.append(m, ignore_index=False)\n",
    "        counter += 1"
   ]
  },
  {
   "cell_type": "code",
   "execution_count": 439,
   "metadata": {},
   "outputs": [],
   "source": [
    "Cricklewood3 = CricklewoodSub.append(Cricklewood2)"
   ]
  },
  {
   "cell_type": "code",
   "execution_count": 440,
   "metadata": {},
   "outputs": [],
   "source": [
    "Cricklewood3 = Cricklewood3.drop_duplicates()"
   ]
  },
  {
   "cell_type": "code",
   "execution_count": 441,
   "metadata": {},
   "outputs": [],
   "source": [
    "Cricklewood3.loc[Cricklewood3['time-at-open'] < 4018, ['vacant']] = 1"
   ]
  },
  {
   "cell_type": "code",
   "execution_count": 442,
   "metadata": {},
   "outputs": [],
   "source": [
    "Cricklewood3['highstreet'] = 'Cricklewood'"
   ]
  },
  {
   "cell_type": "code",
   "execution_count": 443,
   "metadata": {},
   "outputs": [],
   "source": [
    "Cricklewood3.to_csv('Cricklewood-vacant-survival.csv')"
   ]
  },
  {
   "cell_type": "markdown",
   "metadata": {},
   "source": [
    "#### 10. Regents"
   ]
  },
  {
   "cell_type": "code",
   "execution_count": 444,
   "metadata": {},
   "outputs": [],
   "source": [
    "Regents = Regents.sort_values(by= ['status_date'])"
   ]
  },
  {
   "cell_type": "code",
   "execution_count": 445,
   "metadata": {},
   "outputs": [],
   "source": [
    "cols = ['V3', 'V4', 'V5', 'V13', 'V14', 'V15', 'V16', 'V17', 'V19', 'V20', 'V21', 'V26', 'V28', 'V30', 'V36', 'V38', 'V39', 'V48', 'V51', 'V54', 'V55', 'V56', 'V57', \n",
    "        'V58', 'V59', 'V60', 'V64', 'V70', 'V72', 'V77']"
   ]
  },
  {
   "cell_type": "code",
   "execution_count": 446,
   "metadata": {},
   "outputs": [],
   "source": [
    "#deleted those cols columns from the dataset as they only contain nulls\n",
    "\n",
    "Regents = Regents.drop(cols, axis=1)"
   ]
  },
  {
   "cell_type": "code",
   "execution_count": 447,
   "metadata": {},
   "outputs": [],
   "source": [
    "Regents['new_date'] = pd.to_datetime(Regents['status_date'], errors='coerce')"
   ]
  },
  {
   "cell_type": "code",
   "execution_count": 448,
   "metadata": {},
   "outputs": [],
   "source": [
    "Regents = Regents.sort_values(by= ['new_date'])"
   ]
  },
  {
   "cell_type": "code",
   "execution_count": 449,
   "metadata": {},
   "outputs": [
    {
     "name": "stderr",
     "output_type": "stream",
     "text": [
      "/opt/conda/envs/sds2020/lib/python3.7/site-packages/pandas/core/indexing.py:670: SettingWithCopyWarning: \n",
      "A value is trying to be set on a copy of a slice from a DataFrame\n",
      "\n",
      "See the caveats in the documentation: https://pandas.pydata.org/pandas-docs/stable/user_guide/indexing.html#returning-a-view-versus-a-copy\n",
      "  iloc._setitem_with_indexer(indexer, value)\n"
     ]
    }
   ],
   "source": [
    "Regents['new_date'].loc[(Regents['new_date'] < '2010-04-01')] = '2010-04-01'"
   ]
  },
  {
   "cell_type": "code",
   "execution_count": 450,
   "metadata": {},
   "outputs": [],
   "source": [
    "Regents = Regents.sort_values(by= ['location_code', 'period'])"
   ]
  },
  {
   "cell_type": "code",
   "execution_count": 451,
   "metadata": {},
   "outputs": [],
   "source": [
    "Regents['locaton_code'] = Regents['location_code'].astype(\"category\")"
   ]
  },
  {
   "cell_type": "code",
   "execution_count": 452,
   "metadata": {},
   "outputs": [],
   "source": [
    "locations = Regents['location_code'].unique()"
   ]
  },
  {
   "cell_type": "code",
   "execution_count": 453,
   "metadata": {},
   "outputs": [],
   "source": [
    "Regents.loc[Regents['name'].isnull(), 'name'] = Regents['location_code']"
   ]
  },
  {
   "cell_type": "code",
   "execution_count": 454,
   "metadata": {},
   "outputs": [],
   "source": [
    "Regents['status_date'] = pd.to_datetime(Regents['status_date'], errors='coerce')"
   ]
  },
  {
   "cell_type": "code",
   "execution_count": 455,
   "metadata": {},
   "outputs": [],
   "source": [
    "Regents['status_date'].iloc[Regents['status_date'] < '2010-04-01'] = '04/01/2010'"
   ]
  },
  {
   "cell_type": "code",
   "execution_count": 456,
   "metadata": {},
   "outputs": [],
   "source": [
    "Regents['status_date'] = pd.to_datetime(Regents['status_date'], errors='coerce')"
   ]
  },
  {
   "cell_type": "code",
   "execution_count": 457,
   "metadata": {},
   "outputs": [],
   "source": [
    "Regents['period2'] = pd.to_datetime(Regents['period'])"
   ]
  },
  {
   "cell_type": "code",
   "execution_count": 458,
   "metadata": {},
   "outputs": [],
   "source": [
    "Regents['period2'] = Regents['period2'] + pd.DateOffset(months=1)"
   ]
  },
  {
   "cell_type": "code",
   "execution_count": 459,
   "metadata": {},
   "outputs": [],
   "source": [
    "Regents['duration'] = Regents['period2'] - Regents['status_date']"
   ]
  },
  {
   "cell_type": "code",
   "execution_count": 460,
   "metadata": {},
   "outputs": [],
   "source": [
    "Regents['duration'] = Regents['duration'].dt.days"
   ]
  },
  {
   "cell_type": "code",
   "execution_count": 461,
   "metadata": {},
   "outputs": [],
   "source": [
    "Regents['study-start'] = '04/01/2010'"
   ]
  },
  {
   "cell_type": "code",
   "execution_count": 462,
   "metadata": {},
   "outputs": [],
   "source": [
    "Regents['study-start'] = pd.to_datetime(Regents['study-start'], errors='coerce')"
   ]
  },
  {
   "cell_type": "code",
   "execution_count": 463,
   "metadata": {},
   "outputs": [],
   "source": [
    "Regents['time-of-entry'] = Regents['status_date'] -  Regents['study-start']"
   ]
  },
  {
   "cell_type": "code",
   "execution_count": 464,
   "metadata": {},
   "outputs": [],
   "source": [
    "Regents['time-at-open'] = 0"
   ]
  },
  {
   "cell_type": "code",
   "execution_count": 465,
   "metadata": {},
   "outputs": [],
   "source": [
    "Regents['vacant'] = 0"
   ]
  },
  {
   "cell_type": "code",
   "execution_count": 466,
   "metadata": {},
   "outputs": [],
   "source": [
    "Regents = Regents.drop(Regents[(Regents['status'] == False) & (Regents['status_date'] == '2010-04-01')].index)"
   ]
  },
  {
   "cell_type": "code",
   "execution_count": 467,
   "metadata": {},
   "outputs": [],
   "source": [
    "Regents['location_code'] = Regents['location_code'].astype(\"category\")"
   ]
  },
  {
   "cell_type": "code",
   "execution_count": 468,
   "metadata": {},
   "outputs": [],
   "source": [
    "locations = list(Regents['location_code'].unique())"
   ]
  },
  {
   "cell_type": "code",
   "execution_count": 469,
   "metadata": {},
   "outputs": [],
   "source": [
    "Regents = Regents.set_index('location_code')"
   ]
  },
  {
   "cell_type": "code",
   "execution_count": 470,
   "metadata": {},
   "outputs": [],
   "source": [
    "Regents['survival'] = 0"
   ]
  },
  {
   "cell_type": "code",
   "execution_count": 471,
   "metadata": {},
   "outputs": [],
   "source": [
    "Regents['survival'] = Regents['duration']"
   ]
  },
  {
   "cell_type": "code",
   "execution_count": 472,
   "metadata": {},
   "outputs": [],
   "source": [
    "Regents['entry'] = Regents['time-of-entry'].dt.days"
   ]
  },
  {
   "cell_type": "code",
   "execution_count": 473,
   "metadata": {},
   "outputs": [],
   "source": [
    "Regents['time-at-open'] = Regents['survival'] + Regents['entry']"
   ]
  },
  {
   "cell_type": "code",
   "execution_count": 474,
   "metadata": {},
   "outputs": [],
   "source": [
    "Regents['stat'] = Regents['status'].astype(int)"
   ]
  },
  {
   "cell_type": "code",
   "execution_count": 475,
   "metadata": {},
   "outputs": [],
   "source": [
    "Regents[\"StatusChange\"] =  Regents['stat'].shift() != Regents['stat']"
   ]
  },
  {
   "cell_type": "code",
   "execution_count": 476,
   "metadata": {},
   "outputs": [
    {
     "name": "stderr",
     "output_type": "stream",
     "text": [
      "/opt/conda/envs/sds2020/lib/python3.7/site-packages/pandas/core/indexing.py:670: SettingWithCopyWarning: \n",
      "A value is trying to be set on a copy of a slice from a DataFrame\n",
      "\n",
      "See the caveats in the documentation: https://pandas.pydata.org/pandas-docs/stable/user_guide/indexing.html#returning-a-view-versus-a-copy\n",
      "  iloc._setitem_with_indexer(indexer, value)\n"
     ]
    }
   ],
   "source": [
    "Regents[\"StatusChange\"].iloc[0] = False"
   ]
  },
  {
   "cell_type": "code",
   "execution_count": 477,
   "metadata": {},
   "outputs": [],
   "source": [
    "Regents[\"TenantChange\"] =  Regents['name'].shift(-1) != Regents['name'] "
   ]
  },
  {
   "cell_type": "code",
   "execution_count": 478,
   "metadata": {},
   "outputs": [],
   "source": [
    "Regents[\"TenantChange\"].iloc[0] = False"
   ]
  },
  {
   "cell_type": "code",
   "execution_count": 479,
   "metadata": {},
   "outputs": [],
   "source": [
    "RegentsSub = Regents[(Regents['StatusChange'] == False)  & (Regents['TenantChange'] == True) & (Regents['status'] == True)]"
   ]
  },
  {
   "cell_type": "code",
   "execution_count": 480,
   "metadata": {},
   "outputs": [],
   "source": [
    "counter = 0 \n",
    "stoppingCondition = len(locations)\n",
    "Regents2 = pd.DataFrame(data=None, columns=Regents.columns, index=None)\n",
    "\n",
    "while counter < stoppingCondition:\n",
    "        i = locations[counter]\n",
    "        m = Regents.loc[i, :].iloc[[ Regents.loc[i, :]['status_duration'].argmax()]]\n",
    "        Regents2 = Regents2.append(m, ignore_index=False)\n",
    "        counter += 1"
   ]
  },
  {
   "cell_type": "code",
   "execution_count": 481,
   "metadata": {},
   "outputs": [],
   "source": [
    "Regents3 = RegentsSub.append(Regents2)"
   ]
  },
  {
   "cell_type": "code",
   "execution_count": 482,
   "metadata": {},
   "outputs": [],
   "source": [
    "Regents3 = Regents3.drop_duplicates()"
   ]
  },
  {
   "cell_type": "code",
   "execution_count": 483,
   "metadata": {},
   "outputs": [],
   "source": [
    "Regents3.loc[Regents3['time-at-open'] < 4018, ['vacant']] = 1"
   ]
  },
  {
   "cell_type": "code",
   "execution_count": 484,
   "metadata": {},
   "outputs": [],
   "source": [
    "Regents3['highstreet'] = 'Regents'"
   ]
  },
  {
   "cell_type": "code",
   "execution_count": 485,
   "metadata": {},
   "outputs": [],
   "source": [
    "Regents3.to_csv('Regents-vacant-survival.csv')"
   ]
  },
  {
   "cell_type": "markdown",
   "metadata": {},
   "source": [
    "#### 11. Queens"
   ]
  },
  {
   "cell_type": "code",
   "execution_count": 486,
   "metadata": {},
   "outputs": [],
   "source": [
    "Queens = Queens.sort_values(by= ['status_date'])"
   ]
  },
  {
   "cell_type": "code",
   "execution_count": 487,
   "metadata": {},
   "outputs": [],
   "source": [
    "cols = ['V3', 'V4', 'V5', 'V13', 'V14', 'V15', 'V16', 'V17', 'V19', 'V20', 'V21', 'V26', 'V28', 'V30', 'V36', 'V38', 'V39', 'V48', 'V51', 'V54', 'V55', 'V56', 'V57', \n",
    "        'V58', 'V59', 'V60', 'V64', 'V70', 'V72', 'V77']"
   ]
  },
  {
   "cell_type": "code",
   "execution_count": 488,
   "metadata": {},
   "outputs": [],
   "source": [
    "#deleted those cols columns from the dataset as they only contain nulls\n",
    "\n",
    "Queens = Queens.drop(cols, axis=1)"
   ]
  },
  {
   "cell_type": "code",
   "execution_count": 489,
   "metadata": {},
   "outputs": [],
   "source": [
    "Queens['new_date'] = pd.to_datetime(Queens['status_date'], errors='coerce')"
   ]
  },
  {
   "cell_type": "code",
   "execution_count": 490,
   "metadata": {},
   "outputs": [],
   "source": [
    "Queens = Queens.sort_values(by= ['new_date'])"
   ]
  },
  {
   "cell_type": "code",
   "execution_count": 491,
   "metadata": {},
   "outputs": [
    {
     "name": "stderr",
     "output_type": "stream",
     "text": [
      "/opt/conda/envs/sds2020/lib/python3.7/site-packages/pandas/core/indexing.py:670: SettingWithCopyWarning: \n",
      "A value is trying to be set on a copy of a slice from a DataFrame\n",
      "\n",
      "See the caveats in the documentation: https://pandas.pydata.org/pandas-docs/stable/user_guide/indexing.html#returning-a-view-versus-a-copy\n",
      "  iloc._setitem_with_indexer(indexer, value)\n"
     ]
    }
   ],
   "source": [
    "Queens['new_date'].loc[(Queens['new_date'] < '2010-04-01')] = '2010-04-01'"
   ]
  },
  {
   "cell_type": "code",
   "execution_count": 492,
   "metadata": {},
   "outputs": [],
   "source": [
    "Queens = Queens.sort_values(by= ['location_code', 'period'])"
   ]
  },
  {
   "cell_type": "code",
   "execution_count": 493,
   "metadata": {},
   "outputs": [],
   "source": [
    "Queens['locaton_code'] = Queens['location_code'].astype(\"category\")"
   ]
  },
  {
   "cell_type": "code",
   "execution_count": 494,
   "metadata": {},
   "outputs": [],
   "source": [
    "locations = Queens['location_code'].unique()"
   ]
  },
  {
   "cell_type": "code",
   "execution_count": 495,
   "metadata": {},
   "outputs": [],
   "source": [
    "Queens.loc[Queens['name'].isnull(), 'name'] = Queens['location_code']"
   ]
  },
  {
   "cell_type": "code",
   "execution_count": 496,
   "metadata": {},
   "outputs": [],
   "source": [
    "Queens['status_date'] = pd.to_datetime(Queens['status_date'], errors='coerce')"
   ]
  },
  {
   "cell_type": "code",
   "execution_count": 497,
   "metadata": {},
   "outputs": [],
   "source": [
    "Queens['status_date'].iloc[Queens['status_date'] < '2010-04-01'] = '04/01/2010'"
   ]
  },
  {
   "cell_type": "code",
   "execution_count": 498,
   "metadata": {},
   "outputs": [],
   "source": [
    "Queens['status_date'] = pd.to_datetime(Queens['status_date'], errors='coerce')"
   ]
  },
  {
   "cell_type": "code",
   "execution_count": 499,
   "metadata": {},
   "outputs": [],
   "source": [
    "Queens['period2'] = pd.to_datetime(Queens['period'])"
   ]
  },
  {
   "cell_type": "code",
   "execution_count": 500,
   "metadata": {},
   "outputs": [],
   "source": [
    "Queens['period2'] = Queens['period2'] + pd.DateOffset(months=1)"
   ]
  },
  {
   "cell_type": "code",
   "execution_count": 501,
   "metadata": {},
   "outputs": [],
   "source": [
    "Queens['duration'] = Queens['period2'] - Queens['status_date']"
   ]
  },
  {
   "cell_type": "code",
   "execution_count": 502,
   "metadata": {},
   "outputs": [],
   "source": [
    "Queens['duration'] = Queens['duration'].dt.days"
   ]
  },
  {
   "cell_type": "code",
   "execution_count": 503,
   "metadata": {},
   "outputs": [],
   "source": [
    "Queens['study-start'] = '04/01/2010'"
   ]
  },
  {
   "cell_type": "code",
   "execution_count": 504,
   "metadata": {},
   "outputs": [],
   "source": [
    "Queens['study-start'] = pd.to_datetime(Queens['study-start'], errors='coerce')"
   ]
  },
  {
   "cell_type": "code",
   "execution_count": 505,
   "metadata": {},
   "outputs": [],
   "source": [
    "Queens['time-of-entry'] = Queens['status_date'] -  Queens['study-start']"
   ]
  },
  {
   "cell_type": "code",
   "execution_count": 506,
   "metadata": {},
   "outputs": [],
   "source": [
    "Queens['time-at-open'] = 0"
   ]
  },
  {
   "cell_type": "code",
   "execution_count": 507,
   "metadata": {},
   "outputs": [],
   "source": [
    "Queens['vacant'] = 0"
   ]
  },
  {
   "cell_type": "code",
   "execution_count": 508,
   "metadata": {},
   "outputs": [],
   "source": [
    "Queens = Queens.drop(Queens[(Queens['status'] == False) & (Queens['status_date'] == '2010-04-01')].index)"
   ]
  },
  {
   "cell_type": "code",
   "execution_count": 509,
   "metadata": {},
   "outputs": [],
   "source": [
    "Queens['location_code'] = Queens['location_code'].astype(\"category\")"
   ]
  },
  {
   "cell_type": "code",
   "execution_count": 510,
   "metadata": {},
   "outputs": [],
   "source": [
    "locations = list(Queens['location_code'].unique())"
   ]
  },
  {
   "cell_type": "code",
   "execution_count": 511,
   "metadata": {},
   "outputs": [],
   "source": [
    "Queens = Queens.set_index('location_code')"
   ]
  },
  {
   "cell_type": "code",
   "execution_count": 512,
   "metadata": {},
   "outputs": [],
   "source": [
    "Queens['survival'] = 0"
   ]
  },
  {
   "cell_type": "code",
   "execution_count": 513,
   "metadata": {},
   "outputs": [],
   "source": [
    "Queens['survival'] = Queens['duration']"
   ]
  },
  {
   "cell_type": "code",
   "execution_count": 514,
   "metadata": {},
   "outputs": [],
   "source": [
    "Queens['entry'] = Queens['time-of-entry'].dt.days"
   ]
  },
  {
   "cell_type": "code",
   "execution_count": 515,
   "metadata": {},
   "outputs": [],
   "source": [
    "Queens['time-at-open'] = Queens['survival'] + Queens['entry']"
   ]
  },
  {
   "cell_type": "code",
   "execution_count": 516,
   "metadata": {},
   "outputs": [],
   "source": [
    "Queens['stat'] = Queens['status'].astype(int)"
   ]
  },
  {
   "cell_type": "code",
   "execution_count": 517,
   "metadata": {},
   "outputs": [],
   "source": [
    "Queens[\"StatusChange\"] =  Queens['stat'].shift() != Queens['stat']"
   ]
  },
  {
   "cell_type": "code",
   "execution_count": 518,
   "metadata": {},
   "outputs": [
    {
     "name": "stderr",
     "output_type": "stream",
     "text": [
      "/opt/conda/envs/sds2020/lib/python3.7/site-packages/pandas/core/indexing.py:670: SettingWithCopyWarning: \n",
      "A value is trying to be set on a copy of a slice from a DataFrame\n",
      "\n",
      "See the caveats in the documentation: https://pandas.pydata.org/pandas-docs/stable/user_guide/indexing.html#returning-a-view-versus-a-copy\n",
      "  iloc._setitem_with_indexer(indexer, value)\n"
     ]
    }
   ],
   "source": [
    "Queens[\"StatusChange\"].iloc[0] = False"
   ]
  },
  {
   "cell_type": "code",
   "execution_count": 519,
   "metadata": {},
   "outputs": [],
   "source": [
    "Queens[\"TenantChange\"] =  Queens['name'].shift(-1) != Queens['name'] "
   ]
  },
  {
   "cell_type": "code",
   "execution_count": 520,
   "metadata": {},
   "outputs": [],
   "source": [
    "Queens[\"TenantChange\"].iloc[0] = False"
   ]
  },
  {
   "cell_type": "code",
   "execution_count": 521,
   "metadata": {},
   "outputs": [],
   "source": [
    "QueensSub = Queens[(Queens['StatusChange'] == False)  & (Queens['TenantChange'] == True) & (Queens['status'] == True)]"
   ]
  },
  {
   "cell_type": "code",
   "execution_count": 522,
   "metadata": {},
   "outputs": [],
   "source": [
    "counter = 0 \n",
    "stoppingCondition = len(locations)\n",
    "Queens2 = pd.DataFrame(data=None, columns=Queens.columns, index=None)\n",
    "\n",
    "while counter < stoppingCondition:\n",
    "        i = locations[counter]\n",
    "        m = Queens.loc[i, :].iloc[[ Queens.loc[i, :]['status_duration'].argmax()]]\n",
    "        Queens2 = Queens2.append(m, ignore_index=False)\n",
    "        counter += 1"
   ]
  },
  {
   "cell_type": "code",
   "execution_count": 523,
   "metadata": {},
   "outputs": [],
   "source": [
    "Queens3 = QueensSub.append(Queens2)"
   ]
  },
  {
   "cell_type": "code",
   "execution_count": 524,
   "metadata": {},
   "outputs": [],
   "source": [
    "Queens3 = Queens3.drop_duplicates()"
   ]
  },
  {
   "cell_type": "code",
   "execution_count": 525,
   "metadata": {},
   "outputs": [],
   "source": [
    "Queens3.loc[Queens3['time-at-open'] < 4018, ['vacant']] = 1"
   ]
  },
  {
   "cell_type": "code",
   "execution_count": 526,
   "metadata": {},
   "outputs": [],
   "source": [
    "Queens3['highstreet'] = 'Queens'"
   ]
  },
  {
   "cell_type": "code",
   "execution_count": 527,
   "metadata": {},
   "outputs": [],
   "source": [
    "Queens3.to_csv('Queens-vacant-survival.csv')"
   ]
  },
  {
   "cell_type": "markdown",
   "metadata": {},
   "source": [
    "#### 12. Kilburn"
   ]
  },
  {
   "cell_type": "code",
   "execution_count": 528,
   "metadata": {},
   "outputs": [],
   "source": [
    "Kilburn = Kilburn.sort_values(by= ['status_date'])"
   ]
  },
  {
   "cell_type": "code",
   "execution_count": 529,
   "metadata": {},
   "outputs": [],
   "source": [
    "cols = ['V3', 'V4', 'V5', 'V13', 'V14', 'V15', 'V16', 'V17', 'V19', 'V20', 'V21', 'V26', 'V28', 'V30', 'V36', 'V38', 'V39', 'V48', 'V51', 'V54', 'V55', 'V56', 'V57', \n",
    "        'V58', 'V59', 'V60', 'V64', 'V70', 'V72', 'V77']"
   ]
  },
  {
   "cell_type": "code",
   "execution_count": 530,
   "metadata": {},
   "outputs": [],
   "source": [
    "#deleted those cols columns from the dataset as they only contain nulls\n",
    "\n",
    "Kilburn = Kilburn.drop(cols, axis=1)"
   ]
  },
  {
   "cell_type": "code",
   "execution_count": 531,
   "metadata": {},
   "outputs": [],
   "source": [
    "Kilburn['new_date'] = pd.to_datetime(Kilburn['status_date'], errors='coerce')"
   ]
  },
  {
   "cell_type": "code",
   "execution_count": 532,
   "metadata": {},
   "outputs": [],
   "source": [
    "Kilburn = Kilburn.sort_values(by= ['new_date'])"
   ]
  },
  {
   "cell_type": "code",
   "execution_count": 533,
   "metadata": {},
   "outputs": [
    {
     "name": "stderr",
     "output_type": "stream",
     "text": [
      "/opt/conda/envs/sds2020/lib/python3.7/site-packages/pandas/core/indexing.py:670: SettingWithCopyWarning: \n",
      "A value is trying to be set on a copy of a slice from a DataFrame\n",
      "\n",
      "See the caveats in the documentation: https://pandas.pydata.org/pandas-docs/stable/user_guide/indexing.html#returning-a-view-versus-a-copy\n",
      "  iloc._setitem_with_indexer(indexer, value)\n"
     ]
    }
   ],
   "source": [
    "Kilburn['new_date'].loc[(Kilburn['new_date'] < '2010-04-01')] = '2010-04-01'"
   ]
  },
  {
   "cell_type": "code",
   "execution_count": 534,
   "metadata": {},
   "outputs": [],
   "source": [
    "Kilburn = Kilburn.sort_values(by= ['location_code', 'period'])"
   ]
  },
  {
   "cell_type": "code",
   "execution_count": 535,
   "metadata": {},
   "outputs": [],
   "source": [
    "Kilburn['locaton_code'] = Kilburn['location_code'].astype(\"category\")"
   ]
  },
  {
   "cell_type": "code",
   "execution_count": 536,
   "metadata": {},
   "outputs": [],
   "source": [
    "locations = Kilburn['location_code'].unique()"
   ]
  },
  {
   "cell_type": "code",
   "execution_count": 537,
   "metadata": {},
   "outputs": [],
   "source": [
    "Kilburn.loc[Kilburn['name'].isnull(), 'name'] = Kilburn['location_code']"
   ]
  },
  {
   "cell_type": "code",
   "execution_count": 538,
   "metadata": {},
   "outputs": [],
   "source": [
    "Kilburn['status_date'] = pd.to_datetime(Kilburn['status_date'], errors='coerce')"
   ]
  },
  {
   "cell_type": "code",
   "execution_count": 539,
   "metadata": {},
   "outputs": [],
   "source": [
    "Kilburn['status_date'].iloc[Kilburn['status_date'] < '2010-04-01'] = '04/01/2010'"
   ]
  },
  {
   "cell_type": "code",
   "execution_count": 540,
   "metadata": {},
   "outputs": [],
   "source": [
    "Kilburn['status_date'] = pd.to_datetime(Kilburn['status_date'], errors='coerce')"
   ]
  },
  {
   "cell_type": "code",
   "execution_count": 541,
   "metadata": {},
   "outputs": [],
   "source": [
    "Kilburn['period2'] = pd.to_datetime(Kilburn['period'])"
   ]
  },
  {
   "cell_type": "code",
   "execution_count": 542,
   "metadata": {},
   "outputs": [],
   "source": [
    "Kilburn['period2'] = Kilburn['period2'] + pd.DateOffset(months=1)"
   ]
  },
  {
   "cell_type": "code",
   "execution_count": 543,
   "metadata": {},
   "outputs": [],
   "source": [
    "Kilburn['duration'] = Kilburn['period2'] - Kilburn['status_date']"
   ]
  },
  {
   "cell_type": "code",
   "execution_count": 544,
   "metadata": {},
   "outputs": [],
   "source": [
    "Kilburn['duration'] = Kilburn['duration'].dt.days"
   ]
  },
  {
   "cell_type": "code",
   "execution_count": 545,
   "metadata": {},
   "outputs": [],
   "source": [
    "Kilburn['study-start'] = '04/01/2010'"
   ]
  },
  {
   "cell_type": "code",
   "execution_count": 546,
   "metadata": {},
   "outputs": [],
   "source": [
    "Kilburn['study-start'] = pd.to_datetime(Kilburn['study-start'], errors='coerce')"
   ]
  },
  {
   "cell_type": "code",
   "execution_count": 547,
   "metadata": {},
   "outputs": [],
   "source": [
    "Kilburn['time-of-entry'] = Kilburn['status_date'] -  Kilburn['study-start']"
   ]
  },
  {
   "cell_type": "code",
   "execution_count": 548,
   "metadata": {},
   "outputs": [],
   "source": [
    "Kilburn['time-at-open'] = 0"
   ]
  },
  {
   "cell_type": "code",
   "execution_count": 549,
   "metadata": {},
   "outputs": [],
   "source": [
    "Kilburn['vacant'] = 0"
   ]
  },
  {
   "cell_type": "code",
   "execution_count": 550,
   "metadata": {},
   "outputs": [],
   "source": [
    "Kilburn = Kilburn.drop(Kilburn[(Kilburn['status'] == False) & (Kilburn['status_date'] == '2010-04-01')].index)"
   ]
  },
  {
   "cell_type": "code",
   "execution_count": 551,
   "metadata": {},
   "outputs": [],
   "source": [
    "Kilburn['location_code'] = Kilburn['location_code'].astype(\"category\")"
   ]
  },
  {
   "cell_type": "code",
   "execution_count": 552,
   "metadata": {},
   "outputs": [],
   "source": [
    "locations = list(Kilburn['location_code'].unique())"
   ]
  },
  {
   "cell_type": "code",
   "execution_count": 553,
   "metadata": {},
   "outputs": [],
   "source": [
    "Kilburn = Kilburn.set_index('location_code')"
   ]
  },
  {
   "cell_type": "code",
   "execution_count": 554,
   "metadata": {},
   "outputs": [],
   "source": [
    "Kilburn['survival'] = 0"
   ]
  },
  {
   "cell_type": "code",
   "execution_count": 555,
   "metadata": {},
   "outputs": [],
   "source": [
    "Kilburn['survival'] = Kilburn['duration']"
   ]
  },
  {
   "cell_type": "code",
   "execution_count": 556,
   "metadata": {},
   "outputs": [],
   "source": [
    "Kilburn['entry'] = Kilburn['time-of-entry'].dt.days"
   ]
  },
  {
   "cell_type": "code",
   "execution_count": 557,
   "metadata": {},
   "outputs": [],
   "source": [
    "Kilburn['time-at-open'] = Kilburn['survival'] + Kilburn['entry']"
   ]
  },
  {
   "cell_type": "code",
   "execution_count": 558,
   "metadata": {},
   "outputs": [],
   "source": [
    "Kilburn['stat'] = Kilburn['status'].astype(int)"
   ]
  },
  {
   "cell_type": "code",
   "execution_count": 559,
   "metadata": {},
   "outputs": [],
   "source": [
    "Kilburn[\"StatusChange\"] =  Kilburn['stat'].shift() != Kilburn['stat']"
   ]
  },
  {
   "cell_type": "code",
   "execution_count": 560,
   "metadata": {},
   "outputs": [
    {
     "name": "stderr",
     "output_type": "stream",
     "text": [
      "/opt/conda/envs/sds2020/lib/python3.7/site-packages/pandas/core/indexing.py:670: SettingWithCopyWarning: \n",
      "A value is trying to be set on a copy of a slice from a DataFrame\n",
      "\n",
      "See the caveats in the documentation: https://pandas.pydata.org/pandas-docs/stable/user_guide/indexing.html#returning-a-view-versus-a-copy\n",
      "  iloc._setitem_with_indexer(indexer, value)\n"
     ]
    }
   ],
   "source": [
    "Kilburn[\"StatusChange\"].iloc[0] = False"
   ]
  },
  {
   "cell_type": "code",
   "execution_count": 561,
   "metadata": {},
   "outputs": [],
   "source": [
    "Kilburn[\"TenantChange\"] =  Kilburn['name'].shift(-1) != Kilburn['name'] "
   ]
  },
  {
   "cell_type": "code",
   "execution_count": 562,
   "metadata": {},
   "outputs": [],
   "source": [
    "Kilburn[\"TenantChange\"].iloc[0] = False"
   ]
  },
  {
   "cell_type": "code",
   "execution_count": 563,
   "metadata": {},
   "outputs": [],
   "source": [
    "KilburnSub = Kilburn[(Kilburn['StatusChange'] == False)  & (Kilburn['TenantChange'] == True) & (Kilburn['status'] == True)]"
   ]
  },
  {
   "cell_type": "code",
   "execution_count": 564,
   "metadata": {},
   "outputs": [],
   "source": [
    "counter = 0 \n",
    "stoppingCondition = len(locations)\n",
    "Kilburn2 = pd.DataFrame(data=None, columns=Kilburn.columns, index=None)\n",
    "\n",
    "while counter < stoppingCondition:\n",
    "        i = locations[counter]\n",
    "        m = Kilburn.loc[i, :].iloc[[ Kilburn.loc[i, :]['status_duration'].argmax()]]\n",
    "        Kilburn2 = Kilburn2.append(m, ignore_index=False)\n",
    "        counter += 1"
   ]
  },
  {
   "cell_type": "code",
   "execution_count": 565,
   "metadata": {},
   "outputs": [],
   "source": [
    "Kilburn3 = KilburnSub.append(Kilburn2)"
   ]
  },
  {
   "cell_type": "code",
   "execution_count": 566,
   "metadata": {},
   "outputs": [],
   "source": [
    "Kilburn3 = Kilburn3.drop_duplicates()"
   ]
  },
  {
   "cell_type": "code",
   "execution_count": 567,
   "metadata": {},
   "outputs": [],
   "source": [
    "Kilburn3.loc[Kilburn3['time-at-open'] < 4018, ['vacant']] = 1"
   ]
  },
  {
   "cell_type": "code",
   "execution_count": 568,
   "metadata": {},
   "outputs": [],
   "source": [
    "Kilburn3['highstreet'] = 'Kilburn'"
   ]
  },
  {
   "cell_type": "code",
   "execution_count": 569,
   "metadata": {},
   "outputs": [],
   "source": [
    "Kilburn3.to_csv('Kilburn-vacant-survival.csv')"
   ]
  },
  {
   "cell_type": "markdown",
   "metadata": {},
   "source": [
    "#### 13. Mill"
   ]
  },
  {
   "cell_type": "code",
   "execution_count": 570,
   "metadata": {},
   "outputs": [],
   "source": [
    "Mill = Mill.sort_values(by= ['status_date'])"
   ]
  },
  {
   "cell_type": "code",
   "execution_count": 571,
   "metadata": {},
   "outputs": [],
   "source": [
    "cols = ['V3', 'V4', 'V5', 'V13', 'V14', 'V15', 'V16', 'V17', 'V19', 'V20', 'V21', 'V26', 'V28', 'V30', 'V36', 'V38', 'V39', 'V48', 'V51', 'V54', 'V55', 'V56', 'V57', \n",
    "        'V58', 'V59', 'V60', 'V64', 'V70', 'V72', 'V77']"
   ]
  },
  {
   "cell_type": "code",
   "execution_count": 572,
   "metadata": {},
   "outputs": [],
   "source": [
    "#deleted those cols columns from the dataset as they only contain nulls\n",
    "\n",
    "Mill = Mill.drop(cols, axis=1)"
   ]
  },
  {
   "cell_type": "code",
   "execution_count": 573,
   "metadata": {},
   "outputs": [],
   "source": [
    "Mill['new_date'] = pd.to_datetime(Mill['status_date'], errors='coerce')"
   ]
  },
  {
   "cell_type": "code",
   "execution_count": 574,
   "metadata": {},
   "outputs": [],
   "source": [
    "Mill = Mill.sort_values(by= ['new_date'])"
   ]
  },
  {
   "cell_type": "code",
   "execution_count": 575,
   "metadata": {},
   "outputs": [
    {
     "name": "stderr",
     "output_type": "stream",
     "text": [
      "/opt/conda/envs/sds2020/lib/python3.7/site-packages/pandas/core/indexing.py:670: SettingWithCopyWarning: \n",
      "A value is trying to be set on a copy of a slice from a DataFrame\n",
      "\n",
      "See the caveats in the documentation: https://pandas.pydata.org/pandas-docs/stable/user_guide/indexing.html#returning-a-view-versus-a-copy\n",
      "  iloc._setitem_with_indexer(indexer, value)\n"
     ]
    }
   ],
   "source": [
    "Mill['new_date'].loc[(Mill['new_date'] < '2010-04-01')] = '2010-04-01'"
   ]
  },
  {
   "cell_type": "code",
   "execution_count": 576,
   "metadata": {},
   "outputs": [],
   "source": [
    "Mill = Mill.sort_values(by= ['location_code', 'period'])"
   ]
  },
  {
   "cell_type": "code",
   "execution_count": 577,
   "metadata": {},
   "outputs": [],
   "source": [
    "Mill['locaton_code'] = Mill['location_code'].astype(\"category\")"
   ]
  },
  {
   "cell_type": "code",
   "execution_count": 578,
   "metadata": {},
   "outputs": [],
   "source": [
    "locations = Mill['location_code'].unique()"
   ]
  },
  {
   "cell_type": "code",
   "execution_count": 579,
   "metadata": {},
   "outputs": [],
   "source": [
    "Mill.loc[Mill['name'].isnull(), 'name'] = Mill['location_code']"
   ]
  },
  {
   "cell_type": "code",
   "execution_count": 580,
   "metadata": {},
   "outputs": [],
   "source": [
    "Mill['status_date'] = pd.to_datetime(Mill['status_date'], errors='coerce')"
   ]
  },
  {
   "cell_type": "code",
   "execution_count": 581,
   "metadata": {},
   "outputs": [],
   "source": [
    "Mill['status_date'].iloc[Mill['status_date'] < '2010-04-01'] = '04/01/2010'"
   ]
  },
  {
   "cell_type": "code",
   "execution_count": 582,
   "metadata": {},
   "outputs": [],
   "source": [
    "Mill['status_date'] = pd.to_datetime(Mill['status_date'], errors='coerce')"
   ]
  },
  {
   "cell_type": "code",
   "execution_count": 583,
   "metadata": {},
   "outputs": [],
   "source": [
    "Mill['period2'] = pd.to_datetime(Mill['period'])"
   ]
  },
  {
   "cell_type": "code",
   "execution_count": 584,
   "metadata": {},
   "outputs": [],
   "source": [
    "Mill['period2'] = Mill['period2'] + pd.DateOffset(months=1)"
   ]
  },
  {
   "cell_type": "code",
   "execution_count": 585,
   "metadata": {},
   "outputs": [],
   "source": [
    "Mill['duration'] = Mill['period2'] - Mill['status_date']"
   ]
  },
  {
   "cell_type": "code",
   "execution_count": 586,
   "metadata": {},
   "outputs": [],
   "source": [
    "Mill['duration'] = Mill['duration'].dt.days"
   ]
  },
  {
   "cell_type": "code",
   "execution_count": 587,
   "metadata": {},
   "outputs": [],
   "source": [
    "Mill['study-start'] = '04/01/2010'"
   ]
  },
  {
   "cell_type": "code",
   "execution_count": 588,
   "metadata": {},
   "outputs": [],
   "source": [
    "Mill['study-start'] = pd.to_datetime(Mill['study-start'], errors='coerce')"
   ]
  },
  {
   "cell_type": "code",
   "execution_count": 589,
   "metadata": {},
   "outputs": [],
   "source": [
    "Mill['time-of-entry'] = Mill['status_date'] -  Mill['study-start']"
   ]
  },
  {
   "cell_type": "code",
   "execution_count": 590,
   "metadata": {},
   "outputs": [],
   "source": [
    "Mill['time-at-open'] = 0"
   ]
  },
  {
   "cell_type": "code",
   "execution_count": 591,
   "metadata": {},
   "outputs": [],
   "source": [
    "Mill['vacant'] = 0"
   ]
  },
  {
   "cell_type": "code",
   "execution_count": 592,
   "metadata": {},
   "outputs": [],
   "source": [
    "Mill = Mill.drop(Mill[(Mill['status'] == False) & (Mill['status_date'] == '2010-04-01')].index)"
   ]
  },
  {
   "cell_type": "code",
   "execution_count": 593,
   "metadata": {},
   "outputs": [],
   "source": [
    "Mill['location_code'] = Mill['location_code'].astype(\"category\")"
   ]
  },
  {
   "cell_type": "code",
   "execution_count": 594,
   "metadata": {},
   "outputs": [],
   "source": [
    "locations = list(Mill['location_code'].unique())"
   ]
  },
  {
   "cell_type": "code",
   "execution_count": 595,
   "metadata": {},
   "outputs": [],
   "source": [
    "Mill = Mill.set_index('location_code')"
   ]
  },
  {
   "cell_type": "code",
   "execution_count": 596,
   "metadata": {},
   "outputs": [],
   "source": [
    "Mill['survival'] = 0"
   ]
  },
  {
   "cell_type": "code",
   "execution_count": 597,
   "metadata": {},
   "outputs": [],
   "source": [
    "Mill['survival'] = Mill['duration']"
   ]
  },
  {
   "cell_type": "code",
   "execution_count": 598,
   "metadata": {},
   "outputs": [],
   "source": [
    "Mill['entry'] = Mill['time-of-entry'].dt.days"
   ]
  },
  {
   "cell_type": "code",
   "execution_count": 599,
   "metadata": {},
   "outputs": [],
   "source": [
    "Mill['time-at-open'] = Mill['survival'] + Mill['entry']"
   ]
  },
  {
   "cell_type": "code",
   "execution_count": 600,
   "metadata": {},
   "outputs": [],
   "source": [
    "Mill['stat'] = Mill['status'].astype(int)"
   ]
  },
  {
   "cell_type": "code",
   "execution_count": 601,
   "metadata": {},
   "outputs": [],
   "source": [
    "Mill[\"StatusChange\"] =  Mill['stat'].shift() != Mill['stat']"
   ]
  },
  {
   "cell_type": "code",
   "execution_count": 602,
   "metadata": {},
   "outputs": [
    {
     "name": "stderr",
     "output_type": "stream",
     "text": [
      "/opt/conda/envs/sds2020/lib/python3.7/site-packages/pandas/core/indexing.py:670: SettingWithCopyWarning: \n",
      "A value is trying to be set on a copy of a slice from a DataFrame\n",
      "\n",
      "See the caveats in the documentation: https://pandas.pydata.org/pandas-docs/stable/user_guide/indexing.html#returning-a-view-versus-a-copy\n",
      "  iloc._setitem_with_indexer(indexer, value)\n"
     ]
    }
   ],
   "source": [
    "Mill[\"StatusChange\"].iloc[0] = False"
   ]
  },
  {
   "cell_type": "code",
   "execution_count": 603,
   "metadata": {},
   "outputs": [],
   "source": [
    "Mill[\"TenantChange\"] =  Mill['name'].shift(-1) != Mill['name'] "
   ]
  },
  {
   "cell_type": "code",
   "execution_count": 604,
   "metadata": {},
   "outputs": [],
   "source": [
    "Mill[\"TenantChange\"].iloc[0] = False"
   ]
  },
  {
   "cell_type": "code",
   "execution_count": 605,
   "metadata": {},
   "outputs": [],
   "source": [
    "MillSub = Mill[(Mill['StatusChange'] == False)  & (Mill['TenantChange'] == True) & (Mill['status'] == True)]"
   ]
  },
  {
   "cell_type": "code",
   "execution_count": 606,
   "metadata": {},
   "outputs": [],
   "source": [
    "counter = 0 \n",
    "stoppingCondition = len(locations)\n",
    "Mill2 = pd.DataFrame(data=None, columns=Mill.columns, index=None)\n",
    "\n",
    "while counter < stoppingCondition:\n",
    "        i = locations[counter]\n",
    "        m = Mill.loc[i, :].iloc[[ Mill.loc[i, :]['status_duration'].argmax()]]\n",
    "        Mill2 = Mill2.append(m, ignore_index=False)\n",
    "        counter += 1"
   ]
  },
  {
   "cell_type": "code",
   "execution_count": 607,
   "metadata": {},
   "outputs": [],
   "source": [
    "Mill3 = MillSub.append(Mill2)"
   ]
  },
  {
   "cell_type": "code",
   "execution_count": 608,
   "metadata": {},
   "outputs": [],
   "source": [
    "Mill3 = Mill3.drop_duplicates()"
   ]
  },
  {
   "cell_type": "code",
   "execution_count": 609,
   "metadata": {},
   "outputs": [],
   "source": [
    "Mill3.loc[Mill3['time-at-open'] < 4018, ['vacant']] = 1"
   ]
  },
  {
   "cell_type": "code",
   "execution_count": 610,
   "metadata": {},
   "outputs": [],
   "source": [
    "Mill3['highstreet'] = 'Mill'"
   ]
  },
  {
   "cell_type": "code",
   "execution_count": 611,
   "metadata": {},
   "outputs": [],
   "source": [
    "Mill3.to_csv('Mill-vacant-survival.csv')"
   ]
  },
  {
   "cell_type": "markdown",
   "metadata": {},
   "source": [
    "#### 14. Fortune"
   ]
  },
  {
   "cell_type": "code",
   "execution_count": 612,
   "metadata": {},
   "outputs": [],
   "source": [
    "Fortune = Fortune.sort_values(by= ['status_date'])"
   ]
  },
  {
   "cell_type": "code",
   "execution_count": 613,
   "metadata": {},
   "outputs": [],
   "source": [
    "cols = ['V3', 'V4', 'V5', 'V13', 'V14', 'V15', 'V16', 'V17', 'V19', 'V20', 'V21', 'V26', 'V28', 'V30', 'V36', 'V38', 'V39', 'V48', 'V51', 'V54', 'V55', 'V56', 'V57', \n",
    "        'V58', 'V59', 'V60', 'V64', 'V70', 'V72', 'V77']"
   ]
  },
  {
   "cell_type": "code",
   "execution_count": 614,
   "metadata": {},
   "outputs": [],
   "source": [
    "#deleted those cols columns from the dataset as they only contain nulls\n",
    "\n",
    "Fortune = Fortune.drop(cols, axis=1)"
   ]
  },
  {
   "cell_type": "code",
   "execution_count": 615,
   "metadata": {},
   "outputs": [],
   "source": [
    "Fortune['new_date'] = pd.to_datetime(Fortune['status_date'], errors='coerce')"
   ]
  },
  {
   "cell_type": "code",
   "execution_count": 616,
   "metadata": {},
   "outputs": [],
   "source": [
    "Fortune = Fortune.sort_values(by= ['new_date'])"
   ]
  },
  {
   "cell_type": "code",
   "execution_count": 617,
   "metadata": {},
   "outputs": [
    {
     "name": "stderr",
     "output_type": "stream",
     "text": [
      "/opt/conda/envs/sds2020/lib/python3.7/site-packages/pandas/core/indexing.py:670: SettingWithCopyWarning: \n",
      "A value is trying to be set on a copy of a slice from a DataFrame\n",
      "\n",
      "See the caveats in the documentation: https://pandas.pydata.org/pandas-docs/stable/user_guide/indexing.html#returning-a-view-versus-a-copy\n",
      "  iloc._setitem_with_indexer(indexer, value)\n"
     ]
    }
   ],
   "source": [
    "Fortune['new_date'].loc[(Fortune['new_date'] < '2010-04-01')] = '2010-04-01'"
   ]
  },
  {
   "cell_type": "code",
   "execution_count": 618,
   "metadata": {},
   "outputs": [],
   "source": [
    "Fortune = Fortune.sort_values(by= ['location_code', 'period'])"
   ]
  },
  {
   "cell_type": "code",
   "execution_count": 619,
   "metadata": {},
   "outputs": [],
   "source": [
    "Fortune['locaton_code'] = Fortune['location_code'].astype(\"category\")"
   ]
  },
  {
   "cell_type": "code",
   "execution_count": 620,
   "metadata": {},
   "outputs": [],
   "source": [
    "locations = Fortune['location_code'].unique()"
   ]
  },
  {
   "cell_type": "code",
   "execution_count": 621,
   "metadata": {},
   "outputs": [],
   "source": [
    "Fortune.loc[Fortune['name'].isnull(), 'name'] = Fortune['location_code']"
   ]
  },
  {
   "cell_type": "code",
   "execution_count": 622,
   "metadata": {},
   "outputs": [],
   "source": [
    "Fortune['status_date'] = pd.to_datetime(Fortune['status_date'], errors='coerce')"
   ]
  },
  {
   "cell_type": "code",
   "execution_count": 623,
   "metadata": {},
   "outputs": [],
   "source": [
    "Fortune['status_date'].iloc[Fortune['status_date'] < '2010-04-01'] = '04/01/2010'"
   ]
  },
  {
   "cell_type": "code",
   "execution_count": 624,
   "metadata": {},
   "outputs": [],
   "source": [
    "Fortune['status_date'] = pd.to_datetime(Fortune['status_date'], errors='coerce')"
   ]
  },
  {
   "cell_type": "code",
   "execution_count": 625,
   "metadata": {},
   "outputs": [],
   "source": [
    "Fortune['period2'] = pd.to_datetime(Fortune['period'])"
   ]
  },
  {
   "cell_type": "code",
   "execution_count": 626,
   "metadata": {},
   "outputs": [],
   "source": [
    "Fortune['period2'] = Fortune['period2'] + pd.DateOffset(months=1)"
   ]
  },
  {
   "cell_type": "code",
   "execution_count": 627,
   "metadata": {},
   "outputs": [],
   "source": [
    "Fortune['duration'] = Fortune['period2'] - Fortune['status_date']"
   ]
  },
  {
   "cell_type": "code",
   "execution_count": 628,
   "metadata": {},
   "outputs": [],
   "source": [
    "Fortune['duration'] = Fortune['duration'].dt.days"
   ]
  },
  {
   "cell_type": "code",
   "execution_count": 629,
   "metadata": {},
   "outputs": [],
   "source": [
    "Fortune['study-start'] = '04/01/2010'"
   ]
  },
  {
   "cell_type": "code",
   "execution_count": 630,
   "metadata": {},
   "outputs": [],
   "source": [
    "Fortune['study-start'] = pd.to_datetime(Fortune['study-start'], errors='coerce')"
   ]
  },
  {
   "cell_type": "code",
   "execution_count": 631,
   "metadata": {},
   "outputs": [],
   "source": [
    "Fortune['time-of-entry'] = Fortune['status_date'] -  Fortune['study-start']"
   ]
  },
  {
   "cell_type": "code",
   "execution_count": 632,
   "metadata": {},
   "outputs": [],
   "source": [
    "Fortune['time-at-open'] = 0"
   ]
  },
  {
   "cell_type": "code",
   "execution_count": 633,
   "metadata": {},
   "outputs": [],
   "source": [
    "Fortune['vacant'] = 0"
   ]
  },
  {
   "cell_type": "code",
   "execution_count": 634,
   "metadata": {},
   "outputs": [],
   "source": [
    "Fortune = Fortune.drop(Fortune[(Fortune['status'] == False) & (Fortune['status_date'] == '2010-04-01')].index)"
   ]
  },
  {
   "cell_type": "code",
   "execution_count": 635,
   "metadata": {},
   "outputs": [],
   "source": [
    "Fortune['location_code'] = Fortune['location_code'].astype(\"category\")"
   ]
  },
  {
   "cell_type": "code",
   "execution_count": 636,
   "metadata": {},
   "outputs": [],
   "source": [
    "locations = list(Fortune['location_code'].unique())"
   ]
  },
  {
   "cell_type": "code",
   "execution_count": 637,
   "metadata": {},
   "outputs": [],
   "source": [
    "Fortune = Fortune.set_index('location_code')"
   ]
  },
  {
   "cell_type": "code",
   "execution_count": 638,
   "metadata": {},
   "outputs": [],
   "source": [
    "Fortune['survival'] = 0"
   ]
  },
  {
   "cell_type": "code",
   "execution_count": 639,
   "metadata": {},
   "outputs": [],
   "source": [
    "Fortune['survival'] = Fortune['duration']"
   ]
  },
  {
   "cell_type": "code",
   "execution_count": 640,
   "metadata": {},
   "outputs": [],
   "source": [
    "Fortune['entry'] = Fortune['time-of-entry'].dt.days"
   ]
  },
  {
   "cell_type": "code",
   "execution_count": 641,
   "metadata": {},
   "outputs": [],
   "source": [
    "Fortune['time-at-open'] = Fortune['survival'] + Fortune['entry']"
   ]
  },
  {
   "cell_type": "code",
   "execution_count": 642,
   "metadata": {},
   "outputs": [],
   "source": [
    "Fortune['stat'] = Fortune['status'].astype(int)"
   ]
  },
  {
   "cell_type": "code",
   "execution_count": 643,
   "metadata": {},
   "outputs": [],
   "source": [
    "Fortune[\"StatusChange\"] =  Fortune['stat'].shift() != Fortune['stat']"
   ]
  },
  {
   "cell_type": "code",
   "execution_count": 644,
   "metadata": {},
   "outputs": [
    {
     "name": "stderr",
     "output_type": "stream",
     "text": [
      "/opt/conda/envs/sds2020/lib/python3.7/site-packages/pandas/core/indexing.py:670: SettingWithCopyWarning: \n",
      "A value is trying to be set on a copy of a slice from a DataFrame\n",
      "\n",
      "See the caveats in the documentation: https://pandas.pydata.org/pandas-docs/stable/user_guide/indexing.html#returning-a-view-versus-a-copy\n",
      "  iloc._setitem_with_indexer(indexer, value)\n"
     ]
    }
   ],
   "source": [
    "Fortune[\"StatusChange\"].iloc[0] = False"
   ]
  },
  {
   "cell_type": "code",
   "execution_count": 645,
   "metadata": {},
   "outputs": [],
   "source": [
    "Fortune[\"TenantChange\"] =  Fortune['name'].shift(-1) != Fortune['name'] "
   ]
  },
  {
   "cell_type": "code",
   "execution_count": 646,
   "metadata": {},
   "outputs": [],
   "source": [
    "Fortune[\"TenantChange\"].iloc[0] = False"
   ]
  },
  {
   "cell_type": "code",
   "execution_count": 647,
   "metadata": {},
   "outputs": [],
   "source": [
    "FortuneSub = Fortune[(Fortune['StatusChange'] == False)  & (Fortune['TenantChange'] == True) & (Fortune['status'] == True)]"
   ]
  },
  {
   "cell_type": "code",
   "execution_count": 648,
   "metadata": {},
   "outputs": [],
   "source": [
    "counter = 0 \n",
    "stoppingCondition = len(locations)\n",
    "Fortune2 = pd.DataFrame(data=None, columns=Fortune.columns, index=None)\n",
    "\n",
    "while counter < stoppingCondition:\n",
    "        i = locations[counter]\n",
    "        m = Fortune.loc[i, :].iloc[[ Fortune.loc[i, :]['status_duration'].argmax()]]\n",
    "        Fortune2 = Fortune2.append(m, ignore_index=False)\n",
    "        counter += 1"
   ]
  },
  {
   "cell_type": "code",
   "execution_count": 649,
   "metadata": {},
   "outputs": [],
   "source": [
    "Fortune3 = FortuneSub.append(Fortune2)"
   ]
  },
  {
   "cell_type": "code",
   "execution_count": 650,
   "metadata": {},
   "outputs": [],
   "source": [
    "Fortune3 = Fortune3.drop_duplicates()"
   ]
  },
  {
   "cell_type": "code",
   "execution_count": 651,
   "metadata": {},
   "outputs": [],
   "source": [
    "Fortune3.loc[Fortune3['time-at-open'] < 4018, ['vacant']] = 1"
   ]
  },
  {
   "cell_type": "code",
   "execution_count": 652,
   "metadata": {},
   "outputs": [],
   "source": [
    "Fortune3['highstreet'] = 'Fortune'"
   ]
  },
  {
   "cell_type": "code",
   "execution_count": 653,
   "metadata": {},
   "outputs": [],
   "source": [
    "Fortune3.to_csv('Fortune-vacant-survival.csv')"
   ]
  },
  {
   "cell_type": "markdown",
   "metadata": {},
   "source": [
    "#### 15. Willesden"
   ]
  },
  {
   "cell_type": "code",
   "execution_count": 654,
   "metadata": {},
   "outputs": [],
   "source": [
    "Willesden = Willesden.sort_values(by= ['status_date'])"
   ]
  },
  {
   "cell_type": "code",
   "execution_count": 655,
   "metadata": {},
   "outputs": [],
   "source": [
    "cols = ['V3', 'V4', 'V5', 'V13', 'V14', 'V15', 'V16', 'V17', 'V19', 'V20', 'V21', 'V26', 'V28', 'V30', 'V36', 'V38', 'V39', 'V48', 'V51', 'V54', 'V55', 'V56', 'V57', \n",
    "        'V58', 'V59', 'V60', 'V64', 'V70', 'V72', 'V77']"
   ]
  },
  {
   "cell_type": "code",
   "execution_count": 656,
   "metadata": {},
   "outputs": [],
   "source": [
    "#deleted those cols columns from the dataset as they only contain nulls\n",
    "\n",
    "Willesden = Willesden.drop(cols, axis=1)"
   ]
  },
  {
   "cell_type": "code",
   "execution_count": 657,
   "metadata": {},
   "outputs": [],
   "source": [
    "Willesden['new_date'] = pd.to_datetime(Willesden['status_date'], errors='coerce')"
   ]
  },
  {
   "cell_type": "code",
   "execution_count": 658,
   "metadata": {},
   "outputs": [],
   "source": [
    "Willesden = Willesden.sort_values(by= ['new_date'])"
   ]
  },
  {
   "cell_type": "code",
   "execution_count": 659,
   "metadata": {},
   "outputs": [
    {
     "name": "stderr",
     "output_type": "stream",
     "text": [
      "/opt/conda/envs/sds2020/lib/python3.7/site-packages/pandas/core/indexing.py:670: SettingWithCopyWarning: \n",
      "A value is trying to be set on a copy of a slice from a DataFrame\n",
      "\n",
      "See the caveats in the documentation: https://pandas.pydata.org/pandas-docs/stable/user_guide/indexing.html#returning-a-view-versus-a-copy\n",
      "  iloc._setitem_with_indexer(indexer, value)\n"
     ]
    }
   ],
   "source": [
    "Willesden['new_date'].loc[(Willesden['new_date'] < '2010-04-01')] = '2010-04-01'"
   ]
  },
  {
   "cell_type": "code",
   "execution_count": 660,
   "metadata": {},
   "outputs": [],
   "source": [
    "Willesden = Willesden.sort_values(by= ['location_code', 'period'])"
   ]
  },
  {
   "cell_type": "code",
   "execution_count": 661,
   "metadata": {},
   "outputs": [],
   "source": [
    "Willesden['locaton_code'] = Willesden['location_code'].astype(\"category\")"
   ]
  },
  {
   "cell_type": "code",
   "execution_count": 662,
   "metadata": {},
   "outputs": [],
   "source": [
    "locations = Willesden['location_code'].unique()"
   ]
  },
  {
   "cell_type": "code",
   "execution_count": 663,
   "metadata": {},
   "outputs": [],
   "source": [
    "Willesden.loc[Willesden['name'].isnull(), 'name'] = Willesden['location_code']"
   ]
  },
  {
   "cell_type": "code",
   "execution_count": 664,
   "metadata": {},
   "outputs": [],
   "source": [
    "Willesden['status_date'] = pd.to_datetime(Willesden['status_date'], errors='coerce')"
   ]
  },
  {
   "cell_type": "code",
   "execution_count": 665,
   "metadata": {},
   "outputs": [],
   "source": [
    "Willesden['status_date'].iloc[Willesden['status_date'] < '2010-04-01'] = '04/01/2010'"
   ]
  },
  {
   "cell_type": "code",
   "execution_count": 666,
   "metadata": {},
   "outputs": [],
   "source": [
    "Willesden['status_date'] = pd.to_datetime(Willesden['status_date'], errors='coerce')"
   ]
  },
  {
   "cell_type": "code",
   "execution_count": 667,
   "metadata": {},
   "outputs": [],
   "source": [
    "Willesden['period2'] = pd.to_datetime(Willesden['period'])"
   ]
  },
  {
   "cell_type": "code",
   "execution_count": 668,
   "metadata": {},
   "outputs": [],
   "source": [
    "Willesden['period2'] = Willesden['period2'] + pd.DateOffset(months=1)"
   ]
  },
  {
   "cell_type": "code",
   "execution_count": 669,
   "metadata": {},
   "outputs": [],
   "source": [
    "Willesden['duration'] = Willesden['period2'] - Willesden['status_date']"
   ]
  },
  {
   "cell_type": "code",
   "execution_count": 670,
   "metadata": {},
   "outputs": [],
   "source": [
    "Willesden['duration'] = Willesden['duration'].dt.days"
   ]
  },
  {
   "cell_type": "code",
   "execution_count": 671,
   "metadata": {},
   "outputs": [],
   "source": [
    "Willesden['study-start'] = '04/01/2010'"
   ]
  },
  {
   "cell_type": "code",
   "execution_count": 672,
   "metadata": {},
   "outputs": [],
   "source": [
    "Willesden['study-start'] = pd.to_datetime(Willesden['study-start'], errors='coerce')"
   ]
  },
  {
   "cell_type": "code",
   "execution_count": 673,
   "metadata": {},
   "outputs": [],
   "source": [
    "Willesden['time-of-entry'] = Willesden['status_date'] -  Willesden['study-start']"
   ]
  },
  {
   "cell_type": "code",
   "execution_count": 674,
   "metadata": {},
   "outputs": [],
   "source": [
    "Willesden['time-at-open'] = 0"
   ]
  },
  {
   "cell_type": "code",
   "execution_count": 675,
   "metadata": {},
   "outputs": [],
   "source": [
    "Willesden['vacant'] = 0"
   ]
  },
  {
   "cell_type": "code",
   "execution_count": 676,
   "metadata": {},
   "outputs": [],
   "source": [
    "Willesden = Willesden.drop(Willesden[(Willesden['status'] == False) & (Willesden['status_date'] == '2010-04-01')].index)"
   ]
  },
  {
   "cell_type": "code",
   "execution_count": 677,
   "metadata": {},
   "outputs": [],
   "source": [
    "Willesden['location_code'] = Willesden['location_code'].astype(\"category\")"
   ]
  },
  {
   "cell_type": "code",
   "execution_count": 678,
   "metadata": {},
   "outputs": [],
   "source": [
    "locations = list(Willesden['location_code'].unique())"
   ]
  },
  {
   "cell_type": "code",
   "execution_count": 679,
   "metadata": {},
   "outputs": [],
   "source": [
    "Willesden = Willesden.set_index('location_code')"
   ]
  },
  {
   "cell_type": "code",
   "execution_count": 680,
   "metadata": {},
   "outputs": [],
   "source": [
    "Willesden['survival'] = 0"
   ]
  },
  {
   "cell_type": "code",
   "execution_count": 681,
   "metadata": {},
   "outputs": [],
   "source": [
    "Willesden['survival'] = Willesden['duration']"
   ]
  },
  {
   "cell_type": "code",
   "execution_count": 682,
   "metadata": {},
   "outputs": [],
   "source": [
    "Willesden['entry'] = Willesden['time-of-entry'].dt.days"
   ]
  },
  {
   "cell_type": "code",
   "execution_count": 683,
   "metadata": {},
   "outputs": [],
   "source": [
    "Willesden['time-at-open'] = Willesden['survival'] + Willesden['entry']"
   ]
  },
  {
   "cell_type": "code",
   "execution_count": 684,
   "metadata": {},
   "outputs": [],
   "source": [
    "Willesden['stat'] = Willesden['status'].astype(int)"
   ]
  },
  {
   "cell_type": "code",
   "execution_count": 685,
   "metadata": {},
   "outputs": [],
   "source": [
    "Willesden[\"StatusChange\"] =  Willesden['stat'].shift() != Willesden['stat']"
   ]
  },
  {
   "cell_type": "code",
   "execution_count": 686,
   "metadata": {},
   "outputs": [
    {
     "name": "stderr",
     "output_type": "stream",
     "text": [
      "/opt/conda/envs/sds2020/lib/python3.7/site-packages/pandas/core/indexing.py:670: SettingWithCopyWarning: \n",
      "A value is trying to be set on a copy of a slice from a DataFrame\n",
      "\n",
      "See the caveats in the documentation: https://pandas.pydata.org/pandas-docs/stable/user_guide/indexing.html#returning-a-view-versus-a-copy\n",
      "  iloc._setitem_with_indexer(indexer, value)\n"
     ]
    }
   ],
   "source": [
    "Willesden[\"StatusChange\"].iloc[0] = False"
   ]
  },
  {
   "cell_type": "code",
   "execution_count": 687,
   "metadata": {},
   "outputs": [],
   "source": [
    "Willesden[\"TenantChange\"] =  Willesden['name'].shift(-1) != Willesden['name'] "
   ]
  },
  {
   "cell_type": "code",
   "execution_count": 688,
   "metadata": {},
   "outputs": [],
   "source": [
    "Willesden[\"TenantChange\"].iloc[0] = False"
   ]
  },
  {
   "cell_type": "code",
   "execution_count": 689,
   "metadata": {},
   "outputs": [],
   "source": [
    "WillesdenSub = Willesden[(Willesden['StatusChange'] == False)  & (Willesden['TenantChange'] == True) & (Willesden['status'] == True)]"
   ]
  },
  {
   "cell_type": "code",
   "execution_count": 690,
   "metadata": {},
   "outputs": [],
   "source": [
    "counter = 0 \n",
    "stoppingCondition = len(locations)\n",
    "Willesden2 = pd.DataFrame(data=None, columns=Willesden.columns, index=None)\n",
    "\n",
    "while counter < stoppingCondition:\n",
    "        i = locations[counter]\n",
    "        m = Willesden.loc[i, :].iloc[[ Willesden.loc[i, :]['status_duration'].argmax()]]\n",
    "        Willesden2 = Willesden2.append(m, ignore_index=False)\n",
    "        counter += 1"
   ]
  },
  {
   "cell_type": "code",
   "execution_count": 691,
   "metadata": {},
   "outputs": [],
   "source": [
    "Willesden3 = WillesdenSub.append(Willesden2)"
   ]
  },
  {
   "cell_type": "code",
   "execution_count": 692,
   "metadata": {},
   "outputs": [],
   "source": [
    "Willesden3 = Willesden3.drop_duplicates()"
   ]
  },
  {
   "cell_type": "code",
   "execution_count": 693,
   "metadata": {},
   "outputs": [],
   "source": [
    "Willesden3.loc[Willesden3['time-at-open'] < 4018, ['vacant']] = 1"
   ]
  },
  {
   "cell_type": "code",
   "execution_count": 694,
   "metadata": {},
   "outputs": [],
   "source": [
    "Willesden3['highstreet'] = 'Willesden'"
   ]
  },
  {
   "cell_type": "code",
   "execution_count": 695,
   "metadata": {},
   "outputs": [],
   "source": [
    "Willesden3.to_csv('Willesden-vacant-survival.csv')"
   ]
  },
  {
   "cell_type": "markdown",
   "metadata": {},
   "source": [
    "#### 16. Mansfield"
   ]
  },
  {
   "cell_type": "code",
   "execution_count": 696,
   "metadata": {},
   "outputs": [],
   "source": [
    "Mansfield = Mansfield.sort_values(by= ['status_date'])"
   ]
  },
  {
   "cell_type": "code",
   "execution_count": 697,
   "metadata": {},
   "outputs": [],
   "source": [
    "cols = ['V3', 'V4', 'V5', 'V13', 'V14', 'V15', 'V16', 'V17', 'V19', 'V20', 'V21', 'V26', 'V28', 'V30', 'V36', 'V38', 'V39', 'V48', 'V51', 'V54', 'V55', 'V56', 'V57', \n",
    "        'V58', 'V59', 'V60', 'V64', 'V70', 'V72', 'V77']"
   ]
  },
  {
   "cell_type": "code",
   "execution_count": 698,
   "metadata": {},
   "outputs": [],
   "source": [
    "#deleted those cols columns from the dataset as they only contain nulls\n",
    "\n",
    "Mansfield = Mansfield.drop(cols, axis=1)"
   ]
  },
  {
   "cell_type": "code",
   "execution_count": 699,
   "metadata": {},
   "outputs": [],
   "source": [
    "Mansfield['new_date'] = pd.to_datetime(Mansfield['status_date'], errors='coerce')"
   ]
  },
  {
   "cell_type": "code",
   "execution_count": 700,
   "metadata": {},
   "outputs": [],
   "source": [
    "Mansfield = Mansfield.sort_values(by= ['new_date'])"
   ]
  },
  {
   "cell_type": "code",
   "execution_count": 701,
   "metadata": {},
   "outputs": [
    {
     "name": "stderr",
     "output_type": "stream",
     "text": [
      "/opt/conda/envs/sds2020/lib/python3.7/site-packages/pandas/core/indexing.py:670: SettingWithCopyWarning: \n",
      "A value is trying to be set on a copy of a slice from a DataFrame\n",
      "\n",
      "See the caveats in the documentation: https://pandas.pydata.org/pandas-docs/stable/user_guide/indexing.html#returning-a-view-versus-a-copy\n",
      "  iloc._setitem_with_indexer(indexer, value)\n"
     ]
    }
   ],
   "source": [
    "Mansfield['new_date'].loc[(Mansfield['new_date'] < '2010-04-01')] = '2010-04-01'"
   ]
  },
  {
   "cell_type": "code",
   "execution_count": 702,
   "metadata": {},
   "outputs": [],
   "source": [
    "Mansfield = Mansfield.sort_values(by= ['location_code', 'period'])"
   ]
  },
  {
   "cell_type": "code",
   "execution_count": 703,
   "metadata": {},
   "outputs": [],
   "source": [
    "Mansfield['locaton_code'] = Mansfield['location_code'].astype(\"category\")"
   ]
  },
  {
   "cell_type": "code",
   "execution_count": 704,
   "metadata": {},
   "outputs": [],
   "source": [
    "locations = Mansfield['location_code'].unique()"
   ]
  },
  {
   "cell_type": "code",
   "execution_count": 705,
   "metadata": {},
   "outputs": [],
   "source": [
    "Mansfield.loc[Mansfield['name'].isnull(), 'name'] = Mansfield['location_code']"
   ]
  },
  {
   "cell_type": "code",
   "execution_count": 706,
   "metadata": {},
   "outputs": [],
   "source": [
    "Mansfield['status_date'] = pd.to_datetime(Mansfield['status_date'], errors='coerce')"
   ]
  },
  {
   "cell_type": "code",
   "execution_count": 707,
   "metadata": {},
   "outputs": [],
   "source": [
    "Mansfield['status_date'].iloc[Mansfield['status_date'] < '2010-04-01'] = '04/01/2010'"
   ]
  },
  {
   "cell_type": "code",
   "execution_count": 708,
   "metadata": {},
   "outputs": [],
   "source": [
    "Mansfield['status_date'] = pd.to_datetime(Mansfield['status_date'], errors='coerce')"
   ]
  },
  {
   "cell_type": "code",
   "execution_count": 709,
   "metadata": {},
   "outputs": [],
   "source": [
    "Mansfield['period2'] = pd.to_datetime(Mansfield['period'])"
   ]
  },
  {
   "cell_type": "code",
   "execution_count": 710,
   "metadata": {},
   "outputs": [],
   "source": [
    "Mansfield['period2'] = Mansfield['period2'] + pd.DateOffset(months=1)"
   ]
  },
  {
   "cell_type": "code",
   "execution_count": 711,
   "metadata": {},
   "outputs": [],
   "source": [
    "Mansfield['duration'] = Mansfield['period2'] - Mansfield['status_date']"
   ]
  },
  {
   "cell_type": "code",
   "execution_count": 712,
   "metadata": {},
   "outputs": [],
   "source": [
    "Mansfield['duration'] = Mansfield['duration'].dt.days"
   ]
  },
  {
   "cell_type": "code",
   "execution_count": 713,
   "metadata": {},
   "outputs": [],
   "source": [
    "Mansfield['study-start'] = '04/01/2010'"
   ]
  },
  {
   "cell_type": "code",
   "execution_count": 714,
   "metadata": {},
   "outputs": [],
   "source": [
    "Mansfield['study-start'] = pd.to_datetime(Mansfield['study-start'], errors='coerce')"
   ]
  },
  {
   "cell_type": "code",
   "execution_count": 715,
   "metadata": {},
   "outputs": [],
   "source": [
    "Mansfield['time-of-entry'] = Mansfield['status_date'] -  Mansfield['study-start']"
   ]
  },
  {
   "cell_type": "code",
   "execution_count": 716,
   "metadata": {},
   "outputs": [],
   "source": [
    "Mansfield['time-at-open'] = 0"
   ]
  },
  {
   "cell_type": "code",
   "execution_count": 717,
   "metadata": {},
   "outputs": [],
   "source": [
    "Mansfield['vacant'] = 0"
   ]
  },
  {
   "cell_type": "code",
   "execution_count": 718,
   "metadata": {},
   "outputs": [],
   "source": [
    "Mansfield = Mansfield.drop(Mansfield[(Mansfield['status'] == False) & (Mansfield['status_date'] == '2010-04-01')].index)"
   ]
  },
  {
   "cell_type": "code",
   "execution_count": 719,
   "metadata": {},
   "outputs": [],
   "source": [
    "Mansfield['location_code'] = Mansfield['location_code'].astype(\"category\")"
   ]
  },
  {
   "cell_type": "code",
   "execution_count": 720,
   "metadata": {},
   "outputs": [],
   "source": [
    "locations = list(Mansfield['location_code'].unique())"
   ]
  },
  {
   "cell_type": "code",
   "execution_count": 721,
   "metadata": {},
   "outputs": [],
   "source": [
    "Mansfield = Mansfield.set_index('location_code')"
   ]
  },
  {
   "cell_type": "code",
   "execution_count": 722,
   "metadata": {},
   "outputs": [],
   "source": [
    "Mansfield['survival'] = 0"
   ]
  },
  {
   "cell_type": "code",
   "execution_count": 723,
   "metadata": {},
   "outputs": [],
   "source": [
    "Mansfield['survival'] = Mansfield['duration']"
   ]
  },
  {
   "cell_type": "code",
   "execution_count": 724,
   "metadata": {},
   "outputs": [],
   "source": [
    "Mansfield['entry'] = Mansfield['time-of-entry'].dt.days"
   ]
  },
  {
   "cell_type": "code",
   "execution_count": 725,
   "metadata": {},
   "outputs": [],
   "source": [
    "Mansfield['time-at-open'] = Mansfield['survival'] + Mansfield['entry']"
   ]
  },
  {
   "cell_type": "code",
   "execution_count": 726,
   "metadata": {},
   "outputs": [],
   "source": [
    "Mansfield['stat'] = Mansfield['status'].astype(int)"
   ]
  },
  {
   "cell_type": "code",
   "execution_count": 727,
   "metadata": {},
   "outputs": [],
   "source": [
    "Mansfield[\"StatusChange\"] =  Mansfield['stat'].shift() != Mansfield['stat']"
   ]
  },
  {
   "cell_type": "code",
   "execution_count": 728,
   "metadata": {},
   "outputs": [
    {
     "name": "stderr",
     "output_type": "stream",
     "text": [
      "/opt/conda/envs/sds2020/lib/python3.7/site-packages/pandas/core/indexing.py:670: SettingWithCopyWarning: \n",
      "A value is trying to be set on a copy of a slice from a DataFrame\n",
      "\n",
      "See the caveats in the documentation: https://pandas.pydata.org/pandas-docs/stable/user_guide/indexing.html#returning-a-view-versus-a-copy\n",
      "  iloc._setitem_with_indexer(indexer, value)\n"
     ]
    }
   ],
   "source": [
    "Mansfield[\"StatusChange\"].iloc[0] = False"
   ]
  },
  {
   "cell_type": "code",
   "execution_count": 729,
   "metadata": {},
   "outputs": [],
   "source": [
    "Mansfield[\"TenantChange\"] =  Mansfield['name'].shift(-1) != Mansfield['name'] "
   ]
  },
  {
   "cell_type": "code",
   "execution_count": 730,
   "metadata": {},
   "outputs": [],
   "source": [
    "Mansfield[\"TenantChange\"].iloc[0] = False"
   ]
  },
  {
   "cell_type": "code",
   "execution_count": 731,
   "metadata": {},
   "outputs": [],
   "source": [
    "MansfieldSub = Mansfield[(Mansfield['StatusChange'] == False)  & (Mansfield['TenantChange'] == True) & (Mansfield['status'] == True)]"
   ]
  },
  {
   "cell_type": "code",
   "execution_count": 732,
   "metadata": {},
   "outputs": [],
   "source": [
    "counter = 0 \n",
    "stoppingCondition = len(locations)\n",
    "Mansfield2 = pd.DataFrame(data=None, columns=Mansfield.columns, index=None)\n",
    "\n",
    "while counter < stoppingCondition:\n",
    "        i = locations[counter]\n",
    "        m = Mansfield.loc[i, :].iloc[[ Mansfield.loc[i, :]['status_duration'].argmax()]]\n",
    "        Mansfield2 = Mansfield2.append(m, ignore_index=False)\n",
    "        counter += 1"
   ]
  },
  {
   "cell_type": "code",
   "execution_count": 733,
   "metadata": {},
   "outputs": [],
   "source": [
    "Mansfield3 = MansfieldSub.append(Mansfield2)"
   ]
  },
  {
   "cell_type": "code",
   "execution_count": 734,
   "metadata": {},
   "outputs": [],
   "source": [
    "Mansfield3 = Mansfield3.drop_duplicates()"
   ]
  },
  {
   "cell_type": "code",
   "execution_count": 735,
   "metadata": {},
   "outputs": [],
   "source": [
    "Mansfield3.loc[Mansfield3['time-at-open'] < 4018, ['vacant']] = 1"
   ]
  },
  {
   "cell_type": "code",
   "execution_count": 736,
   "metadata": {},
   "outputs": [],
   "source": [
    "Mansfield3['highstreet'] = 'Mansfield'"
   ]
  },
  {
   "cell_type": "code",
   "execution_count": 737,
   "metadata": {},
   "outputs": [],
   "source": [
    "Mansfield3.to_csv('Mansfield-vacant-survival.csv')"
   ]
  },
  {
   "cell_type": "markdown",
   "metadata": {},
   "source": [
    "#### 17. WestEnd"
   ]
  },
  {
   "cell_type": "code",
   "execution_count": 738,
   "metadata": {},
   "outputs": [],
   "source": [
    "WestEnd = WestEnd.sort_values(by= ['status_date'])"
   ]
  },
  {
   "cell_type": "code",
   "execution_count": 739,
   "metadata": {},
   "outputs": [],
   "source": [
    "cols = ['V3', 'V4', 'V5', 'V13', 'V14', 'V15', 'V16', 'V17', 'V19', 'V20', 'V21', 'V26', 'V28', 'V30', 'V36', 'V38', 'V39', 'V48', 'V51', 'V54', 'V55', 'V56', 'V57', \n",
    "        'V58', 'V59', 'V60', 'V64', 'V70', 'V72', 'V77']"
   ]
  },
  {
   "cell_type": "code",
   "execution_count": 740,
   "metadata": {},
   "outputs": [],
   "source": [
    "#deleted those cols columns from the dataset as they only contain nulls\n",
    "\n",
    "WestEnd = WestEnd.drop(cols, axis=1)"
   ]
  },
  {
   "cell_type": "code",
   "execution_count": 741,
   "metadata": {},
   "outputs": [],
   "source": [
    "WestEnd['new_date'] = pd.to_datetime(WestEnd['status_date'], errors='coerce')"
   ]
  },
  {
   "cell_type": "code",
   "execution_count": 742,
   "metadata": {},
   "outputs": [],
   "source": [
    "WestEnd = WestEnd.sort_values(by= ['new_date'])"
   ]
  },
  {
   "cell_type": "code",
   "execution_count": 743,
   "metadata": {},
   "outputs": [
    {
     "name": "stderr",
     "output_type": "stream",
     "text": [
      "/opt/conda/envs/sds2020/lib/python3.7/site-packages/pandas/core/indexing.py:670: SettingWithCopyWarning: \n",
      "A value is trying to be set on a copy of a slice from a DataFrame\n",
      "\n",
      "See the caveats in the documentation: https://pandas.pydata.org/pandas-docs/stable/user_guide/indexing.html#returning-a-view-versus-a-copy\n",
      "  iloc._setitem_with_indexer(indexer, value)\n"
     ]
    }
   ],
   "source": [
    "WestEnd['new_date'].loc[(WestEnd['new_date'] < '2010-04-01')] = '2010-04-01'"
   ]
  },
  {
   "cell_type": "code",
   "execution_count": 744,
   "metadata": {},
   "outputs": [],
   "source": [
    "WestEnd = WestEnd.sort_values(by= ['location_code', 'period'])"
   ]
  },
  {
   "cell_type": "code",
   "execution_count": 745,
   "metadata": {},
   "outputs": [],
   "source": [
    "WestEnd['locaton_code'] = WestEnd['location_code'].astype(\"category\")"
   ]
  },
  {
   "cell_type": "code",
   "execution_count": 746,
   "metadata": {},
   "outputs": [],
   "source": [
    "locations = WestEnd['location_code'].unique()"
   ]
  },
  {
   "cell_type": "code",
   "execution_count": 747,
   "metadata": {},
   "outputs": [],
   "source": [
    "WestEnd.loc[WestEnd['name'].isnull(), 'name'] = WestEnd['location_code']"
   ]
  },
  {
   "cell_type": "code",
   "execution_count": 748,
   "metadata": {},
   "outputs": [],
   "source": [
    "WestEnd['status_date'] = pd.to_datetime(WestEnd['status_date'], errors='coerce')"
   ]
  },
  {
   "cell_type": "code",
   "execution_count": 749,
   "metadata": {},
   "outputs": [],
   "source": [
    "WestEnd['status_date'].iloc[WestEnd['status_date'] < '2010-04-01'] = '04/01/2010'"
   ]
  },
  {
   "cell_type": "code",
   "execution_count": 750,
   "metadata": {},
   "outputs": [],
   "source": [
    "WestEnd['status_date'] = pd.to_datetime(WestEnd['status_date'], errors='coerce')"
   ]
  },
  {
   "cell_type": "code",
   "execution_count": 751,
   "metadata": {},
   "outputs": [],
   "source": [
    "WestEnd['period2'] = pd.to_datetime(WestEnd['period'])"
   ]
  },
  {
   "cell_type": "code",
   "execution_count": 752,
   "metadata": {},
   "outputs": [],
   "source": [
    "WestEnd['period2'] = WestEnd['period2'] + pd.DateOffset(months=1)"
   ]
  },
  {
   "cell_type": "code",
   "execution_count": 753,
   "metadata": {},
   "outputs": [],
   "source": [
    "WestEnd['duration'] = WestEnd['period2'] - WestEnd['status_date']"
   ]
  },
  {
   "cell_type": "code",
   "execution_count": 754,
   "metadata": {},
   "outputs": [],
   "source": [
    "WestEnd['duration'] = WestEnd['duration'].dt.days"
   ]
  },
  {
   "cell_type": "code",
   "execution_count": 755,
   "metadata": {},
   "outputs": [],
   "source": [
    "WestEnd['study-start'] = '04/01/2010'"
   ]
  },
  {
   "cell_type": "code",
   "execution_count": 756,
   "metadata": {},
   "outputs": [],
   "source": [
    "WestEnd['study-start'] = pd.to_datetime(WestEnd['study-start'], errors='coerce')"
   ]
  },
  {
   "cell_type": "code",
   "execution_count": 757,
   "metadata": {},
   "outputs": [],
   "source": [
    "WestEnd['time-of-entry'] = WestEnd['status_date'] -  WestEnd['study-start']"
   ]
  },
  {
   "cell_type": "code",
   "execution_count": 758,
   "metadata": {},
   "outputs": [],
   "source": [
    "WestEnd['time-at-open'] = 0"
   ]
  },
  {
   "cell_type": "code",
   "execution_count": 759,
   "metadata": {},
   "outputs": [],
   "source": [
    "WestEnd['vacant'] = 0"
   ]
  },
  {
   "cell_type": "code",
   "execution_count": 760,
   "metadata": {},
   "outputs": [],
   "source": [
    "WestEnd = WestEnd.drop(WestEnd[(WestEnd['status'] == False) & (WestEnd['status_date'] == '2010-04-01')].index)"
   ]
  },
  {
   "cell_type": "code",
   "execution_count": 761,
   "metadata": {},
   "outputs": [],
   "source": [
    "WestEnd['location_code'] = WestEnd['location_code'].astype(\"category\")"
   ]
  },
  {
   "cell_type": "code",
   "execution_count": 762,
   "metadata": {},
   "outputs": [],
   "source": [
    "locations = list(WestEnd['location_code'].unique())"
   ]
  },
  {
   "cell_type": "code",
   "execution_count": 763,
   "metadata": {},
   "outputs": [],
   "source": [
    "WestEnd = WestEnd.set_index('location_code')"
   ]
  },
  {
   "cell_type": "code",
   "execution_count": 764,
   "metadata": {},
   "outputs": [],
   "source": [
    "WestEnd['survival'] = 0"
   ]
  },
  {
   "cell_type": "code",
   "execution_count": 765,
   "metadata": {},
   "outputs": [],
   "source": [
    "WestEnd['survival'] = WestEnd['duration']"
   ]
  },
  {
   "cell_type": "code",
   "execution_count": 766,
   "metadata": {},
   "outputs": [],
   "source": [
    "WestEnd['entry'] = WestEnd['time-of-entry'].dt.days"
   ]
  },
  {
   "cell_type": "code",
   "execution_count": 767,
   "metadata": {},
   "outputs": [],
   "source": [
    "WestEnd['time-at-open'] = WestEnd['survival'] + WestEnd['entry']"
   ]
  },
  {
   "cell_type": "code",
   "execution_count": 768,
   "metadata": {},
   "outputs": [],
   "source": [
    "WestEnd['stat'] = WestEnd['status'].astype(int)"
   ]
  },
  {
   "cell_type": "code",
   "execution_count": 769,
   "metadata": {},
   "outputs": [],
   "source": [
    "WestEnd[\"StatusChange\"] =  WestEnd['stat'].shift() != WestEnd['stat']"
   ]
  },
  {
   "cell_type": "code",
   "execution_count": 770,
   "metadata": {},
   "outputs": [
    {
     "name": "stderr",
     "output_type": "stream",
     "text": [
      "/opt/conda/envs/sds2020/lib/python3.7/site-packages/pandas/core/indexing.py:670: SettingWithCopyWarning: \n",
      "A value is trying to be set on a copy of a slice from a DataFrame\n",
      "\n",
      "See the caveats in the documentation: https://pandas.pydata.org/pandas-docs/stable/user_guide/indexing.html#returning-a-view-versus-a-copy\n",
      "  iloc._setitem_with_indexer(indexer, value)\n"
     ]
    }
   ],
   "source": [
    "WestEnd[\"StatusChange\"].iloc[0] = False"
   ]
  },
  {
   "cell_type": "code",
   "execution_count": 771,
   "metadata": {},
   "outputs": [],
   "source": [
    "WestEnd[\"TenantChange\"] =  WestEnd['name'].shift(-1) != WestEnd['name'] "
   ]
  },
  {
   "cell_type": "code",
   "execution_count": 772,
   "metadata": {},
   "outputs": [],
   "source": [
    "WestEnd[\"TenantChange\"].iloc[0] = False"
   ]
  },
  {
   "cell_type": "code",
   "execution_count": 773,
   "metadata": {},
   "outputs": [],
   "source": [
    "WestEndSub = WestEnd[(WestEnd['StatusChange'] == False)  & (WestEnd['TenantChange'] == True) & (WestEnd['status'] == True)]"
   ]
  },
  {
   "cell_type": "code",
   "execution_count": 774,
   "metadata": {},
   "outputs": [],
   "source": [
    "counter = 0 \n",
    "stoppingCondition = len(locations)\n",
    "WestEnd2 = pd.DataFrame(data=None, columns=WestEnd.columns, index=None)\n",
    "\n",
    "while counter < stoppingCondition:\n",
    "        i = locations[counter]\n",
    "        m = WestEnd.loc[i, :].iloc[[ WestEnd.loc[i, :]['status_duration'].argmax()]]\n",
    "        WestEnd2 = WestEnd2.append(m, ignore_index=False)\n",
    "        counter += 1"
   ]
  },
  {
   "cell_type": "code",
   "execution_count": 775,
   "metadata": {},
   "outputs": [],
   "source": [
    "WestEnd3 = WestEndSub.append(WestEnd2)"
   ]
  },
  {
   "cell_type": "code",
   "execution_count": 776,
   "metadata": {},
   "outputs": [],
   "source": [
    "WestEnd3 = WestEnd3.drop_duplicates()"
   ]
  },
  {
   "cell_type": "code",
   "execution_count": 777,
   "metadata": {},
   "outputs": [],
   "source": [
    "WestEnd3.loc[WestEnd3['time-at-open'] < 4018, ['vacant']] = 1"
   ]
  },
  {
   "cell_type": "code",
   "execution_count": 778,
   "metadata": {},
   "outputs": [],
   "source": [
    "WestEnd3['highstreet'] = 'WestEnd'"
   ]
  },
  {
   "cell_type": "code",
   "execution_count": 779,
   "metadata": {},
   "outputs": [],
   "source": [
    "WestEnd3.to_csv('WestEnd-vacant-survival.csv')"
   ]
  },
  {
   "cell_type": "markdown",
   "metadata": {},
   "source": [
    "#### 18. Hampstead"
   ]
  },
  {
   "cell_type": "code",
   "execution_count": 780,
   "metadata": {},
   "outputs": [],
   "source": [
    "Hampstead = Hampstead.sort_values(by= ['status_date'])"
   ]
  },
  {
   "cell_type": "code",
   "execution_count": 781,
   "metadata": {},
   "outputs": [],
   "source": [
    "cols = ['V3', 'V4', 'V5', 'V13', 'V14', 'V15', 'V16', 'V17', 'V19', 'V20', 'V21', 'V26', 'V28', 'V30', 'V36', 'V38', 'V39', 'V48', 'V51', 'V54', 'V55', 'V56', 'V57', \n",
    "        'V58', 'V59', 'V60', 'V64', 'V70', 'V72', 'V77']"
   ]
  },
  {
   "cell_type": "code",
   "execution_count": 782,
   "metadata": {},
   "outputs": [],
   "source": [
    "#deleted those cols columns from the dataset as they only contain nulls\n",
    "\n",
    "Hampstead = Hampstead.drop(cols, axis=1)"
   ]
  },
  {
   "cell_type": "code",
   "execution_count": 783,
   "metadata": {},
   "outputs": [],
   "source": [
    "Hampstead['new_date'] = pd.to_datetime(Hampstead['status_date'], errors='coerce')"
   ]
  },
  {
   "cell_type": "code",
   "execution_count": 784,
   "metadata": {},
   "outputs": [],
   "source": [
    "Hampstead = Hampstead.sort_values(by= ['new_date'])"
   ]
  },
  {
   "cell_type": "code",
   "execution_count": 785,
   "metadata": {},
   "outputs": [
    {
     "name": "stderr",
     "output_type": "stream",
     "text": [
      "/opt/conda/envs/sds2020/lib/python3.7/site-packages/pandas/core/indexing.py:670: SettingWithCopyWarning: \n",
      "A value is trying to be set on a copy of a slice from a DataFrame\n",
      "\n",
      "See the caveats in the documentation: https://pandas.pydata.org/pandas-docs/stable/user_guide/indexing.html#returning-a-view-versus-a-copy\n",
      "  iloc._setitem_with_indexer(indexer, value)\n"
     ]
    }
   ],
   "source": [
    "Hampstead['new_date'].loc[(Hampstead['new_date'] < '2010-04-01')] = '2010-04-01'"
   ]
  },
  {
   "cell_type": "code",
   "execution_count": 786,
   "metadata": {},
   "outputs": [],
   "source": [
    "Hampstead = Hampstead.sort_values(by= ['location_code', 'period'])"
   ]
  },
  {
   "cell_type": "code",
   "execution_count": 787,
   "metadata": {},
   "outputs": [],
   "source": [
    "Hampstead['locaton_code'] = Hampstead['location_code'].astype(\"category\")"
   ]
  },
  {
   "cell_type": "code",
   "execution_count": 788,
   "metadata": {},
   "outputs": [],
   "source": [
    "locations = Hampstead['location_code'].unique()"
   ]
  },
  {
   "cell_type": "code",
   "execution_count": 789,
   "metadata": {},
   "outputs": [],
   "source": [
    "Hampstead.loc[Hampstead['name'].isnull(), 'name'] = Hampstead['location_code']"
   ]
  },
  {
   "cell_type": "code",
   "execution_count": 790,
   "metadata": {},
   "outputs": [],
   "source": [
    "Hampstead['status_date'] = pd.to_datetime(Hampstead['status_date'], errors='coerce')"
   ]
  },
  {
   "cell_type": "code",
   "execution_count": 791,
   "metadata": {},
   "outputs": [],
   "source": [
    "Hampstead['status_date'].iloc[Hampstead['status_date'] < '2010-04-01'] = '04/01/2010'"
   ]
  },
  {
   "cell_type": "code",
   "execution_count": 792,
   "metadata": {},
   "outputs": [],
   "source": [
    "Hampstead['status_date'] = pd.to_datetime(Hampstead['status_date'], errors='coerce')"
   ]
  },
  {
   "cell_type": "code",
   "execution_count": 793,
   "metadata": {},
   "outputs": [],
   "source": [
    "Hampstead['period2'] = pd.to_datetime(Hampstead['period'])"
   ]
  },
  {
   "cell_type": "code",
   "execution_count": 794,
   "metadata": {},
   "outputs": [],
   "source": [
    "Hampstead['period2'] = Hampstead['period2'] + pd.DateOffset(months=1)"
   ]
  },
  {
   "cell_type": "code",
   "execution_count": 795,
   "metadata": {},
   "outputs": [],
   "source": [
    "Hampstead['duration'] = Hampstead['period2'] - Hampstead['status_date']"
   ]
  },
  {
   "cell_type": "code",
   "execution_count": 796,
   "metadata": {},
   "outputs": [],
   "source": [
    "Hampstead['duration'] = Hampstead['duration'].dt.days"
   ]
  },
  {
   "cell_type": "code",
   "execution_count": 797,
   "metadata": {},
   "outputs": [],
   "source": [
    "Hampstead['study-start'] = '04/01/2010'"
   ]
  },
  {
   "cell_type": "code",
   "execution_count": 798,
   "metadata": {},
   "outputs": [],
   "source": [
    "Hampstead['study-start'] = pd.to_datetime(Hampstead['study-start'], errors='coerce')"
   ]
  },
  {
   "cell_type": "code",
   "execution_count": 799,
   "metadata": {},
   "outputs": [],
   "source": [
    "Hampstead['time-of-entry'] = Hampstead['status_date'] -  Hampstead['study-start']"
   ]
  },
  {
   "cell_type": "code",
   "execution_count": 800,
   "metadata": {},
   "outputs": [],
   "source": [
    "Hampstead['time-at-open'] = 0"
   ]
  },
  {
   "cell_type": "code",
   "execution_count": 801,
   "metadata": {},
   "outputs": [],
   "source": [
    "Hampstead['vacant'] = 0"
   ]
  },
  {
   "cell_type": "code",
   "execution_count": 802,
   "metadata": {},
   "outputs": [],
   "source": [
    "Hampstead = Hampstead.drop(Hampstead[(Hampstead['status'] == False) & (Hampstead['status_date'] == '2010-04-01')].index)"
   ]
  },
  {
   "cell_type": "code",
   "execution_count": 803,
   "metadata": {},
   "outputs": [],
   "source": [
    "Hampstead['location_code'] = Hampstead['location_code'].astype(\"category\")"
   ]
  },
  {
   "cell_type": "code",
   "execution_count": 804,
   "metadata": {},
   "outputs": [],
   "source": [
    "locations = list(Hampstead['location_code'].unique())"
   ]
  },
  {
   "cell_type": "code",
   "execution_count": 805,
   "metadata": {},
   "outputs": [],
   "source": [
    "Hampstead = Hampstead.set_index('location_code')"
   ]
  },
  {
   "cell_type": "code",
   "execution_count": 806,
   "metadata": {},
   "outputs": [],
   "source": [
    "Hampstead['survival'] = 0"
   ]
  },
  {
   "cell_type": "code",
   "execution_count": 807,
   "metadata": {},
   "outputs": [],
   "source": [
    "Hampstead['survival'] = Hampstead['duration']"
   ]
  },
  {
   "cell_type": "code",
   "execution_count": 808,
   "metadata": {},
   "outputs": [],
   "source": [
    "Hampstead['entry'] = Hampstead['time-of-entry'].dt.days"
   ]
  },
  {
   "cell_type": "code",
   "execution_count": 809,
   "metadata": {},
   "outputs": [],
   "source": [
    "Hampstead['time-at-open'] = Hampstead['survival'] + Hampstead['entry']"
   ]
  },
  {
   "cell_type": "code",
   "execution_count": 810,
   "metadata": {},
   "outputs": [],
   "source": [
    "Hampstead['stat'] = Hampstead['status'].astype(int)"
   ]
  },
  {
   "cell_type": "code",
   "execution_count": 811,
   "metadata": {},
   "outputs": [],
   "source": [
    "Hampstead[\"StatusChange\"] =  Hampstead['stat'].shift() != Hampstead['stat']"
   ]
  },
  {
   "cell_type": "code",
   "execution_count": 812,
   "metadata": {},
   "outputs": [
    {
     "name": "stderr",
     "output_type": "stream",
     "text": [
      "/opt/conda/envs/sds2020/lib/python3.7/site-packages/pandas/core/indexing.py:670: SettingWithCopyWarning: \n",
      "A value is trying to be set on a copy of a slice from a DataFrame\n",
      "\n",
      "See the caveats in the documentation: https://pandas.pydata.org/pandas-docs/stable/user_guide/indexing.html#returning-a-view-versus-a-copy\n",
      "  iloc._setitem_with_indexer(indexer, value)\n"
     ]
    }
   ],
   "source": [
    "Hampstead[\"StatusChange\"].iloc[0] = False"
   ]
  },
  {
   "cell_type": "code",
   "execution_count": 813,
   "metadata": {},
   "outputs": [],
   "source": [
    "Hampstead[\"TenantChange\"] =  Hampstead['name'].shift(-1) != Hampstead['name'] "
   ]
  },
  {
   "cell_type": "code",
   "execution_count": 814,
   "metadata": {},
   "outputs": [],
   "source": [
    "Hampstead[\"TenantChange\"].iloc[0] = False"
   ]
  },
  {
   "cell_type": "code",
   "execution_count": 815,
   "metadata": {},
   "outputs": [],
   "source": [
    "HampsteadSub = Hampstead[(Hampstead['StatusChange'] == False)  & (Hampstead['TenantChange'] == True) & (Hampstead['status'] == True)]"
   ]
  },
  {
   "cell_type": "code",
   "execution_count": 816,
   "metadata": {},
   "outputs": [],
   "source": [
    "counter = 0 \n",
    "stoppingCondition = len(locations)\n",
    "Hampstead2 = pd.DataFrame(data=None, columns=Hampstead.columns, index=None)\n",
    "\n",
    "while counter < stoppingCondition:\n",
    "        i = locations[counter]\n",
    "        m = Hampstead.loc[i, :].iloc[[ Hampstead.loc[i, :]['status_duration'].argmax()]]\n",
    "        Hampstead2 = Hampstead2.append(m, ignore_index=False)\n",
    "        counter += 1"
   ]
  },
  {
   "cell_type": "code",
   "execution_count": 817,
   "metadata": {},
   "outputs": [],
   "source": [
    "Hampstead3 = HampsteadSub.append(Hampstead2)"
   ]
  },
  {
   "cell_type": "code",
   "execution_count": 818,
   "metadata": {},
   "outputs": [],
   "source": [
    "Hampstead3 = Hampstead3.drop_duplicates()"
   ]
  },
  {
   "cell_type": "code",
   "execution_count": 819,
   "metadata": {},
   "outputs": [],
   "source": [
    "Hampstead3.loc[Hampstead3['time-at-open'] < 4018, ['vacant']] = 1"
   ]
  },
  {
   "cell_type": "code",
   "execution_count": 820,
   "metadata": {},
   "outputs": [],
   "source": [
    "Hampstead3['highstreet'] = 'Hampstead'"
   ]
  },
  {
   "cell_type": "code",
   "execution_count": 821,
   "metadata": {},
   "outputs": [],
   "source": [
    "Hampstead3.to_csv('Hampstead-vacant-survival.csv')"
   ]
  },
  {
   "cell_type": "markdown",
   "metadata": {},
   "source": [
    "#### 19. Eversholt"
   ]
  },
  {
   "cell_type": "code",
   "execution_count": 822,
   "metadata": {},
   "outputs": [],
   "source": [
    "Eversholt = Eversholt.sort_values(by= ['status_date'])"
   ]
  },
  {
   "cell_type": "code",
   "execution_count": 823,
   "metadata": {},
   "outputs": [],
   "source": [
    "cols = ['V3', 'V4', 'V5', 'V13', 'V14', 'V15', 'V16', 'V17', 'V19', 'V20', 'V21', 'V26', 'V28', 'V30', 'V36', 'V38', 'V39', 'V48', 'V51', 'V54', 'V55', 'V56', 'V57', \n",
    "        'V58', 'V59', 'V60', 'V64', 'V70', 'V72', 'V77']"
   ]
  },
  {
   "cell_type": "code",
   "execution_count": 824,
   "metadata": {},
   "outputs": [],
   "source": [
    "#deleted those cols columns from the dataset as they only contain nulls\n",
    "\n",
    "Eversholt = Eversholt.drop(cols, axis=1)"
   ]
  },
  {
   "cell_type": "code",
   "execution_count": 825,
   "metadata": {},
   "outputs": [],
   "source": [
    "Eversholt['new_date'] = pd.to_datetime(Eversholt['status_date'], errors='coerce')"
   ]
  },
  {
   "cell_type": "code",
   "execution_count": 826,
   "metadata": {},
   "outputs": [],
   "source": [
    "Eversholt = Eversholt.sort_values(by= ['new_date'])"
   ]
  },
  {
   "cell_type": "code",
   "execution_count": 827,
   "metadata": {},
   "outputs": [
    {
     "name": "stderr",
     "output_type": "stream",
     "text": [
      "/opt/conda/envs/sds2020/lib/python3.7/site-packages/pandas/core/indexing.py:670: SettingWithCopyWarning: \n",
      "A value is trying to be set on a copy of a slice from a DataFrame\n",
      "\n",
      "See the caveats in the documentation: https://pandas.pydata.org/pandas-docs/stable/user_guide/indexing.html#returning-a-view-versus-a-copy\n",
      "  iloc._setitem_with_indexer(indexer, value)\n"
     ]
    }
   ],
   "source": [
    "Eversholt['new_date'].loc[(Eversholt['new_date'] < '2010-04-01')] = '2010-04-01'"
   ]
  },
  {
   "cell_type": "code",
   "execution_count": 828,
   "metadata": {},
   "outputs": [],
   "source": [
    "Eversholt = Eversholt.sort_values(by= ['location_code', 'period'])"
   ]
  },
  {
   "cell_type": "code",
   "execution_count": 829,
   "metadata": {},
   "outputs": [],
   "source": [
    "Eversholt['locaton_code'] = Eversholt['location_code'].astype(\"category\")"
   ]
  },
  {
   "cell_type": "code",
   "execution_count": 830,
   "metadata": {},
   "outputs": [],
   "source": [
    "locations = Eversholt['location_code'].unique()"
   ]
  },
  {
   "cell_type": "code",
   "execution_count": 831,
   "metadata": {},
   "outputs": [],
   "source": [
    "Eversholt.loc[Eversholt['name'].isnull(), 'name'] = Eversholt['location_code']"
   ]
  },
  {
   "cell_type": "code",
   "execution_count": 832,
   "metadata": {},
   "outputs": [],
   "source": [
    "Eversholt['status_date'] = pd.to_datetime(Eversholt['status_date'], errors='coerce')"
   ]
  },
  {
   "cell_type": "code",
   "execution_count": 833,
   "metadata": {},
   "outputs": [],
   "source": [
    "Eversholt['status_date'].iloc[Eversholt['status_date'] < '2010-04-01'] = '04/01/2010'"
   ]
  },
  {
   "cell_type": "code",
   "execution_count": 834,
   "metadata": {},
   "outputs": [],
   "source": [
    "Eversholt['status_date'] = pd.to_datetime(Eversholt['status_date'], errors='coerce')"
   ]
  },
  {
   "cell_type": "code",
   "execution_count": 835,
   "metadata": {},
   "outputs": [],
   "source": [
    "Eversholt['period2'] = pd.to_datetime(Eversholt['period'])"
   ]
  },
  {
   "cell_type": "code",
   "execution_count": 836,
   "metadata": {},
   "outputs": [],
   "source": [
    "Eversholt['period2'] = Eversholt['period2'] + pd.DateOffset(months=1)"
   ]
  },
  {
   "cell_type": "code",
   "execution_count": 837,
   "metadata": {},
   "outputs": [],
   "source": [
    "Eversholt['duration'] = Eversholt['period2'] - Eversholt['status_date']"
   ]
  },
  {
   "cell_type": "code",
   "execution_count": 838,
   "metadata": {},
   "outputs": [],
   "source": [
    "Eversholt['duration'] = Eversholt['duration'].dt.days"
   ]
  },
  {
   "cell_type": "code",
   "execution_count": 839,
   "metadata": {},
   "outputs": [],
   "source": [
    "Eversholt['study-start'] = '04/01/2010'"
   ]
  },
  {
   "cell_type": "code",
   "execution_count": 840,
   "metadata": {},
   "outputs": [],
   "source": [
    "Eversholt['study-start'] = pd.to_datetime(Eversholt['study-start'], errors='coerce')"
   ]
  },
  {
   "cell_type": "code",
   "execution_count": 841,
   "metadata": {},
   "outputs": [],
   "source": [
    "Eversholt['time-of-entry'] = Eversholt['status_date'] -  Eversholt['study-start']"
   ]
  },
  {
   "cell_type": "code",
   "execution_count": 842,
   "metadata": {},
   "outputs": [],
   "source": [
    "Eversholt['time-at-open'] = 0"
   ]
  },
  {
   "cell_type": "code",
   "execution_count": 843,
   "metadata": {},
   "outputs": [],
   "source": [
    "Eversholt['vacant'] = 0"
   ]
  },
  {
   "cell_type": "code",
   "execution_count": 844,
   "metadata": {},
   "outputs": [],
   "source": [
    "Eversholt = Eversholt.drop(Eversholt[(Eversholt['status'] == False) & (Eversholt['status_date'] == '2010-04-01')].index)"
   ]
  },
  {
   "cell_type": "code",
   "execution_count": 845,
   "metadata": {},
   "outputs": [],
   "source": [
    "Eversholt['location_code'] = Eversholt['location_code'].astype(\"category\")"
   ]
  },
  {
   "cell_type": "code",
   "execution_count": 846,
   "metadata": {},
   "outputs": [],
   "source": [
    "locations = list(Eversholt['location_code'].unique())"
   ]
  },
  {
   "cell_type": "code",
   "execution_count": 847,
   "metadata": {},
   "outputs": [],
   "source": [
    "Eversholt = Eversholt.set_index('location_code')"
   ]
  },
  {
   "cell_type": "code",
   "execution_count": 848,
   "metadata": {},
   "outputs": [],
   "source": [
    "Eversholt['survival'] = 0"
   ]
  },
  {
   "cell_type": "code",
   "execution_count": 849,
   "metadata": {},
   "outputs": [],
   "source": [
    "Eversholt['survival'] = Eversholt['duration']"
   ]
  },
  {
   "cell_type": "code",
   "execution_count": 850,
   "metadata": {},
   "outputs": [],
   "source": [
    "Eversholt['entry'] = Eversholt['time-of-entry'].dt.days"
   ]
  },
  {
   "cell_type": "code",
   "execution_count": 851,
   "metadata": {},
   "outputs": [],
   "source": [
    "Eversholt['time-at-open'] = Eversholt['survival'] + Eversholt['entry']"
   ]
  },
  {
   "cell_type": "code",
   "execution_count": 852,
   "metadata": {},
   "outputs": [],
   "source": [
    "Eversholt['stat'] = Eversholt['status'].astype(int)"
   ]
  },
  {
   "cell_type": "code",
   "execution_count": 853,
   "metadata": {},
   "outputs": [],
   "source": [
    "Eversholt[\"StatusChange\"] =  Eversholt['stat'].shift() != Eversholt['stat']"
   ]
  },
  {
   "cell_type": "code",
   "execution_count": 854,
   "metadata": {},
   "outputs": [
    {
     "name": "stderr",
     "output_type": "stream",
     "text": [
      "/opt/conda/envs/sds2020/lib/python3.7/site-packages/pandas/core/indexing.py:670: SettingWithCopyWarning: \n",
      "A value is trying to be set on a copy of a slice from a DataFrame\n",
      "\n",
      "See the caveats in the documentation: https://pandas.pydata.org/pandas-docs/stable/user_guide/indexing.html#returning-a-view-versus-a-copy\n",
      "  iloc._setitem_with_indexer(indexer, value)\n"
     ]
    }
   ],
   "source": [
    "Eversholt[\"StatusChange\"].iloc[0] = False"
   ]
  },
  {
   "cell_type": "code",
   "execution_count": 855,
   "metadata": {},
   "outputs": [],
   "source": [
    "Eversholt[\"TenantChange\"] =  Eversholt['name'].shift(-1) != Eversholt['name'] "
   ]
  },
  {
   "cell_type": "code",
   "execution_count": 856,
   "metadata": {},
   "outputs": [],
   "source": [
    "Eversholt[\"TenantChange\"].iloc[0] = False"
   ]
  },
  {
   "cell_type": "code",
   "execution_count": 857,
   "metadata": {},
   "outputs": [],
   "source": [
    "EversholtSub = Eversholt[(Eversholt['StatusChange'] == False)  & (Eversholt['TenantChange'] == True) & (Eversholt['status'] == True)]"
   ]
  },
  {
   "cell_type": "code",
   "execution_count": 858,
   "metadata": {},
   "outputs": [],
   "source": [
    "counter = 0 \n",
    "stoppingCondition = len(locations)\n",
    "Eversholt2 = pd.DataFrame(data=None, columns=Eversholt.columns, index=None)\n",
    "\n",
    "while counter < stoppingCondition:\n",
    "        i = locations[counter]\n",
    "        m = Eversholt.loc[i, :].iloc[[ Eversholt.loc[i, :]['status_duration'].argmax()]]\n",
    "        Eversholt2 = Eversholt2.append(m, ignore_index=False)\n",
    "        counter += 1"
   ]
  },
  {
   "cell_type": "code",
   "execution_count": 859,
   "metadata": {},
   "outputs": [],
   "source": [
    "Eversholt3 = EversholtSub.append(Eversholt2)"
   ]
  },
  {
   "cell_type": "code",
   "execution_count": 860,
   "metadata": {},
   "outputs": [],
   "source": [
    "Eversholt3 = Eversholt3.drop_duplicates()"
   ]
  },
  {
   "cell_type": "code",
   "execution_count": 861,
   "metadata": {},
   "outputs": [],
   "source": [
    "Eversholt3.loc[Eversholt3['time-at-open'] < 4018, ['vacant']] = 1"
   ]
  },
  {
   "cell_type": "code",
   "execution_count": 862,
   "metadata": {},
   "outputs": [],
   "source": [
    "Eversholt3['highstreet'] = 'Eversholt'"
   ]
  },
  {
   "cell_type": "code",
   "execution_count": 863,
   "metadata": {},
   "outputs": [],
   "source": [
    "Eversholt3.to_csv('Eversholt-vacant-survival.csv')"
   ]
  },
  {
   "cell_type": "markdown",
   "metadata": {},
   "source": [
    "****"
   ]
  },
  {
   "cell_type": "markdown",
   "metadata": {},
   "source": [
    "#### Append all for Camden total survival"
   ]
  },
  {
   "cell_type": "code",
   "execution_count": 870,
   "metadata": {},
   "outputs": [],
   "source": [
    "camden_survival = pd.concat([Brecknock3, Kentish3, Fortress3, CamdenT3, Belsize3, Loudoun3, Haverstock3, SouthEnd3, Cricklewood3, Regents3, Queens3, Kilburn3, Mill3, Fortune3, Willesden3, Mansfield3, WestEnd3, Hampstead3, Eversholt3], ignore_index=True)"
   ]
  },
  {
   "cell_type": "code",
   "execution_count": 871,
   "metadata": {},
   "outputs": [],
   "source": [
    "camden_survival.to_csv('camden-vacant-survival-full.csv')"
   ]
  },
  {
   "cell_type": "code",
   "execution_count": null,
   "metadata": {},
   "outputs": [],
   "source": []
  }
 ],
 "metadata": {
  "kernelspec": {
   "display_name": "Python 3",
   "language": "python",
   "name": "python3"
  },
  "language_info": {
   "codemirror_mode": {
    "name": "ipython",
    "version": 3
   },
   "file_extension": ".py",
   "mimetype": "text/x-python",
   "name": "python",
   "nbconvert_exporter": "python",
   "pygments_lexer": "ipython3",
   "version": "3.7.8"
  }
 },
 "nbformat": 4,
 "nbformat_minor": 4
}
