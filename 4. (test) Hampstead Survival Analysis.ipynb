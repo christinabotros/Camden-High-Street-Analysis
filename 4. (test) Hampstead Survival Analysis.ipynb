{
 "cells": [
  {
   "cell_type": "markdown",
   "metadata": {},
   "source": [
    "### Survival Analysis of Hampstead High Street"
   ]
  },
  {
   "cell_type": "code",
   "execution_count": 20,
   "metadata": {},
   "outputs": [],
   "source": [
    "import os\n",
    "import numpy as np\n",
    "import pandas as pd\n",
    "import geopandas as gpd\n",
    "import matplotlib.cm as cm\n",
    "import matplotlib.pyplot as plt\n",
    "from requests import get\n",
    "from urllib.parse import urlparse"
   ]
  },
  {
   "cell_type": "code",
   "execution_count": 21,
   "metadata": {},
   "outputs": [
    {
     "name": "stdout",
     "output_type": "stream",
     "text": [
      "Requirement already satisfied: lifelines in /opt/conda/envs/sds2020/lib/python3.7/site-packages (0.26.0)\n",
      "Requirement already satisfied: formulaic<0.3,>=0.2.2 in /opt/conda/envs/sds2020/lib/python3.7/site-packages (from lifelines) (0.2.4)\n",
      "Requirement already satisfied: autograd>=1.3 in /opt/conda/envs/sds2020/lib/python3.7/site-packages (from lifelines) (1.3)\n",
      "Requirement already satisfied: pandas>=0.23.0 in /opt/conda/envs/sds2020/lib/python3.7/site-packages (from lifelines) (1.1.2)\n",
      "Requirement already satisfied: numpy>=1.14.0 in /opt/conda/envs/sds2020/lib/python3.7/site-packages (from lifelines) (1.19.1)\n",
      "Requirement already satisfied: scipy>=1.2.0 in /opt/conda/envs/sds2020/lib/python3.7/site-packages (from lifelines) (1.5.2)\n",
      "Requirement already satisfied: autograd-gamma>=0.3 in /opt/conda/envs/sds2020/lib/python3.7/site-packages (from lifelines) (0.5.0)\n",
      "Requirement already satisfied: matplotlib>=3.0 in /opt/conda/envs/sds2020/lib/python3.7/site-packages (from lifelines) (3.3.1)\n",
      "Requirement already satisfied: wrapt in /opt/conda/envs/sds2020/lib/python3.7/site-packages (from formulaic<0.3,>=0.2.2->lifelines) (1.11.2)\n",
      "Requirement already satisfied: interface-meta>=1.2 in /opt/conda/envs/sds2020/lib/python3.7/site-packages (from formulaic<0.3,>=0.2.2->lifelines) (1.2.3)\n",
      "Requirement already satisfied: astor in /opt/conda/envs/sds2020/lib/python3.7/site-packages (from formulaic<0.3,>=0.2.2->lifelines) (0.8.1)\n",
      "Requirement already satisfied: future>=0.15.2 in /opt/conda/envs/sds2020/lib/python3.7/site-packages (from autograd>=1.3->lifelines) (0.18.2)\n",
      "Requirement already satisfied: pytz>=2017.2 in /opt/conda/envs/sds2020/lib/python3.7/site-packages (from pandas>=0.23.0->lifelines) (2020.1)\n",
      "Requirement already satisfied: python-dateutil>=2.7.3 in /opt/conda/envs/sds2020/lib/python3.7/site-packages (from pandas>=0.23.0->lifelines) (2.8.0)\n",
      "Requirement already satisfied: kiwisolver>=1.0.1 in /opt/conda/envs/sds2020/lib/python3.7/site-packages (from matplotlib>=3.0->lifelines) (1.2.0)\n",
      "Requirement already satisfied: pyparsing!=2.0.4,!=2.1.2,!=2.1.6,>=2.0.3 in /opt/conda/envs/sds2020/lib/python3.7/site-packages (from matplotlib>=3.0->lifelines) (2.4.7)\n",
      "Requirement already satisfied: cycler>=0.10 in /opt/conda/envs/sds2020/lib/python3.7/site-packages (from matplotlib>=3.0->lifelines) (0.10.0)\n",
      "Requirement already satisfied: pillow>=6.2.0 in /opt/conda/envs/sds2020/lib/python3.7/site-packages (from matplotlib>=3.0->lifelines) (7.2.0)\n",
      "Requirement already satisfied: certifi>=2020.06.20 in /opt/conda/envs/sds2020/lib/python3.7/site-packages (from matplotlib>=3.0->lifelines) (2020.6.20)\n",
      "Requirement already satisfied: six>=1.5 in /opt/conda/envs/sds2020/lib/python3.7/site-packages (from python-dateutil>=2.7.3->pandas>=0.23.0->lifelines) (1.15.0)\n"
     ]
    }
   ],
   "source": [
    "# Install a pip package in the current Jupyter kernel\n",
    "import sys\n",
    "!{sys.executable} -m pip install lifelines"
   ]
  },
  {
   "cell_type": "code",
   "execution_count": 22,
   "metadata": {},
   "outputs": [],
   "source": [
    "from lifelines import KaplanMeierFitter, CoxPHFitter, NelsonAalenFitter"
   ]
  },
  {
   "cell_type": "code",
   "execution_count": 23,
   "metadata": {},
   "outputs": [],
   "source": [
    "df = pd.read_csv(\"final.csv\", low_memory=False)"
   ]
  },
  {
   "cell_type": "code",
   "execution_count": 24,
   "metadata": {},
   "outputs": [
    {
     "data": {
      "text/html": [
       "<div>\n",
       "<style scoped>\n",
       "    .dataframe tbody tr th:only-of-type {\n",
       "        vertical-align: middle;\n",
       "    }\n",
       "\n",
       "    .dataframe tbody tr th {\n",
       "        vertical-align: top;\n",
       "    }\n",
       "\n",
       "    .dataframe thead th {\n",
       "        text-align: right;\n",
       "    }\n",
       "</style>\n",
       "<table border=\"1\" class=\"dataframe\">\n",
       "  <thead>\n",
       "    <tr style=\"text-align: right;\">\n",
       "      <th></th>\n",
       "      <th>Unnamed: 0</th>\n",
       "      <th>Unnamed: 0.1</th>\n",
       "      <th>rates_code</th>\n",
       "      <th>rates_authority_id</th>\n",
       "      <th>rates_authority</th>\n",
       "      <th>region</th>\n",
       "      <th>address_no</th>\n",
       "      <th>address_street</th>\n",
       "      <th>address_town</th>\n",
       "      <th>pc__pcs</th>\n",
       "      <th>...</th>\n",
       "      <th>duration</th>\n",
       "      <th>study-start</th>\n",
       "      <th>time-of-entry</th>\n",
       "      <th>time-at-vacant</th>\n",
       "      <th>vacant</th>\n",
       "      <th>survival</th>\n",
       "      <th>entry</th>\n",
       "      <th>stat</th>\n",
       "      <th>StatusChange</th>\n",
       "      <th>TenantChange</th>\n",
       "    </tr>\n",
       "  </thead>\n",
       "  <tbody>\n",
       "    <tr>\n",
       "      <th>0</th>\n",
       "      <td>25638063</td>\n",
       "      <td>25871</td>\n",
       "      <td>00184001B00002</td>\n",
       "      <td>E09000007</td>\n",
       "      <td>Camden</td>\n",
       "      <td>Inner London - West</td>\n",
       "      <td>1B</td>\n",
       "      <td>DOWNSHIRE HILL</td>\n",
       "      <td>LONDON</td>\n",
       "      <td>NW3 1NR</td>\n",
       "      <td>...</td>\n",
       "      <td>3524</td>\n",
       "      <td>2010-04-01</td>\n",
       "      <td>494 days</td>\n",
       "      <td>4018</td>\n",
       "      <td>0</td>\n",
       "      <td>3524</td>\n",
       "      <td>494</td>\n",
       "      <td>1</td>\n",
       "      <td>False</td>\n",
       "      <td>True</td>\n",
       "    </tr>\n",
       "    <tr>\n",
       "      <th>1</th>\n",
       "      <td>32905063</td>\n",
       "      <td>24639</td>\n",
       "      <td>00159001009992</td>\n",
       "      <td>E09000007</td>\n",
       "      <td>Camden</td>\n",
       "      <td>Inner London - West</td>\n",
       "      <td>10</td>\n",
       "      <td>FLASK WALK</td>\n",
       "      <td>LONDON</td>\n",
       "      <td>NW3 1HE</td>\n",
       "      <td>...</td>\n",
       "      <td>4018</td>\n",
       "      <td>2010-04-01</td>\n",
       "      <td>0 days</td>\n",
       "      <td>4018</td>\n",
       "      <td>0</td>\n",
       "      <td>4018</td>\n",
       "      <td>0</td>\n",
       "      <td>1</td>\n",
       "      <td>False</td>\n",
       "      <td>True</td>\n",
       "    </tr>\n",
       "    <tr>\n",
       "      <th>2</th>\n",
       "      <td>32907063</td>\n",
       "      <td>24701</td>\n",
       "      <td>00159001200006</td>\n",
       "      <td>E09000007</td>\n",
       "      <td>Camden</td>\n",
       "      <td>Inner London - West</td>\n",
       "      <td>12</td>\n",
       "      <td>FLASK WALK</td>\n",
       "      <td>LONDON</td>\n",
       "      <td>NW3 1HE</td>\n",
       "      <td>...</td>\n",
       "      <td>1644</td>\n",
       "      <td>2010-04-01</td>\n",
       "      <td>0 days</td>\n",
       "      <td>1644</td>\n",
       "      <td>1</td>\n",
       "      <td>1644</td>\n",
       "      <td>0</td>\n",
       "      <td>1</td>\n",
       "      <td>False</td>\n",
       "      <td>True</td>\n",
       "    </tr>\n",
       "    <tr>\n",
       "      <th>3</th>\n",
       "      <td>32907063</td>\n",
       "      <td>24727</td>\n",
       "      <td>00159001200006</td>\n",
       "      <td>E09000007</td>\n",
       "      <td>Camden</td>\n",
       "      <td>Inner London - West</td>\n",
       "      <td>12</td>\n",
       "      <td>FLASK WALK</td>\n",
       "      <td>LONDON</td>\n",
       "      <td>NW3 1HE</td>\n",
       "      <td>...</td>\n",
       "      <td>2192</td>\n",
       "      <td>2010-04-01</td>\n",
       "      <td>1826 days</td>\n",
       "      <td>4018</td>\n",
       "      <td>0</td>\n",
       "      <td>2192</td>\n",
       "      <td>1826</td>\n",
       "      <td>1</td>\n",
       "      <td>False</td>\n",
       "      <td>True</td>\n",
       "    </tr>\n",
       "    <tr>\n",
       "      <th>4</th>\n",
       "      <td>32912063</td>\n",
       "      <td>24389</td>\n",
       "      <td>00159000410016</td>\n",
       "      <td>E09000007</td>\n",
       "      <td>Camden</td>\n",
       "      <td>Inner London - West</td>\n",
       "      <td>4</td>\n",
       "      <td>FLASK WALK</td>\n",
       "      <td>LONDON</td>\n",
       "      <td>NW3 1HE</td>\n",
       "      <td>...</td>\n",
       "      <td>1279</td>\n",
       "      <td>2010-04-01</td>\n",
       "      <td>0 days</td>\n",
       "      <td>1279</td>\n",
       "      <td>1</td>\n",
       "      <td>1279</td>\n",
       "      <td>0</td>\n",
       "      <td>1</td>\n",
       "      <td>False</td>\n",
       "      <td>True</td>\n",
       "    </tr>\n",
       "  </tbody>\n",
       "</table>\n",
       "<p>5 rows × 87 columns</p>\n",
       "</div>"
      ],
      "text/plain": [
       "   Unnamed: 0  Unnamed: 0.1      rates_code rates_authority_id  \\\n",
       "0    25638063         25871  00184001B00002          E09000007   \n",
       "1    32905063         24639  00159001009992          E09000007   \n",
       "2    32907063         24701  00159001200006          E09000007   \n",
       "3    32907063         24727  00159001200006          E09000007   \n",
       "4    32912063         24389  00159000410016          E09000007   \n",
       "\n",
       "  rates_authority               region address_no  address_street  \\\n",
       "0          Camden  Inner London - West         1B  DOWNSHIRE HILL   \n",
       "1          Camden  Inner London - West         10      FLASK WALK   \n",
       "2          Camden  Inner London - West         12      FLASK WALK   \n",
       "3          Camden  Inner London - West         12      FLASK WALK   \n",
       "4          Camden  Inner London - West          4      FLASK WALK   \n",
       "\n",
       "  address_town  pc__pcs  ... duration  study-start time-of-entry  \\\n",
       "0       LONDON  NW3 1NR  ...     3524   2010-04-01      494 days   \n",
       "1       LONDON  NW3 1HE  ...     4018   2010-04-01        0 days   \n",
       "2       LONDON  NW3 1HE  ...     1644   2010-04-01        0 days   \n",
       "3       LONDON  NW3 1HE  ...     2192   2010-04-01     1826 days   \n",
       "4       LONDON  NW3 1HE  ...     1279   2010-04-01        0 days   \n",
       "\n",
       "  time-at-vacant  vacant  survival entry  stat StatusChange  TenantChange  \n",
       "0           4018       0      3524   494     1        False          True  \n",
       "1           4018       0      4018     0     1        False          True  \n",
       "2           1644       1      1644     0     1        False          True  \n",
       "3           4018       0      2192  1826     1        False          True  \n",
       "4           1279       1      1279     0     1        False          True  \n",
       "\n",
       "[5 rows x 87 columns]"
      ]
     },
     "execution_count": 24,
     "metadata": {},
     "output_type": "execute_result"
    }
   ],
   "source": [
    "df.head()"
   ]
  },
  {
   "cell_type": "code",
   "execution_count": 25,
   "metadata": {},
   "outputs": [
    {
     "name": "stdout",
     "output_type": "stream",
     "text": [
      "<class 'pandas.core.frame.DataFrame'>\n",
      "RangeIndex: 337 entries, 0 to 336\n",
      "Data columns (total 87 columns):\n",
      " #   Column                Non-Null Count  Dtype  \n",
      "---  ------                --------------  -----  \n",
      " 0   Unnamed: 0            337 non-null    int64  \n",
      " 1   Unnamed: 0.1          337 non-null    int64  \n",
      " 2   rates_code            337 non-null    object \n",
      " 3   rates_authority_id    337 non-null    object \n",
      " 4   rates_authority       337 non-null    object \n",
      " 5   region                337 non-null    object \n",
      " 6   address_no            337 non-null    object \n",
      " 7   address_street        337 non-null    object \n",
      " 8   address_town          337 non-null    object \n",
      " 9   pc__pcs               337 non-null    object \n",
      " 10  use_category          337 non-null    object \n",
      " 11  scat_code             337 non-null    int64  \n",
      " 12  sub_category          337 non-null    object \n",
      " 13  category              312 non-null    object \n",
      " 14  floor_area            337 non-null    float64\n",
      " 15  rental_valuation      337 non-null    float64\n",
      " 16  valuation_date        337 non-null    object \n",
      " 17  revaluation_year      337 non-null    int64  \n",
      " 18  period                337 non-null    object \n",
      " 19  rates_expected        337 non-null    float64\n",
      " 20  name                  337 non-null    object \n",
      " 21  rates_paid            282 non-null    float64\n",
      " 22  status                337 non-null    bool   \n",
      " 23  status_date           337 non-null    object \n",
      " 24  status_duration       284 non-null    float64\n",
      " 25  ratepayers_published  337 non-null    bool   \n",
      " 26  V1                    337 non-null    int64  \n",
      " 27  V2                    253 non-null    float64\n",
      " 28  V6                    337 non-null    object \n",
      " 29  V7                    72 non-null     float64\n",
      " 30  V8                    337 non-null    float64\n",
      " 31  V9                    337 non-null    float64\n",
      " 32  V10                   337 non-null    float64\n",
      " 33  V11                   337 non-null    float64\n",
      " 34  V12                   337 non-null    int64  \n",
      " 35  V18                   166 non-null    object \n",
      " 36  V22                   14 non-null     object \n",
      " 37  V23                   44 non-null     object \n",
      " 38  V24                   210 non-null    float64\n",
      " 39  V25                   2 non-null      float64\n",
      " 40  V27                   2 non-null      float64\n",
      " 41  V29                   70 non-null     object \n",
      " 42  V31                   321 non-null    float64\n",
      " 43  V32                   34 non-null     object \n",
      " 44  V33                   37 non-null     float64\n",
      " 45  V34                   4 non-null      object \n",
      " 46  V35                   29 non-null     object \n",
      " 47  V37                   337 non-null    int64  \n",
      " 48  V40                   2 non-null      object \n",
      " 49  V41                   323 non-null    object \n",
      " 50  V42                   247 non-null    object \n",
      " 51  V43                   247 non-null    float64\n",
      " 52  V44                   337 non-null    object \n",
      " 53  V45                   337 non-null    int64  \n",
      " 54  V46                   337 non-null    object \n",
      " 55  V47                   337 non-null    int64  \n",
      " 56  V49                   337 non-null    float64\n",
      " 57  V50                   337 non-null    object \n",
      " 58  V52                   4 non-null      object \n",
      " 59  V53                   253 non-null    object \n",
      " 60  V61                   337 non-null    object \n",
      " 61  V62                   337 non-null    object \n",
      " 62  V63                   253 non-null    object \n",
      " 63  V65                   253 non-null    object \n",
      " 64  V66                   337 non-null    object \n",
      " 65  V67                   253 non-null    object \n",
      " 66  V68                   253 non-null    object \n",
      " 67  V69                   337 non-null    object \n",
      " 68  V71                   337 non-null    object \n",
      " 69  V73                   253 non-null    object \n",
      " 70  V74                   337 non-null    int64  \n",
      " 71  V75                   337 non-null    object \n",
      " 72  V76                   337 non-null    float64\n",
      " 73  geometry              337 non-null    object \n",
      " 74  new_date              337 non-null    object \n",
      " 75  locaton_code          337 non-null    int64  \n",
      " 76  period2               337 non-null    object \n",
      " 77  duration              337 non-null    int64  \n",
      " 78  study-start           337 non-null    object \n",
      " 79  time-of-entry         337 non-null    object \n",
      " 80  time-at-vacant        337 non-null    int64  \n",
      " 81  vacant                337 non-null    int64  \n",
      " 82  survival              337 non-null    int64  \n",
      " 83  entry                 337 non-null    int64  \n",
      " 84  stat                  337 non-null    int64  \n",
      " 85  StatusChange          337 non-null    bool   \n",
      " 86  TenantChange          337 non-null    bool   \n",
      "dtypes: bool(4), float64(19), int64(17), object(47)\n",
      "memory usage: 220.0+ KB\n"
     ]
    }
   ],
   "source": [
    "df.info()"
   ]
  },
  {
   "cell_type": "code",
   "execution_count": 26,
   "metadata": {},
   "outputs": [
    {
     "name": "stdout",
     "output_type": "stream",
     "text": [
      "          KM_estimate\n",
      "timeline             \n",
      "0.0          1.000000\n",
      "91.0         0.994065\n",
      "106.0        0.991098\n",
      "134.0        0.991098\n",
      "136.0        0.988122\n",
      "...               ...\n",
      "3835.0       0.679244\n",
      "3953.0       0.679244\n",
      "3955.0       0.679244\n",
      "3970.0       0.679244\n",
      "4018.0       0.679244\n",
      "\n",
      "[147 rows x 1 columns]\n"
     ]
    },
    {
     "data": {
      "text/plain": [
       "<AxesSubplot:xlabel='timeline'>"
      ]
     },
     "execution_count": 26,
     "metadata": {},
     "output_type": "execute_result"
    },
    {
     "data": {
      "image/png": "[encoded data removed]",
      "text/plain": [
       "<Figure size 432x288 with 1 Axes>"
      ]
     },
     "metadata": {
      "needs_background": "light"
     },
     "output_type": "display_data"
    }
   ],
   "source": [
    "kmf = KaplanMeierFitter()\n",
    "kmf.fit(df['survival'], event_observed= df['vacant'])\n",
    "\n",
    "print(kmf.survival_function_)\n",
    "#print(kmf.median_)\n",
    "kmf.plot()"
   ]
  },
  {
   "cell_type": "code",
   "execution_count": 27,
   "metadata": {},
   "outputs": [],
   "source": [
    "df.loc[df['category'].isnull(), 'category'] = \"Other\""
   ]
  },
  {
   "cell_type": "code",
   "execution_count": 28,
   "metadata": {},
   "outputs": [],
   "source": [
    "df['category'] = df['category'].astype('category')"
   ]
  },
  {
   "cell_type": "code",
   "execution_count": 29,
   "metadata": {},
   "outputs": [
    {
     "name": "stdout",
     "output_type": "stream",
     "text": [
      "<class 'pandas.core.frame.DataFrame'>\n",
      "RangeIndex: 337 entries, 0 to 336\n",
      "Data columns (total 87 columns):\n",
      " #   Column                Non-Null Count  Dtype   \n",
      "---  ------                --------------  -----   \n",
      " 0   Unnamed: 0            337 non-null    int64   \n",
      " 1   Unnamed: 0.1          337 non-null    int64   \n",
      " 2   rates_code            337 non-null    object  \n",
      " 3   rates_authority_id    337 non-null    object  \n",
      " 4   rates_authority       337 non-null    object  \n",
      " 5   region                337 non-null    object  \n",
      " 6   address_no            337 non-null    object  \n",
      " 7   address_street        337 non-null    object  \n",
      " 8   address_town          337 non-null    object  \n",
      " 9   pc__pcs               337 non-null    object  \n",
      " 10  use_category          337 non-null    object  \n",
      " 11  scat_code             337 non-null    int64   \n",
      " 12  sub_category          337 non-null    object  \n",
      " 13  category              337 non-null    category\n",
      " 14  floor_area            337 non-null    float64 \n",
      " 15  rental_valuation      337 non-null    float64 \n",
      " 16  valuation_date        337 non-null    object  \n",
      " 17  revaluation_year      337 non-null    int64   \n",
      " 18  period                337 non-null    object  \n",
      " 19  rates_expected        337 non-null    float64 \n",
      " 20  name                  337 non-null    object  \n",
      " 21  rates_paid            282 non-null    float64 \n",
      " 22  status                337 non-null    bool    \n",
      " 23  status_date           337 non-null    object  \n",
      " 24  status_duration       284 non-null    float64 \n",
      " 25  ratepayers_published  337 non-null    bool    \n",
      " 26  V1                    337 non-null    int64   \n",
      " 27  V2                    253 non-null    float64 \n",
      " 28  V6                    337 non-null    object  \n",
      " 29  V7                    72 non-null     float64 \n",
      " 30  V8                    337 non-null    float64 \n",
      " 31  V9                    337 non-null    float64 \n",
      " 32  V10                   337 non-null    float64 \n",
      " 33  V11                   337 non-null    float64 \n",
      " 34  V12                   337 non-null    int64   \n",
      " 35  V18                   166 non-null    object  \n",
      " 36  V22                   14 non-null     object  \n",
      " 37  V23                   44 non-null     object  \n",
      " 38  V24                   210 non-null    float64 \n",
      " 39  V25                   2 non-null      float64 \n",
      " 40  V27                   2 non-null      float64 \n",
      " 41  V29                   70 non-null     object  \n",
      " 42  V31                   321 non-null    float64 \n",
      " 43  V32                   34 non-null     object  \n",
      " 44  V33                   37 non-null     float64 \n",
      " 45  V34                   4 non-null      object  \n",
      " 46  V35                   29 non-null     object  \n",
      " 47  V37                   337 non-null    int64   \n",
      " 48  V40                   2 non-null      object  \n",
      " 49  V41                   323 non-null    object  \n",
      " 50  V42                   247 non-null    object  \n",
      " 51  V43                   247 non-null    float64 \n",
      " 52  V44                   337 non-null    object  \n",
      " 53  V45                   337 non-null    int64   \n",
      " 54  V46                   337 non-null    object  \n",
      " 55  V47                   337 non-null    int64   \n",
      " 56  V49                   337 non-null    float64 \n",
      " 57  V50                   337 non-null    object  \n",
      " 58  V52                   4 non-null      object  \n",
      " 59  V53                   253 non-null    object  \n",
      " 60  V61                   337 non-null    object  \n",
      " 61  V62                   337 non-null    object  \n",
      " 62  V63                   253 non-null    object  \n",
      " 63  V65                   253 non-null    object  \n",
      " 64  V66                   337 non-null    object  \n",
      " 65  V67                   253 non-null    object  \n",
      " 66  V68                   253 non-null    object  \n",
      " 67  V69                   337 non-null    object  \n",
      " 68  V71                   337 non-null    object  \n",
      " 69  V73                   253 non-null    object  \n",
      " 70  V74                   337 non-null    int64   \n",
      " 71  V75                   337 non-null    object  \n",
      " 72  V76                   337 non-null    float64 \n",
      " 73  geometry              337 non-null    object  \n",
      " 74  new_date              337 non-null    object  \n",
      " 75  locaton_code          337 non-null    int64   \n",
      " 76  period2               337 non-null    object  \n",
      " 77  duration              337 non-null    int64   \n",
      " 78  study-start           337 non-null    object  \n",
      " 79  time-of-entry         337 non-null    object  \n",
      " 80  time-at-vacant        337 non-null    int64   \n",
      " 81  vacant                337 non-null    int64   \n",
      " 82  survival              337 non-null    int64   \n",
      " 83  entry                 337 non-null    int64   \n",
      " 84  stat                  337 non-null    int64   \n",
      " 85  StatusChange          337 non-null    bool    \n",
      " 86  TenantChange          337 non-null    bool    \n",
      "dtypes: bool(4), category(1), float64(19), int64(17), object(46)\n",
      "memory usage: 217.8+ KB\n"
     ]
    }
   ],
   "source": [
    "df.info()"
   ]
  },
  {
   "cell_type": "code",
   "execution_count": 31,
   "metadata": {},
   "outputs": [
    {
     "data": {
      "image/png": "[encoded data removed]",
      "text/plain": [
       "<Figure size 432x288 with 1 Axes>"
      ]
     },
     "metadata": {
      "needs_background": "light"
     },
     "output_type": "display_data"
    }
   ],
   "source": [
    "kmf = KaplanMeierFitter()\n",
    "\n",
    "ax = plt.subplot()\n",
    "\n",
    "for category, df_ in df[['category','vacant', 'survival']].groupby('category'):\n",
    "    kmf.fit(df_['survival'], df_['vacant'], label=category)\n",
    "    ax = kmf.plot(ax=ax, ci_show=False)"
   ]
  },
  {
   "cell_type": "code",
   "execution_count": 40,
   "metadata": {},
   "outputs": [
    {
     "data": {
      "image/png": "[encoded data removed]",
      "text/plain": [
       "<Figure size 432x288 with 1 Axes>"
      ]
     },
     "metadata": {
      "needs_background": "light"
     },
     "output_type": "display_data"
    }
   ],
   "source": [
    "ax = plt.subplot()\n",
    "\n",
    "for category, df_ in df[['category','vacant', 'survival']].groupby('category'):\n",
    "    kmf.fit(df_['survival'], df_['vacant'], label=category)\n",
    "    if category == 'Leisure':\n",
    "        ax = kmf.plot(ax=ax, color='b')\n",
    "    else:\n",
    "        ax = kmf.plot(ax=ax, color='grey', alpha=0.5, ci_show=False)"
   ]
  },
  {
   "cell_type": "code",
   "execution_count": 39,
   "metadata": {},
   "outputs": [
    {
     "data": {
      "image/png": "[encoded data removed]",
      "text/plain": [
       "<Figure size 432x288 with 1 Axes>"
      ]
     },
     "metadata": {
      "needs_background": "light"
     },
     "output_type": "display_data"
    }
   ],
   "source": [
    "ax = plt.subplot()\n",
    "\n",
    "for category, df_ in df[['category','vacant', 'survival']].groupby('category'):\n",
    "    kmf.fit(df_['survival'], df_['vacant'], label=category)\n",
    "    if category == 'Office':\n",
    "        ax = kmf.plot(ax=ax, color='orange')\n",
    "    else:\n",
    "        ax = kmf.plot(ax=ax, color='grey', alpha=0.5, ci_show=False)"
   ]
  },
  {
   "cell_type": "code",
   "execution_count": 41,
   "metadata": {},
   "outputs": [
    {
     "data": {
      "image/png": "[encoded data removed]",
      "text/plain": [
       "<Figure size 432x288 with 1 Axes>"
      ]
     },
     "metadata": {
      "needs_background": "light"
     },
     "output_type": "display_data"
    }
   ],
   "source": [
    "ax = plt.subplot()\n",
    "\n",
    "for category, df_ in df[['category','vacant', 'survival']].groupby('category'):\n",
    "    kmf.fit(df_['survival'], df_['vacant'], label=category)\n",
    "    if category == 'Retail':\n",
    "        ax = kmf.plot(ax=ax, color='r')\n",
    "    else:\n",
    "        ax = kmf.plot(ax=ax, color='grey', alpha=0.5, ci_show=False)"
   ]
  },
  {
   "cell_type": "code",
   "execution_count": null,
   "metadata": {},
   "outputs": [],
   "source": []
  }
 ],
 "metadata": {
  "kernelspec": {
   "display_name": "Python 3",
   "language": "python",
   "name": "python3"
  },
  "language_info": {
   "codemirror_mode": {
    "name": "ipython",
    "version": 3
   },
   "file_extension": ".py",
   "mimetype": "text/x-python",
   "name": "python",
   "nbconvert_exporter": "python",
   "pygments_lexer": "ipython3",
   "version": "3.7.8"
  }
 },
 "nbformat": 4,
 "nbformat_minor": 4
}
