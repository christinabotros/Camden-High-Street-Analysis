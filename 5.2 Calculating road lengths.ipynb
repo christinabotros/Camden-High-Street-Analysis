{
 "cells": [
  {
   "cell_type": "markdown",
   "metadata": {},
   "source": [
    "### Calculating Road Lengths"
   ]
  },
  {
   "cell_type": "code",
   "execution_count": 1,
   "metadata": {},
   "outputs": [],
   "source": [
    "import os\n",
    "import numpy as np\n",
    "import pandas as pd\n",
    "import geopandas as gpd\n",
    "import matplotlib.cm as cm\n",
    "import matplotlib.pyplot as plt\n",
    "from requests import get\n",
    "from urllib.parse import urlparse"
   ]
  },
  {
   "cell_type": "code",
   "execution_count": 2,
   "metadata": {},
   "outputs": [],
   "source": [
    "import pandas as pd\n",
    "import geopandas as gpd\n",
    "import os\n",
    "import numpy as np\n",
    "import matplotlib.pyplot as plt\n",
    "import mapclassify as mc\n",
    "import pysal as p\n",
    "import palettable.matplotlib as palmpl\n",
    "import seaborn as sns\n",
    "\n",
    "from sklearn.linear_model import LinearRegression\n",
    "import statsmodels.api as sm\n",
    "\n",
    "from sklearn.cluster import KMeans\n",
    "from sklearn.metrics import silhouette_score\n",
    "from scipy.cluster.hierarchy import dendrogram, linkage, set_link_color_palette"
   ]
  },
  {
   "cell_type": "code",
   "execution_count": 3,
   "metadata": {},
   "outputs": [],
   "source": [
    "CamHS = gpd.read_file('Complete HS/CAMDEN_HS.shp')"
   ]
  },
  {
   "cell_type": "code",
   "execution_count": 4,
   "metadata": {},
   "outputs": [
    {
     "data": {
      "text/html": [
       "<div>\n",
       "<style scoped>\n",
       "    .dataframe tbody tr th:only-of-type {\n",
       "        vertical-align: middle;\n",
       "    }\n",
       "\n",
       "    .dataframe tbody tr th {\n",
       "        vertical-align: top;\n",
       "    }\n",
       "\n",
       "    .dataframe thead th {\n",
       "        text-align: right;\n",
       "    }\n",
       "</style>\n",
       "<table border=\"1\" class=\"dataframe\">\n",
       "  <thead>\n",
       "    <tr style=\"text-align: right;\">\n",
       "      <th></th>\n",
       "      <th>objectid</th>\n",
       "      <th>highstreet</th>\n",
       "      <th>highstre_1</th>\n",
       "      <th>area_ha</th>\n",
       "      <th>gdb_geomat</th>\n",
       "      <th>layer</th>\n",
       "      <th>path</th>\n",
       "      <th>geometry</th>\n",
       "    </tr>\n",
       "  </thead>\n",
       "  <tbody>\n",
       "    <tr>\n",
       "      <th>0</th>\n",
       "      <td>594</td>\n",
       "      <td>594</td>\n",
       "      <td>Eversholt Street, Somers Town</td>\n",
       "      <td>6.303698</td>\n",
       "      <td>None</td>\n",
       "      <td>Eversholt</td>\n",
       "      <td>C:/Users/CHRISTINA/OneDrive - University Colle...</td>\n",
       "      <td>POLYGON ((529676.878 182864.075, 529679.937 18...</td>\n",
       "    </tr>\n",
       "    <tr>\n",
       "      <th>1</th>\n",
       "      <td>322</td>\n",
       "      <td>322</td>\n",
       "      <td>Cricklewood Broadway, Cricklewood.</td>\n",
       "      <td>28.338859</td>\n",
       "      <td>None</td>\n",
       "      <td>Cricklewood</td>\n",
       "      <td>C:/Users/CHRISTINA/OneDrive - University Colle...</td>\n",
       "      <td>POLYGON ((523415.282 186284.726, 523422.134 18...</td>\n",
       "    </tr>\n",
       "    <tr>\n",
       "      <th>2</th>\n",
       "      <td>372</td>\n",
       "      <td>372</td>\n",
       "      <td>Fortune Green Road, Fortune Green.</td>\n",
       "      <td>6.581487</td>\n",
       "      <td>None</td>\n",
       "      <td>Fortune</td>\n",
       "      <td>C:/Users/CHRISTINA/OneDrive - University Colle...</td>\n",
       "      <td>POLYGON ((525198.994 185637.081, 525201.838 18...</td>\n",
       "    </tr>\n",
       "    <tr>\n",
       "      <th>3</th>\n",
       "      <td>285</td>\n",
       "      <td>285</td>\n",
       "      <td>Fortress Road, Tufnell Park.</td>\n",
       "      <td>28.325719</td>\n",
       "      <td>None</td>\n",
       "      <td>Fortress</td>\n",
       "      <td>C:/Users/CHRISTINA/OneDrive - University Colle...</td>\n",
       "      <td>POLYGON ((529209.157 185757.682, 529206.506 18...</td>\n",
       "    </tr>\n",
       "    <tr>\n",
       "      <th>4</th>\n",
       "      <td>303</td>\n",
       "      <td>303</td>\n",
       "      <td>Belsize Lane, Belsize Park.</td>\n",
       "      <td>5.069615</td>\n",
       "      <td>None</td>\n",
       "      <td>Belsize</td>\n",
       "      <td>C:/Users/CHRISTINA/OneDrive - University Colle...</td>\n",
       "      <td>POLYGON ((526892.645 185059.806, 526900.890 18...</td>\n",
       "    </tr>\n",
       "    <tr>\n",
       "      <th>5</th>\n",
       "      <td>287</td>\n",
       "      <td>287</td>\n",
       "      <td>Camden Town HS</td>\n",
       "      <td>56.349258</td>\n",
       "      <td>None</td>\n",
       "      <td>CamdenT</td>\n",
       "      <td>C:/Users/CHRISTINA/OneDrive - University Colle...</td>\n",
       "      <td>POLYGON ((528129.528 184489.100, 528138.350 18...</td>\n",
       "    </tr>\n",
       "    <tr>\n",
       "      <th>6</th>\n",
       "      <td>97</td>\n",
       "      <td>97</td>\n",
       "      <td>Brecknock Road &amp; York Way.</td>\n",
       "      <td>15.327961</td>\n",
       "      <td>None</td>\n",
       "      <td>Brecknock</td>\n",
       "      <td>C:/Users/CHRISTINA/OneDrive - University Colle...</td>\n",
       "      <td>POLYGON ((529626.963 185290.470, 529619.385 18...</td>\n",
       "    </tr>\n",
       "    <tr>\n",
       "      <th>7</th>\n",
       "      <td>468</td>\n",
       "      <td>468</td>\n",
       "      <td>Mansfield Road, Gospel Oak</td>\n",
       "      <td>3.508042</td>\n",
       "      <td>None</td>\n",
       "      <td>Mansfield</td>\n",
       "      <td>C:/Users/CHRISTINA/OneDrive - University Colle...</td>\n",
       "      <td>POLYGON ((528267.619 185602.755, 527975.356 18...</td>\n",
       "    </tr>\n",
       "    <tr>\n",
       "      <th>8</th>\n",
       "      <td>304</td>\n",
       "      <td>304</td>\n",
       "      <td>Loudoun Road, South Hampstead.</td>\n",
       "      <td>8.078871</td>\n",
       "      <td>None</td>\n",
       "      <td>Loudoun</td>\n",
       "      <td>C:/Users/CHRISTINA/OneDrive - University Colle...</td>\n",
       "      <td>POLYGON ((526350.252 184351.109, 526360.006 18...</td>\n",
       "    </tr>\n",
       "    <tr>\n",
       "      <th>9</th>\n",
       "      <td>328</td>\n",
       "      <td>328</td>\n",
       "      <td>Queen?s Crescent, Gospel Oak.</td>\n",
       "      <td>10.314779</td>\n",
       "      <td>None</td>\n",
       "      <td>Queens</td>\n",
       "      <td>C:/Users/CHRISTINA/OneDrive - University Colle...</td>\n",
       "      <td>POLYGON ((528422.038 185153.550, 528417.412 18...</td>\n",
       "    </tr>\n",
       "    <tr>\n",
       "      <th>10</th>\n",
       "      <td>355</td>\n",
       "      <td>355</td>\n",
       "      <td>Mill Lane, West Hampstead.</td>\n",
       "      <td>6.608539</td>\n",
       "      <td>None</td>\n",
       "      <td>Mill</td>\n",
       "      <td>C:/Users/CHRISTINA/OneDrive - University Colle...</td>\n",
       "      <td>POLYGON ((525207.511 185291.200, 525216.152 18...</td>\n",
       "    </tr>\n",
       "    <tr>\n",
       "      <th>11</th>\n",
       "      <td>306</td>\n",
       "      <td>306</td>\n",
       "      <td>Haverstock Hill, Belsize Park.</td>\n",
       "      <td>7.074332</td>\n",
       "      <td>None</td>\n",
       "      <td>Haverstock</td>\n",
       "      <td>C:/Users/CHRISTINA/OneDrive - University Colle...</td>\n",
       "      <td>POLYGON ((527238.261 185262.468, 527237.189 18...</td>\n",
       "    </tr>\n",
       "    <tr>\n",
       "      <th>12</th>\n",
       "      <td>554</td>\n",
       "      <td>554</td>\n",
       "      <td>Hampstead High Street, Hampstead.</td>\n",
       "      <td>18.015724</td>\n",
       "      <td>None</td>\n",
       "      <td>Hampstead</td>\n",
       "      <td>C:/Users/CHRISTINA/OneDrive - University Colle...</td>\n",
       "      <td>POLYGON ((526487.202 186045.854, 526489.502 18...</td>\n",
       "    </tr>\n",
       "    <tr>\n",
       "      <th>13</th>\n",
       "      <td>335</td>\n",
       "      <td>335</td>\n",
       "      <td>Kilburn High Road, Kilburn.</td>\n",
       "      <td>39.984193</td>\n",
       "      <td>None</td>\n",
       "      <td>Kilburn</td>\n",
       "      <td>C:/Users/CHRISTINA/OneDrive - University Colle...</td>\n",
       "      <td>POLYGON ((524558.097 184716.395, 524570.291 18...</td>\n",
       "    </tr>\n",
       "    <tr>\n",
       "      <th>14</th>\n",
       "      <td>98</td>\n",
       "      <td>98</td>\n",
       "      <td>Kentish Town Road.</td>\n",
       "      <td>11.453950</td>\n",
       "      <td>None</td>\n",
       "      <td>Kentish</td>\n",
       "      <td>C:/Users/CHRISTINA/OneDrive - University Colle...</td>\n",
       "      <td>POLYGON ((529169.048 184315.559, 529169.180 18...</td>\n",
       "    </tr>\n",
       "    <tr>\n",
       "      <th>15</th>\n",
       "      <td>307</td>\n",
       "      <td>307</td>\n",
       "      <td>South End Road, Hampstead.</td>\n",
       "      <td>6.131431</td>\n",
       "      <td>None</td>\n",
       "      <td>SouthEnd</td>\n",
       "      <td>C:/Users/CHRISTINA/OneDrive - University Colle...</td>\n",
       "      <td>POLYGON ((527231.814 185728.745, 527232.663 18...</td>\n",
       "    </tr>\n",
       "    <tr>\n",
       "      <th>16</th>\n",
       "      <td>324</td>\n",
       "      <td>324</td>\n",
       "      <td>Regent?s Park Road.</td>\n",
       "      <td>6.568312</td>\n",
       "      <td>None</td>\n",
       "      <td>Regents</td>\n",
       "      <td>C:/Users/CHRISTINA/OneDrive - University Colle...</td>\n",
       "      <td>POLYGON ((528024.939 184302.073, 528029.334 18...</td>\n",
       "    </tr>\n",
       "    <tr>\n",
       "      <th>17</th>\n",
       "      <td>373</td>\n",
       "      <td>373</td>\n",
       "      <td>Willesden Lane, Brondesbury.</td>\n",
       "      <td>5.035185</td>\n",
       "      <td>None</td>\n",
       "      <td>Willesden</td>\n",
       "      <td>C:/Users/CHRISTINA/OneDrive - University Colle...</td>\n",
       "      <td>POLYGON ((525186.404 184444.972, 525192.076 18...</td>\n",
       "    </tr>\n",
       "    <tr>\n",
       "      <th>18</th>\n",
       "      <td>555</td>\n",
       "      <td>555</td>\n",
       "      <td>West End Lane, West Hampstead.</td>\n",
       "      <td>46.748979</td>\n",
       "      <td>None</td>\n",
       "      <td>WestEnd</td>\n",
       "      <td>C:/Users/CHRISTINA/OneDrive - University Colle...</td>\n",
       "      <td>POLYGON ((525496.377 185274.565, 525502.593 18...</td>\n",
       "    </tr>\n",
       "  </tbody>\n",
       "</table>\n",
       "</div>"
      ],
      "text/plain": [
       "    objectid  highstreet                          highstre_1    area_ha  \\\n",
       "0        594         594       Eversholt Street, Somers Town   6.303698   \n",
       "1        322         322  Cricklewood Broadway, Cricklewood.  28.338859   \n",
       "2        372         372  Fortune Green Road, Fortune Green.   6.581487   \n",
       "3        285         285        Fortress Road, Tufnell Park.  28.325719   \n",
       "4        303         303         Belsize Lane, Belsize Park.   5.069615   \n",
       "5        287         287                      Camden Town HS  56.349258   \n",
       "6         97          97          Brecknock Road & York Way.  15.327961   \n",
       "7        468         468          Mansfield Road, Gospel Oak   3.508042   \n",
       "8        304         304      Loudoun Road, South Hampstead.   8.078871   \n",
       "9        328         328       Queen?s Crescent, Gospel Oak.  10.314779   \n",
       "10       355         355          Mill Lane, West Hampstead.   6.608539   \n",
       "11       306         306      Haverstock Hill, Belsize Park.   7.074332   \n",
       "12       554         554   Hampstead High Street, Hampstead.  18.015724   \n",
       "13       335         335         Kilburn High Road, Kilburn.  39.984193   \n",
       "14        98          98                  Kentish Town Road.  11.453950   \n",
       "15       307         307          South End Road, Hampstead.   6.131431   \n",
       "16       324         324                 Regent?s Park Road.   6.568312   \n",
       "17       373         373        Willesden Lane, Brondesbury.   5.035185   \n",
       "18       555         555      West End Lane, West Hampstead.  46.748979   \n",
       "\n",
       "   gdb_geomat        layer                                               path  \\\n",
       "0        None    Eversholt  C:/Users/CHRISTINA/OneDrive - University Colle...   \n",
       "1        None  Cricklewood  C:/Users/CHRISTINA/OneDrive - University Colle...   \n",
       "2        None      Fortune  C:/Users/CHRISTINA/OneDrive - University Colle...   \n",
       "3        None     Fortress  C:/Users/CHRISTINA/OneDrive - University Colle...   \n",
       "4        None      Belsize  C:/Users/CHRISTINA/OneDrive - University Colle...   \n",
       "5        None      CamdenT  C:/Users/CHRISTINA/OneDrive - University Colle...   \n",
       "6        None    Brecknock  C:/Users/CHRISTINA/OneDrive - University Colle...   \n",
       "7        None    Mansfield  C:/Users/CHRISTINA/OneDrive - University Colle...   \n",
       "8        None      Loudoun  C:/Users/CHRISTINA/OneDrive - University Colle...   \n",
       "9        None       Queens  C:/Users/CHRISTINA/OneDrive - University Colle...   \n",
       "10       None         Mill  C:/Users/CHRISTINA/OneDrive - University Colle...   \n",
       "11       None   Haverstock  C:/Users/CHRISTINA/OneDrive - University Colle...   \n",
       "12       None    Hampstead  C:/Users/CHRISTINA/OneDrive - University Colle...   \n",
       "13       None      Kilburn  C:/Users/CHRISTINA/OneDrive - University Colle...   \n",
       "14       None      Kentish  C:/Users/CHRISTINA/OneDrive - University Colle...   \n",
       "15       None     SouthEnd  C:/Users/CHRISTINA/OneDrive - University Colle...   \n",
       "16       None      Regents  C:/Users/CHRISTINA/OneDrive - University Colle...   \n",
       "17       None    Willesden  C:/Users/CHRISTINA/OneDrive - University Colle...   \n",
       "18       None      WestEnd  C:/Users/CHRISTINA/OneDrive - University Colle...   \n",
       "\n",
       "                                             geometry  \n",
       "0   POLYGON ((529676.878 182864.075, 529679.937 18...  \n",
       "1   POLYGON ((523415.282 186284.726, 523422.134 18...  \n",
       "2   POLYGON ((525198.994 185637.081, 525201.838 18...  \n",
       "3   POLYGON ((529209.157 185757.682, 529206.506 18...  \n",
       "4   POLYGON ((526892.645 185059.806, 526900.890 18...  \n",
       "5   POLYGON ((528129.528 184489.100, 528138.350 18...  \n",
       "6   POLYGON ((529626.963 185290.470, 529619.385 18...  \n",
       "7   POLYGON ((528267.619 185602.755, 527975.356 18...  \n",
       "8   POLYGON ((526350.252 184351.109, 526360.006 18...  \n",
       "9   POLYGON ((528422.038 185153.550, 528417.412 18...  \n",
       "10  POLYGON ((525207.511 185291.200, 525216.152 18...  \n",
       "11  POLYGON ((527238.261 185262.468, 527237.189 18...  \n",
       "12  POLYGON ((526487.202 186045.854, 526489.502 18...  \n",
       "13  POLYGON ((524558.097 184716.395, 524570.291 18...  \n",
       "14  POLYGON ((529169.048 184315.559, 529169.180 18...  \n",
       "15  POLYGON ((527231.814 185728.745, 527232.663 18...  \n",
       "16  POLYGON ((528024.939 184302.073, 528029.334 18...  \n",
       "17  POLYGON ((525186.404 184444.972, 525192.076 18...  \n",
       "18  POLYGON ((525496.377 185274.565, 525502.593 18...  "
      ]
     },
     "execution_count": 4,
     "metadata": {},
     "output_type": "execute_result"
    }
   ],
   "source": [
    "CamHS"
   ]
  },
  {
   "cell_type": "code",
   "execution_count": 5,
   "metadata": {},
   "outputs": [
    {
     "name": "stdout",
     "output_type": "stream",
     "text": [
      "epsg:27700\n"
     ]
    }
   ],
   "source": [
    "print(CamHS.crs)"
   ]
  },
  {
   "cell_type": "code",
   "execution_count": 6,
   "metadata": {},
   "outputs": [],
   "source": [
    "CamHS['highstreet_name'] = CamHS['layer']"
   ]
  },
  {
   "cell_type": "code",
   "execution_count": 7,
   "metadata": {},
   "outputs": [],
   "source": [
    "CamHS['road_length'] = 0"
   ]
  },
  {
   "cell_type": "code",
   "execution_count": 8,
   "metadata": {},
   "outputs": [],
   "source": [
    "CamHS['road_length'] = CamHS['road_length'].astype('float')"
   ]
  },
  {
   "cell_type": "code",
   "execution_count": 9,
   "metadata": {},
   "outputs": [
    {
     "data": {
      "text/html": [
       "<div>\n",
       "<style scoped>\n",
       "    .dataframe tbody tr th:only-of-type {\n",
       "        vertical-align: middle;\n",
       "    }\n",
       "\n",
       "    .dataframe tbody tr th {\n",
       "        vertical-align: top;\n",
       "    }\n",
       "\n",
       "    .dataframe thead th {\n",
       "        text-align: right;\n",
       "    }\n",
       "</style>\n",
       "<table border=\"1\" class=\"dataframe\">\n",
       "  <thead>\n",
       "    <tr style=\"text-align: right;\">\n",
       "      <th></th>\n",
       "      <th>objectid</th>\n",
       "      <th>highstreet</th>\n",
       "      <th>highstre_1</th>\n",
       "      <th>area_ha</th>\n",
       "      <th>gdb_geomat</th>\n",
       "      <th>layer</th>\n",
       "      <th>path</th>\n",
       "      <th>geometry</th>\n",
       "      <th>highstreet_name</th>\n",
       "      <th>road_length</th>\n",
       "    </tr>\n",
       "  </thead>\n",
       "  <tbody>\n",
       "    <tr>\n",
       "      <th>0</th>\n",
       "      <td>594</td>\n",
       "      <td>594</td>\n",
       "      <td>Eversholt Street, Somers Town</td>\n",
       "      <td>6.303698</td>\n",
       "      <td>None</td>\n",
       "      <td>Eversholt</td>\n",
       "      <td>C:/Users/CHRISTINA/OneDrive - University Colle...</td>\n",
       "      <td>POLYGON ((529676.878 182864.075, 529679.937 18...</td>\n",
       "      <td>Eversholt</td>\n",
       "      <td>0.0</td>\n",
       "    </tr>\n",
       "    <tr>\n",
       "      <th>1</th>\n",
       "      <td>322</td>\n",
       "      <td>322</td>\n",
       "      <td>Cricklewood Broadway, Cricklewood.</td>\n",
       "      <td>28.338859</td>\n",
       "      <td>None</td>\n",
       "      <td>Cricklewood</td>\n",
       "      <td>C:/Users/CHRISTINA/OneDrive - University Colle...</td>\n",
       "      <td>POLYGON ((523415.282 186284.726, 523422.134 18...</td>\n",
       "      <td>Cricklewood</td>\n",
       "      <td>0.0</td>\n",
       "    </tr>\n",
       "    <tr>\n",
       "      <th>2</th>\n",
       "      <td>372</td>\n",
       "      <td>372</td>\n",
       "      <td>Fortune Green Road, Fortune Green.</td>\n",
       "      <td>6.581487</td>\n",
       "      <td>None</td>\n",
       "      <td>Fortune</td>\n",
       "      <td>C:/Users/CHRISTINA/OneDrive - University Colle...</td>\n",
       "      <td>POLYGON ((525198.994 185637.081, 525201.838 18...</td>\n",
       "      <td>Fortune</td>\n",
       "      <td>0.0</td>\n",
       "    </tr>\n",
       "    <tr>\n",
       "      <th>3</th>\n",
       "      <td>285</td>\n",
       "      <td>285</td>\n",
       "      <td>Fortress Road, Tufnell Park.</td>\n",
       "      <td>28.325719</td>\n",
       "      <td>None</td>\n",
       "      <td>Fortress</td>\n",
       "      <td>C:/Users/CHRISTINA/OneDrive - University Colle...</td>\n",
       "      <td>POLYGON ((529209.157 185757.682, 529206.506 18...</td>\n",
       "      <td>Fortress</td>\n",
       "      <td>0.0</td>\n",
       "    </tr>\n",
       "    <tr>\n",
       "      <th>4</th>\n",
       "      <td>303</td>\n",
       "      <td>303</td>\n",
       "      <td>Belsize Lane, Belsize Park.</td>\n",
       "      <td>5.069615</td>\n",
       "      <td>None</td>\n",
       "      <td>Belsize</td>\n",
       "      <td>C:/Users/CHRISTINA/OneDrive - University Colle...</td>\n",
       "      <td>POLYGON ((526892.645 185059.806, 526900.890 18...</td>\n",
       "      <td>Belsize</td>\n",
       "      <td>0.0</td>\n",
       "    </tr>\n",
       "    <tr>\n",
       "      <th>5</th>\n",
       "      <td>287</td>\n",
       "      <td>287</td>\n",
       "      <td>Camden Town HS</td>\n",
       "      <td>56.349258</td>\n",
       "      <td>None</td>\n",
       "      <td>CamdenT</td>\n",
       "      <td>C:/Users/CHRISTINA/OneDrive - University Colle...</td>\n",
       "      <td>POLYGON ((528129.528 184489.100, 528138.350 18...</td>\n",
       "      <td>CamdenT</td>\n",
       "      <td>0.0</td>\n",
       "    </tr>\n",
       "    <tr>\n",
       "      <th>6</th>\n",
       "      <td>97</td>\n",
       "      <td>97</td>\n",
       "      <td>Brecknock Road &amp; York Way.</td>\n",
       "      <td>15.327961</td>\n",
       "      <td>None</td>\n",
       "      <td>Brecknock</td>\n",
       "      <td>C:/Users/CHRISTINA/OneDrive - University Colle...</td>\n",
       "      <td>POLYGON ((529626.963 185290.470, 529619.385 18...</td>\n",
       "      <td>Brecknock</td>\n",
       "      <td>0.0</td>\n",
       "    </tr>\n",
       "    <tr>\n",
       "      <th>7</th>\n",
       "      <td>468</td>\n",
       "      <td>468</td>\n",
       "      <td>Mansfield Road, Gospel Oak</td>\n",
       "      <td>3.508042</td>\n",
       "      <td>None</td>\n",
       "      <td>Mansfield</td>\n",
       "      <td>C:/Users/CHRISTINA/OneDrive - University Colle...</td>\n",
       "      <td>POLYGON ((528267.619 185602.755, 527975.356 18...</td>\n",
       "      <td>Mansfield</td>\n",
       "      <td>0.0</td>\n",
       "    </tr>\n",
       "    <tr>\n",
       "      <th>8</th>\n",
       "      <td>304</td>\n",
       "      <td>304</td>\n",
       "      <td>Loudoun Road, South Hampstead.</td>\n",
       "      <td>8.078871</td>\n",
       "      <td>None</td>\n",
       "      <td>Loudoun</td>\n",
       "      <td>C:/Users/CHRISTINA/OneDrive - University Colle...</td>\n",
       "      <td>POLYGON ((526350.252 184351.109, 526360.006 18...</td>\n",
       "      <td>Loudoun</td>\n",
       "      <td>0.0</td>\n",
       "    </tr>\n",
       "    <tr>\n",
       "      <th>9</th>\n",
       "      <td>328</td>\n",
       "      <td>328</td>\n",
       "      <td>Queen?s Crescent, Gospel Oak.</td>\n",
       "      <td>10.314779</td>\n",
       "      <td>None</td>\n",
       "      <td>Queens</td>\n",
       "      <td>C:/Users/CHRISTINA/OneDrive - University Colle...</td>\n",
       "      <td>POLYGON ((528422.038 185153.550, 528417.412 18...</td>\n",
       "      <td>Queens</td>\n",
       "      <td>0.0</td>\n",
       "    </tr>\n",
       "    <tr>\n",
       "      <th>10</th>\n",
       "      <td>355</td>\n",
       "      <td>355</td>\n",
       "      <td>Mill Lane, West Hampstead.</td>\n",
       "      <td>6.608539</td>\n",
       "      <td>None</td>\n",
       "      <td>Mill</td>\n",
       "      <td>C:/Users/CHRISTINA/OneDrive - University Colle...</td>\n",
       "      <td>POLYGON ((525207.511 185291.200, 525216.152 18...</td>\n",
       "      <td>Mill</td>\n",
       "      <td>0.0</td>\n",
       "    </tr>\n",
       "    <tr>\n",
       "      <th>11</th>\n",
       "      <td>306</td>\n",
       "      <td>306</td>\n",
       "      <td>Haverstock Hill, Belsize Park.</td>\n",
       "      <td>7.074332</td>\n",
       "      <td>None</td>\n",
       "      <td>Haverstock</td>\n",
       "      <td>C:/Users/CHRISTINA/OneDrive - University Colle...</td>\n",
       "      <td>POLYGON ((527238.261 185262.468, 527237.189 18...</td>\n",
       "      <td>Haverstock</td>\n",
       "      <td>0.0</td>\n",
       "    </tr>\n",
       "    <tr>\n",
       "      <th>12</th>\n",
       "      <td>554</td>\n",
       "      <td>554</td>\n",
       "      <td>Hampstead High Street, Hampstead.</td>\n",
       "      <td>18.015724</td>\n",
       "      <td>None</td>\n",
       "      <td>Hampstead</td>\n",
       "      <td>C:/Users/CHRISTINA/OneDrive - University Colle...</td>\n",
       "      <td>POLYGON ((526487.202 186045.854, 526489.502 18...</td>\n",
       "      <td>Hampstead</td>\n",
       "      <td>0.0</td>\n",
       "    </tr>\n",
       "    <tr>\n",
       "      <th>13</th>\n",
       "      <td>335</td>\n",
       "      <td>335</td>\n",
       "      <td>Kilburn High Road, Kilburn.</td>\n",
       "      <td>39.984193</td>\n",
       "      <td>None</td>\n",
       "      <td>Kilburn</td>\n",
       "      <td>C:/Users/CHRISTINA/OneDrive - University Colle...</td>\n",
       "      <td>POLYGON ((524558.097 184716.395, 524570.291 18...</td>\n",
       "      <td>Kilburn</td>\n",
       "      <td>0.0</td>\n",
       "    </tr>\n",
       "    <tr>\n",
       "      <th>14</th>\n",
       "      <td>98</td>\n",
       "      <td>98</td>\n",
       "      <td>Kentish Town Road.</td>\n",
       "      <td>11.453950</td>\n",
       "      <td>None</td>\n",
       "      <td>Kentish</td>\n",
       "      <td>C:/Users/CHRISTINA/OneDrive - University Colle...</td>\n",
       "      <td>POLYGON ((529169.048 184315.559, 529169.180 18...</td>\n",
       "      <td>Kentish</td>\n",
       "      <td>0.0</td>\n",
       "    </tr>\n",
       "    <tr>\n",
       "      <th>15</th>\n",
       "      <td>307</td>\n",
       "      <td>307</td>\n",
       "      <td>South End Road, Hampstead.</td>\n",
       "      <td>6.131431</td>\n",
       "      <td>None</td>\n",
       "      <td>SouthEnd</td>\n",
       "      <td>C:/Users/CHRISTINA/OneDrive - University Colle...</td>\n",
       "      <td>POLYGON ((527231.814 185728.745, 527232.663 18...</td>\n",
       "      <td>SouthEnd</td>\n",
       "      <td>0.0</td>\n",
       "    </tr>\n",
       "    <tr>\n",
       "      <th>16</th>\n",
       "      <td>324</td>\n",
       "      <td>324</td>\n",
       "      <td>Regent?s Park Road.</td>\n",
       "      <td>6.568312</td>\n",
       "      <td>None</td>\n",
       "      <td>Regents</td>\n",
       "      <td>C:/Users/CHRISTINA/OneDrive - University Colle...</td>\n",
       "      <td>POLYGON ((528024.939 184302.073, 528029.334 18...</td>\n",
       "      <td>Regents</td>\n",
       "      <td>0.0</td>\n",
       "    </tr>\n",
       "    <tr>\n",
       "      <th>17</th>\n",
       "      <td>373</td>\n",
       "      <td>373</td>\n",
       "      <td>Willesden Lane, Brondesbury.</td>\n",
       "      <td>5.035185</td>\n",
       "      <td>None</td>\n",
       "      <td>Willesden</td>\n",
       "      <td>C:/Users/CHRISTINA/OneDrive - University Colle...</td>\n",
       "      <td>POLYGON ((525186.404 184444.972, 525192.076 18...</td>\n",
       "      <td>Willesden</td>\n",
       "      <td>0.0</td>\n",
       "    </tr>\n",
       "    <tr>\n",
       "      <th>18</th>\n",
       "      <td>555</td>\n",
       "      <td>555</td>\n",
       "      <td>West End Lane, West Hampstead.</td>\n",
       "      <td>46.748979</td>\n",
       "      <td>None</td>\n",
       "      <td>WestEnd</td>\n",
       "      <td>C:/Users/CHRISTINA/OneDrive - University Colle...</td>\n",
       "      <td>POLYGON ((525496.377 185274.565, 525502.593 18...</td>\n",
       "      <td>WestEnd</td>\n",
       "      <td>0.0</td>\n",
       "    </tr>\n",
       "  </tbody>\n",
       "</table>\n",
       "</div>"
      ],
      "text/plain": [
       "    objectid  highstreet                          highstre_1    area_ha  \\\n",
       "0        594         594       Eversholt Street, Somers Town   6.303698   \n",
       "1        322         322  Cricklewood Broadway, Cricklewood.  28.338859   \n",
       "2        372         372  Fortune Green Road, Fortune Green.   6.581487   \n",
       "3        285         285        Fortress Road, Tufnell Park.  28.325719   \n",
       "4        303         303         Belsize Lane, Belsize Park.   5.069615   \n",
       "5        287         287                      Camden Town HS  56.349258   \n",
       "6         97          97          Brecknock Road & York Way.  15.327961   \n",
       "7        468         468          Mansfield Road, Gospel Oak   3.508042   \n",
       "8        304         304      Loudoun Road, South Hampstead.   8.078871   \n",
       "9        328         328       Queen?s Crescent, Gospel Oak.  10.314779   \n",
       "10       355         355          Mill Lane, West Hampstead.   6.608539   \n",
       "11       306         306      Haverstock Hill, Belsize Park.   7.074332   \n",
       "12       554         554   Hampstead High Street, Hampstead.  18.015724   \n",
       "13       335         335         Kilburn High Road, Kilburn.  39.984193   \n",
       "14        98          98                  Kentish Town Road.  11.453950   \n",
       "15       307         307          South End Road, Hampstead.   6.131431   \n",
       "16       324         324                 Regent?s Park Road.   6.568312   \n",
       "17       373         373        Willesden Lane, Brondesbury.   5.035185   \n",
       "18       555         555      West End Lane, West Hampstead.  46.748979   \n",
       "\n",
       "   gdb_geomat        layer                                               path  \\\n",
       "0        None    Eversholt  C:/Users/CHRISTINA/OneDrive - University Colle...   \n",
       "1        None  Cricklewood  C:/Users/CHRISTINA/OneDrive - University Colle...   \n",
       "2        None      Fortune  C:/Users/CHRISTINA/OneDrive - University Colle...   \n",
       "3        None     Fortress  C:/Users/CHRISTINA/OneDrive - University Colle...   \n",
       "4        None      Belsize  C:/Users/CHRISTINA/OneDrive - University Colle...   \n",
       "5        None      CamdenT  C:/Users/CHRISTINA/OneDrive - University Colle...   \n",
       "6        None    Brecknock  C:/Users/CHRISTINA/OneDrive - University Colle...   \n",
       "7        None    Mansfield  C:/Users/CHRISTINA/OneDrive - University Colle...   \n",
       "8        None      Loudoun  C:/Users/CHRISTINA/OneDrive - University Colle...   \n",
       "9        None       Queens  C:/Users/CHRISTINA/OneDrive - University Colle...   \n",
       "10       None         Mill  C:/Users/CHRISTINA/OneDrive - University Colle...   \n",
       "11       None   Haverstock  C:/Users/CHRISTINA/OneDrive - University Colle...   \n",
       "12       None    Hampstead  C:/Users/CHRISTINA/OneDrive - University Colle...   \n",
       "13       None      Kilburn  C:/Users/CHRISTINA/OneDrive - University Colle...   \n",
       "14       None      Kentish  C:/Users/CHRISTINA/OneDrive - University Colle...   \n",
       "15       None     SouthEnd  C:/Users/CHRISTINA/OneDrive - University Colle...   \n",
       "16       None      Regents  C:/Users/CHRISTINA/OneDrive - University Colle...   \n",
       "17       None    Willesden  C:/Users/CHRISTINA/OneDrive - University Colle...   \n",
       "18       None      WestEnd  C:/Users/CHRISTINA/OneDrive - University Colle...   \n",
       "\n",
       "                                             geometry highstreet_name  \\\n",
       "0   POLYGON ((529676.878 182864.075, 529679.937 18...       Eversholt   \n",
       "1   POLYGON ((523415.282 186284.726, 523422.134 18...     Cricklewood   \n",
       "2   POLYGON ((525198.994 185637.081, 525201.838 18...         Fortune   \n",
       "3   POLYGON ((529209.157 185757.682, 529206.506 18...        Fortress   \n",
       "4   POLYGON ((526892.645 185059.806, 526900.890 18...         Belsize   \n",
       "5   POLYGON ((528129.528 184489.100, 528138.350 18...         CamdenT   \n",
       "6   POLYGON ((529626.963 185290.470, 529619.385 18...       Brecknock   \n",
       "7   POLYGON ((528267.619 185602.755, 527975.356 18...       Mansfield   \n",
       "8   POLYGON ((526350.252 184351.109, 526360.006 18...         Loudoun   \n",
       "9   POLYGON ((528422.038 185153.550, 528417.412 18...          Queens   \n",
       "10  POLYGON ((525207.511 185291.200, 525216.152 18...            Mill   \n",
       "11  POLYGON ((527238.261 185262.468, 527237.189 18...      Haverstock   \n",
       "12  POLYGON ((526487.202 186045.854, 526489.502 18...       Hampstead   \n",
       "13  POLYGON ((524558.097 184716.395, 524570.291 18...         Kilburn   \n",
       "14  POLYGON ((529169.048 184315.559, 529169.180 18...         Kentish   \n",
       "15  POLYGON ((527231.814 185728.745, 527232.663 18...        SouthEnd   \n",
       "16  POLYGON ((528024.939 184302.073, 528029.334 18...         Regents   \n",
       "17  POLYGON ((525186.404 184444.972, 525192.076 18...       Willesden   \n",
       "18  POLYGON ((525496.377 185274.565, 525502.593 18...         WestEnd   \n",
       "\n",
       "    road_length  \n",
       "0           0.0  \n",
       "1           0.0  \n",
       "2           0.0  \n",
       "3           0.0  \n",
       "4           0.0  \n",
       "5           0.0  \n",
       "6           0.0  \n",
       "7           0.0  \n",
       "8           0.0  \n",
       "9           0.0  \n",
       "10          0.0  \n",
       "11          0.0  \n",
       "12          0.0  \n",
       "13          0.0  \n",
       "14          0.0  \n",
       "15          0.0  \n",
       "16          0.0  \n",
       "17          0.0  \n",
       "18          0.0  "
      ]
     },
     "execution_count": 9,
     "metadata": {},
     "output_type": "execute_result"
    }
   ],
   "source": [
    "CamHS"
   ]
  },
  {
   "cell_type": "markdown",
   "metadata": {},
   "source": [
    "## Belsize"
   ]
  },
  {
   "cell_type": "code",
   "execution_count": 10,
   "metadata": {},
   "outputs": [],
   "source": [
    "belsizeroad = gpd.read_file('High Street Roads/belsizeroad.shp')"
   ]
  },
  {
   "cell_type": "code",
   "execution_count": 11,
   "metadata": {},
   "outputs": [],
   "source": [
    "belsizeroad = belsizeroad.to_crs('EPSG:27700')"
   ]
  },
  {
   "cell_type": "code",
   "execution_count": 12,
   "metadata": {},
   "outputs": [],
   "source": [
    "belsizeroad = belsizeroad['geometry'].length.values"
   ]
  },
  {
   "cell_type": "code",
   "execution_count": 13,
   "metadata": {},
   "outputs": [
    {
     "data": {
      "text/plain": [
       "array([357.54817745])"
      ]
     },
     "execution_count": 13,
     "metadata": {},
     "output_type": "execute_result"
    }
   ],
   "source": [
    "belsizeroad"
   ]
  },
  {
   "cell_type": "code",
   "execution_count": 14,
   "metadata": {},
   "outputs": [],
   "source": [
    "CamHS.loc[4, 'road_length'] = belsizeroad"
   ]
  },
  {
   "cell_type": "code",
   "execution_count": 23,
   "metadata": {},
   "outputs": [
    {
     "data": {
      "text/html": [
       "<div>\n",
       "<style scoped>\n",
       "    .dataframe tbody tr th:only-of-type {\n",
       "        vertical-align: middle;\n",
       "    }\n",
       "\n",
       "    .dataframe tbody tr th {\n",
       "        vertical-align: top;\n",
       "    }\n",
       "\n",
       "    .dataframe thead th {\n",
       "        text-align: right;\n",
       "    }\n",
       "</style>\n",
       "<table border=\"1\" class=\"dataframe\">\n",
       "  <thead>\n",
       "    <tr style=\"text-align: right;\">\n",
       "      <th></th>\n",
       "      <th>objectid</th>\n",
       "      <th>highstreet</th>\n",
       "      <th>highstre_1</th>\n",
       "      <th>area_ha</th>\n",
       "      <th>gdb_geomat</th>\n",
       "      <th>layer</th>\n",
       "      <th>path</th>\n",
       "      <th>geometry</th>\n",
       "      <th>highstreet_name</th>\n",
       "      <th>road_length</th>\n",
       "    </tr>\n",
       "  </thead>\n",
       "  <tbody>\n",
       "    <tr>\n",
       "      <th>0</th>\n",
       "      <td>594</td>\n",
       "      <td>594</td>\n",
       "      <td>Eversholt Street, Somers Town</td>\n",
       "      <td>6.303698</td>\n",
       "      <td>None</td>\n",
       "      <td>Eversholt</td>\n",
       "      <td>C:/Users/CHRISTINA/OneDrive - University Colle...</td>\n",
       "      <td>POLYGON ((529676.878 182864.075, 529679.937 18...</td>\n",
       "      <td>Eversholt</td>\n",
       "      <td>0.000000</td>\n",
       "    </tr>\n",
       "    <tr>\n",
       "      <th>1</th>\n",
       "      <td>322</td>\n",
       "      <td>322</td>\n",
       "      <td>Cricklewood Broadway, Cricklewood.</td>\n",
       "      <td>28.338859</td>\n",
       "      <td>None</td>\n",
       "      <td>Cricklewood</td>\n",
       "      <td>C:/Users/CHRISTINA/OneDrive - University Colle...</td>\n",
       "      <td>POLYGON ((523415.282 186284.726, 523422.134 18...</td>\n",
       "      <td>Cricklewood</td>\n",
       "      <td>0.000000</td>\n",
       "    </tr>\n",
       "    <tr>\n",
       "      <th>2</th>\n",
       "      <td>372</td>\n",
       "      <td>372</td>\n",
       "      <td>Fortune Green Road, Fortune Green.</td>\n",
       "      <td>6.581487</td>\n",
       "      <td>None</td>\n",
       "      <td>Fortune</td>\n",
       "      <td>C:/Users/CHRISTINA/OneDrive - University Colle...</td>\n",
       "      <td>POLYGON ((525198.994 185637.081, 525201.838 18...</td>\n",
       "      <td>Fortune</td>\n",
       "      <td>0.000000</td>\n",
       "    </tr>\n",
       "    <tr>\n",
       "      <th>3</th>\n",
       "      <td>285</td>\n",
       "      <td>285</td>\n",
       "      <td>Fortress Road, Tufnell Park.</td>\n",
       "      <td>28.325719</td>\n",
       "      <td>None</td>\n",
       "      <td>Fortress</td>\n",
       "      <td>C:/Users/CHRISTINA/OneDrive - University Colle...</td>\n",
       "      <td>POLYGON ((529209.157 185757.682, 529206.506 18...</td>\n",
       "      <td>Fortress</td>\n",
       "      <td>0.000000</td>\n",
       "    </tr>\n",
       "    <tr>\n",
       "      <th>4</th>\n",
       "      <td>303</td>\n",
       "      <td>303</td>\n",
       "      <td>Belsize Lane, Belsize Park.</td>\n",
       "      <td>5.069615</td>\n",
       "      <td>None</td>\n",
       "      <td>Belsize</td>\n",
       "      <td>C:/Users/CHRISTINA/OneDrive - University Colle...</td>\n",
       "      <td>POLYGON ((526892.645 185059.806, 526900.890 18...</td>\n",
       "      <td>Belsize</td>\n",
       "      <td>357.548177</td>\n",
       "    </tr>\n",
       "    <tr>\n",
       "      <th>5</th>\n",
       "      <td>287</td>\n",
       "      <td>287</td>\n",
       "      <td>Camden Town HS</td>\n",
       "      <td>56.349258</td>\n",
       "      <td>None</td>\n",
       "      <td>CamdenT</td>\n",
       "      <td>C:/Users/CHRISTINA/OneDrive - University Colle...</td>\n",
       "      <td>POLYGON ((528129.528 184489.100, 528138.350 18...</td>\n",
       "      <td>CamdenT</td>\n",
       "      <td>0.000000</td>\n",
       "    </tr>\n",
       "    <tr>\n",
       "      <th>6</th>\n",
       "      <td>97</td>\n",
       "      <td>97</td>\n",
       "      <td>Brecknock Road &amp; York Way.</td>\n",
       "      <td>15.327961</td>\n",
       "      <td>None</td>\n",
       "      <td>Brecknock</td>\n",
       "      <td>C:/Users/CHRISTINA/OneDrive - University Colle...</td>\n",
       "      <td>POLYGON ((529626.963 185290.470, 529619.385 18...</td>\n",
       "      <td>Brecknock</td>\n",
       "      <td>1508.451692</td>\n",
       "    </tr>\n",
       "    <tr>\n",
       "      <th>7</th>\n",
       "      <td>468</td>\n",
       "      <td>468</td>\n",
       "      <td>Mansfield Road, Gospel Oak</td>\n",
       "      <td>3.508042</td>\n",
       "      <td>None</td>\n",
       "      <td>Mansfield</td>\n",
       "      <td>C:/Users/CHRISTINA/OneDrive - University Colle...</td>\n",
       "      <td>POLYGON ((528267.619 185602.755, 527975.356 18...</td>\n",
       "      <td>Mansfield</td>\n",
       "      <td>0.000000</td>\n",
       "    </tr>\n",
       "    <tr>\n",
       "      <th>8</th>\n",
       "      <td>304</td>\n",
       "      <td>304</td>\n",
       "      <td>Loudoun Road, South Hampstead.</td>\n",
       "      <td>8.078871</td>\n",
       "      <td>None</td>\n",
       "      <td>Loudoun</td>\n",
       "      <td>C:/Users/CHRISTINA/OneDrive - University Colle...</td>\n",
       "      <td>POLYGON ((526350.252 184351.109, 526360.006 18...</td>\n",
       "      <td>Loudoun</td>\n",
       "      <td>0.000000</td>\n",
       "    </tr>\n",
       "    <tr>\n",
       "      <th>9</th>\n",
       "      <td>328</td>\n",
       "      <td>328</td>\n",
       "      <td>Queen?s Crescent, Gospel Oak.</td>\n",
       "      <td>10.314779</td>\n",
       "      <td>None</td>\n",
       "      <td>Queens</td>\n",
       "      <td>C:/Users/CHRISTINA/OneDrive - University Colle...</td>\n",
       "      <td>POLYGON ((528422.038 185153.550, 528417.412 18...</td>\n",
       "      <td>Queens</td>\n",
       "      <td>0.000000</td>\n",
       "    </tr>\n",
       "    <tr>\n",
       "      <th>10</th>\n",
       "      <td>355</td>\n",
       "      <td>355</td>\n",
       "      <td>Mill Lane, West Hampstead.</td>\n",
       "      <td>6.608539</td>\n",
       "      <td>None</td>\n",
       "      <td>Mill</td>\n",
       "      <td>C:/Users/CHRISTINA/OneDrive - University Colle...</td>\n",
       "      <td>POLYGON ((525207.511 185291.200, 525216.152 18...</td>\n",
       "      <td>Mill</td>\n",
       "      <td>0.000000</td>\n",
       "    </tr>\n",
       "    <tr>\n",
       "      <th>11</th>\n",
       "      <td>306</td>\n",
       "      <td>306</td>\n",
       "      <td>Haverstock Hill, Belsize Park.</td>\n",
       "      <td>7.074332</td>\n",
       "      <td>None</td>\n",
       "      <td>Haverstock</td>\n",
       "      <td>C:/Users/CHRISTINA/OneDrive - University Colle...</td>\n",
       "      <td>POLYGON ((527238.261 185262.468, 527237.189 18...</td>\n",
       "      <td>Haverstock</td>\n",
       "      <td>0.000000</td>\n",
       "    </tr>\n",
       "    <tr>\n",
       "      <th>12</th>\n",
       "      <td>554</td>\n",
       "      <td>554</td>\n",
       "      <td>Hampstead High Street, Hampstead.</td>\n",
       "      <td>18.015724</td>\n",
       "      <td>None</td>\n",
       "      <td>Hampstead</td>\n",
       "      <td>C:/Users/CHRISTINA/OneDrive - University Colle...</td>\n",
       "      <td>POLYGON ((526487.202 186045.854, 526489.502 18...</td>\n",
       "      <td>Hampstead</td>\n",
       "      <td>0.000000</td>\n",
       "    </tr>\n",
       "    <tr>\n",
       "      <th>13</th>\n",
       "      <td>335</td>\n",
       "      <td>335</td>\n",
       "      <td>Kilburn High Road, Kilburn.</td>\n",
       "      <td>39.984193</td>\n",
       "      <td>None</td>\n",
       "      <td>Kilburn</td>\n",
       "      <td>C:/Users/CHRISTINA/OneDrive - University Colle...</td>\n",
       "      <td>POLYGON ((524558.097 184716.395, 524570.291 18...</td>\n",
       "      <td>Kilburn</td>\n",
       "      <td>0.000000</td>\n",
       "    </tr>\n",
       "    <tr>\n",
       "      <th>14</th>\n",
       "      <td>98</td>\n",
       "      <td>98</td>\n",
       "      <td>Kentish Town Road.</td>\n",
       "      <td>11.453950</td>\n",
       "      <td>None</td>\n",
       "      <td>Kentish</td>\n",
       "      <td>C:/Users/CHRISTINA/OneDrive - University Colle...</td>\n",
       "      <td>POLYGON ((529169.048 184315.559, 529169.180 18...</td>\n",
       "      <td>Kentish</td>\n",
       "      <td>0.000000</td>\n",
       "    </tr>\n",
       "    <tr>\n",
       "      <th>15</th>\n",
       "      <td>307</td>\n",
       "      <td>307</td>\n",
       "      <td>South End Road, Hampstead.</td>\n",
       "      <td>6.131431</td>\n",
       "      <td>None</td>\n",
       "      <td>SouthEnd</td>\n",
       "      <td>C:/Users/CHRISTINA/OneDrive - University Colle...</td>\n",
       "      <td>POLYGON ((527231.814 185728.745, 527232.663 18...</td>\n",
       "      <td>SouthEnd</td>\n",
       "      <td>0.000000</td>\n",
       "    </tr>\n",
       "    <tr>\n",
       "      <th>16</th>\n",
       "      <td>324</td>\n",
       "      <td>324</td>\n",
       "      <td>Regent?s Park Road.</td>\n",
       "      <td>6.568312</td>\n",
       "      <td>None</td>\n",
       "      <td>Regents</td>\n",
       "      <td>C:/Users/CHRISTINA/OneDrive - University Colle...</td>\n",
       "      <td>POLYGON ((528024.939 184302.073, 528029.334 18...</td>\n",
       "      <td>Regents</td>\n",
       "      <td>0.000000</td>\n",
       "    </tr>\n",
       "    <tr>\n",
       "      <th>17</th>\n",
       "      <td>373</td>\n",
       "      <td>373</td>\n",
       "      <td>Willesden Lane, Brondesbury.</td>\n",
       "      <td>5.035185</td>\n",
       "      <td>None</td>\n",
       "      <td>Willesden</td>\n",
       "      <td>C:/Users/CHRISTINA/OneDrive - University Colle...</td>\n",
       "      <td>POLYGON ((525186.404 184444.972, 525192.076 18...</td>\n",
       "      <td>Willesden</td>\n",
       "      <td>0.000000</td>\n",
       "    </tr>\n",
       "    <tr>\n",
       "      <th>18</th>\n",
       "      <td>555</td>\n",
       "      <td>555</td>\n",
       "      <td>West End Lane, West Hampstead.</td>\n",
       "      <td>46.748979</td>\n",
       "      <td>None</td>\n",
       "      <td>WestEnd</td>\n",
       "      <td>C:/Users/CHRISTINA/OneDrive - University Colle...</td>\n",
       "      <td>POLYGON ((525496.377 185274.565, 525502.593 18...</td>\n",
       "      <td>WestEnd</td>\n",
       "      <td>0.000000</td>\n",
       "    </tr>\n",
       "  </tbody>\n",
       "</table>\n",
       "</div>"
      ],
      "text/plain": [
       "    objectid  highstreet                          highstre_1    area_ha  \\\n",
       "0        594         594       Eversholt Street, Somers Town   6.303698   \n",
       "1        322         322  Cricklewood Broadway, Cricklewood.  28.338859   \n",
       "2        372         372  Fortune Green Road, Fortune Green.   6.581487   \n",
       "3        285         285        Fortress Road, Tufnell Park.  28.325719   \n",
       "4        303         303         Belsize Lane, Belsize Park.   5.069615   \n",
       "5        287         287                      Camden Town HS  56.349258   \n",
       "6         97          97          Brecknock Road & York Way.  15.327961   \n",
       "7        468         468          Mansfield Road, Gospel Oak   3.508042   \n",
       "8        304         304      Loudoun Road, South Hampstead.   8.078871   \n",
       "9        328         328       Queen?s Crescent, Gospel Oak.  10.314779   \n",
       "10       355         355          Mill Lane, West Hampstead.   6.608539   \n",
       "11       306         306      Haverstock Hill, Belsize Park.   7.074332   \n",
       "12       554         554   Hampstead High Street, Hampstead.  18.015724   \n",
       "13       335         335         Kilburn High Road, Kilburn.  39.984193   \n",
       "14        98          98                  Kentish Town Road.  11.453950   \n",
       "15       307         307          South End Road, Hampstead.   6.131431   \n",
       "16       324         324                 Regent?s Park Road.   6.568312   \n",
       "17       373         373        Willesden Lane, Brondesbury.   5.035185   \n",
       "18       555         555      West End Lane, West Hampstead.  46.748979   \n",
       "\n",
       "   gdb_geomat        layer                                               path  \\\n",
       "0        None    Eversholt  C:/Users/CHRISTINA/OneDrive - University Colle...   \n",
       "1        None  Cricklewood  C:/Users/CHRISTINA/OneDrive - University Colle...   \n",
       "2        None      Fortune  C:/Users/CHRISTINA/OneDrive - University Colle...   \n",
       "3        None     Fortress  C:/Users/CHRISTINA/OneDrive - University Colle...   \n",
       "4        None      Belsize  C:/Users/CHRISTINA/OneDrive - University Colle...   \n",
       "5        None      CamdenT  C:/Users/CHRISTINA/OneDrive - University Colle...   \n",
       "6        None    Brecknock  C:/Users/CHRISTINA/OneDrive - University Colle...   \n",
       "7        None    Mansfield  C:/Users/CHRISTINA/OneDrive - University Colle...   \n",
       "8        None      Loudoun  C:/Users/CHRISTINA/OneDrive - University Colle...   \n",
       "9        None       Queens  C:/Users/CHRISTINA/OneDrive - University Colle...   \n",
       "10       None         Mill  C:/Users/CHRISTINA/OneDrive - University Colle...   \n",
       "11       None   Haverstock  C:/Users/CHRISTINA/OneDrive - University Colle...   \n",
       "12       None    Hampstead  C:/Users/CHRISTINA/OneDrive - University Colle...   \n",
       "13       None      Kilburn  C:/Users/CHRISTINA/OneDrive - University Colle...   \n",
       "14       None      Kentish  C:/Users/CHRISTINA/OneDrive - University Colle...   \n",
       "15       None     SouthEnd  C:/Users/CHRISTINA/OneDrive - University Colle...   \n",
       "16       None      Regents  C:/Users/CHRISTINA/OneDrive - University Colle...   \n",
       "17       None    Willesden  C:/Users/CHRISTINA/OneDrive - University Colle...   \n",
       "18       None      WestEnd  C:/Users/CHRISTINA/OneDrive - University Colle...   \n",
       "\n",
       "                                             geometry highstreet_name  \\\n",
       "0   POLYGON ((529676.878 182864.075, 529679.937 18...       Eversholt   \n",
       "1   POLYGON ((523415.282 186284.726, 523422.134 18...     Cricklewood   \n",
       "2   POLYGON ((525198.994 185637.081, 525201.838 18...         Fortune   \n",
       "3   POLYGON ((529209.157 185757.682, 529206.506 18...        Fortress   \n",
       "4   POLYGON ((526892.645 185059.806, 526900.890 18...         Belsize   \n",
       "5   POLYGON ((528129.528 184489.100, 528138.350 18...         CamdenT   \n",
       "6   POLYGON ((529626.963 185290.470, 529619.385 18...       Brecknock   \n",
       "7   POLYGON ((528267.619 185602.755, 527975.356 18...       Mansfield   \n",
       "8   POLYGON ((526350.252 184351.109, 526360.006 18...         Loudoun   \n",
       "9   POLYGON ((528422.038 185153.550, 528417.412 18...          Queens   \n",
       "10  POLYGON ((525207.511 185291.200, 525216.152 18...            Mill   \n",
       "11  POLYGON ((527238.261 185262.468, 527237.189 18...      Haverstock   \n",
       "12  POLYGON ((526487.202 186045.854, 526489.502 18...       Hampstead   \n",
       "13  POLYGON ((524558.097 184716.395, 524570.291 18...         Kilburn   \n",
       "14  POLYGON ((529169.048 184315.559, 529169.180 18...         Kentish   \n",
       "15  POLYGON ((527231.814 185728.745, 527232.663 18...        SouthEnd   \n",
       "16  POLYGON ((528024.939 184302.073, 528029.334 18...         Regents   \n",
       "17  POLYGON ((525186.404 184444.972, 525192.076 18...       Willesden   \n",
       "18  POLYGON ((525496.377 185274.565, 525502.593 18...         WestEnd   \n",
       "\n",
       "    road_length  \n",
       "0      0.000000  \n",
       "1      0.000000  \n",
       "2      0.000000  \n",
       "3      0.000000  \n",
       "4    357.548177  \n",
       "5      0.000000  \n",
       "6   1508.451692  \n",
       "7      0.000000  \n",
       "8      0.000000  \n",
       "9      0.000000  \n",
       "10     0.000000  \n",
       "11     0.000000  \n",
       "12     0.000000  \n",
       "13     0.000000  \n",
       "14     0.000000  \n",
       "15     0.000000  \n",
       "16     0.000000  \n",
       "17     0.000000  \n",
       "18     0.000000  "
      ]
     },
     "execution_count": 23,
     "metadata": {},
     "output_type": "execute_result"
    }
   ],
   "source": [
    "CamHS"
   ]
  },
  {
   "cell_type": "markdown",
   "metadata": {},
   "source": [
    "## Brecknock"
   ]
  },
  {
   "cell_type": "code",
   "execution_count": 16,
   "metadata": {},
   "outputs": [],
   "source": [
    "brecknockroad = gpd.read_file('High Street Roads/brecknock.shp')"
   ]
  },
  {
   "cell_type": "code",
   "execution_count": 17,
   "metadata": {},
   "outputs": [],
   "source": [
    "brecknockroad = brecknockroad.to_crs('EPSG:27700')"
   ]
  },
  {
   "cell_type": "code",
   "execution_count": 18,
   "metadata": {},
   "outputs": [],
   "source": [
    "brecknockroad = brecknockroad['geometry'].length.values"
   ]
  },
  {
   "cell_type": "code",
   "execution_count": 21,
   "metadata": {},
   "outputs": [
    {
     "data": {
      "text/plain": [
       "1508.4516917410836"
      ]
     },
     "execution_count": 21,
     "metadata": {},
     "output_type": "execute_result"
    }
   ],
   "source": [
    "brecknockroad"
   ]
  },
  {
   "cell_type": "code",
   "execution_count": 20,
   "metadata": {},
   "outputs": [],
   "source": [
    "brecknockroad = brecknockroad.sum()"
   ]
  },
  {
   "cell_type": "code",
   "execution_count": 22,
   "metadata": {},
   "outputs": [],
   "source": [
    "CamHS.loc[6, 'road_length'] = brecknockroad"
   ]
  },
  {
   "cell_type": "markdown",
   "metadata": {},
   "source": [
    "## Camden High Street"
   ]
  },
  {
   "cell_type": "code",
   "execution_count": 24,
   "metadata": {},
   "outputs": [],
   "source": [
    "camdenHSroad = gpd.read_file('High Street Roads/camdenHSroad.shp')"
   ]
  },
  {
   "cell_type": "code",
   "execution_count": 25,
   "metadata": {},
   "outputs": [],
   "source": [
    "camdenHSroad = camdenHSroad.to_crs('EPSG:27700')"
   ]
  },
  {
   "cell_type": "code",
   "execution_count": 27,
   "metadata": {},
   "outputs": [],
   "source": [
    "camdenHSroad = camdenHSroad['geometry'].length.values"
   ]
  },
  {
   "cell_type": "code",
   "execution_count": 28,
   "metadata": {},
   "outputs": [
    {
     "data": {
      "text/plain": [
       "array([257.16399991, 227.99007574,  19.36996973,  47.8613845 ,\n",
       "        80.53072523,  39.05883298,   9.21351331, 190.62375425,\n",
       "        17.97462012,  64.36666899,  40.78499858,  12.86937339,\n",
       "        28.18514986,  44.16556279, 144.60213961,  14.50403468,\n",
       "        29.58148229,  58.59431591,  26.08648081,  55.63211503,\n",
       "        33.37897148,  52.31246548,  65.72868304,  22.83231469,\n",
       "       131.46808525,  41.88631855,  32.85985097,  47.86117433,\n",
       "        14.16107442,   7.72792472,   7.56928412])"
      ]
     },
     "execution_count": 28,
     "metadata": {},
     "output_type": "execute_result"
    }
   ],
   "source": [
    "camdenHSroad"
   ]
  },
  {
   "cell_type": "code",
   "execution_count": 29,
   "metadata": {},
   "outputs": [],
   "source": [
    "camdenHSroad = camdenHSroad.sum()"
   ]
  },
  {
   "cell_type": "code",
   "execution_count": 30,
   "metadata": {},
   "outputs": [],
   "source": [
    "CamHS.loc[5, 'road_length'] = camdenHSroad"
   ]
  },
  {
   "cell_type": "markdown",
   "metadata": {},
   "source": [
    "### Cricklewood"
   ]
  },
  {
   "cell_type": "code",
   "execution_count": 33,
   "metadata": {},
   "outputs": [],
   "source": [
    "cricklewood = gpd.read_file('High Street Roads/cicklewood.shp')"
   ]
  },
  {
   "cell_type": "code",
   "execution_count": 34,
   "metadata": {},
   "outputs": [],
   "source": [
    "cricklewood = cricklewood.to_crs('EPSG:27700')"
   ]
  },
  {
   "cell_type": "code",
   "execution_count": 35,
   "metadata": {},
   "outputs": [],
   "source": [
    "cricklewood = cricklewood['geometry'].length.values"
   ]
  },
  {
   "cell_type": "code",
   "execution_count": 36,
   "metadata": {},
   "outputs": [
    {
     "data": {
      "text/plain": [
       "array([451.97596179])"
      ]
     },
     "execution_count": 36,
     "metadata": {},
     "output_type": "execute_result"
    }
   ],
   "source": [
    "cricklewood"
   ]
  },
  {
   "cell_type": "code",
   "execution_count": 37,
   "metadata": {},
   "outputs": [],
   "source": [
    "CamHS.loc[1, 'road_length'] = cricklewood"
   ]
  },
  {
   "cell_type": "markdown",
   "metadata": {},
   "source": [
    "### Eversholt"
   ]
  },
  {
   "cell_type": "code",
   "execution_count": 38,
   "metadata": {},
   "outputs": [],
   "source": [
    "eversholt = gpd.read_file('High Street Roads/eversholt(idk bout this one).shp')"
   ]
  },
  {
   "cell_type": "code",
   "execution_count": 39,
   "metadata": {},
   "outputs": [],
   "source": [
    "eversholt = eversholt.to_crs('EPSG:27700')"
   ]
  },
  {
   "cell_type": "code",
   "execution_count": 40,
   "metadata": {},
   "outputs": [],
   "source": [
    "eversholt = eversholt['geometry'].length.values"
   ]
  },
  {
   "cell_type": "code",
   "execution_count": 41,
   "metadata": {},
   "outputs": [
    {
     "data": {
      "text/plain": [
       "array([169.92377829,   6.13983082,  20.72828952, 121.45470445,\n",
       "       670.51564769,   9.4696615 ])"
      ]
     },
     "execution_count": 41,
     "metadata": {},
     "output_type": "execute_result"
    }
   ],
   "source": [
    "eversholt"
   ]
  },
  {
   "cell_type": "code",
   "execution_count": 42,
   "metadata": {},
   "outputs": [],
   "source": [
    "eversholt = eversholt.sum()"
   ]
  },
  {
   "cell_type": "code",
   "execution_count": 114,
   "metadata": {},
   "outputs": [],
   "source": [
    "CamHS.loc[0, 'road_length'] = eversholt"
   ]
  },
  {
   "cell_type": "markdown",
   "metadata": {},
   "source": [
    "### Fortress"
   ]
  },
  {
   "cell_type": "code",
   "execution_count": 44,
   "metadata": {},
   "outputs": [],
   "source": [
    "fortress = gpd.read_file('High Street Roads/fortress.shp')"
   ]
  },
  {
   "cell_type": "code",
   "execution_count": 45,
   "metadata": {},
   "outputs": [],
   "source": [
    "fortress = fortress.to_crs('EPSG:27700')"
   ]
  },
  {
   "cell_type": "code",
   "execution_count": 46,
   "metadata": {},
   "outputs": [],
   "source": [
    "fortress = fortress['geometry'].length.values"
   ]
  },
  {
   "cell_type": "code",
   "execution_count": 47,
   "metadata": {},
   "outputs": [
    {
     "data": {
      "text/plain": [
       "array([264.64031446,  90.52248933,   3.23223084,  35.47672642,\n",
       "        55.95049128,  35.0676301 , 267.75353571,   9.21685584,\n",
       "        24.62598211, 191.6547591 ,   6.72566041,  30.01469004,\n",
       "       552.99443684,  12.13951363,  11.10795911,  22.97252902,\n",
       "        14.03855394])"
      ]
     },
     "execution_count": 47,
     "metadata": {},
     "output_type": "execute_result"
    }
   ],
   "source": [
    "fortress"
   ]
  },
  {
   "cell_type": "code",
   "execution_count": 48,
   "metadata": {},
   "outputs": [],
   "source": [
    "fortress = fortress.sum()"
   ]
  },
  {
   "cell_type": "code",
   "execution_count": 49,
   "metadata": {},
   "outputs": [],
   "source": [
    "CamHS.loc[3, 'road_length'] = fortress"
   ]
  },
  {
   "cell_type": "markdown",
   "metadata": {},
   "source": [
    "### Fortune Green"
   ]
  },
  {
   "cell_type": "code",
   "execution_count": 50,
   "metadata": {},
   "outputs": [],
   "source": [
    "fortune = gpd.read_file('High Street Roads/fortunegreen.shp')"
   ]
  },
  {
   "cell_type": "code",
   "execution_count": 51,
   "metadata": {},
   "outputs": [],
   "source": [
    "fortune = fortune.to_crs('EPSG:27700')"
   ]
  },
  {
   "cell_type": "code",
   "execution_count": 52,
   "metadata": {},
   "outputs": [],
   "source": [
    "fortune = fortune['geometry'].length.values"
   ]
  },
  {
   "cell_type": "code",
   "execution_count": 53,
   "metadata": {},
   "outputs": [
    {
     "data": {
      "text/plain": [
       "array([ 18.76495006, 617.4131902 ,  24.95538553, 110.39678944])"
      ]
     },
     "execution_count": 53,
     "metadata": {},
     "output_type": "execute_result"
    }
   ],
   "source": [
    "fortune"
   ]
  },
  {
   "cell_type": "code",
   "execution_count": 54,
   "metadata": {},
   "outputs": [],
   "source": [
    "fortune = fortune.sum()"
   ]
  },
  {
   "cell_type": "code",
   "execution_count": 55,
   "metadata": {},
   "outputs": [],
   "source": [
    "CamHS.loc[2, 'road_length'] = fortune"
   ]
  },
  {
   "cell_type": "markdown",
   "metadata": {},
   "source": [
    "### Hampstead"
   ]
  },
  {
   "cell_type": "code",
   "execution_count": 56,
   "metadata": {},
   "outputs": [],
   "source": [
    "hampstead = gpd.read_file('High Street Roads/hampsteadHS.shp')"
   ]
  },
  {
   "cell_type": "code",
   "execution_count": 57,
   "metadata": {},
   "outputs": [],
   "source": [
    "hampstead = hampstead.to_crs('EPSG:27700')"
   ]
  },
  {
   "cell_type": "code",
   "execution_count": 58,
   "metadata": {},
   "outputs": [],
   "source": [
    "hampstead = hampstead['geometry'].length.values"
   ]
  },
  {
   "cell_type": "code",
   "execution_count": 59,
   "metadata": {},
   "outputs": [
    {
     "data": {
      "text/plain": [
       "array([ 61.76872889, 275.06385701,  96.95603774, 343.60046581,\n",
       "        68.93098447, 429.58931453, 372.60308163,  66.62789411,\n",
       "        24.54894444, 128.68399662])"
      ]
     },
     "execution_count": 59,
     "metadata": {},
     "output_type": "execute_result"
    }
   ],
   "source": [
    "hampstead"
   ]
  },
  {
   "cell_type": "code",
   "execution_count": 60,
   "metadata": {},
   "outputs": [],
   "source": [
    "hampstead = hampstead.sum()"
   ]
  },
  {
   "cell_type": "code",
   "execution_count": 115,
   "metadata": {},
   "outputs": [],
   "source": [
    "CamHS.loc[12, 'road_length'] = hampstead"
   ]
  },
  {
   "cell_type": "markdown",
   "metadata": {},
   "source": [
    "### Haverstock Hill"
   ]
  },
  {
   "cell_type": "code",
   "execution_count": 62,
   "metadata": {},
   "outputs": [],
   "source": [
    "haverstock = gpd.read_file('High Street Roads/haverstockhill.shp')"
   ]
  },
  {
   "cell_type": "code",
   "execution_count": 63,
   "metadata": {},
   "outputs": [],
   "source": [
    "haverstock = haverstock.to_crs('EPSG:27700')"
   ]
  },
  {
   "cell_type": "code",
   "execution_count": 64,
   "metadata": {},
   "outputs": [],
   "source": [
    "haverstock = haverstock['geometry'].length.values"
   ]
  },
  {
   "cell_type": "code",
   "execution_count": 65,
   "metadata": {},
   "outputs": [
    {
     "data": {
      "text/plain": [
       "array([36.0793006 , 71.97791148, 29.05778905, 81.42768971, 14.51199218,\n",
       "       28.68609476, 78.99396006, 30.69420484, 85.00185501,  7.13602567,\n",
       "       20.64194813, 28.09224663])"
      ]
     },
     "execution_count": 65,
     "metadata": {},
     "output_type": "execute_result"
    }
   ],
   "source": [
    "haverstock"
   ]
  },
  {
   "cell_type": "code",
   "execution_count": 66,
   "metadata": {},
   "outputs": [],
   "source": [
    "haverstock = haverstock.sum()"
   ]
  },
  {
   "cell_type": "code",
   "execution_count": 67,
   "metadata": {},
   "outputs": [],
   "source": [
    "CamHS.loc[11, 'road_length'] = haverstock"
   ]
  },
  {
   "cell_type": "markdown",
   "metadata": {},
   "source": [
    "### Kentish Town"
   ]
  },
  {
   "cell_type": "code",
   "execution_count": 68,
   "metadata": {},
   "outputs": [],
   "source": [
    "kentish = gpd.read_file('High Street Roads/kentishroad.shp')"
   ]
  },
  {
   "cell_type": "code",
   "execution_count": 69,
   "metadata": {},
   "outputs": [],
   "source": [
    "kentish = kentish.to_crs('EPSG:27700')"
   ]
  },
  {
   "cell_type": "code",
   "execution_count": 70,
   "metadata": {},
   "outputs": [],
   "source": [
    "kentish = kentish['geometry'].length.values"
   ]
  },
  {
   "cell_type": "code",
   "execution_count": 71,
   "metadata": {},
   "outputs": [
    {
     "data": {
      "text/plain": [
       "array([  8.75326003,   4.96085883,  10.3110021 ,  68.28341081,\n",
       "        32.22026984,   7.93664443,  26.63819123, 158.31290656,\n",
       "         3.88669443,  24.63718263,   3.54693584,  14.77813029,\n",
       "        15.50433501,  88.3139694 ,  14.44690499,  11.60160154,\n",
       "        34.49043713,  43.65671791,   4.52917193,   6.94583404,\n",
       "        12.33594872])"
      ]
     },
     "execution_count": 71,
     "metadata": {},
     "output_type": "execute_result"
    }
   ],
   "source": [
    "kentish"
   ]
  },
  {
   "cell_type": "code",
   "execution_count": 72,
   "metadata": {},
   "outputs": [],
   "source": [
    "kentish = kentish.sum()"
   ]
  },
  {
   "cell_type": "code",
   "execution_count": 73,
   "metadata": {},
   "outputs": [],
   "source": [
    "CamHS.loc[14, 'road_length'] = kentish"
   ]
  },
  {
   "cell_type": "markdown",
   "metadata": {},
   "source": [
    "### Kilburn"
   ]
  },
  {
   "cell_type": "code",
   "execution_count": 74,
   "metadata": {},
   "outputs": [],
   "source": [
    "kilburn = gpd.read_file('High Street Roads/kilburn (some missing).shp')"
   ]
  },
  {
   "cell_type": "code",
   "execution_count": 75,
   "metadata": {},
   "outputs": [],
   "source": [
    "kilburn = kilburn.to_crs('EPSG:27700')"
   ]
  },
  {
   "cell_type": "code",
   "execution_count": 76,
   "metadata": {},
   "outputs": [],
   "source": [
    "kilburn = kilburn['geometry'].length.values"
   ]
  },
  {
   "cell_type": "code",
   "execution_count": 77,
   "metadata": {},
   "outputs": [
    {
     "data": {
      "text/plain": [
       "array([157.10135755, 456.06144705, 285.09667483, 692.43521474,\n",
       "       168.76822634,  57.93002535,  20.84054416,  31.67638188,\n",
       "        16.44342888,  11.81723641,  52.75368784,  57.96987228])"
      ]
     },
     "execution_count": 77,
     "metadata": {},
     "output_type": "execute_result"
    }
   ],
   "source": [
    "kilburn"
   ]
  },
  {
   "cell_type": "code",
   "execution_count": 78,
   "metadata": {},
   "outputs": [],
   "source": [
    "kilburn = kilburn.sum()"
   ]
  },
  {
   "cell_type": "code",
   "execution_count": 79,
   "metadata": {},
   "outputs": [],
   "source": [
    "CamHS.loc[13, 'road_length'] = kilburn"
   ]
  },
  {
   "cell_type": "markdown",
   "metadata": {},
   "source": [
    "### Loudoun Road"
   ]
  },
  {
   "cell_type": "code",
   "execution_count": 80,
   "metadata": {},
   "outputs": [],
   "source": [
    "loudoun = gpd.read_file('High Street Roads/loudounroad.shp')"
   ]
  },
  {
   "cell_type": "code",
   "execution_count": 81,
   "metadata": {},
   "outputs": [],
   "source": [
    "loudoun = loudoun.to_crs('EPSG:27700')"
   ]
  },
  {
   "cell_type": "code",
   "execution_count": 82,
   "metadata": {},
   "outputs": [],
   "source": [
    "loudoun = loudoun['geometry'].length.values"
   ]
  },
  {
   "cell_type": "code",
   "execution_count": 83,
   "metadata": {},
   "outputs": [
    {
     "data": {
      "text/plain": [
       "array([  1.79368361,  25.35887178,  50.790073  , 404.47382133,\n",
       "       147.44342577,  17.27174378,  35.46221669])"
      ]
     },
     "execution_count": 83,
     "metadata": {},
     "output_type": "execute_result"
    }
   ],
   "source": [
    "loudoun"
   ]
  },
  {
   "cell_type": "code",
   "execution_count": 84,
   "metadata": {},
   "outputs": [],
   "source": [
    "loudoun = loudoun.sum()"
   ]
  },
  {
   "cell_type": "code",
   "execution_count": 85,
   "metadata": {},
   "outputs": [],
   "source": [
    "CamHS.loc[8, 'road_length'] = loudoun"
   ]
  },
  {
   "cell_type": "markdown",
   "metadata": {},
   "source": [
    "### Mansfield"
   ]
  },
  {
   "cell_type": "code",
   "execution_count": 86,
   "metadata": {},
   "outputs": [],
   "source": [
    "mansfield = gpd.read_file('High Street Roads/mansfield.shp')"
   ]
  },
  {
   "cell_type": "code",
   "execution_count": 87,
   "metadata": {},
   "outputs": [],
   "source": [
    "mansfield = mansfield.to_crs('EPSG:27700')"
   ]
  },
  {
   "cell_type": "code",
   "execution_count": 88,
   "metadata": {},
   "outputs": [],
   "source": [
    "mansfield = mansfield['geometry'].length.values"
   ]
  },
  {
   "cell_type": "code",
   "execution_count": 89,
   "metadata": {},
   "outputs": [
    {
     "data": {
      "text/plain": [
       "array([ 61.76872889,  96.95603774, 429.58931453])"
      ]
     },
     "execution_count": 89,
     "metadata": {},
     "output_type": "execute_result"
    }
   ],
   "source": [
    "mansfield"
   ]
  },
  {
   "cell_type": "code",
   "execution_count": 90,
   "metadata": {},
   "outputs": [],
   "source": [
    "mansfield = mansfield.sum()"
   ]
  },
  {
   "cell_type": "code",
   "execution_count": 91,
   "metadata": {},
   "outputs": [],
   "source": [
    "CamHS.loc[7, 'road_length'] = mansfield"
   ]
  },
  {
   "cell_type": "markdown",
   "metadata": {},
   "source": [
    "### Mill Lane"
   ]
  },
  {
   "cell_type": "code",
   "execution_count": 93,
   "metadata": {},
   "outputs": [],
   "source": [
    "mill = gpd.read_file('High Street Roads/mill lane.shp')"
   ]
  },
  {
   "cell_type": "code",
   "execution_count": 94,
   "metadata": {},
   "outputs": [],
   "source": [
    "mill = mill.to_crs('EPSG:27700')"
   ]
  },
  {
   "cell_type": "code",
   "execution_count": 95,
   "metadata": {},
   "outputs": [],
   "source": [
    "mill = mill['geometry'].length.values"
   ]
  },
  {
   "cell_type": "code",
   "execution_count": 96,
   "metadata": {},
   "outputs": [
    {
     "data": {
      "text/plain": [
       "array([195.80056772, 374.83709743,  83.81059785])"
      ]
     },
     "execution_count": 96,
     "metadata": {},
     "output_type": "execute_result"
    }
   ],
   "source": [
    "mill"
   ]
  },
  {
   "cell_type": "code",
   "execution_count": 97,
   "metadata": {},
   "outputs": [],
   "source": [
    "mill = mill.sum()"
   ]
  },
  {
   "cell_type": "code",
   "execution_count": 98,
   "metadata": {},
   "outputs": [],
   "source": [
    "CamHS.loc[10, 'road_length'] = mill"
   ]
  },
  {
   "cell_type": "markdown",
   "metadata": {},
   "source": [
    "### Queen's Crescent"
   ]
  },
  {
   "cell_type": "code",
   "execution_count": 100,
   "metadata": {},
   "outputs": [],
   "source": [
    "queens = gpd.read_file('High Street Roads/queenscrescent.shp')"
   ]
  },
  {
   "cell_type": "code",
   "execution_count": 101,
   "metadata": {},
   "outputs": [],
   "source": [
    "queens = queens.to_crs('EPSG:27700')"
   ]
  },
  {
   "cell_type": "code",
   "execution_count": 102,
   "metadata": {},
   "outputs": [],
   "source": [
    "queens = queens['geometry'].length.values"
   ]
  },
  {
   "cell_type": "code",
   "execution_count": 103,
   "metadata": {},
   "outputs": [
    {
     "data": {
      "text/plain": [
       "array([ 60.96717852,  85.25019558,  53.40335005,  53.47098911,\n",
       "        22.53726356, 391.63775958, 515.37516138, 119.00369568,\n",
       "        41.81977168,  68.55121762,  47.92995406,  10.59373326,\n",
       "         1.95201732,   2.91854029])"
      ]
     },
     "execution_count": 103,
     "metadata": {},
     "output_type": "execute_result"
    }
   ],
   "source": [
    "queens"
   ]
  },
  {
   "cell_type": "code",
   "execution_count": 104,
   "metadata": {},
   "outputs": [],
   "source": [
    "queens = queens.sum()"
   ]
  },
  {
   "cell_type": "code",
   "execution_count": 105,
   "metadata": {},
   "outputs": [],
   "source": [
    "CamHS.loc[9, 'road_length'] = queens"
   ]
  },
  {
   "cell_type": "markdown",
   "metadata": {},
   "source": [
    "### Regents Park"
   ]
  },
  {
   "cell_type": "code",
   "execution_count": 107,
   "metadata": {},
   "outputs": [],
   "source": [
    "regents = gpd.read_file('High Street Roads/regentsroad.shp')"
   ]
  },
  {
   "cell_type": "code",
   "execution_count": 108,
   "metadata": {},
   "outputs": [],
   "source": [
    "regents = regents.to_crs('EPSG:27700')"
   ]
  },
  {
   "cell_type": "code",
   "execution_count": 109,
   "metadata": {},
   "outputs": [],
   "source": [
    "regents = regents['geometry'].length.values"
   ]
  },
  {
   "cell_type": "code",
   "execution_count": 110,
   "metadata": {},
   "outputs": [
    {
     "data": {
      "text/plain": [
       "array([324.90186288,  59.12115303,  10.10808444])"
      ]
     },
     "execution_count": 110,
     "metadata": {},
     "output_type": "execute_result"
    }
   ],
   "source": [
    "regents"
   ]
  },
  {
   "cell_type": "code",
   "execution_count": 111,
   "metadata": {},
   "outputs": [],
   "source": [
    "regents = regents.sum()"
   ]
  },
  {
   "cell_type": "code",
   "execution_count": 112,
   "metadata": {},
   "outputs": [],
   "source": [
    "CamHS.loc[16, 'road_length'] = regents"
   ]
  },
  {
   "cell_type": "markdown",
   "metadata": {},
   "source": [
    "### Southend"
   ]
  },
  {
   "cell_type": "code",
   "execution_count": 117,
   "metadata": {},
   "outputs": [],
   "source": [
    "southend = gpd.read_file('High Street Roads/southend.shp')"
   ]
  },
  {
   "cell_type": "code",
   "execution_count": 118,
   "metadata": {},
   "outputs": [],
   "source": [
    "southend = southend.to_crs('EPSG:27700')"
   ]
  },
  {
   "cell_type": "code",
   "execution_count": 119,
   "metadata": {},
   "outputs": [],
   "source": [
    "southend = southend['geometry'].length.values"
   ]
  },
  {
   "cell_type": "code",
   "execution_count": 120,
   "metadata": {},
   "outputs": [
    {
     "data": {
      "text/plain": [
       "array([  5.34008207, 180.14501703,  64.98154358,  53.07294952,\n",
       "        26.10044063,  27.57540417, 219.03059567])"
      ]
     },
     "execution_count": 120,
     "metadata": {},
     "output_type": "execute_result"
    }
   ],
   "source": [
    "southend"
   ]
  },
  {
   "cell_type": "code",
   "execution_count": 121,
   "metadata": {},
   "outputs": [],
   "source": [
    "southend = southend.sum()"
   ]
  },
  {
   "cell_type": "code",
   "execution_count": 122,
   "metadata": {},
   "outputs": [],
   "source": [
    "CamHS.loc[15, 'road_length'] = southend"
   ]
  },
  {
   "cell_type": "markdown",
   "metadata": {},
   "source": [
    "### West End"
   ]
  },
  {
   "cell_type": "code",
   "execution_count": 124,
   "metadata": {},
   "outputs": [],
   "source": [
    "westend = gpd.read_file('High Street Roads/westend.shp')"
   ]
  },
  {
   "cell_type": "code",
   "execution_count": 125,
   "metadata": {},
   "outputs": [],
   "source": [
    "westend = westend.to_crs('EPSG:27700')"
   ]
  },
  {
   "cell_type": "code",
   "execution_count": 126,
   "metadata": {},
   "outputs": [],
   "source": [
    "westend = westend['geometry'].length.values"
   ]
  },
  {
   "cell_type": "code",
   "execution_count": 127,
   "metadata": {},
   "outputs": [
    {
     "data": {
      "text/plain": [
       "array([ 49.4008505 ,  37.31366234,  42.8640761 ,  16.65201091,\n",
       "        35.61084408,  24.74927708,  44.08864598,  19.10872665,\n",
       "        48.45125995,  26.45589503,  46.50842384, 456.28552704,\n",
       "       142.84788088,  82.69082193,  15.66402685,  68.26998392,\n",
       "        48.26586759,  73.48843357, 145.84934756,  45.13612474,\n",
       "        80.8631711 ,  12.6632344 ,   5.76974848,   9.43614187,\n",
       "        21.91666255, 147.87433804, 173.59717481,  80.32587831,\n",
       "       193.32104677,  38.42426263,  70.95288553, 136.20275545,\n",
       "         8.77517799,  18.71195928])"
      ]
     },
     "execution_count": 127,
     "metadata": {},
     "output_type": "execute_result"
    }
   ],
   "source": [
    "westend"
   ]
  },
  {
   "cell_type": "code",
   "execution_count": 128,
   "metadata": {},
   "outputs": [],
   "source": [
    "westend = westend.sum()"
   ]
  },
  {
   "cell_type": "code",
   "execution_count": 129,
   "metadata": {},
   "outputs": [],
   "source": [
    "CamHS.loc[18, 'road_length'] = westend"
   ]
  },
  {
   "cell_type": "markdown",
   "metadata": {},
   "source": [
    "### Willesden"
   ]
  },
  {
   "cell_type": "code",
   "execution_count": 130,
   "metadata": {},
   "outputs": [],
   "source": [
    "willesden = gpd.read_file('High Street Roads/willesden.shp')"
   ]
  },
  {
   "cell_type": "code",
   "execution_count": 131,
   "metadata": {},
   "outputs": [],
   "source": [
    "willesden = willesden.to_crs('EPSG:27700')"
   ]
  },
  {
   "cell_type": "code",
   "execution_count": 132,
   "metadata": {},
   "outputs": [],
   "source": [
    "willesden = willesden['geometry'].length.values"
   ]
  },
  {
   "cell_type": "code",
   "execution_count": 133,
   "metadata": {},
   "outputs": [
    {
     "data": {
      "text/plain": [
       "array([541.328572  , 182.70065931])"
      ]
     },
     "execution_count": 133,
     "metadata": {},
     "output_type": "execute_result"
    }
   ],
   "source": [
    "willesden"
   ]
  },
  {
   "cell_type": "code",
   "execution_count": 134,
   "metadata": {},
   "outputs": [],
   "source": [
    "willesden = willesden.sum()"
   ]
  },
  {
   "cell_type": "code",
   "execution_count": 135,
   "metadata": {},
   "outputs": [],
   "source": [
    "CamHS.loc[17, 'road_length'] = willesden"
   ]
  },
  {
   "cell_type": "code",
   "execution_count": 136,
   "metadata": {},
   "outputs": [
    {
     "data": {
      "text/html": [
       "<div>\n",
       "<style scoped>\n",
       "    .dataframe tbody tr th:only-of-type {\n",
       "        vertical-align: middle;\n",
       "    }\n",
       "\n",
       "    .dataframe tbody tr th {\n",
       "        vertical-align: top;\n",
       "    }\n",
       "\n",
       "    .dataframe thead th {\n",
       "        text-align: right;\n",
       "    }\n",
       "</style>\n",
       "<table border=\"1\" class=\"dataframe\">\n",
       "  <thead>\n",
       "    <tr style=\"text-align: right;\">\n",
       "      <th></th>\n",
       "      <th>objectid</th>\n",
       "      <th>highstreet</th>\n",
       "      <th>highstre_1</th>\n",
       "      <th>area_ha</th>\n",
       "      <th>gdb_geomat</th>\n",
       "      <th>layer</th>\n",
       "      <th>path</th>\n",
       "      <th>geometry</th>\n",
       "      <th>highstreet_name</th>\n",
       "      <th>road_length</th>\n",
       "    </tr>\n",
       "  </thead>\n",
       "  <tbody>\n",
       "    <tr>\n",
       "      <th>0</th>\n",
       "      <td>594</td>\n",
       "      <td>594</td>\n",
       "      <td>Eversholt Street, Somers Town</td>\n",
       "      <td>6.303698</td>\n",
       "      <td>None</td>\n",
       "      <td>Eversholt</td>\n",
       "      <td>C:/Users/CHRISTINA/OneDrive - University Colle...</td>\n",
       "      <td>POLYGON ((529676.878 182864.075, 529679.937 18...</td>\n",
       "      <td>Eversholt</td>\n",
       "      <td>998.231912</td>\n",
       "    </tr>\n",
       "    <tr>\n",
       "      <th>1</th>\n",
       "      <td>322</td>\n",
       "      <td>322</td>\n",
       "      <td>Cricklewood Broadway, Cricklewood.</td>\n",
       "      <td>28.338859</td>\n",
       "      <td>None</td>\n",
       "      <td>Cricklewood</td>\n",
       "      <td>C:/Users/CHRISTINA/OneDrive - University Colle...</td>\n",
       "      <td>POLYGON ((523415.282 186284.726, 523422.134 18...</td>\n",
       "      <td>Cricklewood</td>\n",
       "      <td>451.975962</td>\n",
       "    </tr>\n",
       "    <tr>\n",
       "      <th>2</th>\n",
       "      <td>372</td>\n",
       "      <td>372</td>\n",
       "      <td>Fortune Green Road, Fortune Green.</td>\n",
       "      <td>6.581487</td>\n",
       "      <td>None</td>\n",
       "      <td>Fortune</td>\n",
       "      <td>C:/Users/CHRISTINA/OneDrive - University Colle...</td>\n",
       "      <td>POLYGON ((525198.994 185637.081, 525201.838 18...</td>\n",
       "      <td>Fortune</td>\n",
       "      <td>771.530315</td>\n",
       "    </tr>\n",
       "    <tr>\n",
       "      <th>3</th>\n",
       "      <td>285</td>\n",
       "      <td>285</td>\n",
       "      <td>Fortress Road, Tufnell Park.</td>\n",
       "      <td>28.325719</td>\n",
       "      <td>None</td>\n",
       "      <td>Fortress</td>\n",
       "      <td>C:/Users/CHRISTINA/OneDrive - University Colle...</td>\n",
       "      <td>POLYGON ((529209.157 185757.682, 529206.506 18...</td>\n",
       "      <td>Fortress</td>\n",
       "      <td>1628.134358</td>\n",
       "    </tr>\n",
       "    <tr>\n",
       "      <th>4</th>\n",
       "      <td>303</td>\n",
       "      <td>303</td>\n",
       "      <td>Belsize Lane, Belsize Park.</td>\n",
       "      <td>5.069615</td>\n",
       "      <td>None</td>\n",
       "      <td>Belsize</td>\n",
       "      <td>C:/Users/CHRISTINA/OneDrive - University Colle...</td>\n",
       "      <td>POLYGON ((526892.645 185059.806, 526900.890 18...</td>\n",
       "      <td>Belsize</td>\n",
       "      <td>357.548177</td>\n",
       "    </tr>\n",
       "    <tr>\n",
       "      <th>5</th>\n",
       "      <td>287</td>\n",
       "      <td>287</td>\n",
       "      <td>Camden Town HS</td>\n",
       "      <td>56.349258</td>\n",
       "      <td>None</td>\n",
       "      <td>CamdenT</td>\n",
       "      <td>C:/Users/CHRISTINA/OneDrive - University Colle...</td>\n",
       "      <td>POLYGON ((528129.528 184489.100, 528138.350 18...</td>\n",
       "      <td>CamdenT</td>\n",
       "      <td>1866.945345</td>\n",
       "    </tr>\n",
       "    <tr>\n",
       "      <th>6</th>\n",
       "      <td>97</td>\n",
       "      <td>97</td>\n",
       "      <td>Brecknock Road &amp; York Way.</td>\n",
       "      <td>15.327961</td>\n",
       "      <td>None</td>\n",
       "      <td>Brecknock</td>\n",
       "      <td>C:/Users/CHRISTINA/OneDrive - University Colle...</td>\n",
       "      <td>POLYGON ((529626.963 185290.470, 529619.385 18...</td>\n",
       "      <td>Brecknock</td>\n",
       "      <td>1508.451692</td>\n",
       "    </tr>\n",
       "    <tr>\n",
       "      <th>7</th>\n",
       "      <td>468</td>\n",
       "      <td>468</td>\n",
       "      <td>Mansfield Road, Gospel Oak</td>\n",
       "      <td>3.508042</td>\n",
       "      <td>None</td>\n",
       "      <td>Mansfield</td>\n",
       "      <td>C:/Users/CHRISTINA/OneDrive - University Colle...</td>\n",
       "      <td>POLYGON ((528267.619 185602.755, 527975.356 18...</td>\n",
       "      <td>Mansfield</td>\n",
       "      <td>588.314081</td>\n",
       "    </tr>\n",
       "    <tr>\n",
       "      <th>8</th>\n",
       "      <td>304</td>\n",
       "      <td>304</td>\n",
       "      <td>Loudoun Road, South Hampstead.</td>\n",
       "      <td>8.078871</td>\n",
       "      <td>None</td>\n",
       "      <td>Loudoun</td>\n",
       "      <td>C:/Users/CHRISTINA/OneDrive - University Colle...</td>\n",
       "      <td>POLYGON ((526350.252 184351.109, 526360.006 18...</td>\n",
       "      <td>Loudoun</td>\n",
       "      <td>682.593836</td>\n",
       "    </tr>\n",
       "    <tr>\n",
       "      <th>9</th>\n",
       "      <td>328</td>\n",
       "      <td>328</td>\n",
       "      <td>Queen?s Crescent, Gospel Oak.</td>\n",
       "      <td>10.314779</td>\n",
       "      <td>None</td>\n",
       "      <td>Queens</td>\n",
       "      <td>C:/Users/CHRISTINA/OneDrive - University Colle...</td>\n",
       "      <td>POLYGON ((528422.038 185153.550, 528417.412 18...</td>\n",
       "      <td>Queens</td>\n",
       "      <td>1475.410828</td>\n",
       "    </tr>\n",
       "    <tr>\n",
       "      <th>10</th>\n",
       "      <td>355</td>\n",
       "      <td>355</td>\n",
       "      <td>Mill Lane, West Hampstead.</td>\n",
       "      <td>6.608539</td>\n",
       "      <td>None</td>\n",
       "      <td>Mill</td>\n",
       "      <td>C:/Users/CHRISTINA/OneDrive - University Colle...</td>\n",
       "      <td>POLYGON ((525207.511 185291.200, 525216.152 18...</td>\n",
       "      <td>Mill</td>\n",
       "      <td>654.448263</td>\n",
       "    </tr>\n",
       "    <tr>\n",
       "      <th>11</th>\n",
       "      <td>306</td>\n",
       "      <td>306</td>\n",
       "      <td>Haverstock Hill, Belsize Park.</td>\n",
       "      <td>7.074332</td>\n",
       "      <td>None</td>\n",
       "      <td>Haverstock</td>\n",
       "      <td>C:/Users/CHRISTINA/OneDrive - University Colle...</td>\n",
       "      <td>POLYGON ((527238.261 185262.468, 527237.189 18...</td>\n",
       "      <td>Haverstock</td>\n",
       "      <td>512.301018</td>\n",
       "    </tr>\n",
       "    <tr>\n",
       "      <th>12</th>\n",
       "      <td>554</td>\n",
       "      <td>554</td>\n",
       "      <td>Hampstead High Street, Hampstead.</td>\n",
       "      <td>18.015724</td>\n",
       "      <td>None</td>\n",
       "      <td>Hampstead</td>\n",
       "      <td>C:/Users/CHRISTINA/OneDrive - University Colle...</td>\n",
       "      <td>POLYGON ((526487.202 186045.854, 526489.502 18...</td>\n",
       "      <td>Hampstead</td>\n",
       "      <td>1868.373305</td>\n",
       "    </tr>\n",
       "    <tr>\n",
       "      <th>13</th>\n",
       "      <td>335</td>\n",
       "      <td>335</td>\n",
       "      <td>Kilburn High Road, Kilburn.</td>\n",
       "      <td>39.984193</td>\n",
       "      <td>None</td>\n",
       "      <td>Kilburn</td>\n",
       "      <td>C:/Users/CHRISTINA/OneDrive - University Colle...</td>\n",
       "      <td>POLYGON ((524558.097 184716.395, 524570.291 18...</td>\n",
       "      <td>Kilburn</td>\n",
       "      <td>2008.894097</td>\n",
       "    </tr>\n",
       "    <tr>\n",
       "      <th>14</th>\n",
       "      <td>98</td>\n",
       "      <td>98</td>\n",
       "      <td>Kentish Town Road.</td>\n",
       "      <td>11.453950</td>\n",
       "      <td>None</td>\n",
       "      <td>Kentish</td>\n",
       "      <td>C:/Users/CHRISTINA/OneDrive - University Colle...</td>\n",
       "      <td>POLYGON ((529169.048 184315.559, 529169.180 18...</td>\n",
       "      <td>Kentish</td>\n",
       "      <td>596.090408</td>\n",
       "    </tr>\n",
       "    <tr>\n",
       "      <th>15</th>\n",
       "      <td>307</td>\n",
       "      <td>307</td>\n",
       "      <td>South End Road, Hampstead.</td>\n",
       "      <td>6.131431</td>\n",
       "      <td>None</td>\n",
       "      <td>SouthEnd</td>\n",
       "      <td>C:/Users/CHRISTINA/OneDrive - University Colle...</td>\n",
       "      <td>POLYGON ((527231.814 185728.745, 527232.663 18...</td>\n",
       "      <td>SouthEnd</td>\n",
       "      <td>576.246033</td>\n",
       "    </tr>\n",
       "    <tr>\n",
       "      <th>16</th>\n",
       "      <td>324</td>\n",
       "      <td>324</td>\n",
       "      <td>Regent?s Park Road.</td>\n",
       "      <td>6.568312</td>\n",
       "      <td>None</td>\n",
       "      <td>Regents</td>\n",
       "      <td>C:/Users/CHRISTINA/OneDrive - University Colle...</td>\n",
       "      <td>POLYGON ((528024.939 184302.073, 528029.334 18...</td>\n",
       "      <td>Regents</td>\n",
       "      <td>394.131100</td>\n",
       "    </tr>\n",
       "    <tr>\n",
       "      <th>17</th>\n",
       "      <td>373</td>\n",
       "      <td>373</td>\n",
       "      <td>Willesden Lane, Brondesbury.</td>\n",
       "      <td>5.035185</td>\n",
       "      <td>None</td>\n",
       "      <td>Willesden</td>\n",
       "      <td>C:/Users/CHRISTINA/OneDrive - University Colle...</td>\n",
       "      <td>POLYGON ((525186.404 184444.972, 525192.076 18...</td>\n",
       "      <td>Willesden</td>\n",
       "      <td>724.029231</td>\n",
       "    </tr>\n",
       "    <tr>\n",
       "      <th>18</th>\n",
       "      <td>555</td>\n",
       "      <td>555</td>\n",
       "      <td>West End Lane, West Hampstead.</td>\n",
       "      <td>46.748979</td>\n",
       "      <td>None</td>\n",
       "      <td>WestEnd</td>\n",
       "      <td>C:/Users/CHRISTINA/OneDrive - University Colle...</td>\n",
       "      <td>POLYGON ((525496.377 185274.565, 525502.593 18...</td>\n",
       "      <td>WestEnd</td>\n",
       "      <td>2468.536124</td>\n",
       "    </tr>\n",
       "  </tbody>\n",
       "</table>\n",
       "</div>"
      ],
      "text/plain": [
       "    objectid  highstreet                          highstre_1    area_ha  \\\n",
       "0        594         594       Eversholt Street, Somers Town   6.303698   \n",
       "1        322         322  Cricklewood Broadway, Cricklewood.  28.338859   \n",
       "2        372         372  Fortune Green Road, Fortune Green.   6.581487   \n",
       "3        285         285        Fortress Road, Tufnell Park.  28.325719   \n",
       "4        303         303         Belsize Lane, Belsize Park.   5.069615   \n",
       "5        287         287                      Camden Town HS  56.349258   \n",
       "6         97          97          Brecknock Road & York Way.  15.327961   \n",
       "7        468         468          Mansfield Road, Gospel Oak   3.508042   \n",
       "8        304         304      Loudoun Road, South Hampstead.   8.078871   \n",
       "9        328         328       Queen?s Crescent, Gospel Oak.  10.314779   \n",
       "10       355         355          Mill Lane, West Hampstead.   6.608539   \n",
       "11       306         306      Haverstock Hill, Belsize Park.   7.074332   \n",
       "12       554         554   Hampstead High Street, Hampstead.  18.015724   \n",
       "13       335         335         Kilburn High Road, Kilburn.  39.984193   \n",
       "14        98          98                  Kentish Town Road.  11.453950   \n",
       "15       307         307          South End Road, Hampstead.   6.131431   \n",
       "16       324         324                 Regent?s Park Road.   6.568312   \n",
       "17       373         373        Willesden Lane, Brondesbury.   5.035185   \n",
       "18       555         555      West End Lane, West Hampstead.  46.748979   \n",
       "\n",
       "   gdb_geomat        layer                                               path  \\\n",
       "0        None    Eversholt  C:/Users/CHRISTINA/OneDrive - University Colle...   \n",
       "1        None  Cricklewood  C:/Users/CHRISTINA/OneDrive - University Colle...   \n",
       "2        None      Fortune  C:/Users/CHRISTINA/OneDrive - University Colle...   \n",
       "3        None     Fortress  C:/Users/CHRISTINA/OneDrive - University Colle...   \n",
       "4        None      Belsize  C:/Users/CHRISTINA/OneDrive - University Colle...   \n",
       "5        None      CamdenT  C:/Users/CHRISTINA/OneDrive - University Colle...   \n",
       "6        None    Brecknock  C:/Users/CHRISTINA/OneDrive - University Colle...   \n",
       "7        None    Mansfield  C:/Users/CHRISTINA/OneDrive - University Colle...   \n",
       "8        None      Loudoun  C:/Users/CHRISTINA/OneDrive - University Colle...   \n",
       "9        None       Queens  C:/Users/CHRISTINA/OneDrive - University Colle...   \n",
       "10       None         Mill  C:/Users/CHRISTINA/OneDrive - University Colle...   \n",
       "11       None   Haverstock  C:/Users/CHRISTINA/OneDrive - University Colle...   \n",
       "12       None    Hampstead  C:/Users/CHRISTINA/OneDrive - University Colle...   \n",
       "13       None      Kilburn  C:/Users/CHRISTINA/OneDrive - University Colle...   \n",
       "14       None      Kentish  C:/Users/CHRISTINA/OneDrive - University Colle...   \n",
       "15       None     SouthEnd  C:/Users/CHRISTINA/OneDrive - University Colle...   \n",
       "16       None      Regents  C:/Users/CHRISTINA/OneDrive - University Colle...   \n",
       "17       None    Willesden  C:/Users/CHRISTINA/OneDrive - University Colle...   \n",
       "18       None      WestEnd  C:/Users/CHRISTINA/OneDrive - University Colle...   \n",
       "\n",
       "                                             geometry highstreet_name  \\\n",
       "0   POLYGON ((529676.878 182864.075, 529679.937 18...       Eversholt   \n",
       "1   POLYGON ((523415.282 186284.726, 523422.134 18...     Cricklewood   \n",
       "2   POLYGON ((525198.994 185637.081, 525201.838 18...         Fortune   \n",
       "3   POLYGON ((529209.157 185757.682, 529206.506 18...        Fortress   \n",
       "4   POLYGON ((526892.645 185059.806, 526900.890 18...         Belsize   \n",
       "5   POLYGON ((528129.528 184489.100, 528138.350 18...         CamdenT   \n",
       "6   POLYGON ((529626.963 185290.470, 529619.385 18...       Brecknock   \n",
       "7   POLYGON ((528267.619 185602.755, 527975.356 18...       Mansfield   \n",
       "8   POLYGON ((526350.252 184351.109, 526360.006 18...         Loudoun   \n",
       "9   POLYGON ((528422.038 185153.550, 528417.412 18...          Queens   \n",
       "10  POLYGON ((525207.511 185291.200, 525216.152 18...            Mill   \n",
       "11  POLYGON ((527238.261 185262.468, 527237.189 18...      Haverstock   \n",
       "12  POLYGON ((526487.202 186045.854, 526489.502 18...       Hampstead   \n",
       "13  POLYGON ((524558.097 184716.395, 524570.291 18...         Kilburn   \n",
       "14  POLYGON ((529169.048 184315.559, 529169.180 18...         Kentish   \n",
       "15  POLYGON ((527231.814 185728.745, 527232.663 18...        SouthEnd   \n",
       "16  POLYGON ((528024.939 184302.073, 528029.334 18...         Regents   \n",
       "17  POLYGON ((525186.404 184444.972, 525192.076 18...       Willesden   \n",
       "18  POLYGON ((525496.377 185274.565, 525502.593 18...         WestEnd   \n",
       "\n",
       "    road_length  \n",
       "0    998.231912  \n",
       "1    451.975962  \n",
       "2    771.530315  \n",
       "3   1628.134358  \n",
       "4    357.548177  \n",
       "5   1866.945345  \n",
       "6   1508.451692  \n",
       "7    588.314081  \n",
       "8    682.593836  \n",
       "9   1475.410828  \n",
       "10   654.448263  \n",
       "11   512.301018  \n",
       "12  1868.373305  \n",
       "13  2008.894097  \n",
       "14   596.090408  \n",
       "15   576.246033  \n",
       "16   394.131100  \n",
       "17   724.029231  \n",
       "18  2468.536124  "
      ]
     },
     "execution_count": 136,
     "metadata": {},
     "output_type": "execute_result"
    }
   ],
   "source": [
    "CamHS"
   ]
  },
  {
   "cell_type": "code",
   "execution_count": 138,
   "metadata": {},
   "outputs": [],
   "source": [
    "CamHS.to_excel(\"outputs_csv/road lengths.xlsx\")"
   ]
  },
  {
   "cell_type": "code",
   "execution_count": null,
   "metadata": {},
   "outputs": [],
   "source": []
  }
 ],
 "metadata": {
  "kernelspec": {
   "display_name": "Python 3",
   "language": "python",
   "name": "python3"
  },
  "language_info": {
   "codemirror_mode": {
    "name": "ipython",
    "version": 3
   },
   "file_extension": ".py",
   "mimetype": "text/x-python",
   "name": "python",
   "nbconvert_exporter": "python",
   "pygments_lexer": "ipython3",
   "version": "3.7.8"
  }
 },
 "nbformat": 4,
 "nbformat_minor": 4
}
